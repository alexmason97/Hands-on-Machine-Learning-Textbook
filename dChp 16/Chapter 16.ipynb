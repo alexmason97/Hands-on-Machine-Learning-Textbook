{
 "cells": [
  {
   "cell_type": "markdown",
   "id": "40578012",
   "metadata": {},
   "source": [
    "# Chapter 16 - Natural Language Processing with RNNs and Attention"
   ]
  },
  {
   "cell_type": "markdown",
   "id": "11d34a5e",
   "metadata": {},
   "source": [
    "### Ensure GPU Env is working correctly"
   ]
  },
  {
   "cell_type": "code",
   "execution_count": 1,
   "id": "1810751e",
   "metadata": {},
   "outputs": [],
   "source": [
    "import tensorflow as tf\n",
    "import os\n",
    "from tensorflow import keras"
   ]
  },
  {
   "cell_type": "code",
   "execution_count": 2,
   "id": "e7143232",
   "metadata": {},
   "outputs": [
    {
     "data": {
      "text/plain": [
       "'2.6.0'"
      ]
     },
     "execution_count": 2,
     "metadata": {},
     "output_type": "execute_result"
    }
   ],
   "source": [
    "tf.__version__"
   ]
  },
  {
   "cell_type": "code",
   "execution_count": 3,
   "id": "c3a68124",
   "metadata": {},
   "outputs": [
    {
     "data": {
      "text/plain": [
       "'2.6.0'"
      ]
     },
     "execution_count": 3,
     "metadata": {},
     "output_type": "execute_result"
    }
   ],
   "source": [
    "keras.__version__"
   ]
  },
  {
   "cell_type": "code",
   "execution_count": 4,
   "id": "fd59c015",
   "metadata": {},
   "outputs": [
    {
     "name": "stdout",
     "output_type": "stream",
     "text": [
      "Num of GPUs Available:  1\n"
     ]
    }
   ],
   "source": [
    "print(\"Num of GPUs Available: \", len(tf.config.experimental.list_physical_devices('GPU')))"
   ]
  },
  {
   "cell_type": "markdown",
   "id": "2ca7898b",
   "metadata": {},
   "source": [
    "## Additional Libraries"
   ]
  },
  {
   "cell_type": "code",
   "execution_count": 3,
   "id": "b073054b",
   "metadata": {},
   "outputs": [],
   "source": [
    "import numpy as np\n",
    "import pandas as pd\n",
    "import os \n",
    "%matplotlib inline\n",
    "import matplotlib as mpl\n",
    "import matplotlib.pyplot as plt\n",
    "from pathlib import Path"
   ]
  },
  {
   "cell_type": "markdown",
   "id": "284b4f47",
   "metadata": {},
   "source": [
    "## Char-RNNs"
   ]
  },
  {
   "cell_type": "markdown",
   "id": "d2e2ff12",
   "metadata": {},
   "source": [
    "How we can split a sequence into batches of shuffled windows"
   ]
  },
  {
   "cell_type": "markdown",
   "id": "30aceee8",
   "metadata": {},
   "source": [
    "So now, if we wanted to split a sequence that have 14 in it, we could split it into windows of length 5. We could also shift by a factor of 2 so for example we would have: [0, 1, 2, 3, 4], [2, 3, 4, 5, 6], etc.), then shuffle and split into targets with first 4 and last 4 steps like: [[2, 3, 4, 5], [3, 4, 5, 6]]):"
   ]
  },
  {
   "cell_type": "code",
   "execution_count": 6,
   "id": "925a404b",
   "metadata": {},
   "outputs": [
    {
     "name": "stdout",
     "output_type": "stream",
     "text": [
      "____________________ Batch 0 \n",
      "X_batch\n",
      "[[ 6  7  8  9]\n",
      " [ 8  9 10 11]\n",
      " [ 4  5  6  7]]\n",
      "===== \n",
      "Y_batch\n",
      "[[ 7  8  9 10]\n",
      " [ 9 10 11 12]\n",
      " [ 5  6  7  8]]\n",
      "____________________ Batch 1 \n",
      "X_batch\n",
      "[[10 11 12 13]\n",
      " [ 2  3  4  5]\n",
      " [ 0  1  2  3]]\n",
      "===== \n",
      "Y_batch\n",
      "[[11 12 13 14]\n",
      " [ 3  4  5  6]\n",
      " [ 1  2  3  4]]\n"
     ]
    }
   ],
   "source": [
    "n_steps = 5\n",
    "dataset = tf.data.Dataset.from_tensor_slices(tf.range(15))\n",
    "dataset = dataset.window(n_steps, shift=2, drop_remainder=True)\n",
    "dataset = dataset.flat_map(lambda window: window.batch(n_steps))\n",
    "dataset = dataset.shuffle(10).map(lambda window: (window[:-1], window[1:]))\n",
    "dataset = dataset.batch(3).prefetch(1)\n",
    "for index, (X_batch, Y_batch) in enumerate(dataset):\n",
    "    print(\"_\" * 20, \"Batch\", index, \"\\nX_batch\")\n",
    "    print(X_batch.numpy())\n",
    "    print(\"=\" * 5, \"\\nY_batch\")\n",
    "    print(Y_batch.numpy())"
   ]
  },
  {
   "cell_type": "markdown",
   "id": "817ac30a",
   "metadata": {},
   "source": [
    "## Loading in Shakespeare dataset"
   ]
  },
  {
   "cell_type": "code",
   "execution_count": 7,
   "id": "0dc4d441",
   "metadata": {},
   "outputs": [],
   "source": [
    "shakespeare_url = \"https://raw.githubusercontent.com/karpathy/char-rnn/master/data/tinyshakespeare/input.txt\"\n",
    "filepath = keras.utils.get_file(\"shakespeare.txt\", shakespeare_url)\n",
    "with open(filepath) as f:\n",
    "    shakespeare_text = f.read()"
   ]
  },
  {
   "cell_type": "code",
   "execution_count": 8,
   "id": "f3ab4a7a",
   "metadata": {},
   "outputs": [
    {
     "name": "stdout",
     "output_type": "stream",
     "text": [
      "First Citizen:\n",
      "Before we proceed any further, hear me speak.\n",
      "\n",
      "All:\n",
      "Speak, speak.\n",
      "\n",
      "First Citizen:\n",
      "You are all resolved rather to die than to famish?\n",
      "\n"
     ]
    }
   ],
   "source": [
    "print(shakespeare_text[:148])"
   ]
  },
  {
   "cell_type": "code",
   "execution_count": 9,
   "id": "1f75af20",
   "metadata": {},
   "outputs": [
    {
     "data": {
      "text/plain": [
       "\"\\n !$&',-.3:;?abcdefghijklmnopqrstuvwxyz\""
      ]
     },
     "execution_count": 9,
     "metadata": {},
     "output_type": "execute_result"
    }
   ],
   "source": [
    "\"\".join(sorted(set(shakespeare_text.lower())))"
   ]
  },
  {
   "cell_type": "code",
   "execution_count": 10,
   "id": "0cd21126",
   "metadata": {},
   "outputs": [],
   "source": [
    "tokenizer = keras.preprocessing.text.Tokenizer(char_level=True)\n",
    "tokenizer.fit_on_texts(shakespeare_text)"
   ]
  },
  {
   "cell_type": "code",
   "execution_count": 11,
   "id": "e5397ae9",
   "metadata": {},
   "outputs": [
    {
     "data": {
      "text/plain": [
       "[[20, 6, 9, 8, 3]]"
      ]
     },
     "execution_count": 11,
     "metadata": {},
     "output_type": "execute_result"
    }
   ],
   "source": [
    "tokenizer.texts_to_sequences([\"First\"])"
   ]
  },
  {
   "cell_type": "code",
   "execution_count": 12,
   "id": "8fc0fda5",
   "metadata": {},
   "outputs": [
    {
     "data": {
      "text/plain": [
       "['f i r s t']"
      ]
     },
     "execution_count": 12,
     "metadata": {},
     "output_type": "execute_result"
    }
   ],
   "source": [
    "tokenizer.sequences_to_texts([[20, 6, 9, 8, 3]])"
   ]
  },
  {
   "cell_type": "code",
   "execution_count": 13,
   "id": "afc5433c",
   "metadata": {},
   "outputs": [
    {
     "data": {
      "text/plain": [
       "['  e t o']"
      ]
     },
     "execution_count": 13,
     "metadata": {},
     "output_type": "execute_result"
    }
   ],
   "source": [
    "tokenizer.sequences_to_texts([[0, 1, 2, 3, 4]])"
   ]
  },
  {
   "cell_type": "code",
   "execution_count": 14,
   "id": "9bf5d91e",
   "metadata": {},
   "outputs": [],
   "source": [
    "max_id = len(tokenizer.word_index) # number of distinct characters\n",
    "dataset_size = tokenizer.document_count # total number of characters"
   ]
  },
  {
   "cell_type": "code",
   "execution_count": 15,
   "id": "7646f2d2",
   "metadata": {},
   "outputs": [],
   "source": [
    "[encoded] = np.array(tokenizer.texts_to_sequences([shakespeare_text])) - 1\n",
    "train_size = dataset_size * 90 // 100\n",
    "dataset = tf.data.Dataset.from_tensor_slices(encoded[:train_size])"
   ]
  },
  {
   "cell_type": "code",
   "execution_count": 16,
   "id": "50ce0e9b",
   "metadata": {},
   "outputs": [],
   "source": [
    "n_steps = 100\n",
    "window_length = n_steps + 1 # target = input shifted 1 character ahead\n",
    "dataset = dataset.window(window_length, shift=1, drop_remainder=True)"
   ]
  },
  {
   "cell_type": "code",
   "execution_count": 17,
   "id": "1c4801bc",
   "metadata": {},
   "outputs": [],
   "source": [
    "dataset = dataset.flat_map(lambda window: window.batch(window_length))"
   ]
  },
  {
   "cell_type": "code",
   "execution_count": 18,
   "id": "99e19431",
   "metadata": {},
   "outputs": [],
   "source": [
    "batch_size = 32\n",
    "dataset = dataset.shuffle(10000).batch(batch_size)\n",
    "dataset = dataset.map(lambda windows: (windows[:, :-1], windows[:, 1:]))"
   ]
  },
  {
   "cell_type": "code",
   "execution_count": 19,
   "id": "d9aa0413",
   "metadata": {},
   "outputs": [],
   "source": [
    "dataset = dataset.map(\n",
    "    lambda X_batch, Y_batch: (tf.one_hot(X_batch, depth=max_id), Y_batch))"
   ]
  },
  {
   "cell_type": "code",
   "execution_count": 20,
   "id": "2d5d63f3",
   "metadata": {},
   "outputs": [],
   "source": [
    "dataset = dataset.prefetch(1)"
   ]
  },
  {
   "cell_type": "code",
   "execution_count": 21,
   "id": "37eca8e9",
   "metadata": {},
   "outputs": [
    {
     "name": "stdout",
     "output_type": "stream",
     "text": [
      "(32, 100, 39) (32, 100)\n"
     ]
    }
   ],
   "source": [
    "for X_batch, Y_batch in dataset.take(1):\n",
    "    print(X_batch.shape, Y_batch.shape)"
   ]
  },
  {
   "cell_type": "markdown",
   "id": "821636a1",
   "metadata": {},
   "source": [
    "## Creating and Training the Model"
   ]
  },
  {
   "cell_type": "code",
   "execution_count": 22,
   "id": "4b107c32",
   "metadata": {},
   "outputs": [
    {
     "name": "stdout",
     "output_type": "stream",
     "text": [
      "Epoch 1/10\n",
      "31368/31368 [==============================] - 338s 10ms/step - loss: 1.6189\n",
      "Epoch 2/10\n",
      "31368/31368 [==============================] - 350s 11ms/step - loss: 1.5389\n",
      "Epoch 3/10\n",
      "31368/31368 [==============================] - 349s 11ms/step - loss: 1.5186\n",
      "Epoch 4/10\n",
      "31368/31368 [==============================] - 349s 11ms/step - loss: 1.5073\n",
      "Epoch 5/10\n",
      "31368/31368 [==============================] - 349s 11ms/step - loss: 1.4995\n",
      "Epoch 6/10\n",
      "31368/31368 [==============================] - 351s 11ms/step - loss: 1.4945\n",
      "Epoch 7/10\n",
      "31368/31368 [==============================] - 351s 11ms/step - loss: 1.4904\n",
      "Epoch 8/10\n",
      "31368/31368 [==============================] - 352s 11ms/step - loss: 1.4872\n",
      "Epoch 9/10\n",
      "31368/31368 [==============================] - 346s 11ms/step - loss: 1.4846\n",
      "Epoch 10/10\n",
      "31368/31368 [==============================] - 346s 11ms/step - loss: 1.4834\n"
     ]
    }
   ],
   "source": [
    "model = keras.models.Sequential([\n",
    "    keras.layers.GRU(128, return_sequences=True, input_shape=[None, max_id],\n",
    "                    dropout=0.2),\n",
    "    keras.layers.GRU(128, return_sequences=True,\n",
    "                    dropout=0.2),\n",
    "    keras.layers.TimeDistributed(keras.layers.Dense(max_id, activation=\"softmax\"))\n",
    "])\n",
    "model.compile(loss=\"sparse_categorical_crossentropy\", optimizer=\"adam\")\n",
    "history = model.fit(dataset, epochs=10)"
   ]
  },
  {
   "cell_type": "markdown",
   "id": "816a4db1",
   "metadata": {},
   "source": [
    "## Now to use the model to generate some text"
   ]
  },
  {
   "cell_type": "code",
   "execution_count": 23,
   "id": "7466fca1",
   "metadata": {},
   "outputs": [],
   "source": [
    "def preprocess(texts):\n",
    "    X = np.array(tokenizer.texts_to_sequences(texts)) - 1\n",
    "    return tf.one_hot(X, max_id)"
   ]
  },
  {
   "cell_type": "code",
   "execution_count": 24,
   "id": "5444af65",
   "metadata": {},
   "outputs": [
    {
     "data": {
      "text/plain": [
       "'u'"
      ]
     },
     "execution_count": 24,
     "metadata": {},
     "output_type": "execute_result"
    }
   ],
   "source": [
    "X_new = preprocess([\"How are yo\"])\n",
    "Y_pred = np.argmax(model(X_new), axis=-1)\n",
    "tokenizer.sequences_to_texts(Y_pred + 1)[0][-1] # 1st sentence, last char"
   ]
  },
  {
   "cell_type": "code",
   "execution_count": 25,
   "id": "affe79ee",
   "metadata": {},
   "outputs": [
    {
     "data": {
      "text/plain": [
       "array([[1, 0, 1, 1, 0, 0, 1, 1, 1, 0, 1, 1, 1, 2, 1, 0, 0, 2, 1, 1, 1, 0,\n",
       "        2, 0, 1, 0, 0, 0, 2, 0, 0, 0, 0, 2, 1, 0, 1, 0, 0, 0]],\n",
       "      dtype=int64)"
      ]
     },
     "execution_count": 25,
     "metadata": {},
     "output_type": "execute_result"
    }
   ],
   "source": [
    "tf.random.categorical([[np.log(0.5), np.log(0.4), np.log(0.1)]], num_samples=40).numpy()"
   ]
  },
  {
   "cell_type": "code",
   "execution_count": 26,
   "id": "5ff06814",
   "metadata": {},
   "outputs": [],
   "source": [
    "def next_char(text, temperature=1):\n",
    "    X_new = preprocess([text])\n",
    "    y_proba = model(X_new)[0, -1:, :]\n",
    "    rescaled_logits = tf.math.log(y_proba) / temperature\n",
    "    char_id = tf.random.categorical(rescaled_logits, num_samples=1) +1\n",
    "    return tokenizer.sequences_to_texts(char_id.numpy())[0]"
   ]
  },
  {
   "cell_type": "code",
   "execution_count": 27,
   "id": "98d7390d",
   "metadata": {},
   "outputs": [
    {
     "data": {
      "text/plain": [
       "'u'"
      ]
     },
     "execution_count": 27,
     "metadata": {},
     "output_type": "execute_result"
    }
   ],
   "source": [
    "next_char(\"How are yo\", temperature=1)"
   ]
  },
  {
   "cell_type": "code",
   "execution_count": 28,
   "id": "aa940a5c",
   "metadata": {},
   "outputs": [
    {
     "data": {
      "text/plain": [
       "'e'"
      ]
     },
     "execution_count": 28,
     "metadata": {},
     "output_type": "execute_result"
    }
   ],
   "source": [
    "next_char(\"Where is h\", temperature=1)"
   ]
  },
  {
   "cell_type": "code",
   "execution_count": 29,
   "id": "f6ed97fc",
   "metadata": {},
   "outputs": [],
   "source": [
    "def complete_text(text, N_chars=50, temperature=1):\n",
    "    for i in range (N_chars):\n",
    "        text += next_char(text, temperature)\n",
    "    return text"
   ]
  },
  {
   "cell_type": "code",
   "execution_count": 30,
   "id": "0abe232d",
   "metadata": {},
   "outputs": [
    {
     "name": "stdout",
     "output_type": "stream",
     "text": [
      "t in all she shall be so,\n",
      "and see the elder for a s\n"
     ]
    }
   ],
   "source": [
    "print(complete_text(\"t\", temperature=0.2))"
   ]
  },
  {
   "cell_type": "code",
   "execution_count": 31,
   "id": "f68447ad",
   "metadata": {},
   "outputs": [
    {
     "name": "stdout",
     "output_type": "stream",
     "text": [
      "th d; when you'at blood with.\n",
      "\n",
      "bidnar: you do,\n",
      "rape\n"
     ]
    }
   ],
   "source": [
    "print(complete_text(\"t\", temperature=2.0))"
   ]
  },
  {
   "cell_type": "code",
   "execution_count": 32,
   "id": "5fa3b8e1",
   "metadata": {},
   "outputs": [
    {
     "name": "stdout",
     "output_type": "stream",
     "text": [
      "this wholeoullst your dreams.\n",
      "\n",
      "grumio:\n",
      "what dost i \n"
     ]
    }
   ],
   "source": [
    "print(complete_text(\"t\", temperature=1.0))"
   ]
  },
  {
   "cell_type": "markdown",
   "id": "a381385e",
   "metadata": {},
   "source": [
    "## Stateful RNNs"
   ]
  },
  {
   "cell_type": "code",
   "execution_count": 33,
   "id": "b08ee024",
   "metadata": {},
   "outputs": [],
   "source": [
    "dataset = tf.data.Dataset.from_tensor_slices(encoded[:train_size])\n",
    "dataset = dataset.window(window_length, shift=n_steps, drop_remainder=True)\n",
    "dataset = dataset.flat_map(lambda window: window.batch(window_length))\n",
    "dataset = dataset.batch(1)\n",
    "dataset = dataset.map(lambda windows: (windows[:, :-1], windows[:, 1:]))\n",
    "dataset = dataset.map(\n",
    "    lambda X_batch, Y_batch: (tf.one_hot(X_batch, depth=max_id), Y_batch))\n",
    "dataset = dataset.prefetch(1)"
   ]
  },
  {
   "cell_type": "code",
   "execution_count": 34,
   "id": "7ba33ac6",
   "metadata": {},
   "outputs": [],
   "source": [
    "batch_size = 32\n",
    "encoded_parts = np.array_split(encoded[:train_size], batch_size)\n",
    "datasets = []\n",
    "for encoded_part in encoded_parts:\n",
    "    dataset = tf.data.Dataset.from_tensor_slices(encoded_part)\n",
    "    dataset = dataset.window(window_length, shift=n_steps, drop_remainder=True)\n",
    "    dataset = dataset.flat_map(lambda window: window.batch(window_length))\n",
    "    datasets.append(dataset)\n",
    "dataset = tf.data.Dataset.zip(tuple(datasets)).map(lambda *windows: tf.stack(windows))\n",
    "dataset = dataset.map(lambda windows: (windows[:, :-1], windows[:, 1:]))\n",
    "dataset = dataset.map(\n",
    "    lambda X_batch, Y_batch: (tf.one_hot(X_batch, depth=max_id), Y_batch))\n",
    "dataset = dataset.prefetch(1)"
   ]
  },
  {
   "cell_type": "code",
   "execution_count": 35,
   "id": "2f2f0cff",
   "metadata": {},
   "outputs": [],
   "source": [
    "model = keras.models.Sequential([\n",
    "    keras.layers.GRU(128, return_sequences=True, stateful=True,\n",
    "                     dropout=0.2,\n",
    "                     batch_input_shape=[batch_size, None, max_id]),\n",
    "    keras.layers.GRU(128, return_sequences=True, stateful=True,\n",
    "                     dropout=0.2),\n",
    "    keras.layers.TimeDistributed(keras.layers.Dense(max_id,\n",
    "                                                    activation=\"softmax\"))\n",
    "])"
   ]
  },
  {
   "cell_type": "code",
   "execution_count": 36,
   "id": "22f61601",
   "metadata": {},
   "outputs": [],
   "source": [
    "class ResetStatesCallback(keras.callbacks.Callback):\n",
    "    def on_epoch_begin(self, epoch, logs):\n",
    "        self.model.reset_states()"
   ]
  },
  {
   "cell_type": "code",
   "execution_count": 37,
   "id": "2f4ff8f5",
   "metadata": {},
   "outputs": [
    {
     "name": "stdout",
     "output_type": "stream",
     "text": [
      "Epoch 1/50\n",
      "313/313 [==============================] - 5s 11ms/step - loss: 2.6180\n",
      "Epoch 2/50\n",
      "313/313 [==============================] - 3s 11ms/step - loss: 2.2424\n",
      "Epoch 3/50\n",
      "313/313 [==============================] - 3s 11ms/step - loss: 2.1127\n",
      "Epoch 4/50\n",
      "313/313 [==============================] - 3s 11ms/step - loss: 2.0376\n",
      "Epoch 5/50\n",
      "313/313 [==============================] - 3s 11ms/step - loss: 1.9861\n",
      "Epoch 6/50\n",
      "313/313 [==============================] - 3s 11ms/step - loss: 1.9496\n",
      "Epoch 7/50\n",
      "313/313 [==============================] - 3s 11ms/step - loss: 1.9217\n",
      "Epoch 8/50\n",
      "313/313 [==============================] - 3s 11ms/step - loss: 1.9001\n",
      "Epoch 9/50\n",
      "313/313 [==============================] - 3s 11ms/step - loss: 1.8847\n",
      "Epoch 10/50\n",
      "313/313 [==============================] - 3s 11ms/step - loss: 1.8673\n",
      "Epoch 11/50\n",
      "313/313 [==============================] - 3s 11ms/step - loss: 1.8532\n",
      "Epoch 12/50\n",
      "313/313 [==============================] - 3s 11ms/step - loss: 1.8417\n",
      "Epoch 13/50\n",
      "313/313 [==============================] - 3s 11ms/step - loss: 1.8342\n",
      "Epoch 14/50\n",
      "313/313 [==============================] - 3s 11ms/step - loss: 1.8257\n",
      "Epoch 15/50\n",
      "313/313 [==============================] - 3s 11ms/step - loss: 1.8147\n",
      "Epoch 16/50\n",
      "313/313 [==============================] - 3s 11ms/step - loss: 1.8079\n",
      "Epoch 17/50\n",
      "313/313 [==============================] - 3s 11ms/step - loss: 1.8012\n",
      "Epoch 18/50\n",
      "313/313 [==============================] - 3s 11ms/step - loss: 1.7977\n",
      "Epoch 19/50\n",
      "313/313 [==============================] - 3s 11ms/step - loss: 1.7915\n",
      "Epoch 20/50\n",
      "313/313 [==============================] - 3s 11ms/step - loss: 1.7860\n",
      "Epoch 21/50\n",
      "313/313 [==============================] - 3s 11ms/step - loss: 1.7792\n",
      "Epoch 22/50\n",
      "313/313 [==============================] - 3s 11ms/step - loss: 1.7775\n",
      "Epoch 23/50\n",
      "313/313 [==============================] - 3s 11ms/step - loss: 1.7731\n",
      "Epoch 24/50\n",
      "313/313 [==============================] - 3s 11ms/step - loss: 1.7682\n",
      "Epoch 25/50\n",
      "313/313 [==============================] - 3s 11ms/step - loss: 1.7642\n",
      "Epoch 26/50\n",
      "313/313 [==============================] - 3s 11ms/step - loss: 1.7646\n",
      "Epoch 27/50\n",
      "313/313 [==============================] - 3s 11ms/step - loss: 1.7594\n",
      "Epoch 28/50\n",
      "313/313 [==============================] - 3s 11ms/step - loss: 1.7551\n",
      "Epoch 29/50\n",
      "313/313 [==============================] - 3s 11ms/step - loss: 1.7529\n",
      "Epoch 30/50\n",
      "313/313 [==============================] - 3s 11ms/step - loss: 1.7485\n",
      "Epoch 31/50\n",
      "313/313 [==============================] - 3s 11ms/step - loss: 1.7487\n",
      "Epoch 32/50\n",
      "313/313 [==============================] - 3s 11ms/step - loss: 1.7432\n",
      "Epoch 33/50\n",
      "313/313 [==============================] - 3s 11ms/step - loss: 1.7415\n",
      "Epoch 34/50\n",
      "313/313 [==============================] - 3s 11ms/step - loss: 1.7410\n",
      "Epoch 35/50\n",
      "313/313 [==============================] - 3s 11ms/step - loss: 1.7373\n",
      "Epoch 36/50\n",
      "313/313 [==============================] - 3s 11ms/step - loss: 1.7351\n",
      "Epoch 37/50\n",
      "313/313 [==============================] - 3s 11ms/step - loss: 1.7316\n",
      "Epoch 38/50\n",
      "313/313 [==============================] - 3s 11ms/step - loss: 1.7313\n",
      "Epoch 39/50\n",
      "313/313 [==============================] - 3s 11ms/step - loss: 1.7295\n",
      "Epoch 40/50\n",
      "313/313 [==============================] - 3s 11ms/step - loss: 1.7288\n",
      "Epoch 41/50\n",
      "313/313 [==============================] - 3s 11ms/step - loss: 1.7244\n",
      "Epoch 42/50\n",
      "313/313 [==============================] - 3s 11ms/step - loss: 1.7242\n",
      "Epoch 43/50\n",
      "313/313 [==============================] - 3s 11ms/step - loss: 1.7222\n",
      "Epoch 44/50\n",
      "313/313 [==============================] - 3s 11ms/step - loss: 1.7195\n",
      "Epoch 45/50\n",
      "313/313 [==============================] - 3s 11ms/step - loss: 1.7192\n",
      "Epoch 46/50\n",
      "313/313 [==============================] - 3s 11ms/step - loss: 1.7172\n",
      "Epoch 47/50\n",
      "313/313 [==============================] - 3s 11ms/step - loss: 1.7188\n",
      "Epoch 48/50\n",
      "313/313 [==============================] - 3s 11ms/step - loss: 1.7142\n",
      "Epoch 49/50\n",
      "313/313 [==============================] - 3s 11ms/step - loss: 1.7133\n",
      "Epoch 50/50\n",
      "313/313 [==============================] - 4s 11ms/step - loss: 1.7125\n"
     ]
    }
   ],
   "source": [
    "model.compile(loss=\"sparse_categorical_crossentropy\", optimizer=\"adam\")\n",
    "history = model.fit(dataset, epochs=50, callbacks=[ResetStatesCallback()])"
   ]
  },
  {
   "cell_type": "code",
   "execution_count": 38,
   "id": "f37cf798",
   "metadata": {},
   "outputs": [],
   "source": [
    "# stateless model with different batch sizes\n",
    "stateless = keras.models.Sequential([\n",
    "    keras.layers.GRU(128, return_sequences=True, input_shape=[None, max_id]),\n",
    "    keras.layers.GRU(128, return_sequences=True),\n",
    "    keras.layers.TimeDistributed(keras.layers.Dense(max_id, activation=\"softmax\"))\n",
    "])"
   ]
  },
  {
   "cell_type": "code",
   "execution_count": 39,
   "id": "e42a7140",
   "metadata": {},
   "outputs": [],
   "source": [
    "# build weighless model\n",
    "\n",
    "stateless.build(tf.TensorShape([None, None, max_id]))"
   ]
  },
  {
   "cell_type": "code",
   "execution_count": 40,
   "id": "eff175fd",
   "metadata": {},
   "outputs": [],
   "source": [
    "stateless.set_weights(model.get_weights())\n",
    "model = stateless"
   ]
  },
  {
   "cell_type": "code",
   "execution_count": 41,
   "id": "b04ac17b",
   "metadata": {},
   "outputs": [
    {
     "name": "stdout",
     "output_type": "stream",
     "text": [
      "tenthinks\n",
      "go meanted my ghodsion that would revengu\n"
     ]
    }
   ],
   "source": [
    "print(complete_text(\"t\"))"
   ]
  },
  {
   "cell_type": "markdown",
   "id": "0015d1eb",
   "metadata": {},
   "source": [
    "## Sentiment Analysis"
   ]
  },
  {
   "cell_type": "code",
   "execution_count": 42,
   "id": "64448c4a",
   "metadata": {},
   "outputs": [],
   "source": [
    "(X_train, y_train), (X_test, y_test) = keras.datasets.imdb.load_data()"
   ]
  },
  {
   "cell_type": "code",
   "execution_count": 43,
   "id": "43d7e267",
   "metadata": {},
   "outputs": [
    {
     "data": {
      "text/plain": [
       "[1, 14, 22, 16, 43, 530, 973, 1622, 1385, 65]"
      ]
     },
     "execution_count": 43,
     "metadata": {},
     "output_type": "execute_result"
    }
   ],
   "source": [
    "X_train[0][:10]"
   ]
  },
  {
   "cell_type": "code",
   "execution_count": 44,
   "id": "fe455c63",
   "metadata": {},
   "outputs": [
    {
     "data": {
      "text/plain": [
       "'<sos> this film was just brilliant casting location scenery story'"
      ]
     },
     "execution_count": 44,
     "metadata": {},
     "output_type": "execute_result"
    }
   ],
   "source": [
    "word_index = keras.datasets.imdb.get_word_index()\n",
    "id_to_word = {id_ + 3: word for word, id_ in word_index.items()}\n",
    "for id_, token in enumerate((\"<pad>\", \"<sos>\", \"<unk>\")):\n",
    "    id_to_word[id_] = token\n",
    "\" \".join([id_to_word[id_] for id_ in X_train[0][:10]])"
   ]
  },
  {
   "cell_type": "code",
   "execution_count": 45,
   "id": "d81e2292",
   "metadata": {},
   "outputs": [],
   "source": [
    "import tensorflow_datasets as tfds\n",
    "\n",
    "datasets, info = tfds.load(\"imdb_reviews\", as_supervised=True, with_info=True)"
   ]
  },
  {
   "cell_type": "code",
   "execution_count": 46,
   "id": "6f34cdfc",
   "metadata": {},
   "outputs": [
    {
     "data": {
      "text/plain": [
       "dict_keys(['train', 'test', 'unsupervised'])"
      ]
     },
     "execution_count": 46,
     "metadata": {},
     "output_type": "execute_result"
    }
   ],
   "source": [
    "datasets.keys()"
   ]
  },
  {
   "cell_type": "code",
   "execution_count": 47,
   "id": "131ffb12",
   "metadata": {},
   "outputs": [],
   "source": [
    "train_size = info.splits[\"train\"].num_examples\n",
    "test_size = info.splits[\"test\"].num_examples"
   ]
  },
  {
   "cell_type": "code",
   "execution_count": 48,
   "id": "03e01751",
   "metadata": {},
   "outputs": [
    {
     "data": {
      "text/plain": [
       "(25000, 25000)"
      ]
     },
     "execution_count": 48,
     "metadata": {},
     "output_type": "execute_result"
    }
   ],
   "source": [
    "train_size, test_size"
   ]
  },
  {
   "cell_type": "code",
   "execution_count": 49,
   "id": "7a500617",
   "metadata": {},
   "outputs": [
    {
     "name": "stdout",
     "output_type": "stream",
     "text": [
      "Review: This was an absolutely terrible movie. Don't be lured in by Christopher Walken or Michael Ironside. Both are great actors, but this must simply be their worst role in history. Even their great acting could not redeem this movie's ridiculous storyline. This movie is an early nineties US propaganda pi ...\n",
      "Label: 0 = Negative\n",
      "\n",
      "Review: I have been known to fall asleep during films, but this is usually due to a combination of things including, really tired, being warm and comfortable on the sette and having just eaten a lot. However on this occasion I fell asleep because the film was rubbish. The plot development was constant. Cons ...\n",
      "Label: 0 = Negative\n",
      "\n"
     ]
    }
   ],
   "source": [
    "for X_batch, y_batch in datasets[\"train\"].batch(2).take(1):\n",
    "    for review, label in zip(X_batch.numpy(), y_batch.numpy()):\n",
    "        print(\"Review:\", review.decode(\"utf-8\")[:300], \"...\")\n",
    "        print(\"Label:\", label, \"= Positive\" if label else \"= Negative\")\n",
    "        print()"
   ]
  },
  {
   "cell_type": "code",
   "execution_count": 50,
   "id": "746e5679",
   "metadata": {},
   "outputs": [],
   "source": [
    "def preprocess(X_batch, y_batch):\n",
    "    X_batch = tf.strings.substr(X_batch, 0 ,300)\n",
    "    X_batch = tf.strings.regex_replace(X_batch, rb\"<br\\s*/?>\", b\" \")\n",
    "    X_batch = tf.strings.regex_replace(X_batch, b\"[^a-zA-Z']\", b\" \")\n",
    "    X_batch = tf.strings.split(X_batch)\n",
    "    return X_batch.to_tensor(default_value=b\"<pad>\"), y_batch"
   ]
  },
  {
   "cell_type": "code",
   "execution_count": 51,
   "id": "fac13822",
   "metadata": {},
   "outputs": [
    {
     "data": {
      "text/plain": [
       "(<tf.Tensor: shape=(2, 53), dtype=string, numpy=\n",
       " array([[b'This', b'was', b'an', b'absolutely', b'terrible', b'movie',\n",
       "         b\"Don't\", b'be', b'lured', b'in', b'by', b'Christopher',\n",
       "         b'Walken', b'or', b'Michael', b'Ironside', b'Both', b'are',\n",
       "         b'great', b'actors', b'but', b'this', b'must', b'simply', b'be',\n",
       "         b'their', b'worst', b'role', b'in', b'history', b'Even',\n",
       "         b'their', b'great', b'acting', b'could', b'not', b'redeem',\n",
       "         b'this', b\"movie's\", b'ridiculous', b'storyline', b'This',\n",
       "         b'movie', b'is', b'an', b'early', b'nineties', b'US',\n",
       "         b'propaganda', b'pi', b'<pad>', b'<pad>', b'<pad>'],\n",
       "        [b'I', b'have', b'been', b'known', b'to', b'fall', b'asleep',\n",
       "         b'during', b'films', b'but', b'this', b'is', b'usually', b'due',\n",
       "         b'to', b'a', b'combination', b'of', b'things', b'including',\n",
       "         b'really', b'tired', b'being', b'warm', b'and', b'comfortable',\n",
       "         b'on', b'the', b'sette', b'and', b'having', b'just', b'eaten',\n",
       "         b'a', b'lot', b'However', b'on', b'this', b'occasion', b'I',\n",
       "         b'fell', b'asleep', b'because', b'the', b'film', b'was',\n",
       "         b'rubbish', b'The', b'plot', b'development', b'was', b'constant',\n",
       "         b'Cons']], dtype=object)>,\n",
       " <tf.Tensor: shape=(2,), dtype=int64, numpy=array([0, 0], dtype=int64)>)"
      ]
     },
     "execution_count": 51,
     "metadata": {},
     "output_type": "execute_result"
    }
   ],
   "source": [
    "preprocess(X_batch, y_batch)"
   ]
  },
  {
   "cell_type": "code",
   "execution_count": 52,
   "id": "52708ec1",
   "metadata": {},
   "outputs": [],
   "source": [
    "from collections import Counter\n",
    "\n",
    "vocab = Counter()\n",
    "for X_batch, y_batch in datasets[\"train\"].batch(32).map(preprocess):\n",
    "    for review in X_batch:\n",
    "        vocab.update(list(review.numpy()))"
   ]
  },
  {
   "cell_type": "code",
   "execution_count": 53,
   "id": "ffcf8fd2",
   "metadata": {},
   "outputs": [
    {
     "data": {
      "text/plain": [
       "[(b'<pad>', 214309), (b'the', 61137), (b'a', 38564), (b'of', 33983)]"
      ]
     },
     "execution_count": 53,
     "metadata": {},
     "output_type": "execute_result"
    }
   ],
   "source": [
    "vocab.most_common()[:4] # top 4 common occurences"
   ]
  },
  {
   "cell_type": "code",
   "execution_count": 54,
   "id": "57beb05f",
   "metadata": {},
   "outputs": [
    {
     "data": {
      "text/plain": [
       "53893"
      ]
     },
     "execution_count": 54,
     "metadata": {},
     "output_type": "execute_result"
    }
   ],
   "source": [
    "len(vocab)"
   ]
  },
  {
   "cell_type": "code",
   "execution_count": 55,
   "id": "e07cca27",
   "metadata": {},
   "outputs": [],
   "source": [
    "vocab_size = 10000 #cut down to 10000\n",
    "truncate_vocab = [word  for word, count in vocab.most_common()[:vocab_size]]"
   ]
  },
  {
   "cell_type": "code",
   "execution_count": 56,
   "id": "35ad3b04",
   "metadata": {},
   "outputs": [
    {
     "name": "stdout",
     "output_type": "stream",
     "text": [
      "22\n",
      "15\n",
      "11\n",
      "10000\n"
     ]
    }
   ],
   "source": [
    "word_to_id = {word: index for index, word in enumerate(truncate_vocab)}\n",
    "for word in b\"This film was increeedddddibbble\".split():\n",
    "    print(word_to_id.get(word) or vocab_size)"
   ]
  },
  {
   "cell_type": "markdown",
   "id": "73a5a406",
   "metadata": {},
   "source": [
    "In the above example, the final word is outside of our most common list of 10000, so it defaults to that."
   ]
  },
  {
   "cell_type": "code",
   "execution_count": 59,
   "id": "959fa966",
   "metadata": {},
   "outputs": [],
   "source": [
    "words = tf.constant(truncate_vocab)\n",
    "word_ids = tf.range(len(truncate_vocab), dtype=tf.int64)\n",
    "vocab_init = tf.lookup.KeyValueTensorInitializer(words, word_ids)\n",
    "oov_buckets = 1000\n",
    "table = tf.lookup.StaticVocabularyTable(vocab_init, oov_buckets)"
   ]
  },
  {
   "cell_type": "code",
   "execution_count": 60,
   "id": "08307bfa",
   "metadata": {},
   "outputs": [
    {
     "data": {
      "text/plain": [
       "<tf.Tensor: shape=(1, 4), dtype=int64, numpy=array([[   22,    15,    11, 10790]], dtype=int64)>"
      ]
     },
     "execution_count": 60,
     "metadata": {},
     "output_type": "execute_result"
    }
   ],
   "source": [
    "table.lookup(tf.constant([b\"This film was increeedddddibbble\".split()]))"
   ]
  },
  {
   "cell_type": "code",
   "execution_count": 62,
   "id": "d7625465",
   "metadata": {},
   "outputs": [],
   "source": [
    "def encode_words(X_batch, y_batch):\n",
    "    return table.lookup(X_batch), y_batch\n",
    "\n",
    "train_set = datasets[\"train\"].batch(32).map(preprocess)\n",
    "train_set = train_set.map(encode_words).prefetch(1)"
   ]
  },
  {
   "cell_type": "code",
   "execution_count": 63,
   "id": "43e12863",
   "metadata": {},
   "outputs": [
    {
     "name": "stdout",
     "output_type": "stream",
     "text": [
      "tf.Tensor(\n",
      "[[  22   11   28 ...    0    0    0]\n",
      " [   6   21   70 ...    0    0    0]\n",
      " [4099 6881    1 ...    0    0    0]\n",
      " ...\n",
      " [  22   12  118 ...  331 1047    0]\n",
      " [1757 4101  451 ...    0    0    0]\n",
      " [3365 4392    6 ...    0    0    0]], shape=(32, 60), dtype=int64)\n",
      "tf.Tensor([0 0 0 1 1 1 0 0 0 0 0 1 1 0 1 0 1 1 1 0 1 1 1 1 1 0 0 0 1 0 0 0], shape=(32,), dtype=int64)\n"
     ]
    }
   ],
   "source": [
    "for X_batch, y_batch in train_set.take(1):\n",
    "    print(X_batch)\n",
    "    print(y_batch)"
   ]
  },
  {
   "cell_type": "code",
   "execution_count": 67,
   "id": "b808b9df",
   "metadata": {},
   "outputs": [
    {
     "name": "stdout",
     "output_type": "stream",
     "text": [
      "Epoch 1/5\n",
      "782/782 [==============================] - 19s 17ms/step - loss: 0.5438 - accuracy: 0.7170\n",
      "Epoch 2/5\n",
      "782/782 [==============================] - 14s 17ms/step - loss: 0.3507 - accuracy: 0.8552\n",
      "Epoch 3/5\n",
      "782/782 [==============================] - 14s 17ms/step - loss: 0.1873 - accuracy: 0.9346\n",
      "Epoch 4/5\n",
      "782/782 [==============================] - 14s 18ms/step - loss: 0.1417 - accuracy: 0.9497\n",
      "Epoch 5/5\n",
      "782/782 [==============================] - 14s 18ms/step - loss: 0.1104 - accuracy: 0.9604\n"
     ]
    }
   ],
   "source": [
    "embed_size = 128\n",
    "model = keras.models.Sequential([\n",
    "    keras.layers.Embedding(vocab_size + oov_buckets, embed_size,\n",
    "                          mask_zero=True,\n",
    "                          input_shape=[None]),\n",
    "    keras.layers.GRU(128, return_sequences=True),\n",
    "    keras.layers.GRU(128),\n",
    "    keras.layers.Dense(1, activation=\"sigmoid\")\n",
    "])\n",
    "model.compile(loss=\"binary_crossentropy\", optimizer=\"adam\", metrics=[\"accuracy\"])\n",
    "history = model.fit(train_set, epochs=5)"
   ]
  },
  {
   "cell_type": "code",
   "execution_count": 68,
   "id": "ccc32062",
   "metadata": {},
   "outputs": [
    {
     "name": "stdout",
     "output_type": "stream",
     "text": [
      "Epoch 1/5\n",
      "782/782 [==============================] - 18s 17ms/step - loss: 0.5345 - accuracy: 0.7238\n",
      "Epoch 2/5\n",
      "782/782 [==============================] - 14s 17ms/step - loss: 0.3398 - accuracy: 0.8586\n",
      "Epoch 3/5\n",
      "782/782 [==============================] - 14s 18ms/step - loss: 0.1836 - accuracy: 0.9342\n",
      "Epoch 4/5\n",
      "782/782 [==============================] - 14s 17ms/step - loss: 0.1409 - accuracy: 0.9482\n",
      "Epoch 5/5\n",
      "782/782 [==============================] - 14s 18ms/step - loss: 0.1017 - accuracy: 0.9640\n"
     ]
    }
   ],
   "source": [
    "# with manual masking\n",
    "K = keras.backend\n",
    "embed_size = 128\n",
    "inputs = keras.layers.Input(shape=[None])\n",
    "mask = keras.layers.Lambda(lambda inputs: K.not_equal(inputs, 0))(inputs)\n",
    "z = keras.layers.Embedding(vocab_size + oov_buckets, embed_size)(inputs)\n",
    "z = keras.layers.GRU(128, return_sequences=True)(z, mask=mask)\n",
    "z = keras.layers.GRU(128)(z, mask=mask)\n",
    "outputs = keras.layers.Dense(1, activation=\"sigmoid\")(z)\n",
    "model = keras.models.Model(inputs=[inputs], outputs=[outputs])\n",
    "model.compile(loss=\"binary_crossentropy\", optimizer=\"adam\", metrics=[\"accuracy\"])\n",
    "history = model.fit(train_set, epochs=5)"
   ]
  },
  {
   "cell_type": "markdown",
   "id": "3ba894c7",
   "metadata": {},
   "source": [
    "## Reusing Pretrained Embeddings"
   ]
  },
  {
   "cell_type": "code",
   "execution_count": 69,
   "id": "3426e1fd",
   "metadata": {},
   "outputs": [],
   "source": [
    "TFHUB_CACHE_DIR = os.path.join(os.curdir, \"my_tfhub_cache\")\n",
    "os.environ[\"TFHUB_CACHE_DIR\"] = TFHUB_CACHE_DIR"
   ]
  },
  {
   "cell_type": "code",
   "execution_count": 70,
   "id": "3b3f9ddc",
   "metadata": {},
   "outputs": [],
   "source": [
    "import tensorflow_hub as hub\n",
    "\n",
    "model = keras.Sequential([\n",
    "    hub.KerasLayer(\"https://tfhub.dev/google/tf2-preview/nnlm-en-dim50/1\",\n",
    "                   dtype=tf.string, input_shape=[], output_shape=[50]),\n",
    "    keras.layers.Dense(128, activation=\"relu\"),\n",
    "    keras.layers.Dense(1, activation=\"sigmoid\")\n",
    "])\n",
    "model.compile(loss=\"binary_crossentropy\", optimizer=\"adam\",\n",
    "              metrics=[\"accuracy\"])"
   ]
  },
  {
   "cell_type": "code",
   "execution_count": 71,
   "id": "aded5896",
   "metadata": {},
   "outputs": [
    {
     "name": "stdout",
     "output_type": "stream",
     "text": [
      ".\\my_tfhub_cache\\82c4aaf4250ffb09088bd48368ee7fd00e5464fe.descriptor.txt\n",
      ".\\my_tfhub_cache\\82c4aaf4250ffb09088bd48368ee7fd00e5464fe\\saved_model.pb\n",
      ".\\my_tfhub_cache\\82c4aaf4250ffb09088bd48368ee7fd00e5464fe\\assets\\tokens.txt\n",
      ".\\my_tfhub_cache\\82c4aaf4250ffb09088bd48368ee7fd00e5464fe\\variables\\variables.data-00000-of-00001\n",
      ".\\my_tfhub_cache\\82c4aaf4250ffb09088bd48368ee7fd00e5464fe\\variables\\variables.index\n"
     ]
    }
   ],
   "source": [
    "for dirpath, dirnames, filenames in os.walk(TFHUB_CACHE_DIR):\n",
    "    for filename in filenames:\n",
    "        print(os.path.join(dirpath, filename))"
   ]
  },
  {
   "cell_type": "code",
   "execution_count": 72,
   "id": "2965519a",
   "metadata": {},
   "outputs": [
    {
     "name": "stdout",
     "output_type": "stream",
     "text": [
      "Epoch 1/5\n",
      "782/782 [==============================] - 6s 7ms/step - loss: 0.5454 - accuracy: 0.7284\n",
      "Epoch 2/5\n",
      "782/782 [==============================] - 5s 7ms/step - loss: 0.5147 - accuracy: 0.7478\n",
      "Epoch 3/5\n",
      "782/782 [==============================] - 5s 7ms/step - loss: 0.5093 - accuracy: 0.7518\n",
      "Epoch 4/5\n",
      "782/782 [==============================] - 5s 7ms/step - loss: 0.5056 - accuracy: 0.7544\n",
      "Epoch 5/5\n",
      "782/782 [==============================] - 5s 7ms/step - loss: 0.5028 - accuracy: 0.7567\n"
     ]
    }
   ],
   "source": [
    "import tensorflow_datasets as tfds\n",
    "\n",
    "datasets, info = tfds.load(\"imdb_reviews\", as_supervised=True, with_info=True)\n",
    "train_size = info.splits[\"train\"].num_examples\n",
    "batch_size = 32\n",
    "train_set = datasets[\"train\"].batch(batch_size).prefetch(1)\n",
    "history = model.fit(train_set, epochs=5)"
   ]
  },
  {
   "cell_type": "markdown",
   "id": "3a2918c7",
   "metadata": {},
   "source": [
    "## Automatic Translation"
   ]
  },
  {
   "cell_type": "code",
   "execution_count": 73,
   "id": "6d383f6c",
   "metadata": {},
   "outputs": [],
   "source": [
    "vocab_size = 100\n",
    "embed_size = 10"
   ]
  },
  {
   "cell_type": "code",
   "execution_count": 74,
   "id": "38b21095",
   "metadata": {},
   "outputs": [],
   "source": [
    "import tensorflow_addons as tfa\n",
    "\n",
    "encoder_inputs = keras.layers.Input(shape=[None], dtype=np.int32)\n",
    "decoder_inputs = keras.layers.Input(shape=[None], dtype=np.int32)\n",
    "sequence_lengths = keras.layers.Input(shape=[], dtype=np.int32)\n",
    "\n",
    "embeddings = keras.layers.Embedding(vocab_size, embed_size)\n",
    "encoder_embeddings = embeddings(encoder_inputs)\n",
    "decoder_embeddings = embeddings(decoder_inputs)\n",
    "\n",
    "encoder = keras.layers.LSTM(512, return_state=True)\n",
    "encoder_outputs, state_h, state_c = encoder(encoder_embeddings)\n",
    "encoder_state = [state_h, state_c]\n",
    "\n",
    "sampler = tfa.seq2seq.sampler.TrainingSampler()\n",
    "\n",
    "decoder_cell = keras.layers.LSTMCell(512)\n",
    "output_layer = keras.layers.Dense(vocab_size)\n",
    "decoder = tfa.seq2seq.basic_decoder.BasicDecoder(decoder_cell, sampler,\n",
    "                                                 output_layer=output_layer)\n",
    "final_outputs, final_state, final_sequence_lengths = decoder(\n",
    "    decoder_embeddings, initial_state=encoder_state,\n",
    "    sequence_length=sequence_lengths)\n",
    "Y_proba = tf.nn.softmax(final_outputs.rnn_output)\n",
    "\n",
    "model = keras.models.Model(\n",
    "    inputs=[encoder_inputs, decoder_inputs, sequence_lengths],\n",
    "    outputs=[Y_proba])"
   ]
  },
  {
   "cell_type": "code",
   "execution_count": 75,
   "id": "5bedf424",
   "metadata": {},
   "outputs": [],
   "source": [
    "model.compile(loss=\"sparse_categorical_crossentropy\", optimizer=\"adam\")"
   ]
  },
  {
   "cell_type": "code",
   "execution_count": 76,
   "id": "6ef0b71a",
   "metadata": {},
   "outputs": [
    {
     "name": "stdout",
     "output_type": "stream",
     "text": [
      "Epoch 1/2\n",
      "32/32 [==============================] - 4s 77ms/step - loss: 4.6054\n",
      "Epoch 2/2\n",
      "32/32 [==============================] - 2s 77ms/step - loss: 4.6038\n"
     ]
    }
   ],
   "source": [
    "X = np.random.randint(100, size=10*1000).reshape(1000, 10)\n",
    "Y = np.random.randint(100, size=15*1000).reshape(1000, 15)\n",
    "X_decoder = np.c_[np.zeros((1000, 1)), Y[:, :-1]]\n",
    "seq_lengths = np.full([1000], 15)\n",
    "\n",
    "history = model.fit([X, X_decoder, seq_lengths], Y, epochs=2)"
   ]
  },
  {
   "cell_type": "markdown",
   "id": "db1e5993",
   "metadata": {},
   "source": [
    "### Bidirectional Recurrent Layers"
   ]
  },
  {
   "cell_type": "code",
   "execution_count": 77,
   "id": "35466a4a",
   "metadata": {},
   "outputs": [
    {
     "name": "stdout",
     "output_type": "stream",
     "text": [
      "Model: \"sequential_6\"\n",
      "_________________________________________________________________\n",
      "Layer (type)                 Output Shape              Param #   \n",
      "=================================================================\n",
      "gru_12 (GRU)                 (None, None, 10)          660       \n",
      "_________________________________________________________________\n",
      "bidirectional (Bidirectional (None, None, 20)          1320      \n",
      "=================================================================\n",
      "Total params: 1,980\n",
      "Trainable params: 1,980\n",
      "Non-trainable params: 0\n",
      "_________________________________________________________________\n"
     ]
    }
   ],
   "source": [
    "model = keras.models.Sequential([\n",
    "    keras.layers.GRU(10, return_sequences=True, input_shape=[None, 10]),\n",
    "    keras.layers.Bidirectional(keras.layers.GRU(10, return_sequences=True))\n",
    "])\n",
    "\n",
    "model.summary()"
   ]
  },
  {
   "cell_type": "markdown",
   "id": "a9d7601c",
   "metadata": {},
   "source": [
    "### Positional Encoding"
   ]
  },
  {
   "cell_type": "code",
   "execution_count": 81,
   "id": "9dea0eb6",
   "metadata": {},
   "outputs": [],
   "source": [
    "class PositionalEncoding(keras.layers.Layer):\n",
    "    def __init__(self, max_steps, max_dims, dtype=tf.float32, **kwargs):\n",
    "        super().__init__(dtype=dtype, **kwargs)\n",
    "        if max_dims % 2 == 1:\n",
    "            max_dims += 1 # max_dims needs to be even\n",
    "        p, i = np.meshgrid(np.arange(max_steps), np.arange(max_dims // 2))\n",
    "        pos_emb = np.empty((1, max_steps, max_dims))\n",
    "        pos_emb[0, :, ::2] = np.sin(p / 10000**(2 * i / max_dims)).T\n",
    "        pos_emb[0, :, 1::2] = np.cos(p / 10000**(2 * i / max_dims)).T\n",
    "        self.positional_embedding = tf.constant(pos_emb.astype(self.dtype))\n",
    "    def call(self, inputs):\n",
    "        shape = tf.shape(inputs)\n",
    "        return inputs + self.positional_embedding[:, :shape[-2], :shape[-1]]"
   ]
  },
  {
   "cell_type": "code",
   "execution_count": 82,
   "id": "d81eec3c",
   "metadata": {},
   "outputs": [],
   "source": [
    "max_steps = 201\n",
    "max_dims = 512\n",
    "pos_emb = PositionalEncoding(max_steps, max_dims)\n",
    "PE = pos_emb(np.zeros((1, max_steps, max_dims), np.float32))[0].numpy()"
   ]
  },
  {
   "cell_type": "code",
   "execution_count": 83,
   "id": "ddb74048",
   "metadata": {},
   "outputs": [
    {
     "data": {
      "image/png": "[encoded data removed]",
      "text/plain": [
       "<Figure size 648x360 with 2 Axes>"
      ]
     },
     "metadata": {
      "needs_background": "light"
     },
     "output_type": "display_data"
    }
   ],
   "source": [
    "i1, i2, crop_i = 100, 101, 150\n",
    "p1, p2, p3 = 22, 60, 35\n",
    "fig, (ax1, ax2) = plt.subplots(nrows=2, ncols=1, sharex=True, figsize=(9, 5))\n",
    "ax1.plot([p1, p1], [-1, 1], \"k--\", label=\"$p = {}$\".format(p1))\n",
    "ax1.plot([p2, p2], [-1, 1], \"k--\", label=\"$p = {}$\".format(p2), alpha=0.5)\n",
    "ax1.plot(p3, PE[p3, i1], \"bx\", label=\"$p = {}$\".format(p3))\n",
    "ax1.plot(PE[:,i1], \"b-\", label=\"$i = {}$\".format(i1))\n",
    "ax1.plot(PE[:,i2], \"r-\", label=\"$i = {}$\".format(i2))\n",
    "ax1.plot([p1, p2], [PE[p1, i1], PE[p2, i1]], \"bo\")\n",
    "ax1.plot([p1, p2], [PE[p1, i2], PE[p2, i2]], \"ro\")\n",
    "ax1.legend(loc=\"center right\", fontsize=14, framealpha=0.95)\n",
    "ax1.set_ylabel(\"$P_{(p,i)}$\", rotation=0, fontsize=16)\n",
    "ax1.grid(True, alpha=0.3)\n",
    "ax1.hlines(0, 0, max_steps - 1, color=\"k\", linewidth=1, alpha=0.3)\n",
    "ax1.axis([0, max_steps - 1, -1, 1])\n",
    "ax2.imshow(PE.T[:crop_i], cmap=\"gray\", interpolation=\"bilinear\", aspect=\"auto\")\n",
    "ax2.hlines(i1, 0, max_steps - 1, color=\"b\")\n",
    "cheat = 2 # need to raise the red line a bit, or else it hides the blue one\n",
    "ax2.hlines(i2+cheat, 0, max_steps - 1, color=\"r\")\n",
    "ax2.plot([p1, p1], [0, crop_i], \"k--\")\n",
    "ax2.plot([p2, p2], [0, crop_i], \"k--\", alpha=0.5)\n",
    "ax2.plot([p1, p2], [i2+cheat, i2+cheat], \"ro\")\n",
    "ax2.plot([p1, p2], [i1, i1], \"bo\")\n",
    "ax2.axis([0, max_steps - 1, 0, crop_i])\n",
    "ax2.set_xlabel(\"$p$\", fontsize=16)\n",
    "ax2.set_ylabel(\"$i$\", rotation=0, fontsize=16)\n",
    "plt.show()"
   ]
  },
  {
   "cell_type": "code",
   "execution_count": 84,
   "id": "88776c23",
   "metadata": {},
   "outputs": [],
   "source": [
    "embed_size = 512; max_steps = 500; vocab_size = 10000\n",
    "encoder_inputs = keras.layers.Input(shape=[None], dtype=np.int32)\n",
    "decoder_inputs = keras.layers.Input(shape=[None], dtype=np.int32)\n",
    "embeddings = keras.layers.Embedding(vocab_size, embed_size)\n",
    "encoder_embeddings = embeddings(encoder_inputs)\n",
    "decoder_embeddings = embeddings(decoder_inputs)\n",
    "positional_encoding = PositionalEncoding(max_steps, max_dims=embed_size)\n",
    "encoder_in = positional_encoding(encoder_embeddings)\n",
    "decoder_in = positional_encoding(decoder_embeddings)"
   ]
  },
  {
   "cell_type": "markdown",
   "id": "ee6bc605",
   "metadata": {},
   "source": [
    "## Simple Transformer"
   ]
  },
  {
   "cell_type": "code",
   "execution_count": 85,
   "id": "490fbd05",
   "metadata": {},
   "outputs": [],
   "source": [
    "Z = encoder_in\n",
    "for N in range(6):\n",
    "    Z = keras.layers.Attention(use_scale=True)([Z, Z])"
   ]
  },
  {
   "cell_type": "code",
   "execution_count": 86,
   "id": "1641d6da",
   "metadata": {},
   "outputs": [],
   "source": [
    "encoder_outputs = Z\n",
    "Z = decoder_in\n",
    "for N in range(6):\n",
    "    Z = keras.layers.Attention(use_scale=True, causal=True)([Z, Z])\n",
    "    Z = keras.layers.Attention(use_scale=True)([Z, encoder_outputs])\n",
    "\n",
    "outputs = keras.layers.TimeDistributed(\n",
    "    keras.layers.Dense(vocab_size, activation=\"softmax\"))(Z)"
   ]
  },
  {
   "cell_type": "code",
   "execution_count": 87,
   "id": "c137a006",
   "metadata": {},
   "outputs": [],
   "source": [
    "# multihead attention layer\n",
    "K = keras.backend\n",
    "\n",
    "class MultiHeadAttention(keras.layers.Layer):\n",
    "    def __init__(self, n_heads, causal=False, use_scale=False, **kwargs):\n",
    "        self.n_heads = n_heads\n",
    "        self.causal = causal\n",
    "        self.use_scale = use_scale\n",
    "        super().__init__(**kwargs)\n",
    "    def build(self, batch_input_shape):\n",
    "        self.dims = batch_input_shape[0][-1]\n",
    "        self.q_dims, self.v_dims, self.k_dims = [self.dims // self.n_heads] * 3 # could be hyperparameters instead\n",
    "        self.q_linear = keras.layers.Conv1D(self.n_heads * self.q_dims, kernel_size=1, use_bias=False)\n",
    "        self.v_linear = keras.layers.Conv1D(self.n_heads * self.v_dims, kernel_size=1, use_bias=False)\n",
    "        self.k_linear = keras.layers.Conv1D(self.n_heads * self.k_dims, kernel_size=1, use_bias=False)\n",
    "        self.attention = keras.layers.Attention(causal=self.causal, use_scale=self.use_scale)\n",
    "        self.out_linear = keras.layers.Conv1D(self.dims, kernel_size=1, use_bias=False)\n",
    "        super().build(batch_input_shape)\n",
    "    def _multi_head_linear(self, inputs, linear):\n",
    "        shape = K.concatenate([K.shape(inputs)[:-1], [self.n_heads, -1]])\n",
    "        projected = K.reshape(linear(inputs), shape)\n",
    "        perm = K.permute_dimensions(projected, [0, 2, 1, 3])\n",
    "        return K.reshape(perm, [shape[0] * self.n_heads, shape[1], -1])\n",
    "    def call(self, inputs):\n",
    "        q = inputs[0]\n",
    "        v = inputs[1]\n",
    "        k = inputs[2] if len(inputs) > 2 else v\n",
    "        shape = K.shape(q)\n",
    "        q_proj = self._multi_head_linear(q, self.q_linear)\n",
    "        v_proj = self._multi_head_linear(v, self.v_linear)\n",
    "        k_proj = self._multi_head_linear(k, self.k_linear)\n",
    "        multi_attended = self.attention([q_proj, v_proj, k_proj])\n",
    "        shape_attended = K.shape(multi_attended)\n",
    "        reshaped_attended = K.reshape(multi_attended, [shape[0], self.n_heads, shape_attended[1], shape_attended[2]])\n",
    "        perm = K.permute_dimensions(reshaped_attended, [0, 2, 1, 3])\n",
    "        concat = K.reshape(perm, [shape[0], shape_attended[1], -1])\n",
    "        return self.out_linear(concat)"
   ]
  },
  {
   "cell_type": "code",
   "execution_count": 88,
   "id": "7f55b678",
   "metadata": {},
   "outputs": [
    {
     "data": {
      "text/plain": [
       "TensorShape([2, 50, 512])"
      ]
     },
     "execution_count": 88,
     "metadata": {},
     "output_type": "execute_result"
    }
   ],
   "source": [
    "Q = np.random.rand(2, 50, 512)\n",
    "V = np.random.rand(2, 80, 512)\n",
    "multi_attn = MultiHeadAttention(8)\n",
    "multi_attn([Q, V]).shape"
   ]
  },
  {
   "cell_type": "markdown",
   "id": "6b1c6b96",
   "metadata": {},
   "source": [
    "# End of Chapter Exercises"
   ]
  },
  {
   "cell_type": "markdown",
   "id": "9ac5ca3e",
   "metadata": {},
   "source": [
    "1. What are the pros and cons of using a stateful RNN versus a stateless RNN?\n",
    "2. Why do people use Encoder–Decoder RNNs rather than plain sequence-tosequence RNNs for automatic translation?\n",
    "3. How can you deal with variable-length input sequences? What about variablelength output sequences?\n",
    "4. What is beam search and why would you use it? What tool can you use to imple‐\n",
    "ment it?\n",
    "5. What is an attention mechanism? How does it help?\n",
    "6. What is the most important layer in the Transformer architecture? What is its\n",
    "purpose?\n",
    "7. When would you need to use sampled softmax?\n",
    "8. Embedded Reber grammars were used by Hochreiter and Schmidhuber in their\n",
    "paper about LSTMs. They are artificial grammars that produce strings such as\n",
    "“BPBTSXXVPSEPE.” Check out Jenny Orr’s nice introduction to this topic.\n",
    "Choose a particular embedded Reber grammar (such as the one represented on\n",
    "Jenny Orr’s page), then train an RNN to identify whether a string respects that\n",
    "grammar or not. You will first need to write a function capable of generating a\n",
    "training batch containing about 50% strings that respect the grammar, and 50%\n",
    "that don’t.\n",
    "9. Train an Encoder–Decoder model that can convert a date string from one format\n",
    "to another (e.g., from “April 22, 2019” to “2019-04-22”).\n",
    "10. Go through TensorFlow’s Neural Machine Translation with Attention tutorial.\n",
    "11. Use one of the recent language models (e.g., BERT) to generate more convincing\n",
    "Shakespearean text."
   ]
  },
  {
   "cell_type": "markdown",
   "id": "041c8c4a",
   "metadata": {},
   "source": [
    "***1. What are the pros and cons of using a stateful RNN versus a stateless RNN?***\n",
    "A: \n",
    "\n",
    "Stateful Pros:\n",
    "- Can capture longer-term patterns where stateless can only capture pattern equal to or less than the size of the windows in the RNN.\n",
    "\n",
    "Cons:\n",
    "- Harder to implement, especially when preparing the dataset\n",
    "- Not always the better solution because batches are not independent or identically distributed.\n",
    "\n",
    "***2. Why do people use Encoder–Decoder RNNs rather than plain sequence-to-sequence RNNs for automatic translation?***\n",
    "A: Encoder-Decoder RNNs are great for language translation because it reads the entire sentence and then translates it, as opposed to one word at a time with trying to match sequences. Especially in different language, one word may be 2 consecutive words in another language or more. \n",
    "\n",
    "***3. How can you deal with variable-length input sequences? What about variable-length output sequences?***\n",
    "A: To deal with the variability in inputs, one can pad the shorter sequences so that all sequences are of equal length. But then the RNN would see the padding which is a problem. To avoid this, we can then use masking to ignore the padding token. For variable-length outputs, it depends if you know the output sequence. If you do, simply set it so that the loss function ignores tokens after the end of the sentence (Ex. after `<EOS>`). If not, the ideal situation would be to simply have the model output an end-of-sentence token after each sentence.\n",
    "\n",
    "***4. What is beam search and why would you use it? What tool can you use to imple‐\n",
    "ment it?***\n",
    "A: Beam Search is an algorithm where it keeps a running list of the *k* most prominent output setences and at each decoder step in an Encoder-Decoder model, it tries to extend the sentence by one word and keeps the most likely of sentences. This is good for accuracy for sentence translation. This can be implemented in Tensorflow\n",
    "\n",
    "\n",
    "***5. What is an attention mechanism? How does it help?***\n",
    "A: An attention mechanism is a technique that can be used in Encoder-Decoder models that helps with longer input sequences. It uses an alignment model to output an alignment score for each decoder step input time step. This helps identify which part of the input is most relevant in the current decoder time step. The weighted sum of the output is fed to the decoder to produce to next decoder step. It helps specifically with longer input sequences getting processed in the model.\n",
    "\n",
    "***6. What is the most important layer in the Transformer architecture? What is its\n",
    "purpose?***\n",
    "A:\n",
    "The most important is the Multi-Head Attention Layer. It's purpose is to find the appropriate word mappings and the find words that are most aligned with each other and the contextual clues associated with the words as well. \n",
    "\n",
    "***7. When would you need to use sampled softmax?***\n",
    "A: This would be ideal if there were thousands of classes in a classification model. "
   ]
  },
  {
   "cell_type": "code",
   "execution_count": null,
   "id": "47d28f96",
   "metadata": {},
   "outputs": [],
   "source": [
    "# Question #8\n",
    "'''8. Embedded Reber grammars were used by Hochreiter and Schmidhuber in their\n",
    "paper about LSTMs. They are artificial grammars that produce strings such as\n",
    "“BPBTSXXVPSEPE.” Check out Jenny Orr’s nice introduction to this topic.\n",
    "Choose a particular embedded Reber grammar (such as the one represented on\n",
    "Jenny Orr’s page), then train an RNN to identify whether a string respects that\n",
    "grammar or not. You will first need to write a function capable of generating a\n",
    "training batch containing about 50% strings that respect the grammar, and 50%\n",
    "that don’t.'''"
   ]
  },
  {
   "attachments": {
    "reber.gif": {
     "image/gif": "[encoded data removed]"
    }
   },
   "cell_type": "markdown",
   "id": "bf90b433",
   "metadata": {},
   "source": [
    "An example of a string generator in the form of Reber Grammar is the following:\n",
    "![reber.gif](attachment:reber.gif)"
   ]
  },
  {
   "attachments": {
    "embreber.gif": {
     "image/gif": "[encoded data removed]"
    }
   },
   "cell_type": "markdown",
   "id": "ddb4aa91",
   "metadata": {},
   "source": [
    "And then on top of that, you could have an embedded reber grammar example:\n",
    "![embreber.gif](attachment:embreber.gif)"
   ]
  },
  {
   "cell_type": "markdown",
   "id": "d7734646",
   "metadata": {},
   "source": [
    "In these string generators, a string that would be considered \"reber\" is one that conforms to the pattern here up until the final letter. One example is starting at B, then moving to T, then S, Then S again, then X, then S, Then E Or BTSSXSE. One that is not reber would be something like BTSSXPSE because P can only be accessed from V. So from that, we can create an array with our mapping for both a regular reber grammar expression and an embedded reber grammar expression."
   ]
  },
  {
   "cell_type": "code",
   "execution_count": 23,
   "id": "52f5547f",
   "metadata": {},
   "outputs": [],
   "source": [
    "reber_grammar = [\n",
    "    [(\"B\", 1)] ,    # State 0 -> 1\n",
    "    [(\"T\", 2), (\"P\", 3)], # State 1 -> State 2 (T) or State 3 (P)\n",
    "    [(\"S\", 2), (\"X\", 4)], # State 2 -> State 2 (S Looped) or State 4 (X)\n",
    "    [(\"T\", 3), (\"V\", 5)], # State 3 -> State 3 (T Looped) or State 5 (V)\n",
    "    [(\"X\", 3), (\"S\", 6)], # State 4 -> State 3 (Diagonal X) or State 6 (S)\n",
    "    [(\"P\", 4), (\"V\", 6)], # State 5 -> State 4 (Vertical P) or State 6 (V)\n",
    "    [(\"E\", None)]] # State 6 -> End terminal state (E)\n",
    "\n",
    "# Embedded is same exercise as above code but for embedded example\n",
    "embedded_reber_grammar = [\n",
    "    [(\"B\", 1)],\n",
    "    [(\"T\", 2), (\"P\", 3)],\n",
    "    [(reber_grammar, 4)],\n",
    "    [(reber_grammar, 5)],\n",
    "    [(\"T\", 6)],\n",
    "    [(\"P\", 6)],\n",
    "    [(\"E\", None)]]"
   ]
  },
  {
   "cell_type": "code",
   "execution_count": 24,
   "id": "1a5c7541",
   "metadata": {},
   "outputs": [],
   "source": [
    "import numpy as np\n",
    "def generate_string(grammar):\n",
    "    state = 0\n",
    "    output = []\n",
    "    while state is not None:\n",
    "        index = np.random.randint(len(grammar[state]))\n",
    "        letter, state = grammar[state][index]\n",
    "        if isinstance(letter, list):\n",
    "            letter = generate_string(grammar=letter)\n",
    "        output.append(letter)\n",
    "    return \"\".join(output)"
   ]
  },
  {
   "cell_type": "code",
   "execution_count": 25,
   "id": "78816da8",
   "metadata": {},
   "outputs": [
    {
     "name": "stdout",
     "output_type": "stream",
     "text": [
      "BPTTTTTTVPXTVPXVPXTTTVVE BPTTTVPXVPSE BPVPXTTTTTVPSE BTSSXSE BPVPSE BTSXSE BPVVE BPVVE BTXSE BTXXTVPXTTVPSE BTSSSXSE BTSXXTTVVE BPTTVVE BPVPSE BTXXVVE "
     ]
    }
   ],
   "source": [
    "# default reber\n",
    "for i in range(15):\n",
    "    print(generate_string(reber_grammar), end=\" \")"
   ]
  },
  {
   "cell_type": "code",
   "execution_count": 26,
   "id": "3b824844",
   "metadata": {},
   "outputs": [
    {
     "name": "stdout",
     "output_type": "stream",
     "text": [
      "BPBPTVPXTTVPXTVVEPE BPBPTTVPXTVVEPE BTBPVVETE BPBPTVPXVPXTVVEPE BTBPVVETE BPBTSXSEPE BTBTXXVVETE BTBTXSETE BTBPTVPXTVVETE BTBPTTVVETE BTBPVPXVPXVPXVVETE BTBTXSETE BPBPTVVEPE BTBPTVVETE BPBTSXXTTTTTVVEPE "
     ]
    }
   ],
   "source": [
    "# embedded reber example\n",
    "for j in range(15):\n",
    "    print(generate_string(embedded_reber_grammar), end=\" \")"
   ]
  },
  {
   "cell_type": "code",
   "execution_count": 27,
   "id": "72ac3b84",
   "metadata": {},
   "outputs": [],
   "source": [
    "# Now to list all letters in Reber Grammar Problem and a function that alters 1 letter in group\n",
    "\n",
    "chars_in_reber = \"BEPSTVX\"\n",
    "\n",
    "def alter_string(grammar, chars=chars_in_reber):\n",
    "    normal_string = generate_string(grammar)\n",
    "    index = np.random.randint(len(normal_string))\n",
    "    normal_char = normal_string[index]\n",
    "    swapped_char = np.random.choice(sorted(set(chars) - set(normal_char)))\n",
    "    return normal_string[:index] + swapped_char + normal_string[index + 1:]"
   ]
  },
  {
   "cell_type": "code",
   "execution_count": 29,
   "id": "2b916176",
   "metadata": {},
   "outputs": [
    {
     "name": "stdout",
     "output_type": "stream",
     "text": [
      "BTBPVVEBE BPBPTSVVEPE BPBTXSEPS BEBTXSETE XPBTXXTVPSEPE BTBPVVEPE BTXPTVVETE BTBPVXETE BVBTXSETE BPTTXXVPXVPSEPE BTBPXVPSETE STBPTTVPXVPXTVPSETE BPBPTVPSESE BPBPVEEPE ETBTXSETE BTBTXSVTE BPBTXXVPSEPP BTBTXXVPSETS BXBTXSETE BTBTXXVPSPTE BPBTXXEPE BTBPTTVPSETT BTBXXSETE BSBTSXSETE BPBPTTEPXVVEPE "
     ]
    }
   ],
   "source": [
    "# altered strings example\n",
    "for i in range(25):\n",
    "    print(alter_string(embedded_reber_grammar), end=\" \")"
   ]
  },
  {
   "cell_type": "code",
   "execution_count": 30,
   "id": "0ef6eca1",
   "metadata": {},
   "outputs": [],
   "source": [
    "# Now to encode letters as embeddings\n",
    "def strings_to_ids(s, chars=chars_in_reber):\n",
    "    return [chars.index(c) for c in s]"
   ]
  },
  {
   "cell_type": "code",
   "execution_count": 34,
   "id": "d2314219",
   "metadata": {},
   "outputs": [
    {
     "data": {
      "text/plain": [
       "[0, 3, 4, 1, 4, 1, 2, 3, 3, 4, 1, 2, 0]"
      ]
     },
     "execution_count": 34,
     "metadata": {},
     "output_type": "execute_result"
    }
   ],
   "source": [
    "strings_to_ids(\"BSTETEPSSTEPB\")"
   ]
  },
  {
   "cell_type": "code",
   "execution_count": 40,
   "id": "fbb7eef4",
   "metadata": {},
   "outputs": [],
   "source": [
    "import tensorflow as tf\n",
    "def gen_dataset(size):\n",
    "    normal_strings = [strings_to_ids(generate_string(embedded_reber_grammar)) for i in range(size // 2)]\n",
    "    altered_strings = [strings_to_ids(alter_string(embedded_reber_grammar)) for i in range(size- size // 2)]\n",
    "    all_strings = normal_strings + altered_strings\n",
    "    X = tf.ragged.constant(all_strings, ragged_rank=1)\n",
    "    y = np.array([[1.] for i in range(len(normal_strings))] +\n",
    "                [[0.] for i in range(len(altered_strings))])\n",
    "    return X,y"
   ]
  },
  {
   "cell_type": "code",
   "execution_count": 41,
   "id": "f3b5bbdb",
   "metadata": {},
   "outputs": [],
   "source": [
    "X_train, y_train = gen_dataset(20000)\n",
    "X_valid, y_valid = gen_dataset(4000)"
   ]
  },
  {
   "cell_type": "code",
   "execution_count": 42,
   "id": "18682cc9",
   "metadata": {},
   "outputs": [
    {
     "data": {
      "text/plain": [
       "<tf.Tensor: shape=(11,), dtype=int32, numpy=array([0, 2, 0, 2, 4, 5, 2, 3, 1, 2, 1])>"
      ]
     },
     "execution_count": 42,
     "metadata": {},
     "output_type": "execute_result"
    }
   ],
   "source": [
    "X_train[0]"
   ]
  },
  {
   "cell_type": "code",
   "execution_count": 43,
   "id": "36687a5d",
   "metadata": {},
   "outputs": [
    {
     "data": {
      "text/plain": [
       "array([1.])"
      ]
     },
     "execution_count": 43,
     "metadata": {},
     "output_type": "execute_result"
    }
   ],
   "source": [
    "y_train[0]"
   ]
  },
  {
   "cell_type": "markdown",
   "id": "648dd7b7",
   "metadata": {},
   "source": [
    "The above means that it is mapped to a normal string for our Reber Grammar strings."
   ]
  },
  {
   "cell_type": "code",
   "execution_count": 54,
   "id": "a8ae2df3",
   "metadata": {},
   "outputs": [
    {
     "name": "stdout",
     "output_type": "stream",
     "text": [
      "Epoch 1/25\n"
     ]
    },
    {
     "name": "stderr",
     "output_type": "stream",
     "text": [
      "D:\\Anaconda\\envs\\tf-gpu\\lib\\site-packages\\tensorflow\\python\\framework\\indexed_slices.py:447: UserWarning: Converting sparse IndexedSlices(IndexedSlices(indices=Tensor(\"gradient_tape/sequential_10/gru_13/RaggedToTensor/boolean_mask_1/GatherV2:0\", shape=(None,), dtype=int32), values=Tensor(\"gradient_tape/sequential_10/gru_13/RaggedToTensor/boolean_mask/GatherV2:0\", shape=(None, 32), dtype=float32), dense_shape=Tensor(\"gradient_tape/sequential_10/gru_13/RaggedToTensor/Shape:0\", shape=(2,), dtype=int32))) to a dense Tensor of unknown shape. This may consume a large amount of memory.\n",
      "  warnings.warn(\n"
     ]
    },
    {
     "name": "stdout",
     "output_type": "stream",
     "text": [
      "625/625 [==============================] - 86s 137ms/step - loss: 0.6875 - accuracy: 0.5398 - val_loss: 0.6754 - val_accuracy: 0.5375\n",
      "Epoch 2/25\n",
      "625/625 [==============================] - 84s 135ms/step - loss: 0.6623 - accuracy: 0.5724 - val_loss: 0.6540 - val_accuracy: 0.6155\n",
      "Epoch 3/25\n",
      "625/625 [==============================] - 84s 135ms/step - loss: 0.6473 - accuracy: 0.5932 - val_loss: 0.6460 - val_accuracy: 0.6155\n",
      "Epoch 4/25\n",
      "625/625 [==============================] - 83s 132ms/step - loss: 0.6340 - accuracy: 0.6133 - val_loss: 0.6275 - val_accuracy: 0.6423\n",
      "Epoch 5/25\n",
      "625/625 [==============================] - 84s 134ms/step - loss: 0.6145 - accuracy: 0.6497 - val_loss: 0.5991 - val_accuracy: 0.6660\n",
      "Epoch 6/25\n",
      "625/625 [==============================] - 79s 126ms/step - loss: 0.5496 - accuracy: 0.7182 - val_loss: 0.4483 - val_accuracy: 0.8175\n",
      "Epoch 7/25\n",
      "625/625 [==============================] - 82s 132ms/step - loss: 0.3417 - accuracy: 0.8638 - val_loss: 0.1531 - val_accuracy: 0.9588\n",
      "Epoch 8/25\n",
      "625/625 [==============================] - 79s 127ms/step - loss: 0.1557 - accuracy: 0.9521 - val_loss: 0.1552 - val_accuracy: 0.9495\n",
      "Epoch 9/25\n",
      "625/625 [==============================] - 85s 137ms/step - loss: 0.0524 - accuracy: 0.9860 - val_loss: 0.0063 - val_accuracy: 1.0000\n",
      "Epoch 10/25\n",
      "625/625 [==============================] - 86s 138ms/step - loss: 0.0033 - accuracy: 1.0000 - val_loss: 0.0018 - val_accuracy: 1.0000\n",
      "Epoch 11/25\n",
      "625/625 [==============================] - 82s 131ms/step - loss: 0.0014 - accuracy: 1.0000 - val_loss: 0.0013 - val_accuracy: 1.0000\n",
      "Epoch 12/25\n",
      "625/625 [==============================] - 82s 131ms/step - loss: 9.3353e-04 - accuracy: 1.0000 - val_loss: 8.1090e-04 - val_accuracy: 1.0000\n",
      "Epoch 13/25\n",
      "625/625 [==============================] - 80s 127ms/step - loss: 6.9105e-04 - accuracy: 1.0000 - val_loss: 6.7120e-04 - val_accuracy: 1.0000\n",
      "Epoch 14/25\n",
      "625/625 [==============================] - 80s 127ms/step - loss: 5.4647e-04 - accuracy: 1.0000 - val_loss: 5.3964e-04 - val_accuracy: 1.0000\n",
      "Epoch 15/25\n",
      "625/625 [==============================] - 72s 114ms/step - loss: 4.5042e-04 - accuracy: 1.0000 - val_loss: 4.2667e-04 - val_accuracy: 1.0000\n",
      "Epoch 16/25\n",
      "625/625 [==============================] - 76s 121ms/step - loss: 3.8120e-04 - accuracy: 1.0000 - val_loss: 3.7125e-04 - val_accuracy: 1.0000\n",
      "Epoch 17/25\n",
      "625/625 [==============================] - 77s 123ms/step - loss: 3.3025e-04 - accuracy: 1.0000 - val_loss: 3.2227e-04 - val_accuracy: 1.0000\n",
      "Epoch 18/25\n",
      "625/625 [==============================] - 79s 127ms/step - loss: 2.8996e-04 - accuracy: 1.0000 - val_loss: 3.0789e-04 - val_accuracy: 1.0000\n",
      "Epoch 19/25\n",
      "625/625 [==============================] - 76s 122ms/step - loss: 2.5897e-04 - accuracy: 1.0000 - val_loss: 2.5779e-04 - val_accuracy: 1.0000\n",
      "Epoch 20/25\n",
      "625/625 [==============================] - 82s 131ms/step - loss: 2.3252e-04 - accuracy: 1.0000 - val_loss: 2.3330e-04 - val_accuracy: 1.0000\n",
      "Epoch 21/25\n",
      "625/625 [==============================] - 80s 128ms/step - loss: 2.1090e-04 - accuracy: 1.0000 - val_loss: 2.1117e-04 - val_accuracy: 1.0000\n",
      "Epoch 22/25\n",
      "625/625 [==============================] - 81s 130ms/step - loss: 1.9320e-04 - accuracy: 1.0000 - val_loss: 1.9453e-04 - val_accuracy: 1.0000\n",
      "Epoch 23/25\n",
      "625/625 [==============================] - 79s 126ms/step - loss: 1.7797e-04 - accuracy: 1.0000 - val_loss: 1.7889e-04 - val_accuracy: 1.0000\n",
      "Epoch 24/25\n",
      "625/625 [==============================] - 79s 127ms/step - loss: 1.6470e-04 - accuracy: 1.0000 - val_loss: 1.6587e-04 - val_accuracy: 1.0000\n",
      "Epoch 25/25\n",
      "625/625 [==============================] - 79s 126ms/step - loss: 1.5321e-04 - accuracy: 1.0000 - val_loss: 1.5599e-04 - val_accuracy: 1.0000\n"
     ]
    }
   ],
   "source": [
    "from tensorflow import keras\n",
    "embedding_size = 32\n",
    "\n",
    "model = keras.models.Sequential([\n",
    "    keras.layers.InputLayer(input_shape=[None], dtype=tf.int32, ragged=True),\n",
    "    keras.layers.Embedding(input_dim=len(chars_in_reber), output_dim=embedding_size),\n",
    "    keras.layers.GRU(50),\n",
    "    keras.layers.Dense(1, activation=\"sigmoid\")\n",
    "])\n",
    "optimizer = keras.optimizers.SGD(learning_rate=0.01, momentum=0.93, nesterov=True)\n",
    "model.compile(loss=\"binary_crossentropy\", optimizer=optimizer, metrics=[\"accuracy\"])\n",
    "history = model.fit(X_train, y_train, epochs=25, validation_data=(X_valid, y_valid))"
   ]
  },
  {
   "cell_type": "code",
   "execution_count": 56,
   "id": "a17c1b6c",
   "metadata": {},
   "outputs": [
    {
     "name": "stdout",
     "output_type": "stream",
     "text": [
      "\n",
      "Estimated probability that these are Reber strings:\n",
      "BPBTSSSSSSSXXTTVPXVPXTTTTTVVETE: 0.06%\n",
      "BPBTSSSSSSSXXTTVPXVPXTTTTTVVEPE: 99.98%\n"
     ]
    }
   ],
   "source": [
    "test_strings = [\"BPBTSSSSSSSXXTTVPXVPXTTTTTVVETE\",\n",
    "                \"BPBTSSSSSSSXXTTVPXVPXTTTTTVVEPE\"]\n",
    "X_test = tf.ragged.constant([strings_to_ids(s) for s in test_strings], ragged_rank=1)\n",
    "\n",
    "y_proba = model.predict(X_test)\n",
    "print()\n",
    "print(\"Estimated probability that these are Reber strings:\")\n",
    "for index, string in enumerate(test_strings):\n",
    "    print(\"{}: {:.2f}%\".format(string, 100 * y_proba[index][0]))"
   ]
  },
  {
   "cell_type": "code",
   "execution_count": null,
   "id": "3224216d",
   "metadata": {},
   "outputs": [],
   "source": [
    "# Question 9\n",
    "'''9. Train an Encoder–Decoder model that can convert a date string from one format\n",
    "to another (e.g., from “April 22, 2019” to “2019-04-22”).'''"
   ]
  },
  {
   "cell_type": "code",
   "execution_count": 4,
   "id": "7047080e",
   "metadata": {},
   "outputs": [],
   "source": [
    "from datetime import date\n",
    "\n",
    "# Set months in list \n",
    "Months =  [\"January\", \"February\", \"March\", \"April\", \"May\", \"June\",\n",
    "          \"July\", \"August\", \"September\", \"October\", \"November\", \"December\"]\n",
    "\n",
    "def make_random_date(date_n):\n",
    "    min_date = date(1000, 1, 1).toordinal()\n",
    "    max_date = date(9999, 12, 31).toordinal()\n",
    "    \n",
    "    ordinals = np.random.randint(max_date - min_date, size=date_n) + min_date\n",
    "    dates = [date.fromordinal(ordinal) for ordinal in ordinals]\n",
    "    \n",
    "    X = [Months[dat.month - 1] + \" \" + dat.strftime(\"%d, %Y\") for dat in dates]\n",
    "    y = [dat.isoformat() for dat in dates]\n",
    "    return X, y"
   ]
  },
  {
   "cell_type": "code",
   "execution_count": 5,
   "id": "21d85803",
   "metadata": {},
   "outputs": [
    {
     "name": "stdout",
     "output_type": "stream",
     "text": [
      "Input                    Target                   \n",
      "--------------------------------------------------\n",
      "July 06, 9334            9334-07-06               \n",
      "August 20, 7104          7104-08-20               \n",
      "December 16, 3659        3659-12-16               \n"
     ]
    }
   ],
   "source": [
    "# random example dates\n",
    "\n",
    "num = 3\n",
    "X_examples, y_examples = make_random_date(num)\n",
    "print(\"{:25s}{:25s}\".format(\"Input\",\"Target\"))\n",
    "print(\"-\" * 50)\n",
    "for i in range(num):\n",
    "    print(\"{:25s}{:25s}\".format(X_examples[i], y_examples[i]))\n"
   ]
  },
  {
   "cell_type": "markdown",
   "id": "7848559a",
   "metadata": {},
   "source": [
    "Now that we see it is working, let's grab all possible character for inputs that our model may recieve:"
   ]
  },
  {
   "cell_type": "code",
   "execution_count": 7,
   "id": "36eaeaa9",
   "metadata": {},
   "outputs": [
    {
     "data": {
      "text/plain": [
       "' ,0123456789ADFJMNOSabceghilmnoprstuvy'"
      ]
     },
     "execution_count": 7,
     "metadata": {},
     "output_type": "execute_result"
    }
   ],
   "source": [
    "inputs = \"\".join(sorted(set(\"\".join(Months) + \"0123456789, \")))\n",
    "inputs"
   ]
  },
  {
   "cell_type": "code",
   "execution_count": 8,
   "id": "d6372953",
   "metadata": {},
   "outputs": [],
   "source": [
    "# Now for outputs\n",
    "outputs = \"0123456789-\""
   ]
  },
  {
   "cell_type": "code",
   "execution_count": 9,
   "id": "c4a250ee",
   "metadata": {},
   "outputs": [],
   "source": [
    "# Function to convert string to ids (embeddings)\n",
    "# Can reuse function used in #8 and change a bit\n",
    "def date_strings_to_ids(date_strings, chars=inputs):\n",
    "    return [chars.index(c) for c in date_strings]"
   ]
  },
  {
   "cell_type": "code",
   "execution_count": 11,
   "id": "c7e9b022",
   "metadata": {},
   "outputs": [
    {
     "data": {
      "text/plain": [
       "[15, 35, 27, 37, 0, 2, 8, 1, 0, 11, 5, 5, 6]"
      ]
     },
     "execution_count": 11,
     "metadata": {},
     "output_type": "execute_result"
    }
   ],
   "source": [
    "date_strings_to_ids(X_examples[0], inputs)"
   ]
  },
  {
   "cell_type": "code",
   "execution_count": 13,
   "id": "ef98a5ba",
   "metadata": {},
   "outputs": [
    {
     "data": {
      "text/plain": [
       "[9, 3, 3, 4, 10, 0, 7, 10, 0, 6]"
      ]
     },
     "execution_count": 13,
     "metadata": {},
     "output_type": "execute_result"
    }
   ],
   "source": [
    "date_strings_to_ids(y_examples[0], outputs)"
   ]
  },
  {
   "cell_type": "code",
   "execution_count": 14,
   "id": "de9a7848",
   "metadata": {},
   "outputs": [],
   "source": [
    "# similar functions to #8\n",
    "\n",
    "def prepare_dates(date_strs, chars=inputs):\n",
    "    X_s = [date_strings_to_ids(dat, chars) for dat in date_strs]\n",
    "    X = tf.ragged.constant(X_s, ragged_rank=1)\n",
    "    return (X + 1).to_tensor()\n",
    "\n",
    "def create_dataset(date_n):\n",
    "    X, y = make_random_date(date_n)\n",
    "    return prepare_dates(X, inputs), prepare_dates(y, outputs)"
   ]
  },
  {
   "cell_type": "code",
   "execution_count": 15,
   "id": "a5bd9de0",
   "metadata": {},
   "outputs": [],
   "source": [
    "X_train, Y_train = create_dataset(20000)\n",
    "X_valid, Y_valid = create_dataset(4000)\n",
    "X_test, Y_test = create_dataset(4000)"
   ]
  },
  {
   "cell_type": "code",
   "execution_count": 16,
   "id": "d63d7051",
   "metadata": {},
   "outputs": [
    {
     "data": {
      "text/plain": [
       "<tf.Tensor: shape=(10,), dtype=int32, numpy=array([ 4,  7,  9,  3, 11,  2,  3, 11,  2, 10])>"
      ]
     },
     "execution_count": 16,
     "metadata": {},
     "output_type": "execute_result"
    }
   ],
   "source": [
    "Y_train[1]"
   ]
  },
  {
   "cell_type": "markdown",
   "id": "5d8b2aa3",
   "metadata": {},
   "source": [
    "Time to build our sequence to sequence model now. We will use an LSTM model to assist where the input will go through an encoder which will give us a vector, then the input goes through a decoder with a sequence of probabilities in the form of vectors for each possible character output and then repeat each vector (which is our output by the encoder) for the longest possible output sequence. This means, it will repeat that vector for n times of the longest sequence:"
   ]
  },
  {
   "cell_type": "code",
   "execution_count": 21,
   "id": "af40dcd8",
   "metadata": {},
   "outputs": [
    {
     "name": "stdout",
     "output_type": "stream",
     "text": [
      "Epoch 1/20\n",
      "625/625 [==============================] - 23s 20ms/step - loss: 1.5692 - accuracy: 0.4349 - val_loss: 1.2158 - val_accuracy: 0.5669\n",
      "Epoch 2/20\n",
      "625/625 [==============================] - 10s 16ms/step - loss: 1.0360 - accuracy: 0.6305 - val_loss: 1.5119 - val_accuracy: 0.4891\n",
      "Epoch 3/20\n",
      "625/625 [==============================] - 9s 15ms/step - loss: 0.6856 - accuracy: 0.7368 - val_loss: 0.4644 - val_accuracy: 0.8112\n",
      "Epoch 4/20\n",
      "625/625 [==============================] - 9s 15ms/step - loss: 0.4344 - accuracy: 0.8321 - val_loss: 0.2599 - val_accuracy: 0.9074\n",
      "Epoch 5/20\n",
      "625/625 [==============================] - 11s 17ms/step - loss: 0.2995 - accuracy: 0.9119 - val_loss: 0.1673 - val_accuracy: 0.9596\n",
      "Epoch 6/20\n",
      "625/625 [==============================] - 10s 16ms/step - loss: 0.0941 - accuracy: 0.9822 - val_loss: 0.0411 - val_accuracy: 0.9961\n",
      "Epoch 7/20\n",
      "625/625 [==============================] - 10s 16ms/step - loss: 0.1078 - accuracy: 0.9750 - val_loss: 0.1017 - val_accuracy: 0.9846\n",
      "Epoch 8/20\n",
      "625/625 [==============================] - 10s 16ms/step - loss: 0.0321 - accuracy: 0.9980 - val_loss: 0.0150 - val_accuracy: 0.9992\n",
      "Epoch 9/20\n",
      "625/625 [==============================] - 10s 15ms/step - loss: 0.0086 - accuracy: 0.9999 - val_loss: 0.0060 - val_accuracy: 0.9999\n",
      "Epoch 10/20\n",
      "625/625 [==============================] - 10s 17ms/step - loss: 0.0043 - accuracy: 1.0000 - val_loss: 0.0034 - val_accuracy: 1.0000\n",
      "Epoch 11/20\n",
      "625/625 [==============================] - 11s 17ms/step - loss: 0.0025 - accuracy: 1.0000 - val_loss: 0.0021 - val_accuracy: 1.0000\n",
      "Epoch 12/20\n",
      "625/625 [==============================] - 10s 16ms/step - loss: 0.0016 - accuracy: 1.0000 - val_loss: 0.0014 - val_accuracy: 1.0000\n",
      "Epoch 13/20\n",
      "625/625 [==============================] - 10s 15ms/step - loss: 0.0010 - accuracy: 1.0000 - val_loss: 9.2742e-04 - val_accuracy: 1.0000\n",
      "Epoch 14/20\n",
      "625/625 [==============================] - 10s 16ms/step - loss: 7.0739e-04 - accuracy: 1.0000 - val_loss: 6.3757e-04 - val_accuracy: 1.0000\n",
      "Epoch 15/20\n",
      "625/625 [==============================] - 9s 15ms/step - loss: 4.8829e-04 - accuracy: 1.0000 - val_loss: 4.4096e-04 - val_accuracy: 1.0000\n",
      "Epoch 16/20\n",
      "625/625 [==============================] - 10s 15ms/step - loss: 3.3902e-04 - accuracy: 1.0000 - val_loss: 3.0819e-04 - val_accuracy: 1.0000\n",
      "Epoch 17/20\n",
      "625/625 [==============================] - 9s 14ms/step - loss: 2.3606e-04 - accuracy: 1.0000 - val_loss: 2.1564e-04 - val_accuracy: 1.0000\n",
      "Epoch 18/20\n",
      "625/625 [==============================] - 10s 15ms/step - loss: 1.6561e-04 - accuracy: 1.0000 - val_loss: 1.5187e-04 - val_accuracy: 1.0000\n",
      "Epoch 19/20\n",
      "625/625 [==============================] - 10s 15ms/step - loss: 0.0466 - accuracy: 0.9901 - val_loss: 0.0055 - val_accuracy: 0.9999\n",
      "Epoch 20/20\n",
      "625/625 [==============================] - 9s 14ms/step - loss: 0.0024 - accuracy: 1.0000 - val_loss: 0.0013 - val_accuracy: 1.0000\n"
     ]
    }
   ],
   "source": [
    "embedding_size = 32\n",
    "output_length = Y_train.shape[1]\n",
    "\n",
    "model_encoder = keras.models.Sequential([\n",
    "    keras.layers.Embedding(input_dim=len(inputs) + 1,\n",
    "                           output_dim = embedding_size,\n",
    "                           input_shape=[None]),\n",
    "    keras.layers.LSTM(128)\n",
    "])\n",
    "\n",
    "model_decoder = keras.models.Sequential([\n",
    "    keras.layers.LSTM(128, return_sequences=True),\n",
    "    keras.layers.Dense(len(outputs) + 1, activation=\"softmax\")\n",
    "])\n",
    "\n",
    "model = keras.models.Sequential([\n",
    "    model_encoder,\n",
    "    keras.layers.RepeatVector(output_length),\n",
    "    model_decoder\n",
    "])\n",
    "\n",
    "optimizer = keras.optimizers.Nadam()\n",
    "model.compile(loss=\"sparse_categorical_crossentropy\", optimizer=optimizer,\n",
    "             metrics=[\"accuracy\"])\n",
    "history = model.fit(X_train, Y_train, epochs=20,\n",
    "                    validation_data=(X_valid, Y_valid))"
   ]
  },
  {
   "cell_type": "code",
   "execution_count": 36,
   "id": "999a8529",
   "metadata": {},
   "outputs": [],
   "source": [
    "X_new = prepare_dates([\"September 30, 2019\", \"April 6, 1995\", \"May 28, 2016\", \"November 11, 2002\"])"
   ]
  },
  {
   "cell_type": "code",
   "execution_count": 37,
   "id": "fbe6057d",
   "metadata": {},
   "outputs": [],
   "source": [
    "def ids_to_date_strings(ids, chars=outputs):\n",
    "    return [\"\".join([(\"$\" + chars)[index] for index in sequence]) # use dollar sign as random character to replace spaces\n",
    "            for sequence in ids]"
   ]
  },
  {
   "cell_type": "code",
   "execution_count": 38,
   "id": "b19483ba",
   "metadata": {},
   "outputs": [
    {
     "name": "stdout",
     "output_type": "stream",
     "text": [
      "2019-09-30\n",
      "1955-04-16\n",
      "2016-05-28\n",
      "2002-11-11\n"
     ]
    }
   ],
   "source": [
    "ids = np.argmax(model.predict(X_new), axis=-1)\n",
    "for dates in ids_to_date_strings(ids):\n",
    "    print(dates)"
   ]
  },
  {
   "cell_type": "markdown",
   "id": "6b7d2aab",
   "metadata": {},
   "source": [
    "Looks like the model has difficulties with shorter input strings such as \"April 6, 1995\" because the longest length date was of size 18. So we must create a new function to assist:"
   ]
  },
  {
   "cell_type": "code",
   "execution_count": 45,
   "id": "fb42b9d3",
   "metadata": {},
   "outputs": [],
   "source": [
    "max_input_shape = X_train.shape[1]\n",
    "\n",
    "def padded_dates(dates):\n",
    "    X = prepare_dates(dates)\n",
    "    if max_input_shape > X.shape[1]:\n",
    "        X = tf.pad(X, [[0, 0], [0, max_input_shape - X.shape[1]]])\n",
    "    return X\n",
    "\n",
    "def convert_date_strs(dates):\n",
    "    X = padded_dates(dates)\n",
    "    ids = np.argmax(model.predict(X), axis=-1)\n",
    "    return ids_to_date_strings(ids)"
   ]
  },
  {
   "cell_type": "code",
   "execution_count": 46,
   "id": "0fc77b27",
   "metadata": {},
   "outputs": [
    {
     "data": {
      "text/plain": [
       "['1955-04-16', '1956-07-27']"
      ]
     },
     "execution_count": 46,
     "metadata": {},
     "output_type": "execute_result"
    }
   ],
   "source": [
    "convert_date_strs([\"April 6, 1995\", \"July 27, 1956\"])"
   ]
  },
  {
   "cell_type": "code",
   "execution_count": 1,
   "id": "cd91556c",
   "metadata": {},
   "outputs": [],
   "source": [
    "# Question 10\n",
    "'''10. Go through TensorFlow’s Neural Machine Translation with Attention tutorial.'''"
   ]
  },
  {
   "cell_type": "markdown",
   "id": "e97284fa",
   "metadata": {},
   "source": [
    "The following example is a notebook by Tensorflow where the goal is to train a sequence to sequence (seq2seq) model for Spanish to English Translation."
   ]
  },
  {
   "cell_type": "code",
   "execution_count": 3,
   "id": "63140574",
   "metadata": {},
   "outputs": [],
   "source": [
    "#pip install \"tensorflow-text==2.8.*\""
   ]
  },
  {
   "cell_type": "code",
   "execution_count": 1,
   "id": "d514d9b2",
   "metadata": {},
   "outputs": [],
   "source": [
    "import warnings\n",
    "warnings.filterwarnings(\"ignore\")\n",
    "import tensorflow as tf\n",
    "import typing\n",
    "from typing import Any, Tuple\n",
    "import tensorflow_text as tf_text\n",
    "import matplotlib.pyplot as plt\n",
    "import matplotlib.ticker as ticker\n",
    "import numpy as np\n",
    "use_builtins = True"
   ]
  },
  {
   "cell_type": "code",
   "execution_count": 2,
   "id": "009fe596",
   "metadata": {},
   "outputs": [],
   "source": [
    "class ShapeChecker():\n",
    "    def __init__(self):\n",
    "        # Keep a cache of every axis-name seen\n",
    "        self.shapes = {}\n",
    "\n",
    "    def __call__(self, tensor, names, broadcast=False):\n",
    "        if not tf.executing_eagerly():\n",
    "            return\n",
    "\n",
    "        if isinstance(names, str):\n",
    "            names = (names,)\n",
    "\n",
    "        shape = tf.shape(tensor)\n",
    "        rank = tf.rank(tensor)\n",
    "\n",
    "        if rank != len(names):\n",
    "            raise ValueError(f'Rank mismatch:\\n'\n",
    "                             f'    found {rank}: {shape.numpy()}\\n'\n",
    "                             f'    expected {len(names)}: {names}\\n')\n",
    "\n",
    "        for i, name in enumerate(names):\n",
    "            if isinstance(name, int):\n",
    "                old_dim = name\n",
    "            else:\n",
    "                old_dim = self.shapes.get(name, None)\n",
    "            new_dim = shape[i]\n",
    "\n",
    "            if (broadcast and new_dim == 1):\n",
    "                continue\n",
    "\n",
    "            if old_dim is None:\n",
    "                # If the axis name is new, add its length to the cache.\n",
    "                self.shapes[name] = new_dim\n",
    "                continue\n",
    "\n",
    "            if new_dim != old_dim:\n",
    "                raise ValueError(f\"Shape mismatch for dimension: '{name}'\\n\"\n",
    "                                 f\"    found: {new_dim}\\n\"\n",
    "                                 f\"    expected: {old_dim}\\n\")"
   ]
  },
  {
   "cell_type": "markdown",
   "id": "44979fe4",
   "metadata": {},
   "source": [
    "## The dataset"
   ]
  },
  {
   "cell_type": "markdown",
   "id": "bfbf66d1",
   "metadata": {},
   "source": [
    "We are using a dataset from http://www.manythings.org/anki/ with language translation pairs in english and spanish"
   ]
  },
  {
   "cell_type": "code",
   "execution_count": 3,
   "id": "ba3f7e5d",
   "metadata": {},
   "outputs": [],
   "source": [
    "import pathlib\n",
    "\n",
    "path_to_zip = tf.keras.utils.get_file(\n",
    "    'spa-eng.zip', origin='http://storage.googleapis.com/download.tensorflow.org/data/spa-eng.zip',\n",
    "    extract=True)\n",
    "\n",
    "path_to_file = pathlib.Path(path_to_zip).parent/'spa-eng/spa.txt'"
   ]
  },
  {
   "cell_type": "code",
   "execution_count": 4,
   "id": "0879c8fd",
   "metadata": {},
   "outputs": [],
   "source": [
    "# fucntion to load in the data\n",
    "def load_data(path):\n",
    "    text = path.read_text(encoding='utf-8')\n",
    "    \n",
    "    lines = text.splitlines()\n",
    "    pairs = [line.split('\\t') for line in lines]\n",
    "    \n",
    "    inp = [inp for targ, inp in pairs]\n",
    "    targ = [targ for targ, inp in pairs]\n",
    "    \n",
    "    return targ, inp"
   ]
  },
  {
   "cell_type": "code",
   "execution_count": 5,
   "id": "f7f068b1",
   "metadata": {},
   "outputs": [
    {
     "name": "stdout",
     "output_type": "stream",
     "text": [
      "Si quieres sonar como un hablante nativo, debes estar dispuesto a practicar diciendo la misma frase una y otra vez de la misma manera en que un músico de banjo practica el mismo fraseo una y otra vez hasta que lo puedan tocar correctamente y en el tiempo esperado.\n"
     ]
    }
   ],
   "source": [
    "targ, inp = load_data(path_to_file)\n",
    "print(inp[-1])"
   ]
  },
  {
   "cell_type": "code",
   "execution_count": 6,
   "id": "a051ea16",
   "metadata": {},
   "outputs": [
    {
     "name": "stdout",
     "output_type": "stream",
     "text": [
      "If you want to sound like a native speaker, you must be willing to practice saying the same sentence over and over in the same way that banjo players practice the same phrase over and over until they can play it correctly and at the desired tempo.\n"
     ]
    }
   ],
   "source": [
    "print(targ[-1])"
   ]
  },
  {
   "cell_type": "markdown",
   "id": "adb451bd",
   "metadata": {},
   "source": [
    "## Time to create a tf.data dataset from this in the form of tensor slices"
   ]
  },
  {
   "cell_type": "code",
   "execution_count": 7,
   "id": "f1dbec61",
   "metadata": {},
   "outputs": [],
   "source": [
    "BUFFER_SIZE = len(inp)\n",
    "BATCH_SIZE = 64\n",
    "\n",
    "dataset = tf.data.Dataset.from_tensor_slices((inp, targ)).shuffle(BUFFER_SIZE)\n",
    "dataset = dataset.batch(BATCH_SIZE)"
   ]
  },
  {
   "cell_type": "code",
   "execution_count": 8,
   "id": "d8dce0de",
   "metadata": {},
   "outputs": [
    {
     "name": "stdout",
     "output_type": "stream",
     "text": [
      "tf.Tensor(\n",
      "[b'\\xc2\\xbfT\\xc3\\xba crees que me tengo que ir?'\n",
      " b'Ella no reconoce que est\\xc3\\xa1 equivocada.'\n",
      " b'Respira de forma normal.' b'Odio la pol\\xc3\\xadtica.'\n",
      " b'Tom\\xc3\\xa1s parece estar frustrado.'], shape=(5,), dtype=string)\n",
      "\n",
      "tf.Tensor(\n",
      "[b'Do you think I need to go?' b\"She doesn't admit that she is wrong.\"\n",
      " b'Breathe normally.' b'I hate politics.' b'Tom looks frustrated.'], shape=(5,), dtype=string)\n"
     ]
    }
   ],
   "source": [
    "for example_input_batch, example_target_batch in dataset.take(1):\n",
    "    print(example_input_batch[:5])\n",
    "    print()\n",
    "    print(example_target_batch[:5])\n",
    "    break"
   ]
  },
  {
   "cell_type": "markdown",
   "id": "3a804599",
   "metadata": {},
   "source": [
    "## Standardization"
   ]
  },
  {
   "cell_type": "markdown",
   "id": "5677c553",
   "metadata": {},
   "source": [
    "For standardizing our multilingual text, we will split accented characters and replace compatibility characters with their ASCII equivalents."
   ]
  },
  {
   "cell_type": "code",
   "execution_count": 9,
   "id": "e94df56f",
   "metadata": {},
   "outputs": [
    {
     "name": "stdout",
     "output_type": "stream",
     "text": [
      "b'\\xc2\\xbfTodav\\xc3\\xada est\\xc3\\xa1 en casa?'\n",
      "b'\\xc2\\xbfTodavi\\xcc\\x81a esta\\xcc\\x81 en casa?'\n"
     ]
    }
   ],
   "source": [
    "example_text = tf.constant('¿Todavía está en casa?')\n",
    "\n",
    "print(example_text.numpy())\n",
    "print(tf_text.normalize_utf8(example_text, 'NFKD').numpy())"
   ]
  },
  {
   "cell_type": "code",
   "execution_count": 10,
   "id": "0f44044d",
   "metadata": {},
   "outputs": [],
   "source": [
    "# Function to automate process\n",
    "def tf_lower_and_split_punct(text):\n",
    "    # Split accecented characters.\n",
    "    text = tf_text.normalize_utf8(text, 'NFKD')\n",
    "    text = tf.strings.lower(text)\n",
    "    # Keep space, a to z, and select punctuation.\n",
    "    text = tf.strings.regex_replace(text, '[^ a-z.?!,¿]', '')\n",
    "    # Add extra spaces around punctuation.\n",
    "    text = tf.strings.regex_replace(text, '[.?!,¿]', r' \\0 ')\n",
    "    # Stripping out whitespace\n",
    "    text = tf.strings.strip(text)\n",
    "    \n",
    "    text = tf.strings.join(['[START]', text, '[END]'], separator=' ')\n",
    "    return text"
   ]
  },
  {
   "cell_type": "code",
   "execution_count": 11,
   "id": "61ebdc48",
   "metadata": {},
   "outputs": [
    {
     "name": "stdout",
     "output_type": "stream",
     "text": [
      "¿Todavía está en casa?\n",
      "[START] ¿ todavia esta en casa ? [END]\n"
     ]
    }
   ],
   "source": [
    "print(example_text.numpy().decode())\n",
    "print(tf_lower_and_split_punct(example_text).numpy().decode())"
   ]
  },
  {
   "cell_type": "markdown",
   "id": "bcd698dd",
   "metadata": {},
   "source": [
    "## Text Vectorization"
   ]
  },
  {
   "cell_type": "code",
   "execution_count": 12,
   "id": "6140d0d4",
   "metadata": {},
   "outputs": [],
   "source": [
    "# Wrap above function in tf.keras.layers.TextVectorization layer for vocab extractoin/conversion\n",
    "\n",
    "max_vocab_size = 5000\n",
    "\n",
    "input_text_processor = tf.keras.layers.TextVectorization(\n",
    "                    standardize=tf_lower_and_split_punct,\n",
    "                    max_tokens=max_vocab_size)"
   ]
  },
  {
   "cell_type": "markdown",
   "id": "0f2fcf53",
   "metadata": {},
   "source": [
    "The TextVectorization layer and many other preprocessing layers have an adapt method. This method reads one epoch of the training data, and works a lot like Model.fix. This adapt method initializes the layer based on the data. Here it determines the vocabulary:"
   ]
  },
  {
   "cell_type": "code",
   "execution_count": 13,
   "id": "98179b24",
   "metadata": {},
   "outputs": [
    {
     "data": {
      "text/plain": [
       "['', '[UNK]', '[START]', '[END]', '.', 'que', 'de', 'el', 'a', 'no']"
      ]
     },
     "execution_count": 13,
     "metadata": {},
     "output_type": "execute_result"
    }
   ],
   "source": [
    "input_text_processor.adapt(inp)\n",
    "\n",
    "# First ten words from vocab\n",
    "input_text_processor.get_vocabulary()[:10]"
   ]
  },
  {
   "cell_type": "code",
   "execution_count": 14,
   "id": "d759873c",
   "metadata": {},
   "outputs": [
    {
     "data": {
      "text/plain": [
       "['', '[UNK]', '[START]', '[END]', '.', 'the', 'i', 'to', 'you', 'tom']"
      ]
     },
     "execution_count": 14,
     "metadata": {},
     "output_type": "execute_result"
    }
   ],
   "source": [
    "output_text_processor = tf.keras.layers.TextVectorization(\n",
    "    standardize=tf_lower_and_split_punct,\n",
    "    max_tokens=max_vocab_size)\n",
    "\n",
    "output_text_processor.adapt(targ)\n",
    "output_text_processor.get_vocabulary()[:10]"
   ]
  },
  {
   "cell_type": "code",
   "execution_count": 15,
   "id": "4e9244de",
   "metadata": {},
   "outputs": [
    {
     "data": {
      "text/plain": [
       "<tf.Tensor: shape=(3, 10), dtype=int64, numpy=\n",
       "array([[   2,   13,   36,  317,    5,   18,   49,    5,   68,   12],\n",
       "       [   2,   29,    9,    1,    5,   20, 1914,    4,    3,    0],\n",
       "       [   2, 3703,    6,  556, 1208,    4,    3,    0,    0,    0]],\n",
       "      dtype=int64)>"
      ]
     },
     "execution_count": 15,
     "metadata": {},
     "output_type": "execute_result"
    }
   ],
   "source": [
    "# Now the layers can convert batch of strings into batch of token IDs\n",
    "\n",
    "example_tokens = input_text_processor(example_input_batch)\n",
    "example_tokens[:3, :10]"
   ]
  },
  {
   "cell_type": "code",
   "execution_count": 16,
   "id": "b12552ed",
   "metadata": {},
   "outputs": [
    {
     "data": {
      "text/plain": [
       "'[START] ¿ tu crees que me tengo que ir ? [END]       '"
      ]
     },
     "execution_count": 16,
     "metadata": {},
     "output_type": "execute_result"
    }
   ],
   "source": [
    "input_vocab = np.array(input_text_processor.get_vocabulary())\n",
    "tokens = input_vocab[example_tokens[0].numpy()] # convert tokens back to text\n",
    "' '.join(tokens)"
   ]
  },
  {
   "cell_type": "code",
   "execution_count": 17,
   "id": "d2544591",
   "metadata": {},
   "outputs": [
    {
     "data": {
      "text/plain": [
       "Text(0.5, 1.0, 'Mask')"
      ]
     },
     "execution_count": 17,
     "metadata": {},
     "output_type": "execute_result"
    },
    {
     "data": {
      "image/png": "[encoded data removed]",
      "text/plain": [
       "<Figure size 432x288 with 2 Axes>"
      ]
     },
     "metadata": {
      "needs_background": "light"
     },
     "output_type": "display_data"
    }
   ],
   "source": [
    "# Visualization\n",
    "\n",
    "plt.subplot(1, 2, 1)\n",
    "plt.pcolormesh(example_tokens)\n",
    "plt.title('Token IDs')\n",
    "\n",
    "plt.subplot(1, 2, 2)\n",
    "plt.pcolormesh(example_tokens != 0)\n",
    "plt.title(\"Mask\")"
   ]
  },
  {
   "cell_type": "markdown",
   "id": "4f080c78",
   "metadata": {},
   "source": [
    "## Encoder/Decoder Model"
   ]
  },
  {
   "attachments": {
    "Encoder_Decoder%20Model.jpg": {
     "image/jpeg": "[encoded data removed]"
    }
   },
   "cell_type": "markdown",
   "id": "cb621b9b",
   "metadata": {},
   "source": [
    "Overview of encoder/decoder model\n",
    "![Encoder_Decoder%20Model.jpg](attachment:Encoder_Decoder%20Model.jpg)\n"
   ]
  },
  {
   "cell_type": "code",
   "execution_count": 18,
   "id": "d49f9694",
   "metadata": {},
   "outputs": [],
   "source": [
    "# Model Constants\n",
    "\n",
    "embedding_dim = 256\n",
    "units = 1024"
   ]
  },
  {
   "cell_type": "markdown",
   "id": "22689cb4",
   "metadata": {},
   "source": [
    "## Building the Encoder"
   ]
  },
  {
   "cell_type": "markdown",
   "id": "54a02731",
   "metadata": {},
   "source": [
    "The encoder:\n",
    "\n",
    "1. Takes a list of token IDs (from input_text_processor)\n",
    "2. Looks up an embedding vector for each token (Using a layers.Embedding).\n",
    "3. Processes the embeddings into a new sequence (Using a layers.GRU())\n",
    "4. Returns:\n",
    "    - The processed sequences. This will be passed to the attention head.\n",
    "    - The internal state. This will be used to initialize the decoder."
   ]
  },
  {
   "cell_type": "code",
   "execution_count": 19,
   "id": "a4711519",
   "metadata": {},
   "outputs": [],
   "source": [
    "class Encoder(tf.keras.layers.Layer):\n",
    "    def __init__(self, input_vocab_size, embedding_dim, enc_units):\n",
    "        super(Encoder, self).__init__()\n",
    "        self.enc_units = enc_units\n",
    "        self.input_vocab_size = input_vocab_size\n",
    "        \n",
    "        # The embedding layer converts tokens to vectors\n",
    "        self.embedding = tf.keras.layers.Embedding(self.input_vocab_size, embedding_dim)\n",
    "        \n",
    "        # The GRU RNN Layer processes those vectors sequentially.\n",
    "        self.gru = tf.keras.layers.GRU(self.enc_units, \n",
    "                                      # Return the sequence and state\n",
    "                                      return_sequences=True,\n",
    "                                      return_state=True,\n",
    "                                      recurrent_initializer='glorot_uniform')\n",
    "    \n",
    "    def call(self, tokens, state=None):\n",
    "        shape_checker = ShapeChecker()\n",
    "        shape_checker(tokens, ('batch', 's'))\n",
    "        \n",
    "        # 2. THe embedding layer looks up the embedding for each token.\n",
    "        vectors = self.embedding(tokens)\n",
    "        shape_checker(vectors, ('batch', 's', 'embed_dim'))\n",
    "        \n",
    "        # 3. The GRU processes the embedding sequence. \n",
    "        #    output shape: (batch, s, enc_units)\n",
    "        #    state shape: (batch, enc_units)\n",
    "        output, state = self.gru(vectors, initial_state=state)\n",
    "        shape_checker(output, ('batch', 's', 'enc_units'))\n",
    "        shape_checker(state, ('batch', 'enc_units'))\n",
    "        \n",
    "        # 4. Returns the new sequence and its state.\n",
    "        return output, state"
   ]
  },
  {
   "cell_type": "code",
   "execution_count": 20,
   "id": "0996202b",
   "metadata": {},
   "outputs": [
    {
     "name": "stdout",
     "output_type": "stream",
     "text": [
      "Input batch, shape (batch): (64,)\n",
      "Input batch tokens, shape (batch, s): (64, 18)\n",
      "Encoder output, shape (batch, s, units): (64, 18, 1024)\n",
      "Encoder state, shape (batch, units): (64, 1024)\n"
     ]
    }
   ],
   "source": [
    "# Convert the input text to tokens.\n",
    "example_tokens = input_text_processor(example_input_batch)\n",
    "\n",
    "# Encode the input sequence.\n",
    "encoder = Encoder(input_text_processor.vocabulary_size(),\n",
    "                  embedding_dim, units)\n",
    "example_enc_output, example_enc_state = encoder(example_tokens)\n",
    "\n",
    "print(f'Input batch, shape (batch): {example_input_batch.shape}')\n",
    "print(f'Input batch tokens, shape (batch, s): {example_tokens.shape}')\n",
    "print(f'Encoder output, shape (batch, s, units): {example_enc_output.shape}')\n",
    "print(f'Encoder state, shape (batch, units): {example_enc_state.shape}')"
   ]
  },
  {
   "cell_type": "markdown",
   "id": "19478fee",
   "metadata": {},
   "source": [
    "The encoder returns its internal state so that its state can be used to initialize the decoder."
   ]
  },
  {
   "cell_type": "markdown",
   "id": "5d99fb16",
   "metadata": {},
   "source": [
    "### The Attention Head"
   ]
  },
  {
   "cell_type": "markdown",
   "id": "35d429a9",
   "metadata": {},
   "source": [
    "The decoder uses attention to selectively focus on parts of the input sequence. The attention takes a sequence of vectors as input for each example and returns an \"attention\" vector for each example. This attention layer is similar to a layers.GlobalAveragePooling1D but the attention layer performs a weighted average.\n",
    "\n",
    "Let's look at how this works:"
   ]
  },
  {
   "attachments": {
    "attention_equation_1.jpg": {
     "image/jpeg": "[encoded data removed]"
    }
   },
   "cell_type": "markdown",
   "id": "f08aca2f",
   "metadata": {},
   "source": [
    "![attention_equation_1.jpg](attachment:attention_equation_1.jpg)"
   ]
  },
  {
   "attachments": {
    "attention_equation_2.jpg": {
     "image/jpeg": "[encoded data removed]"
    }
   },
   "cell_type": "markdown",
   "id": "560a7f19",
   "metadata": {},
   "source": [
    "![attention_equation_2.jpg](attachment:attention_equation_2.jpg)"
   ]
  },
  {
   "attachments": {
    "attention_equation_4.jpg": {
     "image/jpeg": "[encoded data removed]"
    }
   },
   "cell_type": "markdown",
   "id": "a25d048d",
   "metadata": {},
   "source": [
    "Where:\n",
    "\n",
    "* $s$ is the encoder index.\n",
    "* $t$ is the decoder index.\n",
    "* $\\alpha_{ts}$ is the attention weights.\n",
    "* $h_s$ is the sequence of encoder outputs being attended to (the attention \"key\" and \"value\" in transformer terminology).\n",
    "* $h_t$ is the the decoder state attending to the sequence (the attention \"query\" in transformer terminology).\n",
    "* $c_t$ is the resulting context vector.\n",
    "* $a_t$ is the final output combining the \"context\" and \"query\".\n",
    "\n",
    "The equations:\n",
    "\n",
    "1. Calculates the attention weights, $\\alpha_{ts}$, as a softmax across the encoder's output sequence.\n",
    "2. Calculates the context vector as the weighted sum of the encoder outputs.\n",
    "\n",
    "Last is the `score` function. Its job is to calculate a scalar logit-score for each key-query pair. There are two common approaches:\n",
    "\n",
    "![attention_equation_4.jpg](attachment:attention_equation_4.jpg)"
   ]
  },
  {
   "cell_type": "markdown",
   "id": "5cabd57b",
   "metadata": {},
   "source": [
    "In this exercise, we will use Bahdanau's additive attention:"
   ]
  },
  {
   "cell_type": "code",
   "execution_count": 21,
   "id": "931c0b5d",
   "metadata": {},
   "outputs": [],
   "source": [
    "class BahdanauAttention(tf.keras.layers.Layer):\n",
    "    def __init__(self, units):\n",
    "        super().__init__()\n",
    "        # For Eqn. (4), the Bahdanau attention\n",
    "        self.W1 = tf.keras.layers.Dense(units, use_bias=False)\n",
    "        self.W2 = tf.keras.layers.Dense(units, use_bias=False)\n",
    "        \n",
    "        self.attention = tf.keras.layers.AdditiveAttention()\n",
    "        \n",
    "    def call(self, query, value, mask):\n",
    "        shape_checker = ShapeChecker()\n",
    "        shape_checker(query, ('batch', 't', 'query_units'))\n",
    "        shape_checker(value, ('batch', 's', 'value_units'))\n",
    "        shape_checker(mask, ('batch', 's'))\n",
    "        \n",
    "        # From Eqn. (4) Multiplication for W1@ht\n",
    "        w1_query = self.W1(query)\n",
    "        shape_checker(w1_query, ('batch', 't', 'attn_units'))\n",
    "        \n",
    "        # From Eqn. (4) Multiplication for W2@hs\n",
    "        w2_key = self.W2(value)\n",
    "        shape_checker(w2_key, ('batch', 's', 'attn_units'))\n",
    "        \n",
    "        query_mask = tf.ones(tf.shape(query)[:-1], dtype=bool)\n",
    "        value_mask = mask\n",
    "        \n",
    "        context_vector, attention_weights = self.attention(\n",
    "            inputs = [w1_query, value, w2_key],\n",
    "            mask = [query_mask, value_mask],\n",
    "            return_attention_scores = True,        \n",
    "        )\n",
    "        shape_checker(context_vector, ('batch', 't', 'value_units'))\n",
    "        shape_checker(attention_weights, ('batch', 't', 's'))\n",
    "\n",
    "        return context_vector, attention_weights"
   ]
  },
  {
   "cell_type": "code",
   "execution_count": 22,
   "id": "d5ae5d41",
   "metadata": {},
   "outputs": [],
   "source": [
    "# Test for attention layer\n",
    "attention_layer = BahdanauAttention(units)"
   ]
  },
  {
   "cell_type": "code",
   "execution_count": 23,
   "id": "f93ef65e",
   "metadata": {},
   "outputs": [
    {
     "data": {
      "text/plain": [
       "TensorShape([64, 18])"
      ]
     },
     "execution_count": 23,
     "metadata": {},
     "output_type": "execute_result"
    }
   ],
   "source": [
    "(example_tokens != 0).shape"
   ]
  },
  {
   "cell_type": "markdown",
   "id": "696c51fc",
   "metadata": {},
   "source": [
    "With a vectorized implementation of the attention layers, we pass a batch of sequences of query  vectors and a batch of sequences of value vectors. The result is:\n",
    "\n",
    "1. A batch of sequences of result vectors the size of the queries.\n",
    "2. A batch attention maps, with size `(query_length, value_length)`"
   ]
  },
  {
   "cell_type": "code",
   "execution_count": 24,
   "id": "1437433b",
   "metadata": {},
   "outputs": [
    {
     "name": "stdout",
     "output_type": "stream",
     "text": [
      "Attention result shape: (batch_size, query_seq_length, units):           (64, 2, 1024)\n",
      "Attention weights shape: (batch_size, query_seq_length, value_seq_length): (64, 2, 18)\n"
     ]
    }
   ],
   "source": [
    "# Later, the decoder will generate this attention query\n",
    "example_attention_query = tf.random.normal(shape=[len(example_tokens), 2, 10])\n",
    "\n",
    "# Attend to the encoded tokens\n",
    "\n",
    "context_vector, attention_weights = attention_layer(\n",
    "    query=example_attention_query,\n",
    "    value=example_enc_output,\n",
    "    mask=(example_tokens != 0))\n",
    "\n",
    "print(f'Attention result shape: (batch_size, query_seq_length, units):           {context_vector.shape}')\n",
    "print(f'Attention weights shape: (batch_size, query_seq_length, value_seq_length): {attention_weights.shape}')"
   ]
  },
  {
   "cell_type": "code",
   "execution_count": 25,
   "id": "2be0b093",
   "metadata": {},
   "outputs": [
    {
     "data": {
      "text/plain": [
       "Text(0.5, 1.0, 'Mask')"
      ]
     },
     "execution_count": 25,
     "metadata": {},
     "output_type": "execute_result"
    },
    {
     "data": {
      "image/png": "[encoded data removed]",
      "text/plain": [
       "<Figure size 432x288 with 2 Axes>"
      ]
     },
     "metadata": {
      "needs_background": "light"
     },
     "output_type": "display_data"
    }
   ],
   "source": [
    "plt.subplot(1, 2, 1)\n",
    "plt.pcolormesh(attention_weights[:, 0, :])\n",
    "plt.title('Attention weights')\n",
    "\n",
    "plt.subplot(1, 2, 2)\n",
    "plt.pcolormesh(example_tokens != 0)\n",
    "plt.title('Mask')"
   ]
  },
  {
   "cell_type": "code",
   "execution_count": 26,
   "id": "fcf2ee81",
   "metadata": {},
   "outputs": [
    {
     "data": {
      "text/plain": [
       "TensorShape([64, 2, 18])"
      ]
     },
     "execution_count": 26,
     "metadata": {},
     "output_type": "execute_result"
    }
   ],
   "source": [
    "attention_weights.shape"
   ]
  },
  {
   "cell_type": "code",
   "execution_count": 27,
   "id": "79a1fea8",
   "metadata": {},
   "outputs": [],
   "source": [
    "attention_slice = attention_weights[0, 0].numpy()\n",
    "attention_slice = attention_slice[attention_slice != 0]"
   ]
  },
  {
   "cell_type": "code",
   "execution_count": 28,
   "id": "a09c2e2c",
   "metadata": {},
   "outputs": [
    {
     "data": {
      "text/plain": [
       "[<matplotlib.lines.Line2D at 0x20eb24d5820>]"
      ]
     },
     "execution_count": 28,
     "metadata": {},
     "output_type": "execute_result"
    },
    {
     "data": {
      "text/plain": [
       "<Figure size 432x288 with 0 Axes>"
      ]
     },
     "metadata": {},
     "output_type": "display_data"
    },
    {
     "data": {
      "image/png": "[encoded data removed]",
      "text/plain": [
       "<Figure size 864x432 with 2 Axes>"
      ]
     },
     "metadata": {
      "needs_background": "light"
     },
     "output_type": "display_data"
    }
   ],
   "source": [
    "plt.suptitle('Attention weights for one sequence')\n",
    "\n",
    "plt.figure(figsize=(12, 6))\n",
    "a1 = plt.subplot(1, 2, 1)\n",
    "plt.bar(range(len(attention_slice)), attention_slice)\n",
    "# freeze the xlim\n",
    "plt.xlim(plt.xlim())\n",
    "plt.xlabel('Attention weights')\n",
    "\n",
    "a2 = plt.subplot(1, 2, 2)\n",
    "plt.bar(range(len(attention_slice)), attention_slice)\n",
    "plt.xlabel('Attention weights, zoomed')\n",
    "\n",
    "# zoom in\n",
    "top = max(a1.get_ylim())\n",
    "zoom = 0.85*top\n",
    "a2.set_ylim([0.90*top, top])\n",
    "a1.plot(a1.get_xlim(), [zoom, zoom], color='k')"
   ]
  },
  {
   "cell_type": "markdown",
   "id": "f12641b4",
   "metadata": {},
   "source": [
    "## The decoder"
   ]
  },
  {
   "cell_type": "markdown",
   "id": "6a59ecf2",
   "metadata": {},
   "source": [
    "The decoder's job is to generate predictions for the next output token.\n",
    "\n",
    "1. The decoder receives the complete encoder output.\n",
    "2. It uses an RNN to keep track of what it has generated so far.\n",
    "3. It uses its RNN output as the query to the attention over the encoder's output, producing the context vector.\n",
    "4. It combines the RNN output and the context vector using Equation 3(below) to geenrate the \"attention vector\".\n",
    "5. It generates logic predictions for the next token based on the \"attention vector.\""
   ]
  },
  {
   "attachments": {
    "attention_equation_3.jpg": {
     "image/jpeg": "[encoded data removed]"
    }
   },
   "cell_type": "markdown",
   "id": "7061e71a",
   "metadata": {},
   "source": [
    "![attention_equation_3.jpg](attachment:attention_equation_3.jpg)"
   ]
  },
  {
   "cell_type": "code",
   "execution_count": 29,
   "id": "68d27a3a",
   "metadata": {},
   "outputs": [],
   "source": [
    "# Decoder class\n",
    "class Decoder(tf.keras.layers.Layer):\n",
    "    def __init__(self, output_vocab_size, embedding_dim, dec_units):\n",
    "        super(Decoder, self).__init__()\n",
    "        self.dec_units = dec_units\n",
    "        self.output_vocab_size = output_vocab_size\n",
    "        self.embedding_dim = embedding_dim\n",
    "        \n",
    "        # For Step 1. The embedding layer converts token IDs to vectors\n",
    "        self.embedding = tf.keras.layers.Embedding(self.output_vocab_size, embedding_dim)\n",
    "        \n",
    "        # For Step 2. The RNN keeps track of what's been generated so far.\n",
    "        self.gru = tf.keras.layers.GRU(self.dec_units,\n",
    "                                      return_sequences=True,\n",
    "                                      return_state=True,\n",
    "                                      recurrent_initializer='glorot_uniform')\n",
    "        \n",
    "        #For step 3. The RNN output will be the query for the attention layer.\n",
    "        self.attention = BahdanauAttention(self.dec_units)\n",
    "        \n",
    "        # For step 4. Eqn. (3): converting `ct` to `at`\n",
    "        self.Wc = tf.keras.layers.Dense(dec_units, activation=tf.math.tanh, use_bias=False)\n",
    "        \n",
    "        # For step 5. This fully connected layer produces the logits for each output token\n",
    "        self.fc = tf.keras.layers.Dense(self.output_vocab_size)"
   ]
  },
  {
   "cell_type": "code",
   "execution_count": 30,
   "id": "05dd9aa3",
   "metadata": {},
   "outputs": [],
   "source": [
    "# Seperate classes for Decoder input and output\n",
    "class DecoderInput(typing.NamedTuple):\n",
    "    new_tokens: Any\n",
    "    enc_output: Any\n",
    "    mask: Any\n",
    "        \n",
    "class DecoderOutput(typing.NamedTuple):\n",
    "    logits: Any\n",
    "    attention_weights: Any"
   ]
  },
  {
   "cell_type": "code",
   "execution_count": 31,
   "id": "80aa6e9c",
   "metadata": {},
   "outputs": [],
   "source": [
    "# Call method\n",
    "def call(self,inputs: DecoderInput,state=None) -> Tuple[DecoderOutput, tf.Tensor]:\n",
    "    shape_checker = ShapeChecker()\n",
    "    shape_checker(inputs.new_tokens, ('batch', 't'))\n",
    "    shape_checker(inputs.enc_output, ('batch', 's', 'enc_units'))\n",
    "    shape_checker(inputs.mask, ('batch', 's'))\n",
    "    if state is not None:\n",
    "        shape_checker(state, ('batch', 'dec_units'))\n",
    "    \n",
    "    # Step 1. Lookup the embeddings\n",
    "    vectors = self.embedding(inputs.new_tokens)\n",
    "    shape_checker(vectors, ('batch', 't', 'embedding_dim'))\n",
    "    \n",
    "    # Step 2. Process one step with RNN\n",
    "    rnn_output, state, = self.gru(vectors, initial_state=state)\n",
    "    \n",
    "    shape_checker(rnn_output, ('batch', 't', 'dec_units'))\n",
    "    shape_checker(state, ('batch', 'dec_units'))\n",
    "    \n",
    "    # Step 3. Use the RNN output as the query for the attention over the encoder output\n",
    "    context_vector, attention_weights = self.attention(query=rnn_output, \n",
    "                                                      value=inputs.enc_output, mask=inputs.mask)\n",
    "    shape_checker(context_vector, ('batch', 't', 'dec_units'))\n",
    "    shape_checker(attention_weights, ('batch', 't', 's'))\n",
    "    \n",
    "    # Step 4. Eqn (3): Join the context_vector and rnn_output\n",
    "    # [ct; ht] shape: (batch t, value_units + query_units)\n",
    "    context_and_rnn_output = tf.concat([context_vector, rnn_output], axis=-1)\n",
    "    \n",
    "    # Step 4 Eqn(3): `at = tanh(Wc@[ct; ht])`\n",
    "    attention_vector = self.Wc(context_and_rnn_output)\n",
    "    shape_checker(attention_vector, ('batch', 't', 'dec_units'))\n",
    "    \n",
    "    # Step 5 Generate logit predictions:\n",
    "    logits = self.fc(attention_vector)\n",
    "    shape_checker(logits, ('batch', 't', 'output_vocab_size'))\n",
    "    \n",
    "    return DecoderOutput(logits, attention_weights), state"
   ]
  },
  {
   "cell_type": "code",
   "execution_count": 32,
   "id": "7b061cb8",
   "metadata": {},
   "outputs": [],
   "source": [
    "Decoder.call = call"
   ]
  },
  {
   "cell_type": "markdown",
   "id": "be526977",
   "metadata": {},
   "source": [
    "The encoder processes its full input sequence with a single call to its RNN. THis implementation of the decoder can do that as well for efficient training. But this tutorial will run the decoder in a loop for a few reasons:\n",
    "\n",
    "- Flexibility: Writing the loop gives you direct control over the training procedure.\n",
    "- Clarity: It's possible to do masking tricks and use layers.RNN or tfa.seq2seq APIs to pack this all into a single call. But writing it out as a loop may be clearer."
   ]
  },
  {
   "cell_type": "code",
   "execution_count": 33,
   "id": "7dc5d650",
   "metadata": {},
   "outputs": [],
   "source": [
    "# Using the decoder\n",
    "decoder = Decoder(output_text_processor.vocabulary_size(),\n",
    "                 embedding_dim, units)"
   ]
  },
  {
   "cell_type": "markdown",
   "id": "e15c07d8",
   "metadata": {},
   "source": [
    "The decoder takes 4 inputs.\n",
    "\n",
    "- new_tokens - The last token generated. Initialize the decoder with the \"[START]\" token.\n",
    "- enc_output - Generated by the Encoder.\n",
    "- mask - A boolean tensor indicating where tokens != 0\n",
    "- state - The previous state output from the decoder (the internal state of the decoder's RNN). Pass None to zero-initialize it. The original paper initializes it from the encoder's final RNN state."
   ]
  },
  {
   "cell_type": "code",
   "execution_count": 34,
   "id": "0ee81cec",
   "metadata": {},
   "outputs": [],
   "source": [
    "# Convert the target sequence, and collect the \"[START]\" tokens\n",
    "example_output_tokens = output_text_processor(example_target_batch)\n",
    "\n",
    "start_index = output_text_processor.get_vocabulary().index('[START]')\n",
    "first_token = tf.constant([[start_index]] * example_output_tokens.shape[0])"
   ]
  },
  {
   "cell_type": "code",
   "execution_count": 35,
   "id": "e8b3bddc",
   "metadata": {},
   "outputs": [
    {
     "name": "stdout",
     "output_type": "stream",
     "text": [
      "logits shape: (batch_size, t, output_vocab_size) (64, 1, 5000)\n",
      "state shape: (batch_size, dec_units) (64, 1024)\n"
     ]
    }
   ],
   "source": [
    "# Run the decoder\n",
    "dec_result, dec_state = decoder(\n",
    "    inputs = DecoderInput(new_tokens=first_token,\n",
    "                          enc_output=example_enc_output,\n",
    "                          mask=(example_tokens != 0)),\n",
    "    state = example_enc_state\n",
    ")\n",
    "\n",
    "print(f'logits shape: (batch_size, t, output_vocab_size) {dec_result.logits.shape}')\n",
    "print(f'state shape: (batch_size, dec_units) {dec_state.shape}')"
   ]
  },
  {
   "cell_type": "code",
   "execution_count": 36,
   "id": "05ee8aae",
   "metadata": {},
   "outputs": [],
   "source": [
    "# sampling a token according to the logits\n",
    "sampled_token = tf.random.categorical(dec_result.logits[:, 0, :], num_samples=1)"
   ]
  },
  {
   "cell_type": "code",
   "execution_count": 37,
   "id": "c2ae9083",
   "metadata": {},
   "outputs": [
    {
     "data": {
      "text/plain": [
       "array([['snowed'],\n",
       "       ['predict'],\n",
       "       ['canadian'],\n",
       "       ['order'],\n",
       "       ['translated']], dtype='<U16')"
      ]
     },
     "execution_count": 37,
     "metadata": {},
     "output_type": "execute_result"
    }
   ],
   "source": [
    "# decode token as first word of output\n",
    "vocab = np.array(output_text_processor.get_vocabulary())\n",
    "first_word = vocab[sampled_token.numpy()]\n",
    "first_word[:5]"
   ]
  },
  {
   "cell_type": "markdown",
   "id": "6f8b144d",
   "metadata": {},
   "source": [
    "Now we will use the decoder to generate a second set of logits:\n",
    "- Pass the same `enc_output` and `mask`, these haven't changed.\n",
    "- Pass the sampled token as `new_tokens`\n",
    "- Pass the decoder_state the decoder returned last time, so the RNN continues with a memory of where it left off last time."
   ]
  },
  {
   "cell_type": "code",
   "execution_count": 38,
   "id": "20de3737",
   "metadata": {},
   "outputs": [],
   "source": [
    "dec_result, dec_state = decoder(DecoderInput(sampled_token, example_enc_output, mask=(example_tokens != 0)),\n",
    "                               state=dec_state)"
   ]
  },
  {
   "cell_type": "code",
   "execution_count": 39,
   "id": "f55e695b",
   "metadata": {},
   "outputs": [
    {
     "data": {
      "text/plain": [
       "array([['snowed'],\n",
       "       ['predict'],\n",
       "       ['canadian'],\n",
       "       ['order'],\n",
       "       ['translated']], dtype='<U16')"
      ]
     },
     "execution_count": 39,
     "metadata": {},
     "output_type": "execute_result"
    }
   ],
   "source": [
    "samples_token = tf.random.categorical(dec_result.logits[:, 0, :], num_samples=1)\n",
    "first_word = vocab[sampled_token.numpy()]\n",
    "first_word[:5]"
   ]
  },
  {
   "cell_type": "markdown",
   "id": "a344d753",
   "metadata": {},
   "source": [
    "## Training the model"
   ]
  },
  {
   "cell_type": "code",
   "execution_count": 40,
   "id": "bc6082c7",
   "metadata": {},
   "outputs": [],
   "source": [
    "# Creating a loss function with a python class\n",
    "class MaskedLoss(tf.keras.losses.Loss):\n",
    "    def __init__(self):\n",
    "        self.name = 'masked_loss'\n",
    "        self.loss = tf.keras.losses.SparseCategoricalCrossentropy(\n",
    "        from_logits=True, reduction='none')\n",
    "    \n",
    "    def __call__(self, y_true, y_pred):\n",
    "        shape_checker = ShapeChecker()\n",
    "        shape_checker(y_true, ('batch', 't'))\n",
    "        shape_checker(y_pred, ('batch', 't', 'logits'))\n",
    "        \n",
    "        # Calculate the loss for each item in the batch\n",
    "        loss = self.loss(y_true, y_pred)\n",
    "        shape_checker(loss, ('batch', 't'))\n",
    "        \n",
    "        # Mask off the losses on padding.\n",
    "        mask = tf.cast(y_true != 0, tf.float32)\n",
    "        shape_checker(mask, ('batch', 't'))\n",
    "        loss *= mask\n",
    "        \n",
    "        # Return total \n",
    "        return tf.reduce_sum(loss)"
   ]
  },
  {
   "cell_type": "code",
   "execution_count": 41,
   "id": "3818c479",
   "metadata": {},
   "outputs": [],
   "source": [
    "# Creating a model class for our training process\n",
    "\n",
    "class TrainTranslator(tf.keras.Model):\n",
    "    def __init__(self, embedding_dim, units, input_text_processor, output_text_processor,\n",
    "                use_tf_function=True):\n",
    "        super().__init__()\n",
    "        # Build the encoder and decoder\n",
    "        encoder = Encoder(input_text_processor.vocabulary_size(),\n",
    "                         embedding_dim, units)\n",
    "        decoder = Decoder(output_text_processor.vocabulary_size(),\n",
    "                         embedding_dim, units)\n",
    "        \n",
    "        self.encoder = encoder\n",
    "        self.decoder = decoder\n",
    "        self.input_text_processor = input_text_processor\n",
    "        self.output_text_processor = output_text_processor\n",
    "        self.use_tf_function = use_tf_function\n",
    "        self.shape_checker = ShapeChecker()\n",
    "    \n",
    "    def train_step(self, inputs):\n",
    "        self.shape_checker = ShapeChecker()\n",
    "        if self.use_tf_function:\n",
    "            return self._tf_train_step(inputs)\n",
    "        else:\n",
    "            return self._train_step(inputs)"
   ]
  },
  {
   "cell_type": "markdown",
   "id": "5a6a2887",
   "metadata": {},
   "source": [
    "Overall the implementation for the Model.train_step method is as follows:\n",
    "\n",
    "1. Receive a batch of input_text, target_text from the tf.data.Dataset.\n",
    "2. Convert those raw text inputs to token-embeddings and masks.\n",
    "3. Run the encoder on the input_tokens to get the encoder_output and encoder_state.\n",
    "4. Initialize the decoder state and loss.\n",
    "5. Loop over the target_tokens:\n",
    "       a. Run the decoder one step at a time.\n",
    "       b. Calculate the loss for each step.\n",
    "       c. Accumulate the average loss.\n",
    "6. Calculate the gradient of the loss and use the optimizer to apply updates to the model's trainable_variables.\n",
    "\n",
    "The _preprocess method, added below, implements steps #1 and #2:"
   ]
  },
  {
   "cell_type": "code",
   "execution_count": 42,
   "id": "256ddd22",
   "metadata": {},
   "outputs": [],
   "source": [
    "def _preprocess(self, input_text, target_text):\n",
    "    self.shape_checker(input_text, ('batch',))\n",
    "    self.shape_checker(target_text, ('batch',))\n",
    "    \n",
    "    # Convert the text to token IDs\n",
    "    input_tokens = self.input_text_processor(input_text)\n",
    "    target_tokens = self.output_text_processor(target_text)\n",
    "    self.shape_checker(input_tokens, ('batch', 's'))\n",
    "    self.shape_checker(target_tokens, ('batch', 't'))\n",
    "    \n",
    "    # Convert IDs to masks\n",
    "    input_mask = input_tokens != 0\n",
    "    self.shape_checker(input_mask, ('batch', 's'))\n",
    "    \n",
    "    target_mask = target_tokens != 0\n",
    "    self.shape_checker(target_mask, ('batch', 't'))\n",
    "    \n",
    "    return input_tokens, input_mask, target_tokens, target_mask"
   ]
  },
  {
   "cell_type": "code",
   "execution_count": 43,
   "id": "1ebb6be1",
   "metadata": {},
   "outputs": [],
   "source": [
    "TrainTranslator._preprocess = _preprocess"
   ]
  },
  {
   "cell_type": "markdown",
   "id": "1df20956",
   "metadata": {},
   "source": [
    "The _train_step Method, added below, handles the remaining steps except for actually running the decoder"
   ]
  },
  {
   "cell_type": "code",
   "execution_count": 44,
   "id": "38304e63",
   "metadata": {},
   "outputs": [],
   "source": [
    "def _train_step(self, inputs):\n",
    "    input_text, target_text = inputs\n",
    "    \n",
    "    (input_tokens, input_mask, target_tokens, target_mask) = self._preprocess(input_text, target_text)\n",
    "    \n",
    "    max_target_length = tf.shape(target_tokens)[1]\n",
    "    \n",
    "    with tf.GradientTape() as tape:\n",
    "        # Encode the input\n",
    "        enc_output, enc_state = self.encoder(input_tokens)\n",
    "        self.shape_checker(enc_output, ('batch', 's', 'enc_units'))\n",
    "        self.shape_checker(enc_state, ('batch', 'enc_units'))\n",
    "        \n",
    "        # Initialize the decoder's state to the encoder's final state.\n",
    "        # This only works if the encoder and decoder have the same number of units\n",
    "        dec_state = enc_state\n",
    "        loss = tf.constant(0.0)\n",
    "        \n",
    "        for t in tf.range(max_target_length-1):\n",
    "            # Pass in two tokens from the target sequence:\n",
    "            # 1. The current input to the decoder.\n",
    "            # 2. The target for the decoder's next prediction.\n",
    "            new_tokens = target_tokens[:, t:t+2]\n",
    "            step_loss, dec_state = self._loop_step(new_tokens, input_mask, enc_output, dec_state)\n",
    "            loss = loss + step_loss\n",
    "        \n",
    "        # Average the loss over all non padding tokens.\n",
    "        average_loss = loss / tf.reduce_sum(tf.cast(target_mask, tf.float32))\n",
    "        \n",
    "    # Apply an optimization step\n",
    "    variables = self.trainable_variables\n",
    "    gradients = tape.gradient(average_loss, variables)\n",
    "    self.optimizer.apply_gradients(zip(gradients, variables))\n",
    "    \n",
    "    # Return a dict mapping metric names to current value\n",
    "    return {'batch_loss': average_loss}"
   ]
  },
  {
   "cell_type": "code",
   "execution_count": 45,
   "id": "33357acb",
   "metadata": {},
   "outputs": [],
   "source": [
    "TrainTranslator._train_step = _train_step"
   ]
  },
  {
   "cell_type": "markdown",
   "id": "6d888fd9",
   "metadata": {},
   "source": [
    "The _loop_step method, added below, executes the decoer and calculates the incremental loss and new decoder state (dec_state)"
   ]
  },
  {
   "cell_type": "code",
   "execution_count": 46,
   "id": "bc904970",
   "metadata": {},
   "outputs": [],
   "source": [
    "def _loop_step(self, new_tokens, input_mask, enc_output, dec_state):\n",
    "    input_token, target_token = new_tokens[:, 0:1], new_tokens[:, 1:2]\n",
    "    \n",
    "    # Run the decoder one step.\n",
    "    decoder_input = DecoderInput(new_tokens=input_token,\n",
    "                                enc_output=enc_output,\n",
    "                                mask=input_mask)\n",
    "    \n",
    "    dec_result, dec_state = self.decoder(decoder_input, state=dec_state)\n",
    "    self.shape_checker(dec_result.logits, ('batch', 't1', 'logits'))\n",
    "    self.shape_checker(dec_result.attention_weights, ('batch', 't1', 's'))\n",
    "    self.shape_checker(dec_state, ('batch', 'dec_units'))\n",
    "    \n",
    "    # `self.loss` returns the total for non-padded tokens\n",
    "    y = target_token\n",
    "    y_pred = dec_result.logits\n",
    "    step_loss = self.loss(y, y_pred)\n",
    "    \n",
    "    return step_loss, dec_state"
   ]
  },
  {
   "cell_type": "code",
   "execution_count": 47,
   "id": "f8dee56a",
   "metadata": {},
   "outputs": [],
   "source": [
    "TrainTranslator._loop_step = _loop_step"
   ]
  },
  {
   "cell_type": "markdown",
   "id": "d0a0a4ad",
   "metadata": {},
   "source": [
    "Build instance of TrainTranslator and configure it for training using the Model.compile method"
   ]
  },
  {
   "cell_type": "code",
   "execution_count": 48,
   "id": "6f9baf86",
   "metadata": {},
   "outputs": [],
   "source": [
    "translator = TrainTranslator(embedding_dim, units, input_text_processor=input_text_processor,\n",
    "                            output_text_processor=output_text_processor,use_tf_function=False)\n",
    "\n",
    "# Configure the loss and optimizer\n",
    "translator.compile(optimizer=tf.optimizers.Adam(),loss=MaskedLoss(),)"
   ]
  },
  {
   "cell_type": "code",
   "execution_count": 49,
   "id": "f93b14d7",
   "metadata": {},
   "outputs": [
    {
     "data": {
      "text/plain": [
       "8.517193191416238"
      ]
     },
     "execution_count": 49,
     "metadata": {},
     "output_type": "execute_result"
    }
   ],
   "source": [
    "np.log(output_text_processor.vocabulary_size())"
   ]
  },
  {
   "cell_type": "code",
   "execution_count": 50,
   "id": "128595d7",
   "metadata": {},
   "outputs": [
    {
     "name": "stdout",
     "output_type": "stream",
     "text": [
      "{'batch_loss': <tf.Tensor: shape=(), dtype=float32, numpy=7.5931897>}\n",
      "{'batch_loss': <tf.Tensor: shape=(), dtype=float32, numpy=7.5614405>}\n",
      "{'batch_loss': <tf.Tensor: shape=(), dtype=float32, numpy=7.501214>}\n",
      "{'batch_loss': <tf.Tensor: shape=(), dtype=float32, numpy=7.3311467>}\n",
      "{'batch_loss': <tf.Tensor: shape=(), dtype=float32, numpy=6.735949>}\n",
      "{'batch_loss': <tf.Tensor: shape=(), dtype=float32, numpy=4.9676037>}\n",
      "{'batch_loss': <tf.Tensor: shape=(), dtype=float32, numpy=4.5773706>}\n",
      "{'batch_loss': <tf.Tensor: shape=(), dtype=float32, numpy=4.3771634>}\n",
      "{'batch_loss': <tf.Tensor: shape=(), dtype=float32, numpy=4.077384>}\n",
      "{'batch_loss': <tf.Tensor: shape=(), dtype=float32, numpy=3.9319928>}\n",
      "\n",
      "Wall time: 5.52 s\n"
     ]
    }
   ],
   "source": [
    "%%time\n",
    "for n in range(10):\n",
    "    print(translator.train_step([example_input_batch, example_target_batch]))\n",
    "print()"
   ]
  },
  {
   "cell_type": "code",
   "execution_count": 51,
   "id": "15b9714c",
   "metadata": {},
   "outputs": [],
   "source": [
    "# Now to wrap out _tf_train_step in a @tf.function\n",
    "@tf.function(input_signature=[[tf.TensorSpec(dtype=tf.string, shape=[None]),\n",
    "                              tf.TensorSpec(dtype=tf.string, shape=[None])]])\n",
    "def _tf_train_step(self, inputs):\n",
    "    return self._train_step(inputs)"
   ]
  },
  {
   "cell_type": "code",
   "execution_count": 52,
   "id": "1b59c735",
   "metadata": {},
   "outputs": [],
   "source": [
    "TrainTranslator._tf_train_step = _tf_train_step"
   ]
  },
  {
   "cell_type": "code",
   "execution_count": 53,
   "id": "4b2e6bee",
   "metadata": {},
   "outputs": [],
   "source": [
    "translator.use_tf_function = True"
   ]
  },
  {
   "cell_type": "code",
   "execution_count": 54,
   "id": "31bf1993",
   "metadata": {},
   "outputs": [
    {
     "data": {
      "text/plain": [
       "{'batch_loss': <tf.Tensor: shape=(), dtype=float32, numpy=3.9168127>}"
      ]
     },
     "execution_count": 54,
     "metadata": {},
     "output_type": "execute_result"
    }
   ],
   "source": [
    "translator.train_step([example_input_batch, example_target_batch])"
   ]
  },
  {
   "cell_type": "code",
   "execution_count": 55,
   "id": "46ad8ecb",
   "metadata": {},
   "outputs": [
    {
     "name": "stdout",
     "output_type": "stream",
     "text": [
      "{'batch_loss': <tf.Tensor: shape=(), dtype=float32, numpy=3.8733451>}\n",
      "{'batch_loss': <tf.Tensor: shape=(), dtype=float32, numpy=3.7984238>}\n",
      "{'batch_loss': <tf.Tensor: shape=(), dtype=float32, numpy=3.7452612>}\n",
      "{'batch_loss': <tf.Tensor: shape=(), dtype=float32, numpy=3.6660483>}\n",
      "{'batch_loss': <tf.Tensor: shape=(), dtype=float32, numpy=3.589814>}\n",
      "{'batch_loss': <tf.Tensor: shape=(), dtype=float32, numpy=3.5472717>}\n",
      "{'batch_loss': <tf.Tensor: shape=(), dtype=float32, numpy=3.479901>}\n",
      "{'batch_loss': <tf.Tensor: shape=(), dtype=float32, numpy=3.4408247>}\n",
      "{'batch_loss': <tf.Tensor: shape=(), dtype=float32, numpy=3.371723>}\n",
      "{'batch_loss': <tf.Tensor: shape=(), dtype=float32, numpy=3.3103442>}\n",
      "\n",
      "Wall time: 4.14 s\n"
     ]
    }
   ],
   "source": [
    "%%time\n",
    "for n in range(10):\n",
    "    print(translator.train_step([example_input_batch, example_target_batch]))\n",
    "print()"
   ]
  },
  {
   "cell_type": "code",
   "execution_count": 56,
   "id": "ba54a851",
   "metadata": {},
   "outputs": [
    {
     "name": "stdout",
     "output_type": "stream",
     "text": [
      "....................................................................................................\n"
     ]
    },
    {
     "data": {
      "text/plain": [
       "[<matplotlib.lines.Line2D at 0x20eb6129910>]"
      ]
     },
     "execution_count": 56,
     "metadata": {},
     "output_type": "execute_result"
    },
    {
     "data": {
      "image/png": "[encoded data removed]",
      "text/plain": [
       "<Figure size 432x288 with 1 Axes>"
      ]
     },
     "metadata": {
      "needs_background": "light"
     },
     "output_type": "display_data"
    }
   ],
   "source": [
    "losses = []\n",
    "for n in range(100):\n",
    "    print('.', end='')\n",
    "    logs = translator.train_step([example_input_batch, example_target_batch])\n",
    "    losses.append(logs['batch_loss'].numpy())\n",
    "\n",
    "print()\n",
    "plt.plot(losses)"
   ]
  },
  {
   "cell_type": "markdown",
   "id": "4180c09b",
   "metadata": {},
   "source": [
    "Now after seeing the results, we can build a new copy to train from scratch:"
   ]
  },
  {
   "cell_type": "code",
   "execution_count": 57,
   "id": "0347b4cf",
   "metadata": {},
   "outputs": [],
   "source": [
    "train_translator = TrainTranslator(\n",
    "    embedding_dim, units,\n",
    "    input_text_processor=input_text_processor,\n",
    "    output_text_processor=output_text_processor)\n",
    "\n",
    "# Configure the loss and optimizer\n",
    "train_translator.compile(\n",
    "    optimizer=tf.optimizers.Adam(),\n",
    "    loss=MaskedLoss(),\n",
    ")"
   ]
  },
  {
   "cell_type": "markdown",
   "id": "255748c3",
   "metadata": {},
   "source": [
    "## Creating a Callback Method"
   ]
  },
  {
   "cell_type": "markdown",
   "id": "4b3dcc44",
   "metadata": {},
   "source": [
    "We can now create a callback method to collect the history of batch losses for plotting:"
   ]
  },
  {
   "cell_type": "code",
   "execution_count": 58,
   "id": "28f7f733",
   "metadata": {},
   "outputs": [],
   "source": [
    "class BatchLogs(tf.keras.callbacks.Callback):\n",
    "    def __init__(self, key):\n",
    "        self.key = key\n",
    "        self.logs = []\n",
    "        \n",
    "    def on_train_batch_end(self, n, logs):\n",
    "        self.logs.append(logs[self.key])\n",
    "\n",
    "batch_loss = BatchLogs('batch_loss')"
   ]
  },
  {
   "cell_type": "code",
   "execution_count": 59,
   "id": "36bdf882",
   "metadata": {},
   "outputs": [
    {
     "name": "stdout",
     "output_type": "stream",
     "text": [
      "Epoch 1/3\n",
      "1859/1859 [==============================] - 893s 478ms/step - batch_loss: 2.0607\n",
      "Epoch 2/3\n",
      "1859/1859 [==============================] - 887s 477ms/step - batch_loss: 1.0413\n",
      "Epoch 3/3\n",
      "1859/1859 [==============================] - 893s 480ms/step - batch_loss: 0.8141\n"
     ]
    },
    {
     "data": {
      "text/plain": [
       "<keras.callbacks.History at 0x20eb25cd6a0>"
      ]
     },
     "execution_count": 59,
     "metadata": {},
     "output_type": "execute_result"
    }
   ],
   "source": [
    "train_translator.fit(dataset, epochs=3,\n",
    "                     callbacks=[batch_loss])"
   ]
  },
  {
   "cell_type": "code",
   "execution_count": 60,
   "id": "6dfb1f87",
   "metadata": {},
   "outputs": [
    {
     "data": {
      "text/plain": [
       "Text(0, 0.5, 'CE/token')"
      ]
     },
     "execution_count": 60,
     "metadata": {},
     "output_type": "execute_result"
    },
    {
     "data": {
      "image/png": "[encoded data removed]",
      "text/plain": [
       "<Figure size 432x288 with 1 Axes>"
      ]
     },
     "metadata": {
      "needs_background": "light"
     },
     "output_type": "display_data"
    }
   ],
   "source": [
    "plt.plot(batch_loss.logs)\n",
    "plt.ylim([0, 3])\n",
    "plt.xlabel('Batch #')\n",
    "plt.ylabel('CE/token')"
   ]
  },
  {
   "cell_type": "markdown",
   "id": "398fd685",
   "metadata": {},
   "source": [
    "## Translator Function Implementation"
   ]
  },
  {
   "cell_type": "markdown",
   "id": "6c35d29d",
   "metadata": {},
   "source": [
    "Now that the model is trained, implement a function to execute the full `text => text `translation.\n",
    "\n",
    "For this the model needs to invert the `text => token IDs` mapping provided by the `output_text_processor`. It also needs to know the IDs for special tokens. This is all implemented in the constructor for the new class. The implementation of the actual translate method will follow.\n",
    "\n",
    "Overall this is similar to the training loop, except that the input to the decoder at each time step is a sample from the decoder's last prediction."
   ]
  },
  {
   "cell_type": "code",
   "execution_count": 61,
   "id": "70f56dbd",
   "metadata": {},
   "outputs": [],
   "source": [
    "class Translator(tf.Module):\n",
    "    \n",
    "    def __init__(self, encoder, decoder, input_text_processor, output_text_processor):\n",
    "        self.encoder = encoder\n",
    "        self.decoder = decoder \n",
    "        self.input_text_processor = input_text_processor\n",
    "        self.output_text_processor = output_text_processor\n",
    "        \n",
    "        self.output_token_string_from_index = (tf.keras.layers.StringLookup(vocabulary=\n",
    "                                                                           output_text_processor.get_vocabulary(),\n",
    "                                                                           mask_token='',\n",
    "                                                                           invert=True))\n",
    "        # The output should never generate padding, unknown, or start.\n",
    "        index_from_string = tf.keras.layers.StringLookup(\n",
    "            vocabulary=output_text_processor.get_vocabulary(), mask_token='')\n",
    "        token_mask_ids = index_from_string(['', '[UNK]', '[START]']).numpy()\n",
    "        \n",
    "        token_mask = np.zeros([index_from_string.vocabulary_size()], dtype=np.bool)\n",
    "        token_mask[np.array(token_mask_ids)] = True\n",
    "        self.token_mask = token_mask\n",
    "        \n",
    "        self.start_token = index_from_string(tf.constant('[START]'))\n",
    "        self.end_token = index_from_string(tf.constant('[END]'))"
   ]
  },
  {
   "cell_type": "code",
   "execution_count": 62,
   "id": "fdd3a217",
   "metadata": {},
   "outputs": [],
   "source": [
    "translator = Translator(\n",
    "    encoder=train_translator.encoder,\n",
    "    decoder=train_translator.decoder,\n",
    "    input_text_processor=input_text_processor,\n",
    "    output_text_processor=output_text_processor,\n",
    ")"
   ]
  },
  {
   "cell_type": "markdown",
   "id": "e38b38ab",
   "metadata": {},
   "source": [
    "## Converting token IDs to text"
   ]
  },
  {
   "cell_type": "code",
   "execution_count": 63,
   "id": "0fef2df0",
   "metadata": {},
   "outputs": [],
   "source": [
    "# function that converts from token IDs to human readable text.\n",
    "def tokens_to_text(self, result_tokens):\n",
    "    shape_checker = ShapeChecker()\n",
    "    shape_checker(result_tokens, ('batch', 't'))\n",
    "    result_text_tokens = self.output_token_string_from_index(result_tokens)\n",
    "    shape_checker(result_text_tokens, ('batch', 't'))\n",
    "    \n",
    "    result_text = tf.strings.reduce_join(result_text_tokens,\n",
    "                                        axis=1, separator=' ')\n",
    "    shape_checker(result_text, ('batch'))\n",
    "    \n",
    "    result_text = tf.strings.strip(result_text)\n",
    "    shape_checker(result_text, ('batch',))\n",
    "    return result_text"
   ]
  },
  {
   "cell_type": "code",
   "execution_count": 64,
   "id": "0d75395c",
   "metadata": {},
   "outputs": [],
   "source": [
    "Translator.tokens_to_text = tokens_to_text"
   ]
  },
  {
   "cell_type": "code",
   "execution_count": 65,
   "id": "ede8d2cd",
   "metadata": {},
   "outputs": [
    {
     "data": {
      "text/plain": [
       "array([b'mobile engaged', b'cigarette flush', b'acknowledged monkeys',\n",
       "       b'verdict construction', b'direct tiring'], dtype=object)"
      ]
     },
     "execution_count": 65,
     "metadata": {},
     "output_type": "execute_result"
    }
   ],
   "source": [
    "# See what some random token IDs generate\n",
    "example_output_tokens = tf.random.uniform(\n",
    "    shape=[5, 2], minval=0, dtype=tf.int64,\n",
    "    maxval=output_text_processor.vocabulary_size())\n",
    "translator.tokens_to_text(example_output_tokens).numpy()"
   ]
  },
  {
   "cell_type": "markdown",
   "id": "bdfaad74",
   "metadata": {},
   "source": [
    "## Samples from decoder predictions"
   ]
  },
  {
   "cell_type": "markdown",
   "id": "72d608a7",
   "metadata": {},
   "source": [
    "The following function takes the decoder's logit outputs and samples token IDs from that distribution:"
   ]
  },
  {
   "cell_type": "code",
   "execution_count": 66,
   "id": "c557c385",
   "metadata": {},
   "outputs": [],
   "source": [
    "def sample(self, logits, temperature):\n",
    "    shape_checker = ShapeChecker()\n",
    "    # 't' is usually 1 here.\n",
    "    shape_checker(logits, ('batch', 't', 'vocab'))\n",
    "    shape_checker(self.token_mask, ('vocab',))\n",
    "    \n",
    "    token_mask = self.token_mask[tf.newaxis, tf.newaxis, :]\n",
    "    shape_checker(token_mask, ('batch', 't', 'vocab'), broadcast=True)\n",
    "    \n",
    "    # Set the logits for all masked tokens to -inf, so they are never chosen.\n",
    "    logits = tf.where(self.token_mask, -np.inf, logits)\n",
    "    \n",
    "    if temperature == 0.0:\n",
    "        new_tokens = tf.argmax(logits, axis=-1)\n",
    "    else:\n",
    "        logits = tf.squeeze(logits, axis=1)\n",
    "        new_tokens = tf.random.categorical(logits/temperature,\n",
    "                                          num_samples=1)\n",
    "        \n",
    "    shape_checker(new_tokens, ('batch', 't'))\n",
    "    \n",
    "    return new_tokens"
   ]
  },
  {
   "cell_type": "code",
   "execution_count": 67,
   "id": "6d05b66d",
   "metadata": {},
   "outputs": [],
   "source": [
    "Translator.sample = sample"
   ]
  },
  {
   "cell_type": "code",
   "execution_count": 68,
   "id": "f0c22ae8",
   "metadata": {},
   "outputs": [
    {
     "data": {
      "text/plain": [
       "<tf.Tensor: shape=(5, 1), dtype=int64, numpy=\n",
       "array([[3729],\n",
       "       [ 721],\n",
       "       [1438],\n",
       "       [1332],\n",
       "       [1422]], dtype=int64)>"
      ]
     },
     "execution_count": 68,
     "metadata": {},
     "output_type": "execute_result"
    }
   ],
   "source": [
    "# Testing on random inputs\n",
    "example_logits = tf.random.normal([5, 1, output_text_processor.vocabulary_size()])\n",
    "example_output_tokens = translator.sample(example_logits, temperature=1.0)\n",
    "example_output_tokens"
   ]
  },
  {
   "cell_type": "markdown",
   "id": "be1ce077",
   "metadata": {},
   "source": [
    "## Implementing the translation loop"
   ]
  },
  {
   "cell_type": "markdown",
   "id": "b7cb9332",
   "metadata": {},
   "source": [
    "Here is a complete implementation of the text to text translation loop.\n",
    "\n",
    "This implementation collects the results into python lists, before using tf.concat to join them into tensors.\n",
    "\n",
    "This implementation statically unrolls the graph out to max_length iterations. This is okay with eager execution in python."
   ]
  },
  {
   "cell_type": "code",
   "execution_count": 71,
   "id": "f26d3891",
   "metadata": {},
   "outputs": [],
   "source": [
    "def translate_unrolled(self, input_text, *, max_length=50, return_attention=True,\n",
    "                      temperature=1.0):\n",
    "    batch_size = tf.shape(input_text)[0]\n",
    "    input_tokens = self.input_text_processor(input_text)\n",
    "    enc_output, enc_state = self.encoder(input_tokens)\n",
    "    \n",
    "    dec_state = enc_state\n",
    "    new_tokens = tf.fill([batch_size, 1], self.start_token)\n",
    "    \n",
    "    result_tokens = []\n",
    "    attention = []\n",
    "    done = tf.zeros([batch_size, 1], dtype=tf.bool)\n",
    "    \n",
    "    for _ in range(max_length):\n",
    "        dec_input = DecoderInput(new_tokens=new_tokens,\n",
    "                                enc_output=enc_output,\n",
    "                                 mask=(input_tokens!=0))\n",
    "        \n",
    "        dec_result, dec_state = self.decoder(dec_input, state=dec_state)\n",
    "        \n",
    "        attention.append(dec_result.attention_weights)\n",
    "        \n",
    "        new_tokens = self.sample(dec_result.logits, temperature)\n",
    "        \n",
    "        # If a sequence produces an `end_token`, set it `done`\n",
    "        done = done | (new_tokens == self.end_token)\n",
    "        # Once a sequence is done it only produces 0-padding.\n",
    "        new_tokens = tf.where(done, tf.constant(0, dtype=tf.int64), new_tokens)\n",
    "        \n",
    "        # Collect the generated tokens \n",
    "        result_tokens.append(new_tokens)\n",
    "        \n",
    "        if tf.executing_eagerly() and tf.reduce_all(done):\n",
    "            break\n",
    "            \n",
    "    # Convert the list of generated token ids to a list of strings.\n",
    "    result_tokens = tf.concat(result_tokens, axis=-1)\n",
    "    result_text =  self.tokens_to_text(result_tokens)\n",
    "    \n",
    "    if return_attention:\n",
    "        attention_stack = tf.concat(attention, axis=1)\n",
    "        return {'text': result_text, 'attention': attention_stack}\n",
    "    else:\n",
    "        return {'text': result_text}"
   ]
  },
  {
   "cell_type": "code",
   "execution_count": 72,
   "id": "f45b7d81",
   "metadata": {},
   "outputs": [],
   "source": [
    "Translator.translate = translate_unrolled"
   ]
  },
  {
   "cell_type": "code",
   "execution_count": 75,
   "id": "4d2bcaf4",
   "metadata": {},
   "outputs": [
    {
     "name": "stdout",
     "output_type": "stream",
     "text": [
      "its very cold here .\n",
      "this is my life .\n",
      "\n",
      "Wall time: 474 ms\n"
     ]
    }
   ],
   "source": [
    "# Run it on a simple input\n",
    "%%time\n",
    "input_text = tf.constant([\n",
    "    'hace mucho frio aqui.', # \"It's really cold here.\"\n",
    "    'Esta es mi vida.', # \"This is my life.\"\n",
    "])\n",
    "\n",
    "result = translator.translate(\n",
    "    input_text = input_text)\n",
    "\n",
    "print(result['text'][0].numpy().decode())\n",
    "print(result['text'][1].numpy().decode())\n",
    "print()"
   ]
  },
  {
   "cell_type": "markdown",
   "id": "2ee5666c",
   "metadata": {},
   "source": [
    "To be able to export this model, we need to wrap this method in a tf.function. This basic implementation has a few issues though:\n",
    "\n",
    "1. The resulting graphs are very large and take a few seconds to build, save or load.\n",
    "2. You can't break from a statically unrolled loop, so it will always run max_length iterations, even if all the outputs are done. But even then it's marginally faster than eager execution."
   ]
  },
  {
   "cell_type": "code",
   "execution_count": 76,
   "id": "545d7475",
   "metadata": {},
   "outputs": [],
   "source": [
    "@tf.function(input_signature=[tf.TensorSpec(dtype=tf.string, shape=[None])])\n",
    "def tf_translate(self, input_text):\n",
    "    return self.translate(input_text)\n",
    "\n",
    "Translator.tf_translate = tf_translate"
   ]
  },
  {
   "cell_type": "code",
   "execution_count": 79,
   "id": "f4619702",
   "metadata": {},
   "outputs": [
    {
     "name": "stdout",
     "output_type": "stream",
     "text": [
      "Wall time: 14.9 s\n"
     ]
    }
   ],
   "source": [
    "%%time\n",
    "result = translator.tf_translate(\n",
    "    input_text = input_text)"
   ]
  },
  {
   "cell_type": "code",
   "execution_count": 80,
   "id": "a42e416a",
   "metadata": {},
   "outputs": [
    {
     "name": "stdout",
     "output_type": "stream",
     "text": [
      "it makes a cold here .\n",
      "this is my life .\n",
      "\n",
      "Wall time: 346 ms\n"
     ]
    }
   ],
   "source": [
    "%%time\n",
    "result = translator.tf_translate(\n",
    "    input_text = input_text)\n",
    "\n",
    "print(result['text'][0].numpy().decode())\n",
    "print(result['text'][1].numpy().decode())\n",
    "print()"
   ]
  },
  {
   "cell_type": "code",
   "execution_count": 81,
   "id": "52631f14",
   "metadata": {},
   "outputs": [],
   "source": [
    "def translate_symbolic(self,\n",
    "                       input_text,\n",
    "                       *,\n",
    "                       max_length=50,\n",
    "                       return_attention=True,\n",
    "                       temperature=1.0):\n",
    "    shape_checker = ShapeChecker()\n",
    "    shape_checker(input_text, ('batch',))\n",
    "\n",
    "    batch_size = tf.shape(input_text)[0]\n",
    "\n",
    "    # Encode the input\n",
    "    input_tokens = self.input_text_processor(input_text)\n",
    "    shape_checker(input_tokens, ('batch', 's'))\n",
    "\n",
    "    enc_output, enc_state = self.encoder(input_tokens)\n",
    "    shape_checker(enc_output, ('batch', 's', 'enc_units'))\n",
    "    shape_checker(enc_state, ('batch', 'enc_units'))\n",
    "\n",
    "    # Initialize the decoder\n",
    "    dec_state = enc_state\n",
    "    new_tokens = tf.fill([batch_size, 1], self.start_token)\n",
    "    shape_checker(new_tokens, ('batch', 't1'))\n",
    "\n",
    "    # Initialize the accumulators\n",
    "    result_tokens = tf.TensorArray(tf.int64, size=1, dynamic_size=True)\n",
    "    attention = tf.TensorArray(tf.float32, size=1, dynamic_size=True)\n",
    "    done = tf.zeros([batch_size, 1], dtype=tf.bool)\n",
    "    shape_checker(done, ('batch', 't1'))\n",
    "\n",
    "    for t in tf.range(max_length):\n",
    "        dec_input = DecoderInput(\n",
    "        new_tokens=new_tokens, enc_output=enc_output, mask=(input_tokens != 0))\n",
    "\n",
    "        dec_result, dec_state = self.decoder(dec_input, state=dec_state)\n",
    "\n",
    "        shape_checker(dec_result.attention_weights, ('batch', 't1', 's'))\n",
    "        attention = attention.write(t, dec_result.attention_weights)\n",
    "\n",
    "        new_tokens = self.sample(dec_result.logits, temperature)\n",
    "        shape_checker(dec_result.logits, ('batch', 't1', 'vocab'))\n",
    "        shape_checker(new_tokens, ('batch', 't1'))\n",
    "\n",
    "        # If a sequence produces an `end_token`, set it `done`\n",
    "        done = done | (new_tokens == self.end_token)\n",
    "        # Once a sequence is done it only produces 0-padding.\n",
    "        new_tokens = tf.where(done, tf.constant(0, dtype=tf.int64), new_tokens)\n",
    "\n",
    "        # Collect the generated tokens\n",
    "        result_tokens = result_tokens.write(t, new_tokens)\n",
    "\n",
    "        if tf.reduce_all(done):\n",
    "            break\n",
    "\n",
    "    # Convert the list of generated token ids to a list of strings.\n",
    "    result_tokens = result_tokens.stack()\n",
    "    shape_checker(result_tokens, ('t', 'batch', 't0'))\n",
    "    result_tokens = tf.squeeze(result_tokens, -1)\n",
    "    result_tokens = tf.transpose(result_tokens, [1, 0])\n",
    "    shape_checker(result_tokens, ('batch', 't'))\n",
    "\n",
    "    result_text = self.tokens_to_text(result_tokens)\n",
    "    shape_checker(result_text, ('batch',))\n",
    "\n",
    "    if return_attention:\n",
    "        attention_stack = attention.stack()\n",
    "        shape_checker(attention_stack, ('t', 'batch', 't1', 's'))\n",
    "\n",
    "        attention_stack = tf.squeeze(attention_stack, 2)\n",
    "        shape_checker(attention_stack, ('t', 'batch', 's'))\n",
    "\n",
    "        attention_stack = tf.transpose(attention_stack, [1, 0, 2])\n",
    "        shape_checker(attention_stack, ('batch', 't', 's'))\n",
    "        return {'text': result_text, 'attention': attention_stack}\n",
    "    else:\n",
    "        return {'text': result_text}"
   ]
  },
  {
   "cell_type": "code",
   "execution_count": 82,
   "id": "600f1695",
   "metadata": {},
   "outputs": [],
   "source": [
    "Translator.translate = translate_symbolic"
   ]
  },
  {
   "cell_type": "code",
   "execution_count": 83,
   "id": "ca2a9d7d",
   "metadata": {},
   "outputs": [
    {
     "name": "stdout",
     "output_type": "stream",
     "text": [
      "its very cold here .\n",
      "this is my life .\n",
      "\n",
      "Wall time: 344 ms\n"
     ]
    }
   ],
   "source": [
    "%%time\n",
    "result = translator.translate(\n",
    "    input_text = input_text)\n",
    "\n",
    "print(result['text'][0].numpy().decode())\n",
    "print(result['text'][1].numpy().decode())\n",
    "print()"
   ]
  },
  {
   "cell_type": "code",
   "execution_count": 84,
   "id": "9946059d",
   "metadata": {},
   "outputs": [],
   "source": [
    "@tf.function(input_signature=[tf.TensorSpec(dtype=tf.string, shape=[None])])\n",
    "def tf_translate(self, input_text):\n",
    "    return self.translate(input_text)\n",
    "\n",
    "Translator.tf_translate = tf_translate"
   ]
  },
  {
   "cell_type": "code",
   "execution_count": 85,
   "id": "ee31ece5",
   "metadata": {},
   "outputs": [
    {
     "name": "stdout",
     "output_type": "stream",
     "text": [
      "Wall time: 1.11 s\n"
     ]
    }
   ],
   "source": [
    "%%time\n",
    "result = translator.tf_translate(\n",
    "    input_text = input_text)"
   ]
  },
  {
   "cell_type": "code",
   "execution_count": 86,
   "id": "fc2dbd33",
   "metadata": {},
   "outputs": [
    {
     "name": "stdout",
     "output_type": "stream",
     "text": [
      "it is a nice cold here .\n",
      "this isnt my life .\n",
      "\n",
      "Wall time: 239 ms\n"
     ]
    }
   ],
   "source": [
    "#Using compiled function\n",
    "%%time\n",
    "result = translator.tf_translate(\n",
    "    input_text = input_text)\n",
    "\n",
    "print(result['text'][0].numpy().decode())\n",
    "print(result['text'][1].numpy().decode())\n",
    "print()"
   ]
  },
  {
   "cell_type": "markdown",
   "id": "6e912115",
   "metadata": {},
   "source": [
    "## Visualizing the process"
   ]
  },
  {
   "cell_type": "markdown",
   "id": "eb75cbec",
   "metadata": {},
   "source": [
    "The attention weights returned by the `translate` method show where the model was \"looking\" when it generated each output token.\n",
    "\n",
    "So the sum of the attention over the input should return all ones:"
   ]
  },
  {
   "cell_type": "code",
   "execution_count": 87,
   "id": "d5d2258a",
   "metadata": {},
   "outputs": [
    {
     "name": "stdout",
     "output_type": "stream",
     "text": [
      "[1.         0.99999994 0.99999994 1.         1.0000001  1.\n",
      " 0.99999994 1.        ]\n"
     ]
    }
   ],
   "source": [
    "a = result['attention'][0]\n",
    "\n",
    "print(np.sum(a, axis=-1))"
   ]
  },
  {
   "cell_type": "code",
   "execution_count": 88,
   "id": "29de21bb",
   "metadata": {},
   "outputs": [
    {
     "data": {
      "image/png": "[encoded data removed]",
      "text/plain": [
       "<Figure size 432x288 with 1 Axes>"
      ]
     },
     "metadata": {
      "needs_background": "light"
     },
     "output_type": "display_data"
    }
   ],
   "source": [
    "gph = plt.bar(range(len(a[0, :])), a[0, :])"
   ]
  },
  {
   "cell_type": "code",
   "execution_count": 89,
   "id": "23b8910a",
   "metadata": {},
   "outputs": [
    {
     "data": {
      "text/plain": [
       "<matplotlib.image.AxesImage at 0x211eb390ca0>"
      ]
     },
     "execution_count": 89,
     "metadata": {},
     "output_type": "execute_result"
    },
    {
     "data": {
      "image/png": "[encoded data removed]",
      "text/plain": [
       "<Figure size 432x288 with 1 Axes>"
      ]
     },
     "metadata": {
      "needs_background": "light"
     },
     "output_type": "display_data"
    }
   ],
   "source": [
    "plt.imshow(np.array(a), vmin=0.0)"
   ]
  },
  {
   "cell_type": "code",
   "execution_count": 90,
   "id": "4238b75b",
   "metadata": {},
   "outputs": [],
   "source": [
    "def plot_attention(attention, sentence, predicted_sentence):\n",
    "    sentence = tf_lower_and_split_punct(sentence).numpy().decode().split()\n",
    "    predicted_sentence = predicted_sentence.numpy().decode().split() + ['[END]']\n",
    "    fig = plt.figure(figsize=(10, 10))\n",
    "    ax = fig.add_subplot(1, 1, 1)\n",
    "\n",
    "    attention = attention[:len(predicted_sentence), :len(sentence)]\n",
    "\n",
    "    ax.matshow(attention, cmap='viridis', vmin=0.0)\n",
    "\n",
    "    fontdict = {'fontsize': 14}\n",
    "\n",
    "    ax.set_xticklabels([''] + sentence, fontdict=fontdict, rotation=90)\n",
    "    ax.set_yticklabels([''] + predicted_sentence, fontdict=fontdict)\n",
    "\n",
    "    ax.xaxis.set_major_locator(ticker.MultipleLocator(1))\n",
    "    ax.yaxis.set_major_locator(ticker.MultipleLocator(1))\n",
    "\n",
    "    ax.set_xlabel('Input text')\n",
    "    ax.set_ylabel('Output text')\n",
    "    plt.suptitle('Attention weights')"
   ]
  },
  {
   "cell_type": "code",
   "execution_count": 91,
   "id": "b5fe4ba6",
   "metadata": {},
   "outputs": [
    {
     "data": {
      "image/png": "[encoded data removed]",
      "text/plain": [
       "<Figure size 720x720 with 1 Axes>"
      ]
     },
     "metadata": {
      "needs_background": "light"
     },
     "output_type": "display_data"
    }
   ],
   "source": [
    "i=0\n",
    "plot_attention(result['attention'][i], input_text[i], result['text'][i])"
   ]
  },
  {
   "cell_type": "markdown",
   "id": "ae7af134",
   "metadata": {},
   "source": [
    "Now to translate a few more sentences and plot them:"
   ]
  },
  {
   "cell_type": "code",
   "execution_count": 93,
   "id": "8655f215",
   "metadata": {},
   "outputs": [
    {
     "name": "stdout",
     "output_type": "stream",
     "text": [
      "this is my life .\n",
      "are you still at home ?\n",
      "try in figure out how to just handle it .\n",
      "\n",
      "Wall time: 186 ms\n"
     ]
    }
   ],
   "source": [
    "%%time\n",
    "three_input_text = tf.constant([\n",
    "    # This is my life.\n",
    "    'Esta es mi vida.',\n",
    "    # Are they still home?\n",
    "    '¿Todavía están en casa?',\n",
    "    # Try to find out.'\n",
    "    'Tratar de descubrir.',\n",
    "])\n",
    "\n",
    "result = translator.tf_translate(three_input_text)\n",
    "\n",
    "for tr in result['text']:\n",
    "    print(tr.numpy().decode())\n",
    "\n",
    "print()"
   ]
  },
  {
   "cell_type": "code",
   "execution_count": 94,
   "id": "8ae5840d",
   "metadata": {},
   "outputs": [
    {
     "data": {
      "text/plain": [
       "<tf.Tensor: shape=(3,), dtype=string, numpy=\n",
       "array([b'this is my life .', b'are you still at home ?',\n",
       "       b'try in figure out how to just handle it .'], dtype=object)>"
      ]
     },
     "execution_count": 94,
     "metadata": {},
     "output_type": "execute_result"
    }
   ],
   "source": [
    "result['text']"
   ]
  },
  {
   "cell_type": "code",
   "execution_count": 95,
   "id": "1c16ad39",
   "metadata": {},
   "outputs": [
    {
     "data": {
      "image/png": "[encoded data removed]",
      "text/plain": [
       "<Figure size 720x720 with 1 Axes>"
      ]
     },
     "metadata": {
      "needs_background": "light"
     },
     "output_type": "display_data"
    }
   ],
   "source": [
    "i = 0\n",
    "plot_attention(result['attention'][i], three_input_text[i], result['text'][i])"
   ]
  },
  {
   "cell_type": "code",
   "execution_count": 96,
   "id": "7386c271",
   "metadata": {},
   "outputs": [
    {
     "data": {
      "image/png": "[encoded data removed]",
      "text/plain": [
       "<Figure size 720x720 with 1 Axes>"
      ]
     },
     "metadata": {
      "needs_background": "light"
     },
     "output_type": "display_data"
    }
   ],
   "source": [
    "i = 1\n",
    "plot_attention(result['attention'][i], three_input_text[i], result['text'][i])"
   ]
  },
  {
   "cell_type": "code",
   "execution_count": 97,
   "id": "c4d71630",
   "metadata": {},
   "outputs": [
    {
     "data": {
      "image/png": "[encoded data removed]",
      "text/plain": [
       "<Figure size 720x720 with 1 Axes>"
      ]
     },
     "metadata": {
      "needs_background": "light"
     },
     "output_type": "display_data"
    }
   ],
   "source": [
    "i = 2\n",
    "plot_attention(result['attention'][i], three_input_text[i], result['text'][i])"
   ]
  },
  {
   "cell_type": "markdown",
   "id": "64a34c32",
   "metadata": {},
   "source": [
    "The short sentences often work well, but if the input is too long the model literally loses focus and stops providing reasonable predictions. There are two main reasons for this:\n",
    "\n",
    "1. The model was trained with teacher-forcing feeding the correct token at each step, regardless of the model's predictions. The model could be made more robust if it were sometimes fed its own predictions.\n",
    "2. The model only has access to its previous output through the RNN state. If the RNN state gets corrupted, there's no way for the model to recover. Transformers solve this by using self-attention in the encoder and decoder."
   ]
  },
  {
   "cell_type": "code",
   "execution_count": 98,
   "id": "42fb24f1",
   "metadata": {},
   "outputs": [
    {
     "name": "stdout",
     "output_type": "stream",
     "text": [
      "Expected output:\n",
      " If you want to sound like a native speaker, you must be willing to\n",
      "practice saying the same sentence over and over in the same way that\n",
      "banjo players practice the same phrase over and over until they can\n",
      "play it correctly and at the desired tempo.\n"
     ]
    }
   ],
   "source": [
    "long_input_text = tf.constant([inp[-1]])\n",
    "\n",
    "import textwrap\n",
    "print('Expected output:\\n', '\\n'.join(textwrap.wrap(targ[-1])))"
   ]
  },
  {
   "cell_type": "code",
   "execution_count": 99,
   "id": "f01dd450",
   "metadata": {},
   "outputs": [
    {
     "data": {
      "image/png": "[encoded data removed]",
      "text/plain": [
       "<Figure size 720x720 with 1 Axes>"
      ]
     },
     "metadata": {
      "needs_background": "light"
     },
     "output_type": "display_data"
    }
   ],
   "source": [
    "result = translator.tf_translate(long_input_text)\n",
    "\n",
    "i = 0\n",
    "plot_attention(result['attention'][i], long_input_text[i], result['text'][i])\n",
    "_ = plt.suptitle('This never works')"
   ]
  },
  {
   "cell_type": "code",
   "execution_count": 100,
   "id": "d8d4b256",
   "metadata": {},
   "outputs": [
    {
     "name": "stderr",
     "output_type": "stream",
     "text": [
      "WARNING:absl:Found untraced functions such as encoder_2_layer_call_fn, encoder_2_layer_call_and_return_conditional_losses, decoder_2_layer_call_fn, decoder_2_layer_call_and_return_conditional_losses, embedding_4_layer_call_fn while saving (showing 5 of 24). These functions will not be directly callable after loading.\n"
     ]
    },
    {
     "name": "stdout",
     "output_type": "stream",
     "text": [
      "INFO:tensorflow:Assets written to: translator\\assets\n"
     ]
    },
    {
     "name": "stderr",
     "output_type": "stream",
     "text": [
      "INFO:tensorflow:Assets written to: translator\\assets\n"
     ]
    }
   ],
   "source": [
    "# Export the model \n",
    "tf.saved_model.save(translator, 'translator',\n",
    "                    signatures={'serving_default': translator.tf_translate})"
   ]
  },
  {
   "cell_type": "code",
   "execution_count": 101,
   "id": "69a70dd0",
   "metadata": {},
   "outputs": [],
   "source": [
    "reloaded = tf.saved_model.load('translator')\n",
    "result = reloaded.tf_translate(three_input_text)"
   ]
  },
  {
   "cell_type": "code",
   "execution_count": 104,
   "id": "cf4f6a0c",
   "metadata": {},
   "outputs": [
    {
     "name": "stdout",
     "output_type": "stream",
     "text": [
      "this is my life .\n",
      "is they still at home ?\n",
      "just warn find .\n",
      "\n",
      "Wall time: 340 ms\n"
     ]
    }
   ],
   "source": [
    "%%time\n",
    "result = reloaded.tf_translate(three_input_text)\n",
    "\n",
    "for tr in result['text']:\n",
    "    print(tr.numpy().decode())\n",
    "\n",
    "print()"
   ]
  },
  {
   "cell_type": "code",
   "execution_count": 3,
   "id": "236df2bb",
   "metadata": {},
   "outputs": [],
   "source": [
    "# Question 11\n",
    "'''11. Use one of the recent language models (e.g., BERT) to generate more convincing\n",
    "Shakespearean text.'''"
   ]
  },
  {
   "cell_type": "code",
   "execution_count": 1,
   "id": "15076a44",
   "metadata": {},
   "outputs": [
    {
     "name": "stdout",
     "output_type": "stream",
     "text": [
      "Requirement already satisfied: transformers in d:\\anaconda\\envs\\tf-gpu\\lib\\site-packages (4.16.2)"
     ]
    },
    {
     "name": "stderr",
     "output_type": "stream",
     "text": [
      "WARNING: Ignoring invalid distribution -mpy (d:\\anaconda\\envs\\tf-gpu\\lib\\site-packages)\n",
      "WARNING: Ignoring invalid distribution -umpy (d:\\anaconda\\envs\\tf-gpu\\lib\\site-packages)\n",
      "WARNING: Ignoring invalid distribution -ip (d:\\anaconda\\envs\\tf-gpu\\lib\\site-packages)\n",
      "WARNING: Ignoring invalid distribution - (d:\\anaconda\\envs\\tf-gpu\\lib\\site-packages)\n",
      "WARNING: Ignoring invalid distribution -mpy (d:\\anaconda\\envs\\tf-gpu\\lib\\site-packages)\n",
      "WARNING: Ignoring invalid distribution -umpy (d:\\anaconda\\envs\\tf-gpu\\lib\\site-packages)\n",
      "WARNING: Ignoring invalid distribution -ip (d:\\anaconda\\envs\\tf-gpu\\lib\\site-packages)\n",
      "WARNING: Ignoring invalid distribution - (d:\\anaconda\\envs\\tf-gpu\\lib\\site-packages)\n",
      "WARNING: Ignoring invalid distribution -mpy (d:\\anaconda\\envs\\tf-gpu\\lib\\site-packages)\n",
      "WARNING: Ignoring invalid distribution -umpy (d:\\anaconda\\envs\\tf-gpu\\lib\\site-packages)\n",
      "WARNING: Ignoring invalid distribution -ip (d:\\anaconda\\envs\\tf-gpu\\lib\\site-packages)\n",
      "WARNING: Ignoring invalid distribution - (d:\\anaconda\\envs\\tf-gpu\\lib\\site-packages)\n",
      "WARNING: Ignoring invalid distribution -mpy (d:\\anaconda\\envs\\tf-gpu\\lib\\site-packages)\n",
      "WARNING: Ignoring invalid distribution -umpy (d:\\anaconda\\envs\\tf-gpu\\lib\\site-packages)\n",
      "WARNING: Ignoring invalid distribution -ip (d:\\anaconda\\envs\\tf-gpu\\lib\\site-packages)\n",
      "WARNING: Ignoring invalid distribution - (d:\\anaconda\\envs\\tf-gpu\\lib\\site-packages)\n",
      "WARNING: Ignoring invalid distribution -mpy (d:\\anaconda\\envs\\tf-gpu\\lib\\site-packages)\n",
      "WARNING: Ignoring invalid distribution -umpy (d:\\anaconda\\envs\\tf-gpu\\lib\\site-packages)\n",
      "WARNING: Ignoring invalid distribution -ip (d:\\anaconda\\envs\\tf-gpu\\lib\\site-packages)\n",
      "WARNING: Ignoring invalid distribution - (d:\\anaconda\\envs\\tf-gpu\\lib\\site-packages)\n",
      "WARNING: Ignoring invalid distribution -mpy (d:\\anaconda\\envs\\tf-gpu\\lib\\site-packages)\n",
      "WARNING: Ignoring invalid distribution -umpy (d:\\anaconda\\envs\\tf-gpu\\lib\\site-packages)\n",
      "WARNING: Ignoring invalid distribution -ip (d:\\anaconda\\envs\\tf-gpu\\lib\\site-packages)\n",
      "WARNING: Ignoring invalid distribution - (d:\\anaconda\\envs\\tf-gpu\\lib\\site-packages)\n"
     ]
    },
    {
     "name": "stdout",
     "output_type": "stream",
     "text": [
      "\n",
      "Requirement already satisfied: tqdm>=4.27 in d:\\anaconda\\envs\\tf-gpu\\lib\\site-packages (from transformers) (4.62.3)\n",
      "Requirement already satisfied: sacremoses in d:\\anaconda\\envs\\tf-gpu\\lib\\site-packages (from transformers) (0.0.47)\n",
      "Requirement already satisfied: packaging>=20.0 in d:\\anaconda\\envs\\tf-gpu\\lib\\site-packages (from transformers) (21.3)\n",
      "Requirement already satisfied: regex!=2019.12.17 in d:\\anaconda\\envs\\tf-gpu\\lib\\site-packages (from transformers) (2022.1.18)\n",
      "Requirement already satisfied: numpy>=1.17 in d:\\anaconda\\envs\\tf-gpu\\lib\\site-packages (from transformers) (1.22.1)\n",
      "Requirement already satisfied: filelock in d:\\anaconda\\envs\\tf-gpu\\lib\\site-packages (from transformers) (3.6.0)\n",
      "Requirement already satisfied: tokenizers!=0.11.3,>=0.10.1 in d:\\anaconda\\envs\\tf-gpu\\lib\\site-packages (from transformers) (0.10.3)\n",
      "Requirement already satisfied: pyyaml>=5.1 in d:\\anaconda\\envs\\tf-gpu\\lib\\site-packages (from transformers) (6.0)\n",
      "Requirement already satisfied: huggingface-hub<1.0,>=0.1.0 in d:\\anaconda\\envs\\tf-gpu\\lib\\site-packages (from transformers) (0.4.0)\n",
      "Requirement already satisfied: requests in d:\\anaconda\\envs\\tf-gpu\\lib\\site-packages (from transformers) (2.27.1)\n",
      "Requirement already satisfied: typing-extensions>=3.7.4.3 in d:\\anaconda\\envs\\tf-gpu\\lib\\site-packages (from huggingface-hub<1.0,>=0.1.0->transformers) (3.10.0.2)\n",
      "Requirement already satisfied: pyparsing!=3.0.5,>=2.0.2 in d:\\anaconda\\envs\\tf-gpu\\lib\\site-packages (from packaging>=20.0->transformers) (3.0.4)\n",
      "Requirement already satisfied: colorama in d:\\anaconda\\envs\\tf-gpu\\lib\\site-packages (from tqdm>=4.27->transformers) (0.4.4)\n",
      "Requirement already satisfied: charset-normalizer~=2.0.0 in d:\\anaconda\\envs\\tf-gpu\\lib\\site-packages (from requests->transformers) (2.0.4)\n",
      "Requirement already satisfied: certifi>=2017.4.17 in d:\\anaconda\\envs\\tf-gpu\\lib\\site-packages (from requests->transformers) (2021.10.8)\n",
      "Requirement already satisfied: idna<4,>=2.5 in d:\\anaconda\\envs\\tf-gpu\\lib\\site-packages (from requests->transformers) (3.3)\n",
      "Requirement already satisfied: urllib3<1.27,>=1.21.1 in d:\\anaconda\\envs\\tf-gpu\\lib\\site-packages (from requests->transformers) (1.26.8)\n",
      "Requirement already satisfied: click in d:\\anaconda\\envs\\tf-gpu\\lib\\site-packages (from sacremoses->transformers) (8.0.3)\n",
      "Requirement already satisfied: six in d:\\anaconda\\envs\\tf-gpu\\lib\\site-packages (from sacremoses->transformers) (1.16.0)\n",
      "Requirement already satisfied: joblib in d:\\anaconda\\envs\\tf-gpu\\lib\\site-packages (from sacremoses->transformers) (1.1.0)\n"
     ]
    }
   ],
   "source": [
    "!pip install transformers"
   ]
  },
  {
   "cell_type": "code",
   "execution_count": 2,
   "id": "c6afa0b5",
   "metadata": {},
   "outputs": [],
   "source": [
    "# Question 11\n",
    "'''11. Use one of the recent language models (e.g., BERT) to generate more convincing\n",
    "Shakespearean text.'''\n",
    "# Had a lot of difficulties trying to ue GPT2, so in this case let's use GTP model \n",
    "import tensorflow as tf\n",
    "#!pip install transformers\n",
    "from transformers import GPT2LMHeadModel, GPT2Tokenizer\n",
    "\n",
    "# using tokenizer\n",
    "tokenizer = GPT2Tokenizer.from_pretrained(\"gpt2\")\n",
    "# Initializing a model from the configuration\n",
    "model = GPT2LMHeadModel.from_pretrained(\"gpt2\", pad_token_id=tokenizer.eos_token_id)"
   ]
  },
  {
   "cell_type": "code",
   "execution_count": 124,
   "id": "30a14cb9",
   "metadata": {},
   "outputs": [
    {
     "data": {
      "text/plain": [
       "tensor([[ 3844, 23217,   257, 15581,  2612,    13,  4599,  1755,    11,  6029,\n",
       "         19716,    11,   198,   220,   220,   220,   220,   220,   220,   220,\n",
       "           220,   220,   220,   220,   290, 13956,   286, 21981,  1702, 17903,\n",
       "           284, 11906,  1334,    13]])"
      ]
     },
     "execution_count": 124,
     "metadata": {},
     "output_type": "execute_result"
    }
   ],
   "source": [
    "prompt = '''Now cracks a noble heart. Good night, sweet prince,\n",
    "            and flights of angels sing thee to thy rest.'''\n",
    "\n",
    "encoded_prompt = tokenizer.encode(prompt, return_tensors=\"pt\")\n",
    "encoded_prompt"
   ]
  },
  {
   "cell_type": "code",
   "execution_count": 125,
   "id": "d9e64d25",
   "metadata": {},
   "outputs": [
    {
     "data": {
      "text/plain": [
       "tensor([[ 3844, 23217,   257, 15581,  2612,    13,  4599,  1755,    11,  6029,\n",
       "         19716,    11,   198,   220,   220,   220,   220,   220,   220,   220,\n",
       "           220,   220,   220,   220,   290, 13956,   286, 21981,  1702, 17903,\n",
       "           284, 11906,  1334,    13,   198,   198,  1212,   582,    11, 14210,\n",
       "          7927,    12,   805,    11,  5316,   318,  6613,   286, 17903,     0,\n",
       "          2236,   523,   881,  5938, 17903,    13,   843,   611,   345,  2236,\n",
       "           407,  2148,   329, 11906,  9089,    11, 11906,  3189,  2236,   307,\n",
       "           644,   340,   318,    11],\n",
       "        [ 3844, 23217,   257, 15581,  2612,    13,  4599,  1755,    11,  6029,\n",
       "         19716,    11,   198,   220,   220,   220,   220,   220,   220,   220,\n",
       "           220,   220,   220,   220,   290, 13956,   286, 21981,  1702, 17903,\n",
       "           284, 11906,  1334,    13,   198,   198,   818, 15393,   286,   262,\n",
       "          1467,   400,  7235,   286,   536, 19942,   198,   198,    46,  6029,\n",
       "         19716,   286,   294,   500,  2612,     0,  3406, 33200,  1056,    11,\n",
       "           198,   198,  3886,   428,    11,   314,   423,  1282,   284,  1265,\n",
       "           534,  6133,   290,   287],\n",
       "        [ 3844, 23217,   257, 15581,  2612,    13,  4599,  1755,    11,  6029,\n",
       "         19716,    11,   198,   220,   220,   220,   220,   220,   220,   220,\n",
       "           220,   220,   220,   220,   290, 13956,   286, 21981,  1702, 17903,\n",
       "           284, 11906,  1334,    13,   843,   329,   428,  1956,   307,   407,\n",
       "         15006,    13,  8447,    11,   428,  1956,   307, 41746, 12004,    11,\n",
       "           281,  1110,   257,   614,    13,  1675,  1450,    11,   611, 14210,\n",
       "           307,  4684,   284,   910,   428,    11,  1318,   389,   286, 17903,\n",
       "          1440, 29561,   543,   389],\n",
       "        [ 3844, 23217,   257, 15581,  2612,    13,  4599,  1755,    11,  6029,\n",
       "         19716,    11,   198,   220,   220,   220,   220,   220,   220,   220,\n",
       "           220,   220,   220,   220,   290, 13956,   286, 21981,  1702, 17903,\n",
       "           284, 11906,  1334,    13,   440, 14210,   351, 40221,   290,  5176,\n",
       "         13992,    11,  6029, 19716,    11,  1309,   514,  2582,  1208,   262,\n",
       "           886,   286,   262,  3878,   317, 17723,  6243,  5155,    13,   198,\n",
       "           198,  1959,   440, 11182,    11,   290,  4453,   262, 10461,  7542,\n",
       "            11, 20927,   502,    11],\n",
       "        [ 3844, 23217,   257, 15581,  2612,    13,  4599,  1755,    11,  6029,\n",
       "         19716,    11,   198,   220,   220,   220,   220,   220,   220,   220,\n",
       "           220,   220,   220,   220,   290, 13956,   286, 21981,  1702, 17903,\n",
       "           284, 11906,  1334,    13,  3966,    11,   340,   338,  2138,  8258,\n",
       "           340,  1549,   307,    11,   334, 12337,   986,  3966,   986,  1320,\n",
       "           338,   644,  1422,   470,  1645,   284,   502,    13,   887,   994,\n",
       "           356,   389,  3375,   546,    13,  3894,    11,  2644,  7456,    12,\n",
       "          7456,    13,   198,    39]])"
      ]
     },
     "execution_count": 125,
     "metadata": {},
     "output_type": "execute_result"
    }
   ],
   "source": [
    "num_sequences = 5\n",
    "length = 40\n",
    "\n",
    "generated_sequences = model.generate(\n",
    "    input_ids=encoded_prompt,\n",
    "    do_sample=True,\n",
    "    max_length=length + len(encoded_prompt[0]),\n",
    "    temperature=1.0,\n",
    "    top_k=0,\n",
    "    top_p=0.9,\n",
    "    repetition_penalty=1.0,\n",
    "    num_return_sequences=num_sequences,\n",
    ")\n",
    "\n",
    "generated_sequences"
   ]
  },
  {
   "cell_type": "code",
   "execution_count": 126,
   "id": "9941b7c7",
   "metadata": {},
   "outputs": [
    {
     "name": "stdout",
     "output_type": "stream",
     "text": [
      "Now cracks a noble heart. Good night, sweet prince,\n",
      "            and flights of angels sing thee to thy rest.\n",
      "\n",
      "This man, thou vice-man, justice is proud of thee! shall so much hurt thee. And if you shall not provide for thy losses, thy conduct shall be what it is,\n",
      "--------------------------------------------------------------------------------\n",
      "Now cracks a noble heart. Good night, sweet prince,\n",
      "            and flights of angels sing thee to thy rest.\n",
      "\n",
      "In honour of the 16th Blood of Thorns\n",
      "\n",
      "O sweet prince of thine heart! Your lordship,\n",
      "\n",
      "By this, I have come to ask your aid and in\n",
      "--------------------------------------------------------------------------------\n",
      "Now cracks a noble heart. Good night, sweet prince,\n",
      "            and flights of angels sing thee to thy rest. And for this land be not condemned. Therefore, this land be pardoned, an day a year. To men, if thou be willing to say this, There are of thee four treasures which are\n",
      "--------------------------------------------------------------------------------\n",
      "Now cracks a noble heart. Good night, sweet prince,\n",
      "            and flights of angels sing thee to thy rest. O thou with praises and thanksgiving, sweet prince, let us soon pass the end of the Great Auspicious Life.\n",
      "\n",
      "29 O Lady, and Lord the Evil Queen, forgive me,\n",
      "--------------------------------------------------------------------------------\n",
      "Now cracks a noble heart. Good night, sweet prince,\n",
      "            and flights of angels sing thee to thy rest. Oh, it's rather funny it'd be, uhh... Oh... That's what didn't happen to me. But here we are talking about. Well,...uh-uh.\n",
      "H\n",
      "--------------------------------------------------------------------------------\n"
     ]
    }
   ],
   "source": [
    "for sequence in generated_sequences:\n",
    "    text = tokenizer.decode(sequence, clean_up_tokenization_spaces=True)\n",
    "    print(text)\n",
    "    print(\"-\" * 80)"
   ]
  },
  {
   "cell_type": "code",
   "execution_count": null,
   "id": "9030a87b",
   "metadata": {},
   "outputs": [],
   "source": []
  }
 ],
 "metadata": {
  "kernelspec": {
   "display_name": "Python 3 (ipykernel)",
   "language": "python",
   "name": "python3"
  },
  "language_info": {
   "codemirror_mode": {
    "name": "ipython",
    "version": 3
   },
   "file_extension": ".py",
   "mimetype": "text/x-python",
   "name": "python",
   "nbconvert_exporter": "python",
   "pygments_lexer": "ipython3",
   "version": "3.9.5"
  }
 },
 "nbformat": 4,
 "nbformat_minor": 5
}
