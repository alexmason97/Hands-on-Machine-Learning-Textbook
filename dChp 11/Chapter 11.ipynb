{
 "cells": [
  {
   "cell_type": "markdown",
   "id": "8c2b00c0",
   "metadata": {},
   "source": [
    "# Chapter 11: Training Deep Neural Networks"
   ]
  },
  {
   "cell_type": "markdown",
   "id": "39ca5e7b",
   "metadata": {},
   "source": [
    "### Ensure GPU Env is working correctly"
   ]
  },
  {
   "cell_type": "code",
   "execution_count": 1,
   "id": "712d214d",
   "metadata": {},
   "outputs": [],
   "source": [
    "import tensorflow as tf\n",
    "import os\n",
    "from tensorflow import keras"
   ]
  },
  {
   "cell_type": "code",
   "execution_count": 2,
   "id": "f9b145fe",
   "metadata": {},
   "outputs": [
    {
     "data": {
      "text/plain": [
       "'2.1.0'"
      ]
     },
     "execution_count": 2,
     "metadata": {},
     "output_type": "execute_result"
    }
   ],
   "source": [
    "tf.__version__"
   ]
  },
  {
   "cell_type": "code",
   "execution_count": 3,
   "id": "296ae8ae",
   "metadata": {},
   "outputs": [
    {
     "data": {
      "text/plain": [
       "'2.2.4-tf'"
      ]
     },
     "execution_count": 3,
     "metadata": {},
     "output_type": "execute_result"
    }
   ],
   "source": [
    "keras.__version__"
   ]
  },
  {
   "cell_type": "code",
   "execution_count": 4,
   "id": "869446cf",
   "metadata": {},
   "outputs": [
    {
     "name": "stdout",
     "output_type": "stream",
     "text": [
      "Num of GPUs Available:  1\n"
     ]
    }
   ],
   "source": [
    "print(\"Num of GPUs Available: \", len(tf.config.experimental.list_physical_devices('GPU')))"
   ]
  },
  {
   "cell_type": "code",
   "execution_count": 5,
   "id": "62d0f345",
   "metadata": {},
   "outputs": [
    {
     "data": {
      "text/plain": [
       "'3.6.13 |Anaconda, Inc.| (default, Mar 16 2021, 11:37:27) [MSC v.1916 64 bit (AMD64)]'"
      ]
     },
     "execution_count": 5,
     "metadata": {},
     "output_type": "execute_result"
    }
   ],
   "source": [
    "import sys\n",
    "import os\n",
    "import warnings\n",
    "sys.version"
   ]
  },
  {
   "cell_type": "markdown",
   "id": "3e29c5d3",
   "metadata": {},
   "source": [
    "## Visualization fo the Vanishing/Exploding Gradients Problem "
   ]
  },
  {
   "cell_type": "code",
   "execution_count": 6,
   "id": "2a433a60",
   "metadata": {},
   "outputs": [],
   "source": [
    "import numpy as np \n",
    "def logit(z):\n",
    "    return 1 / (1 + np.exp(-z))"
   ]
  },
  {
   "cell_type": "code",
   "execution_count": 7,
   "id": "b463ff01",
   "metadata": {},
   "outputs": [
    {
     "data": {
      "image/png": "[encoded data removed]",
      "text/plain": [
       "<Figure size 432x288 with 1 Axes>"
      ]
     },
     "metadata": {
      "needs_background": "light"
     },
     "output_type": "display_data"
    }
   ],
   "source": [
    "import matplotlib as mpl\n",
    "import matplotlib.pyplot as plt\n",
    "%matplotlib inline\n",
    "\n",
    "z = np.linspace(-5, 5, 200)\n",
    "\n",
    "plt.plot([-5, 5], [0, 0], 'k-')\n",
    "plt.plot([-5, 5], [1, 1], 'k--')\n",
    "plt.plot([0, 0], [-0.2, 1.2], 'k-')\n",
    "plt.plot([-5, 5], [-3/4, 7/4], 'g--')\n",
    "plt.plot(z, logit(z), \"b-\", linewidth=2)\n",
    "props = dict(facecolor='black', shrink=0.1)\n",
    "plt.annotate('Saturating', xytext=(3.5, 0.7), xy=(5, 1), arrowprops=props, fontsize=14, ha=\"center\")\n",
    "plt.annotate('Saturating', xytext=(-3.5, 0.3), xy=(-5, 0), arrowprops=props, fontsize=14, ha=\"center\")\n",
    "plt.annotate('Linear', xytext=(2, 0.2), xy=(0, 0.5), arrowprops=props, fontsize=14, ha=\"center\")\n",
    "plt.grid(True)\n",
    "plt.title(\"Sigmoid activation function\", fontsize=14)\n",
    "plt.axis([-5, 5, -0.2, 1.2])\n",
    "\n",
    "plt.show()"
   ]
  },
  {
   "cell_type": "markdown",
   "id": "9bcb293f",
   "metadata": {},
   "source": [
    "## List of Initializers in Keras"
   ]
  },
  {
   "cell_type": "code",
   "execution_count": 8,
   "id": "247984a8",
   "metadata": {},
   "outputs": [
    {
     "data": {
      "text/plain": [
       "['Constant',\n",
       " 'GlorotNormal',\n",
       " 'GlorotUniform',\n",
       " 'Identity',\n",
       " 'Initializer',\n",
       " 'Ones',\n",
       " 'Orthogonal',\n",
       " 'RandomNormal',\n",
       " 'RandomUniform',\n",
       " 'TruncatedNormal',\n",
       " 'VarianceScaling',\n",
       " 'Zeros',\n",
       " 'constant',\n",
       " 'deserialize',\n",
       " 'get',\n",
       " 'glorot_normal',\n",
       " 'glorot_uniform',\n",
       " 'he_normal',\n",
       " 'he_uniform',\n",
       " 'identity',\n",
       " 'lecun_normal',\n",
       " 'lecun_uniform',\n",
       " 'ones',\n",
       " 'orthogonal',\n",
       " 'serialize',\n",
       " 'zeros']"
      ]
     },
     "execution_count": 8,
     "metadata": {},
     "output_type": "execute_result"
    }
   ],
   "source": [
    "[name for name in dir(keras.initializers) if not name.startswith(\"_\")]"
   ]
  },
  {
   "cell_type": "markdown",
   "id": "586891cb",
   "metadata": {},
   "source": [
    "### Example of He Initialization with Keras"
   ]
  },
  {
   "cell_type": "markdown",
   "id": "bef76ba7",
   "metadata": {},
   "source": [
    "One way of alleviating unstable gradients is using He Initialization with specifically equal numbers of inputs and neurons (or close in this case). These numbers are called the *fan-in* and the *fan-out* of the layer. Normally this is almost impossible to do, but in our case we use a variance equation where we have 2/*fan-in* to help with our initialization strategy. This he normalization is implemented in keras below:"
   ]
  },
  {
   "cell_type": "code",
   "execution_count": 9,
   "id": "52fb9d1f",
   "metadata": {},
   "outputs": [
    {
     "data": {
      "text/plain": [
       "<tensorflow.python.keras.layers.core.Dense at 0x17957775a20>"
      ]
     },
     "execution_count": 9,
     "metadata": {},
     "output_type": "execute_result"
    }
   ],
   "source": [
    "keras.layers.Dense(10, activation=\"relu\", kernel_initializer=\"he_normal\")"
   ]
  },
  {
   "cell_type": "code",
   "execution_count": 10,
   "id": "5573d64e",
   "metadata": {},
   "outputs": [
    {
     "data": {
      "text/plain": [
       "<tensorflow.python.keras.layers.core.Dense at 0x179577911d0>"
      ]
     },
     "execution_count": 10,
     "metadata": {},
     "output_type": "execute_result"
    }
   ],
   "source": [
    "# can also change so we are using fav-avg instead of fan-in for variance scaling\n",
    "init = keras.initializers.VarianceScaling(scale=2., mode='fan_avg',\n",
    "                                          distribution='uniform')\n",
    "keras.layers.Dense(10, activation=\"relu\", kernel_initializer=init)"
   ]
  },
  {
   "cell_type": "markdown",
   "id": "94df3397",
   "metadata": {},
   "source": [
    "## Examples of Nonsaturing Activation Functions"
   ]
  },
  {
   "cell_type": "code",
   "execution_count": 11,
   "id": "345315fa",
   "metadata": {},
   "outputs": [],
   "source": [
    "# Leaky ReLU\n",
    "def leaky_reLU(z, alpha=0.01):\n",
    "    return np.maximum(alpha*z, z)"
   ]
  },
  {
   "cell_type": "code",
   "execution_count": 12,
   "id": "88195546",
   "metadata": {},
   "outputs": [
    {
     "data": {
      "text/plain": [
       "(-5.0, 5.0, -0.5, 4.3)"
      ]
     },
     "execution_count": 12,
     "metadata": {},
     "output_type": "execute_result"
    },
    {
     "data": {
      "image/png": "[encoded data removed]",
      "text/plain": [
       "<Figure size 432x288 with 1 Axes>"
      ]
     },
     "metadata": {
      "needs_background": "light"
     },
     "output_type": "display_data"
    }
   ],
   "source": [
    "plt.plot(z, leaky_reLU(z, 0.05), \"b-\", linewidth=2)\n",
    "plt.plot([-5, 5], [0, 0], 'k-')\n",
    "plt.plot([0, 0], [-0.5, 4.3], 'k-')\n",
    "plt.grid(True)\n",
    "props = dict(facecolor='black', shrink=0.1)\n",
    "plt.annotate('Leak', xytext=(-3.5, 0.4), xy=(-5, -0.2), arrowprops=props, fontsize=14, ha=\"center\")\n",
    "plt.title(\"Leaky ReLU activation function\", fontsize=14)\n",
    "plt.axis([-5, 5, -0.5, 4.3])"
   ]
  },
  {
   "cell_type": "markdown",
   "id": "f28410e4",
   "metadata": {},
   "source": [
    "## List of Activation Function in Keras"
   ]
  },
  {
   "cell_type": "code",
   "execution_count": 13,
   "id": "e0072012",
   "metadata": {},
   "outputs": [
    {
     "data": {
      "text/plain": [
       "['deserialize',\n",
       " 'elu',\n",
       " 'exponential',\n",
       " 'get',\n",
       " 'hard_sigmoid',\n",
       " 'linear',\n",
       " 'relu',\n",
       " 'selu',\n",
       " 'serialize',\n",
       " 'sigmoid',\n",
       " 'softmax',\n",
       " 'softplus',\n",
       " 'softsign',\n",
       " 'tanh']"
      ]
     },
     "execution_count": 13,
     "metadata": {},
     "output_type": "execute_result"
    }
   ],
   "source": [
    "[m for m in dir(keras.activations) if not m.startswith(\"_\")]"
   ]
  },
  {
   "cell_type": "code",
   "execution_count": 14,
   "id": "437cb591",
   "metadata": {},
   "outputs": [
    {
     "data": {
      "text/plain": [
       "['LeakyReLU', 'PReLU', 'ReLU', 'ThresholdedReLU']"
      ]
     },
     "execution_count": 14,
     "metadata": {},
     "output_type": "execute_result"
    }
   ],
   "source": [
    "# ReLU Activation Functions\n",
    "[m for m in dir(keras.layers) if \"relu\" in m.lower()]"
   ]
  },
  {
   "cell_type": "markdown",
   "id": "2f6815c6",
   "metadata": {},
   "source": [
    "### Training a Neural Network - Fashion Dataset with He Normalizatoin and Leaky ReLU Activation"
   ]
  },
  {
   "cell_type": "code",
   "execution_count": 15,
   "id": "87225a45",
   "metadata": {},
   "outputs": [],
   "source": [
    "(X_train_full, y_train_full), (X_test, y_test) = keras.datasets.fashion_mnist.load_data()\n",
    "X_train_full = X_train_full / 255.0\n",
    "X_test = X_test / 255.0\n",
    "X_val, X_train = X_train_full[:5000], X_train_full[5000:]\n",
    "y_val, y_train = y_train_full[:5000], y_train_full[5000:]"
   ]
  },
  {
   "cell_type": "code",
   "execution_count": 16,
   "id": "f75ca8ed",
   "metadata": {},
   "outputs": [],
   "source": [
    "K = keras.backend\n",
    "\n",
    "class ExponentialLearningRate(keras.callbacks.Callback):\n",
    "    def __init__(self, factor):\n",
    "        self.factor = factor\n",
    "        self.rates = [] #rates array\n",
    "        self.losses = [] # losses array\n",
    "    def on_batch_end(self, batch, logs):\n",
    "        self.rates.append(K.get_value(self.model.optimizer.learning_rate)) # append learning rate to array\n",
    "        self.losses.append(logs[\"loss\"]) # append loss value to array\n",
    "        K.set_value(self.model.optimizer.learning_rate, self.model.optimizer.learning_rate * self.factor)"
   ]
  },
  {
   "cell_type": "code",
   "execution_count": 17,
   "id": "2f5cf047",
   "metadata": {},
   "outputs": [],
   "source": [
    "model = keras.models.Sequential([\n",
    "    keras.layers.Flatten(input_shape=[28, 28]),\n",
    "    keras.layers.Dense(300, kernel_initializer=\"he_normal\"),\n",
    "    keras.layers.LeakyReLU(),\n",
    "    keras.layers.Dense(100, kernel_initializer=\"he_normal\"),\n",
    "    keras.layers.LeakyReLU(),\n",
    "    keras.layers.Dense(10, activation=\"softmax\")\n",
    "])"
   ]
  },
  {
   "cell_type": "code",
   "execution_count": 18,
   "id": "7d06641b",
   "metadata": {},
   "outputs": [],
   "source": [
    "model.compile(loss=\"sparse_categorical_crossentropy\",\n",
    "              optimizer=keras.optimizers.SGD(learning_rate=1e-3),\n",
    "              metrics=[\"accuracy\"])\n",
    "expon_lr = ExponentialLearningRate(factor=1.01)"
   ]
  },
  {
   "cell_type": "code",
   "execution_count": 19,
   "id": "2e688d13",
   "metadata": {},
   "outputs": [
    {
     "name": "stdout",
     "output_type": "stream",
     "text": [
      "Train on 55000 samples, validate on 5000 samples\n",
      "55000/55000 [==============================] - 54s 975us/sample - loss: nan - accuracy: 0.2794 - val_loss: nan - val_accuracy: 0.0914\n"
     ]
    }
   ],
   "source": [
    "history = model.fit(X_train, y_train, epochs=1,\n",
    "                    validation_data=(X_val, y_val),\n",
    "                    callbacks=[expon_lr])"
   ]
  },
  {
   "cell_type": "code",
   "execution_count": 20,
   "id": "476c64bd",
   "metadata": {},
   "outputs": [
    {
     "data": {
      "text/plain": [
       "Text(0, 0.5, 'Loss')"
      ]
     },
     "execution_count": 20,
     "metadata": {},
     "output_type": "execute_result"
    },
    {
     "data": {
      "image/png": "[encoded data removed]",
      "text/plain": [
       "<Figure size 432x288 with 1 Axes>"
      ]
     },
     "metadata": {
      "needs_background": "light"
     },
     "output_type": "display_data"
    }
   ],
   "source": [
    "plt.plot(expon_lr.rates, expon_lr.losses)\n",
    "plt.gca().set_xscale('log')\n",
    "plt.hlines(min(expon_lr.losses), min(expon_lr.rates), max(expon_lr.rates))\n",
    "plt.axis([min(expon_lr.rates), max(expon_lr.rates), 0, expon_lr.losses[0]])\n",
    "plt.grid()\n",
    "plt.xlabel(\"Learning rate\")\n",
    "plt.ylabel(\"Loss\")"
   ]
  },
  {
   "cell_type": "code",
   "execution_count": 21,
   "id": "1690044b",
   "metadata": {},
   "outputs": [
    {
     "data": {
      "text/plain": [
       "'.\\\\my_leakyReLU_logs\\\\run_2022_01_17-21_21_37'"
      ]
     },
     "execution_count": 21,
     "metadata": {},
     "output_type": "execute_result"
    }
   ],
   "source": [
    "# Log to library to view later with tensorboard\n",
    "root_logdir = os.path.join(os.curdir, \"my_leakyReLU_logs\")\n",
    "\n",
    "def get_run_logdir():\n",
    "    import time\n",
    "    run_id = time.strftime(\"run_%Y_%m_%d-%H_%M_%S\")\n",
    "    return os.path.join(root_logdir, run_id)\n",
    "\n",
    "run_logdir = get_run_logdir()\n",
    "run_logdir"
   ]
  },
  {
   "cell_type": "code",
   "execution_count": 22,
   "id": "1729d657",
   "metadata": {},
   "outputs": [],
   "source": [
    "model = keras.models.Sequential([\n",
    "    keras.layers.Flatten(input_shape=[28, 28]),\n",
    "    keras.layers.Dense(300, kernel_initializer=\"he_normal\"),\n",
    "    keras.layers.LeakyReLU(),\n",
    "    keras.layers.Dense(100, kernel_initializer=\"he_normal\"),\n",
    "    keras.layers.LeakyReLU(),\n",
    "    keras.layers.Dense(10, activation=\"softmax\")\n",
    "])"
   ]
  },
  {
   "cell_type": "code",
   "execution_count": 23,
   "id": "dcf9c577",
   "metadata": {},
   "outputs": [],
   "source": [
    "model.compile(loss=\"sparse_categorical_crossentropy\",\n",
    "              optimizer=keras.optimizers.SGD(learning_rate=10e-2),\n",
    "              metrics=[\"accuracy\"])"
   ]
  },
  {
   "cell_type": "code",
   "execution_count": 24,
   "id": "26d06ff4",
   "metadata": {},
   "outputs": [
    {
     "name": "stdout",
     "output_type": "stream",
     "text": [
      "Train on 55000 samples, validate on 5000 samples\n",
      "Epoch 1/10\n",
      "55000/55000 [==============================] - 5s 83us/sample - loss: 0.5290 - accuracy: 0.8083 - val_loss: 0.4024 - val_accuracy: 0.8536\n",
      "Epoch 2/10\n",
      "55000/55000 [==============================] - 4s 77us/sample - loss: 0.4000 - accuracy: 0.8530 - val_loss: 0.3815 - val_accuracy: 0.8640\n",
      "Epoch 3/10\n",
      "55000/55000 [==============================] - 4s 77us/sample - loss: 0.3636 - accuracy: 0.8667 - val_loss: 0.3698 - val_accuracy: 0.8622\n",
      "Epoch 4/10\n",
      "55000/55000 [==============================] - 4s 77us/sample - loss: 0.3422 - accuracy: 0.8738 - val_loss: 0.3536 - val_accuracy: 0.8714\n",
      "Epoch 5/10\n",
      "55000/55000 [==============================] - 4s 77us/sample - loss: 0.3239 - accuracy: 0.8811 - val_loss: 0.3334 - val_accuracy: 0.8786\n",
      "Epoch 6/10\n",
      "55000/55000 [==============================] - 4s 81us/sample - loss: 0.3113 - accuracy: 0.8855 - val_loss: 0.3300 - val_accuracy: 0.8780\n",
      "Epoch 7/10\n",
      "55000/55000 [==============================] - 4s 81us/sample - loss: 0.3000 - accuracy: 0.8890 - val_loss: 0.3222 - val_accuracy: 0.8774\n",
      "Epoch 8/10\n",
      "55000/55000 [==============================] - 4s 75us/sample - loss: 0.2896 - accuracy: 0.8913 - val_loss: 0.3095 - val_accuracy: 0.8912\n",
      "Epoch 9/10\n",
      "55000/55000 [==============================] - 4s 79us/sample - loss: 0.2802 - accuracy: 0.8949 - val_loss: 0.3559 - val_accuracy: 0.8740\n",
      "Epoch 10/10\n",
      "55000/55000 [==============================] - 4s 81us/sample - loss: 0.2715 - accuracy: 0.8988 - val_loss: 0.2944 - val_accuracy: 0.8960\n"
     ]
    }
   ],
   "source": [
    "tensorboard_cb = keras.callbacks.TensorBoard(run_logdir)\n",
    "\n",
    "history = model.fit(X_train, y_train, epochs=10,\n",
    "                    validation_data=(X_val, y_val),\n",
    "                    callbacks=[tensorboard_cb])"
   ]
  },
  {
   "cell_type": "code",
   "execution_count": 109,
   "id": "3da6160f",
   "metadata": {},
   "outputs": [
    {
     "name": "stdout",
     "output_type": "stream",
     "text": [
      "The tensorboard extension is already loaded. To reload it, use:\n",
      "  %reload_ext tensorboard\n"
     ]
    },
    {
     "data": {
      "text/plain": [
       "Reusing TensorBoard on port 6008 (pid 11900), started 0:30:24 ago. (Use '!kill 11900' to kill it.)"
      ]
     },
     "metadata": {},
     "output_type": "display_data"
    },
    {
     "data": {
      "text/html": [
       "\n",
       "      <iframe id=\"tensorboard-frame-734fe529f671c336\" width=\"100%\" height=\"800\" frameborder=\"0\">\n",
       "      </iframe>\n",
       "      <script>\n",
       "        (function() {\n",
       "          const frame = document.getElementById(\"tensorboard-frame-734fe529f671c336\");\n",
       "          const url = new URL(\"/\", window.location);\n",
       "          const port = 6008;\n",
       "          if (port) {\n",
       "            url.port = port;\n",
       "          }\n",
       "          frame.src = url;\n",
       "        })();\n",
       "      </script>\n",
       "    "
      ],
      "text/plain": [
       "<IPython.core.display.HTML object>"
      ]
     },
     "metadata": {},
     "output_type": "display_data"
    }
   ],
   "source": [
    "%load_ext tensorboard\n",
    "%tensorboard --logdir=./my_leakyReLU_logs --port=6008"
   ]
  },
  {
   "cell_type": "markdown",
   "id": "f671d557",
   "metadata": {},
   "source": [
    "## PReLU"
   ]
  },
  {
   "cell_type": "code",
   "execution_count": 26,
   "id": "1e5e750d",
   "metadata": {},
   "outputs": [],
   "source": [
    "model = keras.models.Sequential([\n",
    "    keras.layers.Flatten(input_shape=[28, 28]),\n",
    "    keras.layers.Dense(300, kernel_initializer=\"he_normal\"),\n",
    "    keras.layers.PReLU(),\n",
    "    keras.layers.Dense(100, kernel_initializer=\"he_normal\"),\n",
    "    keras.layers.PReLU(),\n",
    "    keras.layers.Dense(10, activation=\"softmax\")\n",
    "])"
   ]
  },
  {
   "cell_type": "code",
   "execution_count": 27,
   "id": "129592e3",
   "metadata": {},
   "outputs": [],
   "source": [
    "model.compile(loss=\"sparse_categorical_crossentropy\",\n",
    "              optimizer=keras.optimizers.SGD(learning_rate=1e-3),\n",
    "              metrics=[\"accuracy\"])\n",
    "expon_lr2 = ExponentialLearningRate(factor=1.01)"
   ]
  },
  {
   "cell_type": "code",
   "execution_count": 28,
   "id": "3ed3a669",
   "metadata": {},
   "outputs": [
    {
     "name": "stdout",
     "output_type": "stream",
     "text": [
      "Train on 55000 samples, validate on 5000 samples\n",
      "55000/55000 [==============================] - 5s 97us/sample - loss: nan - accuracy: 0.2855 - val_loss: nan - val_accuracy: 0.0914\n"
     ]
    }
   ],
   "source": [
    "history = model.fit(X_train, y_train, epochs=1,\n",
    "                    validation_data=(X_val, y_val),\n",
    "                    callbacks=[expon_lr2])"
   ]
  },
  {
   "cell_type": "code",
   "execution_count": 29,
   "id": "95c6adf4",
   "metadata": {},
   "outputs": [
    {
     "data": {
      "text/plain": [
       "Text(0, 0.5, 'Loss')"
      ]
     },
     "execution_count": 29,
     "metadata": {},
     "output_type": "execute_result"
    },
    {
     "data": {
      "image/png": "[encoded data removed]",
      "text/plain": [
       "<Figure size 432x288 with 1 Axes>"
      ]
     },
     "metadata": {
      "needs_background": "light"
     },
     "output_type": "display_data"
    }
   ],
   "source": [
    "plt.plot(expon_lr2.rates, expon_lr2.losses)\n",
    "plt.gca().set_xscale('log')\n",
    "plt.hlines(min(expon_lr2.losses), min(expon_lr2.rates), max(expon_lr2.rates))\n",
    "plt.axis([min(expon_lr2.rates), max(expon_lr2.rates), 0, expon_lr2.losses[0]])\n",
    "plt.grid()\n",
    "plt.xlabel(\"Learning rate\")\n",
    "plt.ylabel(\"Loss\")"
   ]
  },
  {
   "cell_type": "code",
   "execution_count": 30,
   "id": "bedcc890",
   "metadata": {},
   "outputs": [
    {
     "data": {
      "text/plain": [
       "'.\\\\my_leakyReLU_logs\\\\run_2022_01_17-21_22_26'"
      ]
     },
     "execution_count": 30,
     "metadata": {},
     "output_type": "execute_result"
    }
   ],
   "source": [
    "run_logdir2 = get_run_logdir()\n",
    "run_logdir2"
   ]
  },
  {
   "cell_type": "code",
   "execution_count": 31,
   "id": "9171d589",
   "metadata": {},
   "outputs": [],
   "source": [
    "model = keras.models.Sequential([\n",
    "    keras.layers.Flatten(input_shape=[28, 28]),\n",
    "    keras.layers.Dense(300, kernel_initializer=\"he_normal\"),\n",
    "    keras.layers.PReLU(),\n",
    "    keras.layers.Dense(100, kernel_initializer=\"he_normal\"),\n",
    "    keras.layers.PReLU(),\n",
    "    keras.layers.Dense(10, activation=\"softmax\")\n",
    "])"
   ]
  },
  {
   "cell_type": "code",
   "execution_count": 32,
   "id": "48bac164",
   "metadata": {},
   "outputs": [],
   "source": [
    "model.compile(loss=\"sparse_categorical_crossentropy\",\n",
    "              optimizer=keras.optimizers.SGD(learning_rate=10e-2),\n",
    "              metrics=[\"accuracy\"])"
   ]
  },
  {
   "cell_type": "code",
   "execution_count": 33,
   "id": "1825199a",
   "metadata": {},
   "outputs": [
    {
     "name": "stdout",
     "output_type": "stream",
     "text": [
      "Train on 55000 samples, validate on 5000 samples\n",
      "Epoch 1/10\n",
      "55000/55000 [==============================] - 5s 90us/sample - loss: 0.5353 - accuracy: 0.8076 - val_loss: 0.3849 - val_accuracy: 0.8548\n",
      "Epoch 2/10\n",
      "55000/55000 [==============================] - 5s 86us/sample - loss: 0.3910 - accuracy: 0.8568 - val_loss: 0.3670 - val_accuracy: 0.8670\n",
      "Epoch 3/10\n",
      "55000/55000 [==============================] - 4s 81us/sample - loss: 0.3490 - accuracy: 0.8698 - val_loss: 0.3514 - val_accuracy: 0.8700\n",
      "Epoch 4/10\n",
      "55000/55000 [==============================] - 4s 77us/sample - loss: 0.3214 - accuracy: 0.8795 - val_loss: 0.3210 - val_accuracy: 0.8822\n",
      "Epoch 5/10\n",
      "55000/55000 [==============================] - 4s 79us/sample - loss: 0.3018 - accuracy: 0.8874 - val_loss: 0.3210 - val_accuracy: 0.8780\n",
      "Epoch 6/10\n",
      "55000/55000 [==============================] - 5s 82us/sample - loss: 0.2857 - accuracy: 0.8942 - val_loss: 0.3227 - val_accuracy: 0.8816\n",
      "Epoch 7/10\n",
      "55000/55000 [==============================] - 5s 83us/sample - loss: 0.2741 - accuracy: 0.8970 - val_loss: 0.3001 - val_accuracy: 0.8898\n",
      "Epoch 8/10\n",
      "55000/55000 [==============================] - 5s 83us/sample - loss: 0.2613 - accuracy: 0.9010 - val_loss: 0.3263 - val_accuracy: 0.8786\n",
      "Epoch 9/10\n",
      "55000/55000 [==============================] - 5s 84us/sample - loss: 0.2543 - accuracy: 0.9025 - val_loss: 0.3007 - val_accuracy: 0.8886\n",
      "Epoch 10/10\n",
      "55000/55000 [==============================] - 5s 83us/sample - loss: 0.2438 - accuracy: 0.9084 - val_loss: 0.2812 - val_accuracy: 0.8956\n"
     ]
    }
   ],
   "source": [
    "tensorboard_cb = keras.callbacks.TensorBoard(run_logdir2)\n",
    "\n",
    "history2 = model.fit(X_train, y_train, epochs=10,\n",
    "                    validation_data=(X_val, y_val),\n",
    "                    callbacks=[tensorboard_cb])"
   ]
  },
  {
   "cell_type": "code",
   "execution_count": 110,
   "id": "660fcccf",
   "metadata": {},
   "outputs": [
    {
     "data": {
      "text/plain": [
       "Reusing TensorBoard on port 6008 (pid 11900), started 0:30:37 ago. (Use '!kill 11900' to kill it.)"
      ]
     },
     "metadata": {},
     "output_type": "display_data"
    },
    {
     "data": {
      "text/html": [
       "\n",
       "      <iframe id=\"tensorboard-frame-1cd80b812c5c234c\" width=\"100%\" height=\"800\" frameborder=\"0\">\n",
       "      </iframe>\n",
       "      <script>\n",
       "        (function() {\n",
       "          const frame = document.getElementById(\"tensorboard-frame-1cd80b812c5c234c\");\n",
       "          const url = new URL(\"/\", window.location);\n",
       "          const port = 6008;\n",
       "          if (port) {\n",
       "            url.port = port;\n",
       "          }\n",
       "          frame.src = url;\n",
       "        })();\n",
       "      </script>\n",
       "    "
      ],
      "text/plain": [
       "<IPython.core.display.HTML object>"
      ]
     },
     "metadata": {},
     "output_type": "display_data"
    }
   ],
   "source": [
    "%tensorboard --logdir=./my_leakyReLU_logs --port=6008"
   ]
  },
  {
   "cell_type": "markdown",
   "id": "32b9c5fc",
   "metadata": {},
   "source": [
    "## ELU"
   ]
  },
  {
   "cell_type": "code",
   "execution_count": 35,
   "id": "0cb0b93b",
   "metadata": {},
   "outputs": [],
   "source": [
    "def elu(z, alpha=1):\n",
    "    return np.where(z < 0, alpha * (np.exp(z) - 1), z)"
   ]
  },
  {
   "cell_type": "code",
   "execution_count": 36,
   "id": "25060736",
   "metadata": {},
   "outputs": [
    {
     "data": {
      "image/png": "[encoded data removed]",
      "text/plain": [
       "<Figure size 432x288 with 1 Axes>"
      ]
     },
     "metadata": {
      "needs_background": "light"
     },
     "output_type": "display_data"
    }
   ],
   "source": [
    "plt.plot(z, elu(z), \"b-\", linewidth=2)\n",
    "plt.plot([-5, 5], [0, 0], 'k-')\n",
    "plt.plot([-5, 5], [-1, -1], 'k--')\n",
    "plt.plot([0, 0], [-2.2, 3.2], 'k-')\n",
    "plt.grid(True)\n",
    "plt.title(r\"ELU activation function ($\\alpha=1$)\", fontsize=14)\n",
    "plt.axis([-5, 5, -2.2, 3.2])\n",
    "\n",
    "plt.show()"
   ]
  },
  {
   "cell_type": "code",
   "execution_count": 37,
   "id": "550fcc63",
   "metadata": {},
   "outputs": [],
   "source": [
    "model = keras.models.Sequential([\n",
    "    keras.layers.Flatten(input_shape=[28, 28]),\n",
    "    keras.layers.Dense(300, kernel_initializer=\"he_normal\"),\n",
    "    keras.layers.ELU(),\n",
    "    keras.layers.Dense(100, kernel_initializer=\"he_normal\"),\n",
    "    keras.layers.ELU(),\n",
    "    keras.layers.Dense(10, activation=\"softmax\")\n",
    "])"
   ]
  },
  {
   "cell_type": "code",
   "execution_count": 38,
   "id": "2e38fee2",
   "metadata": {},
   "outputs": [],
   "source": [
    "model.compile(loss=\"sparse_categorical_crossentropy\",\n",
    "              optimizer=keras.optimizers.SGD(learning_rate=1e-3),\n",
    "              metrics=[\"accuracy\"])\n",
    "expon_lr3 = ExponentialLearningRate(factor=1.01)"
   ]
  },
  {
   "cell_type": "code",
   "execution_count": 39,
   "id": "a4b22e9d",
   "metadata": {},
   "outputs": [
    {
     "name": "stdout",
     "output_type": "stream",
     "text": [
      "Train on 55000 samples, validate on 5000 samples\n",
      "55000/55000 [==============================] - 5s 91us/sample - loss: 468998158951.5786 - accuracy: 0.2719 - val_loss: 7924474.3856 - val_accuracy: 0.0914\n"
     ]
    }
   ],
   "source": [
    "history = model.fit(X_train, y_train, epochs=1,\n",
    "                    validation_data=(X_val, y_val),\n",
    "                    callbacks=[expon_lr3])"
   ]
  },
  {
   "cell_type": "code",
   "execution_count": 40,
   "id": "bce37b86",
   "metadata": {},
   "outputs": [
    {
     "data": {
      "text/plain": [
       "Text(0, 0.5, 'Loss')"
      ]
     },
     "execution_count": 40,
     "metadata": {},
     "output_type": "execute_result"
    },
    {
     "data": {
      "image/png": "[encoded data removed]",
      "text/plain": [
       "<Figure size 432x288 with 1 Axes>"
      ]
     },
     "metadata": {
      "needs_background": "light"
     },
     "output_type": "display_data"
    }
   ],
   "source": [
    "plt.plot(expon_lr3.rates, expon_lr3.losses)\n",
    "plt.gca().set_xscale('log')\n",
    "plt.hlines(min(expon_lr3.losses), min(expon_lr3.rates), max(expon_lr3.rates))\n",
    "plt.axis([min(expon_lr3.rates), max(expon_lr3.rates), 0, expon_lr3.losses[0]])\n",
    "plt.grid()\n",
    "plt.xlabel(\"Learning rate\")\n",
    "plt.ylabel(\"Loss\")"
   ]
  },
  {
   "cell_type": "code",
   "execution_count": 41,
   "id": "26a313b3",
   "metadata": {},
   "outputs": [
    {
     "data": {
      "text/plain": [
       "'.\\\\my_leakyReLU_logs\\\\run_2022_01_17-21_23_18'"
      ]
     },
     "execution_count": 41,
     "metadata": {},
     "output_type": "execute_result"
    }
   ],
   "source": [
    "run_logdir3 = get_run_logdir()\n",
    "run_logdir3"
   ]
  },
  {
   "cell_type": "code",
   "execution_count": 42,
   "id": "1451a360",
   "metadata": {},
   "outputs": [],
   "source": [
    "model = keras.models.Sequential([\n",
    "    keras.layers.Flatten(input_shape=[28, 28]),\n",
    "    keras.layers.Dense(300, kernel_initializer=\"he_normal\"),\n",
    "    keras.layers.ELU(),\n",
    "    keras.layers.Dense(100, kernel_initializer=\"he_normal\"),\n",
    "    keras.layers.ELU(),\n",
    "    keras.layers.Dense(10, activation=\"softmax\")\n",
    "])"
   ]
  },
  {
   "cell_type": "code",
   "execution_count": 43,
   "id": "9bca1f7f",
   "metadata": {},
   "outputs": [],
   "source": [
    "model.compile(loss=\"sparse_categorical_crossentropy\",\n",
    "              optimizer=keras.optimizers.SGD(learning_rate=10e-2),\n",
    "              metrics=[\"accuracy\"])"
   ]
  },
  {
   "cell_type": "code",
   "execution_count": 44,
   "id": "f4c4c237",
   "metadata": {},
   "outputs": [
    {
     "name": "stdout",
     "output_type": "stream",
     "text": [
      "Train on 55000 samples, validate on 5000 samples\n",
      "Epoch 1/10\n",
      "55000/55000 [==============================] - 5s 87us/sample - loss: 0.5194 - accuracy: 0.8113 - val_loss: 0.3901 - val_accuracy: 0.8638\n",
      "Epoch 2/10\n",
      "55000/55000 [==============================] - 5s 83us/sample - loss: 0.3949 - accuracy: 0.8529 - val_loss: 0.3508 - val_accuracy: 0.8722\n",
      "Epoch 3/10\n",
      "55000/55000 [==============================] - 5s 82us/sample - loss: 0.3576 - accuracy: 0.8678 - val_loss: 0.3468 - val_accuracy: 0.8710\n",
      "Epoch 4/10\n",
      "55000/55000 [==============================] - 5s 82us/sample - loss: 0.3336 - accuracy: 0.8765 - val_loss: 0.3373 - val_accuracy: 0.8718\n",
      "Epoch 5/10\n",
      "55000/55000 [==============================] - 4s 81us/sample - loss: 0.3170 - accuracy: 0.8819 - val_loss: 0.3207 - val_accuracy: 0.8800\n",
      "Epoch 6/10\n",
      "55000/55000 [==============================] - 5s 83us/sample - loss: 0.3016 - accuracy: 0.8871 - val_loss: 0.3331 - val_accuracy: 0.8744\n",
      "Epoch 7/10\n",
      "55000/55000 [==============================] - 5s 82us/sample - loss: 0.2884 - accuracy: 0.8922 - val_loss: 0.3343 - val_accuracy: 0.8778\n",
      "Epoch 8/10\n",
      "55000/55000 [==============================] - 5s 82us/sample - loss: 0.2776 - accuracy: 0.8947 - val_loss: 0.2992 - val_accuracy: 0.8880\n",
      "Epoch 9/10\n",
      "55000/55000 [==============================] - 5s 83us/sample - loss: 0.2675 - accuracy: 0.8989 - val_loss: 0.3102 - val_accuracy: 0.8878\n",
      "Epoch 10/10\n",
      "55000/55000 [==============================] - 5s 85us/sample - loss: 0.2592 - accuracy: 0.9024 - val_loss: 0.3212 - val_accuracy: 0.8860\n"
     ]
    }
   ],
   "source": [
    "tensorboard_cb = keras.callbacks.TensorBoard(run_logdir3)\n",
    "\n",
    "history3 = model.fit(X_train, y_train, epochs=10,\n",
    "                    validation_data=(X_val, y_val),\n",
    "                    callbacks=[tensorboard_cb])"
   ]
  },
  {
   "cell_type": "code",
   "execution_count": 111,
   "id": "9cb01949",
   "metadata": {},
   "outputs": [
    {
     "data": {
      "text/plain": [
       "Reusing TensorBoard on port 6008 (pid 11900), started 0:30:47 ago. (Use '!kill 11900' to kill it.)"
      ]
     },
     "metadata": {},
     "output_type": "display_data"
    },
    {
     "data": {
      "text/html": [
       "\n",
       "      <iframe id=\"tensorboard-frame-fe1d6f82a431e02\" width=\"100%\" height=\"800\" frameborder=\"0\">\n",
       "      </iframe>\n",
       "      <script>\n",
       "        (function() {\n",
       "          const frame = document.getElementById(\"tensorboard-frame-fe1d6f82a431e02\");\n",
       "          const url = new URL(\"/\", window.location);\n",
       "          const port = 6008;\n",
       "          if (port) {\n",
       "            url.port = port;\n",
       "          }\n",
       "          frame.src = url;\n",
       "        })();\n",
       "      </script>\n",
       "    "
      ],
      "text/plain": [
       "<IPython.core.display.HTML object>"
      ]
     },
     "metadata": {},
     "output_type": "display_data"
    }
   ],
   "source": [
    "%tensorboard --logdir=./my_leakyReLU_logs --port=6008"
   ]
  },
  {
   "cell_type": "markdown",
   "id": "e78c3217",
   "metadata": {},
   "source": [
    "## SeLU"
   ]
  },
  {
   "cell_type": "code",
   "execution_count": 46,
   "id": "603e182e",
   "metadata": {},
   "outputs": [],
   "source": [
    "from scipy.special import erfc\n",
    "\n",
    "# alpha and scale to self normalize with mean 0 and standard deviation 1\n",
    "# (see equation 14 in the paper):\n",
    "alpha_0_1 = -np.sqrt(2 / np.pi) / (erfc(1/np.sqrt(2)) * np.exp(1/2) - 1)\n",
    "scale_0_1 = (1 - erfc(1 / np.sqrt(2)) * np.sqrt(np.e)) * np.sqrt(2 * np.pi) * (2 * erfc(np.sqrt(2))*np.e**2 + np.pi*erfc(1/np.sqrt(2))**2*np.e - 2*(2+np.pi)*erfc(1/np.sqrt(2))*np.sqrt(np.e)+np.pi+2)**(-1/2)"
   ]
  },
  {
   "cell_type": "code",
   "execution_count": 47,
   "id": "297b28d6",
   "metadata": {},
   "outputs": [],
   "source": [
    "def selu(z, scale=scale_0_1, alpha=alpha_0_1):\n",
    "    return scale * elu(z, alpha)"
   ]
  },
  {
   "cell_type": "code",
   "execution_count": 48,
   "id": "245e1c87",
   "metadata": {},
   "outputs": [
    {
     "data": {
      "image/png": "[encoded data removed]",
      "text/plain": [
       "<Figure size 432x288 with 1 Axes>"
      ]
     },
     "metadata": {
      "needs_background": "light"
     },
     "output_type": "display_data"
    }
   ],
   "source": [
    "plt.plot(z, selu(z), \"b-\", linewidth=2)\n",
    "plt.plot([-5, 5], [0, 0], 'k-')\n",
    "plt.plot([-5, 5], [-1.758, -1.758], 'k--')\n",
    "plt.plot([0, 0], [-2.2, 3.2], 'k-')\n",
    "plt.grid(True)\n",
    "plt.title(\"SELU activation function\", fontsize=14)\n",
    "plt.axis([-5, 5, -2.2, 3.2])\n",
    "\n",
    "plt.show()"
   ]
  },
  {
   "cell_type": "markdown",
   "id": "f55eb9c4",
   "metadata": {},
   "source": [
    "The SELU Hyperparameters are tuned in a way where the mean of the neurons remain close to 0 and the standard deviation remains close to 1. Here is an email using a simple for loop below:"
   ]
  },
  {
   "cell_type": "code",
   "execution_count": 49,
   "id": "d5c45bf3",
   "metadata": {},
   "outputs": [
    {
     "name": "stdout",
     "output_type": "stream",
     "text": [
      "Layer 0: mean -0.00, std deviation 1.00\n",
      "Layer 100: mean -0.00, std deviation 0.91\n",
      "Layer 200: mean -0.03, std deviation 0.92\n",
      "Layer 300: mean 0.09, std deviation 0.90\n",
      "Layer 400: mean 0.01, std deviation 0.82\n",
      "Layer 500: mean -0.03, std deviation 0.86\n",
      "Layer 600: mean -0.04, std deviation 0.94\n",
      "Layer 700: mean 0.03, std deviation 0.92\n",
      "Layer 800: mean 0.03, std deviation 0.97\n",
      "Layer 900: mean 0.01, std deviation 0.89\n"
     ]
    }
   ],
   "source": [
    "Z = np.random.normal(size=(500, 100)) # standardized inputs\n",
    "for layer in range(1000):\n",
    "    W = np.random.normal(size=(100, 100), scale=np.sqrt(1 / 100)) # LeCun initialization\n",
    "    Z = selu(np.dot(Z, W))\n",
    "    means = np.mean(Z, axis=0).mean()\n",
    "    stds = np.std(Z, axis=0).mean()\n",
    "    if layer % 100 == 0:\n",
    "        print(\"Layer {}: mean {:.2f}, std deviation {:.2f}\".format(layer, means, stds))"
   ]
  },
  {
   "cell_type": "code",
   "execution_count": 50,
   "id": "c7196701",
   "metadata": {},
   "outputs": [],
   "source": [
    "model = keras.models.Sequential([\n",
    "    keras.layers.Flatten(input_shape=[28, 28]),\n",
    "    keras.layers.Dense(300, activation=\"selu\", kernel_initializer=\"lecun_normal\"),\n",
    "    keras.layers.Dense(100, activation=\"selu\", kernel_initializer=\"lecun_normal\"),\n",
    "    keras.layers.Dense(10, activation=\"softmax\")\n",
    "])"
   ]
  },
  {
   "cell_type": "code",
   "execution_count": 51,
   "id": "49379525",
   "metadata": {},
   "outputs": [],
   "source": [
    "model.compile(loss=\"sparse_categorical_crossentropy\",\n",
    "              optimizer=keras.optimizers.SGD(learning_rate=1e-3),\n",
    "              metrics=[\"accuracy\"])\n",
    "expon_lr4 = ExponentialLearningRate(factor=1.01)"
   ]
  },
  {
   "cell_type": "code",
   "execution_count": 52,
   "id": "12b6bcb5",
   "metadata": {},
   "outputs": [
    {
     "name": "stdout",
     "output_type": "stream",
     "text": [
      "Train on 55000 samples, validate on 5000 samples\n",
      "55000/55000 [==============================] - 5s 97us/sample - loss: nan - accuracy: 0.2658 - val_loss: nan - val_accuracy: 0.0914\n"
     ]
    }
   ],
   "source": [
    "history = model.fit(X_train, y_train, epochs=1,\n",
    "                    validation_data=(X_val, y_val),\n",
    "                    callbacks=[expon_lr4])"
   ]
  },
  {
   "cell_type": "code",
   "execution_count": 53,
   "id": "31c6fdab",
   "metadata": {},
   "outputs": [
    {
     "data": {
      "text/plain": [
       "Text(0, 0.5, 'Loss')"
      ]
     },
     "execution_count": 53,
     "metadata": {},
     "output_type": "execute_result"
    },
    {
     "data": {
      "image/png": "[encoded data removed]",
      "text/plain": [
       "<Figure size 432x288 with 1 Axes>"
      ]
     },
     "metadata": {
      "needs_background": "light"
     },
     "output_type": "display_data"
    }
   ],
   "source": [
    "plt.plot(expon_lr4.rates, expon_lr4.losses)\n",
    "plt.gca().set_xscale('log')\n",
    "plt.hlines(min(expon_lr4.losses), min(expon_lr4.rates), max(expon_lr4.rates))\n",
    "plt.axis([min(expon_lr4.rates), max(expon_lr4.rates), 0, expon_lr4.losses[0]])\n",
    "plt.grid()\n",
    "plt.xlabel(\"Learning rate\")\n",
    "plt.ylabel(\"Loss\")"
   ]
  },
  {
   "cell_type": "code",
   "execution_count": 54,
   "id": "2ebdb082",
   "metadata": {},
   "outputs": [
    {
     "data": {
      "text/plain": [
       "'.\\\\my_leakyReLU_logs\\\\run_2022_01_17-21_24_11'"
      ]
     },
     "execution_count": 54,
     "metadata": {},
     "output_type": "execute_result"
    }
   ],
   "source": [
    "run_logdir4 = get_run_logdir()\n",
    "run_logdir4"
   ]
  },
  {
   "cell_type": "code",
   "execution_count": 55,
   "id": "24a9cfb5",
   "metadata": {},
   "outputs": [],
   "source": [
    "model = keras.models.Sequential([\n",
    "    keras.layers.Flatten(input_shape=[28, 28]),\n",
    "    keras.layers.Dense(300, activation=\"selu\", kernel_initializer=\"lecun_normal\"),\n",
    "    keras.layers.Dense(100, activation=\"selu\", kernel_initializer=\"lecun_normal\"),\n",
    "    keras.layers.Dense(10, activation=\"softmax\")\n",
    "])"
   ]
  },
  {
   "cell_type": "code",
   "execution_count": 56,
   "id": "5a3e3338",
   "metadata": {},
   "outputs": [],
   "source": [
    "model.compile(loss=\"sparse_categorical_crossentropy\",\n",
    "              optimizer=keras.optimizers.SGD(learning_rate=10e-2),\n",
    "              metrics=[\"accuracy\"])"
   ]
  },
  {
   "cell_type": "code",
   "execution_count": 57,
   "id": "e2b995c9",
   "metadata": {},
   "outputs": [
    {
     "name": "stdout",
     "output_type": "stream",
     "text": [
      "Train on 55000 samples, validate on 5000 samples\n",
      "Epoch 1/10\n",
      "55000/55000 [==============================] - 5s 87us/sample - loss: 0.5710 - accuracy: 0.7978 - val_loss: 0.4503 - val_accuracy: 0.8340\n",
      "Epoch 2/10\n",
      "55000/55000 [==============================] - 4s 80us/sample - loss: 0.4242 - accuracy: 0.8461 - val_loss: 0.4323 - val_accuracy: 0.8390\n",
      "Epoch 3/10\n",
      "55000/55000 [==============================] - 4s 78us/sample - loss: 0.3884 - accuracy: 0.8580 - val_loss: 0.3969 - val_accuracy: 0.8588\n",
      "Epoch 4/10\n",
      "55000/55000 [==============================] - 5s 84us/sample - loss: 0.3647 - accuracy: 0.8657 - val_loss: 0.3384 - val_accuracy: 0.8790\n",
      "Epoch 5/10\n",
      "55000/55000 [==============================] - 5s 88us/sample - loss: 0.3447 - accuracy: 0.8726 - val_loss: 0.3551 - val_accuracy: 0.8688\n",
      "Epoch 6/10\n",
      "55000/55000 [==============================] - 5s 86us/sample - loss: 0.3324 - accuracy: 0.8775 - val_loss: 0.3597 - val_accuracy: 0.8666\n",
      "Epoch 7/10\n",
      "55000/55000 [==============================] - 5s 83us/sample - loss: 0.3193 - accuracy: 0.8806 - val_loss: 0.3351 - val_accuracy: 0.8728\n",
      "Epoch 8/10\n",
      "55000/55000 [==============================] - 5s 83us/sample - loss: 0.3114 - accuracy: 0.8845 - val_loss: 0.4412 - val_accuracy: 0.8506\n",
      "Epoch 9/10\n",
      "55000/55000 [==============================] - 3s 62us/sample - loss: 0.3012 - accuracy: 0.8887 - val_loss: 0.3523 - val_accuracy: 0.8746\n",
      "Epoch 10/10\n",
      "55000/55000 [==============================] - 4s 73us/sample - loss: 0.2935 - accuracy: 0.8890 - val_loss: 0.3689 - val_accuracy: 0.8686\n"
     ]
    }
   ],
   "source": [
    "tensorboard_cb = keras.callbacks.TensorBoard(run_logdir4)\n",
    "\n",
    "history4 = model.fit(X_train, y_train, epochs=10,\n",
    "                    validation_data=(X_val, y_val),\n",
    "                    callbacks=[tensorboard_cb])"
   ]
  },
  {
   "cell_type": "code",
   "execution_count": 112,
   "id": "8c80eb84",
   "metadata": {},
   "outputs": [
    {
     "data": {
      "text/plain": [
       "Reusing TensorBoard on port 6008 (pid 11900), started 0:30:57 ago. (Use '!kill 11900' to kill it.)"
      ]
     },
     "metadata": {},
     "output_type": "display_data"
    },
    {
     "data": {
      "text/html": [
       "\n",
       "      <iframe id=\"tensorboard-frame-2b6975e92bb99c8b\" width=\"100%\" height=\"800\" frameborder=\"0\">\n",
       "      </iframe>\n",
       "      <script>\n",
       "        (function() {\n",
       "          const frame = document.getElementById(\"tensorboard-frame-2b6975e92bb99c8b\");\n",
       "          const url = new URL(\"/\", window.location);\n",
       "          const port = 6008;\n",
       "          if (port) {\n",
       "            url.port = port;\n",
       "          }\n",
       "          frame.src = url;\n",
       "        })();\n",
       "      </script>\n",
       "    "
      ],
      "text/plain": [
       "<IPython.core.display.HTML object>"
      ]
     },
     "metadata": {},
     "output_type": "display_data"
    }
   ],
   "source": [
    "%tensorboard --logdir=./my_leakyReLU_logs --port=6008"
   ]
  },
  {
   "cell_type": "markdown",
   "id": "ea8c8a15",
   "metadata": {},
   "source": [
    "Now we will attempt to make a large 100 hidden layer network with the SELU Activation Function for the Fashion MNIST dataset:"
   ]
  },
  {
   "cell_type": "code",
   "execution_count": 59,
   "id": "f717cd7a",
   "metadata": {},
   "outputs": [],
   "source": [
    "model = keras.models.Sequential()\n",
    "model.add(keras.layers.Flatten(input_shape=[28, 28]))\n",
    "model.add(keras.layers.Dense(300, activation=\"selu\",\n",
    "                             kernel_initializer=\"lecun_normal\"))\n",
    "for layer in range(99):\n",
    "    model.add(keras.layers.Dense(100, activation=\"selu\",\n",
    "                                 kernel_initializer=\"lecun_normal\"))\n",
    "model.add(keras.layers.Dense(10, activation=\"softmax\"))"
   ]
  },
  {
   "cell_type": "code",
   "execution_count": 60,
   "id": "3efc53a8",
   "metadata": {},
   "outputs": [],
   "source": [
    "model.compile(loss=\"sparse_categorical_crossentropy\",\n",
    "              optimizer=keras.optimizers.SGD(learning_rate=1e-3),\n",
    "              metrics=[\"accuracy\"])"
   ]
  },
  {
   "cell_type": "code",
   "execution_count": 61,
   "id": "693ae2f3",
   "metadata": {},
   "outputs": [],
   "source": [
    "pixel_means = X_train.mean(axis=0, keepdims=True)\n",
    "pixel_stds = X_train.std(axis=0, keepdims=True)\n",
    "X_train_scaled = (X_train - pixel_means) / pixel_stds\n",
    "X_val_scaled = (X_val - pixel_means) / pixel_stds\n",
    "X_test_scaled = (X_test - pixel_means) / pixel_stds"
   ]
  },
  {
   "cell_type": "code",
   "execution_count": 62,
   "id": "dc1326d3",
   "metadata": {},
   "outputs": [
    {
     "name": "stdout",
     "output_type": "stream",
     "text": [
      "Train on 55000 samples, validate on 5000 samples\n",
      "Epoch 1/5\n",
      "55000/55000 [==============================] - 15s 270us/sample - loss: 1.5412 - accuracy: 0.3682 - val_loss: 1.0405 - val_accuracy: 0.5716\n",
      "Epoch 2/5\n",
      "55000/55000 [==============================] - 13s 232us/sample - loss: 0.9978 - accuracy: 0.6039 - val_loss: 0.8604 - val_accuracy: 0.6638\n",
      "Epoch 3/5\n",
      "55000/55000 [==============================] - 13s 240us/sample - loss: 0.8830 - accuracy: 0.6640 - val_loss: 0.7739 - val_accuracy: 0.6994\n",
      "Epoch 4/5\n",
      "55000/55000 [==============================] - 13s 237us/sample - loss: 0.8170 - accuracy: 0.7010 - val_loss: 0.6974 - val_accuracy: 0.7470\n",
      "Epoch 5/5\n",
      "55000/55000 [==============================] - 13s 235us/sample - loss: 0.7375 - accuracy: 0.7284 - val_loss: 0.6581 - val_accuracy: 0.7646\n"
     ]
    }
   ],
   "source": [
    "history = model.fit(X_train_scaled, y_train, epochs=5,\n",
    "                    validation_data=(X_val_scaled, y_val))"
   ]
  },
  {
   "cell_type": "markdown",
   "id": "5f2dbba4",
   "metadata": {},
   "source": [
    "Now, let us attempt to do the exact same thing, but swamping out our selu activation function with a relu instead and he normalization."
   ]
  },
  {
   "cell_type": "code",
   "execution_count": 63,
   "id": "5ed3f701",
   "metadata": {},
   "outputs": [],
   "source": [
    "model = keras.models.Sequential()\n",
    "model.add(keras.layers.Flatten(input_shape=[28, 28]))\n",
    "model.add(keras.layers.Dense(300, activation=\"relu\", kernel_initializer=\"he_normal\"))\n",
    "for layer in range(99):\n",
    "    model.add(keras.layers.Dense(100, activation=\"relu\", kernel_initializer=\"he_normal\"))\n",
    "model.add(keras.layers.Dense(10, activation=\"softmax\"))"
   ]
  },
  {
   "cell_type": "code",
   "execution_count": 64,
   "id": "a6b4b4fe",
   "metadata": {},
   "outputs": [],
   "source": [
    "model.compile(loss=\"sparse_categorical_crossentropy\",\n",
    "              optimizer=keras.optimizers.SGD(learning_rate=1e-3),\n",
    "              metrics=[\"accuracy\"])"
   ]
  },
  {
   "cell_type": "code",
   "execution_count": 65,
   "id": "4a116ace",
   "metadata": {},
   "outputs": [
    {
     "name": "stdout",
     "output_type": "stream",
     "text": [
      "Train on 55000 samples, validate on 5000 samples\n",
      "Epoch 1/5\n",
      "55000/55000 [==============================] - 15s 271us/sample - loss: 2.0261 - accuracy: 0.2279 - val_loss: 1.8246 - val_accuracy: 0.3426\n",
      "Epoch 2/5\n",
      "55000/55000 [==============================] - 12s 227us/sample - loss: 1.6011 - accuracy: 0.3684 - val_loss: 1.1632 - val_accuracy: 0.5026\n",
      "Epoch 3/5\n",
      "55000/55000 [==============================] - 12s 226us/sample - loss: 1.1587 - accuracy: 0.4981 - val_loss: 0.9785 - val_accuracy: 0.5848\n",
      "Epoch 4/5\n",
      "55000/55000 [==============================] - 12s 224us/sample - loss: 0.9313 - accuracy: 0.6296 - val_loss: 1.1233 - val_accuracy: 0.5642\n",
      "Epoch 5/5\n",
      "55000/55000 [==============================] - 12s 223us/sample - loss: 0.9067 - accuracy: 0.6537 - val_loss: 0.9454 - val_accuracy: 0.6066\n"
     ]
    }
   ],
   "source": [
    "history = model.fit(X_train_scaled, y_train, epochs=5,\n",
    "                    validation_data=(X_val_scaled, y_val))"
   ]
  },
  {
   "cell_type": "markdown",
   "id": "cb8c4788",
   "metadata": {},
   "source": [
    "As you can see the performance is not nearly as good with a relu activation function. This is likely due to the vanishing/exploding gradients problem. "
   ]
  },
  {
   "cell_type": "markdown",
   "id": "42cf8a71",
   "metadata": {},
   "source": [
    "## Batch Normalization in Keras"
   ]
  },
  {
   "cell_type": "code",
   "execution_count": 66,
   "id": "14c28f3c",
   "metadata": {},
   "outputs": [],
   "source": [
    "model = keras.models.Sequential([\n",
    "    keras.layers.Flatten(input_shape=[28, 28]),\n",
    "    keras.layers.BatchNormalization(),\n",
    "    keras.layers.Dense(300, activation=\"relu\"),\n",
    "    keras.layers.BatchNormalization(),\n",
    "    keras.layers.Dense(100, activation=\"relu\"),\n",
    "    keras.layers.BatchNormalization(),\n",
    "    keras.layers.Dense(10, activation=\"softmax\")\n",
    "])"
   ]
  },
  {
   "cell_type": "code",
   "execution_count": 67,
   "id": "1415e1de",
   "metadata": {},
   "outputs": [
    {
     "name": "stdout",
     "output_type": "stream",
     "text": [
      "Model: \"sequential_10\"\n",
      "_________________________________________________________________\n",
      "Layer (type)                 Output Shape              Param #   \n",
      "=================================================================\n",
      "flatten_10 (Flatten)         (None, 784)               0         \n",
      "_________________________________________________________________\n",
      "batch_normalization (BatchNo (None, 784)               3136      \n",
      "_________________________________________________________________\n",
      "dense_228 (Dense)            (None, 300)               235500    \n",
      "_________________________________________________________________\n",
      "batch_normalization_1 (Batch (None, 300)               1200      \n",
      "_________________________________________________________________\n",
      "dense_229 (Dense)            (None, 100)               30100     \n",
      "_________________________________________________________________\n",
      "batch_normalization_2 (Batch (None, 100)               400       \n",
      "_________________________________________________________________\n",
      "dense_230 (Dense)            (None, 10)                1010      \n",
      "=================================================================\n",
      "Total params: 271,346\n",
      "Trainable params: 268,978\n",
      "Non-trainable params: 2,368\n",
      "_________________________________________________________________\n"
     ]
    }
   ],
   "source": [
    "model.summary()"
   ]
  },
  {
   "cell_type": "code",
   "execution_count": 68,
   "id": "199c8c42",
   "metadata": {},
   "outputs": [
    {
     "data": {
      "text/plain": [
       "[('batch_normalization/gamma:0', True),\n",
       " ('batch_normalization/beta:0', True),\n",
       " ('batch_normalization/moving_mean:0', False),\n",
       " ('batch_normalization/moving_variance:0', False)]"
      ]
     },
     "execution_count": 68,
     "metadata": {},
     "output_type": "execute_result"
    }
   ],
   "source": [
    "bn1 = model.layers[1]\n",
    "[(var.name, var.trainable) for var in bn1.variables]"
   ]
  },
  {
   "cell_type": "code",
   "execution_count": 69,
   "id": "ccc6dede",
   "metadata": {},
   "outputs": [],
   "source": [
    "model.compile(loss=\"sparse_categorical_crossentropy\",\n",
    "              optimizer=keras.optimizers.SGD(learning_rate=10e-2),\n",
    "              metrics=[\"accuracy\"])"
   ]
  },
  {
   "cell_type": "code",
   "execution_count": 70,
   "id": "20802c34",
   "metadata": {},
   "outputs": [
    {
     "name": "stdout",
     "output_type": "stream",
     "text": [
      "Train on 55000 samples, validate on 5000 samples\n",
      "Epoch 1/10\n",
      "55000/55000 [==============================] - 5s 85us/sample - loss: 0.4711 - accuracy: 0.8302 - val_loss: 0.3498 - val_accuracy: 0.8726\n",
      "Epoch 2/10\n",
      "55000/55000 [==============================] - 4s 78us/sample - loss: 0.3577 - accuracy: 0.8691 - val_loss: 0.3266 - val_accuracy: 0.8846\n",
      "Epoch 3/10\n",
      "55000/55000 [==============================] - 4s 79us/sample - loss: 0.3217 - accuracy: 0.8807 - val_loss: 0.3047 - val_accuracy: 0.8902\n",
      "Epoch 4/10\n",
      "55000/55000 [==============================] - 4s 82us/sample - loss: 0.2969 - accuracy: 0.8899 - val_loss: 0.3133 - val_accuracy: 0.8882\n",
      "Epoch 5/10\n",
      "55000/55000 [==============================] - 5s 84us/sample - loss: 0.2779 - accuracy: 0.8963 - val_loss: 0.3306 - val_accuracy: 0.8830\n",
      "Epoch 6/10\n",
      "55000/55000 [==============================] - 5s 84us/sample - loss: 0.2625 - accuracy: 0.9033 - val_loss: 0.2988 - val_accuracy: 0.8964\n",
      "Epoch 7/10\n",
      "55000/55000 [==============================] - 5s 86us/sample - loss: 0.2488 - accuracy: 0.9070 - val_loss: 0.3139 - val_accuracy: 0.8874\n",
      "Epoch 8/10\n",
      "55000/55000 [==============================] - 5s 82us/sample - loss: 0.2391 - accuracy: 0.9126 - val_loss: 0.3208 - val_accuracy: 0.8858\n",
      "Epoch 9/10\n",
      "55000/55000 [==============================] - 5s 83us/sample - loss: 0.2276 - accuracy: 0.9145 - val_loss: 0.2915 - val_accuracy: 0.8970\n",
      "Epoch 10/10\n",
      "55000/55000 [==============================] - 4s 81us/sample - loss: 0.2164 - accuracy: 0.9185 - val_loss: 0.3154 - val_accuracy: 0.8950\n"
     ]
    }
   ],
   "source": [
    "history = model.fit(X_train, y_train, epochs=10,\n",
    "                    validation_data=(X_val, y_val))"
   ]
  },
  {
   "cell_type": "markdown",
   "id": "ba53ff79",
   "metadata": {},
   "source": [
    "As you can see, we get pretty good results when we use batch normalizatoin. We could also apply batch normalizatoin before the activation function and test results. In this case, there is no need for a bias term between layers. So we will set our bias equal to false"
   ]
  },
  {
   "cell_type": "code",
   "execution_count": 71,
   "id": "c8bad5f9",
   "metadata": {},
   "outputs": [],
   "source": [
    "model = keras.models.Sequential([\n",
    "    keras.layers.Flatten(input_shape=[28, 28]),\n",
    "    keras.layers.BatchNormalization(),\n",
    "    keras.layers.Dense(300, use_bias=False),\n",
    "    keras.layers.BatchNormalization(),\n",
    "    keras.layers.Activation(\"relu\"),\n",
    "    keras.layers.Dense(100, use_bias=False),\n",
    "    keras.layers.BatchNormalization(),\n",
    "    keras.layers.Activation(\"relu\"),\n",
    "    keras.layers.Dense(10, activation=\"softmax\")\n",
    "])"
   ]
  },
  {
   "cell_type": "code",
   "execution_count": 72,
   "id": "20eab899",
   "metadata": {},
   "outputs": [],
   "source": [
    "model.compile(loss=\"sparse_categorical_crossentropy\",\n",
    "              optimizer=keras.optimizers.SGD(learning_rate=10e-2),\n",
    "              metrics=[\"accuracy\"])"
   ]
  },
  {
   "cell_type": "code",
   "execution_count": 73,
   "id": "c3c3942e",
   "metadata": {},
   "outputs": [
    {
     "name": "stdout",
     "output_type": "stream",
     "text": [
      "Train on 55000 samples, validate on 5000 samples\n",
      "Epoch 1/10\n",
      "55000/55000 [==============================] - 5s 93us/sample - loss: 0.4650 - accuracy: 0.8318 - val_loss: 0.3439 - val_accuracy: 0.8764\n",
      "Epoch 2/10\n",
      "55000/55000 [==============================] - 5s 83us/sample - loss: 0.3518 - accuracy: 0.8704 - val_loss: 0.3140 - val_accuracy: 0.8906\n",
      "Epoch 3/10\n",
      "55000/55000 [==============================] - 5s 83us/sample - loss: 0.3158 - accuracy: 0.8835 - val_loss: 0.3218 - val_accuracy: 0.8822\n",
      "Epoch 4/10\n",
      "55000/55000 [==============================] - 5s 82us/sample - loss: 0.2913 - accuracy: 0.8921 - val_loss: 0.2956 - val_accuracy: 0.8892\n",
      "Epoch 5/10\n",
      "55000/55000 [==============================] - 5s 83us/sample - loss: 0.2716 - accuracy: 0.8982 - val_loss: 0.3004 - val_accuracy: 0.8926\n",
      "Epoch 6/10\n",
      "55000/55000 [==============================] - 4s 81us/sample - loss: 0.2539 - accuracy: 0.9056 - val_loss: 0.2925 - val_accuracy: 0.8944\n",
      "Epoch 7/10\n",
      "55000/55000 [==============================] - 4s 80us/sample - loss: 0.2410 - accuracy: 0.9100 - val_loss: 0.3013 - val_accuracy: 0.8930\n",
      "Epoch 8/10\n",
      "55000/55000 [==============================] - 4s 82us/sample - loss: 0.2273 - accuracy: 0.9161 - val_loss: 0.3067 - val_accuracy: 0.8898\n",
      "Epoch 9/10\n",
      "55000/55000 [==============================] - 4s 80us/sample - loss: 0.2167 - accuracy: 0.9180 - val_loss: 0.3016 - val_accuracy: 0.8922\n",
      "Epoch 10/10\n",
      "55000/55000 [==============================] - 5s 84us/sample - loss: 0.2091 - accuracy: 0.9202 - val_loss: 0.2906 - val_accuracy: 0.8946\n"
     ]
    }
   ],
   "source": [
    "history = model.fit(X_train, y_train, epochs=10,\n",
    "                    validation_data=(X_val, y_val))"
   ]
  },
  {
   "cell_type": "markdown",
   "id": "9234c42c",
   "metadata": {},
   "source": [
    "Batch Normalization before the activation performs slightly in this scenario, but are very close in comparison. "
   ]
  },
  {
   "cell_type": "markdown",
   "id": "84cf35bd",
   "metadata": {},
   "source": [
    "## Gradient Clipping "
   ]
  },
  {
   "cell_type": "markdown",
   "id": "55750192",
   "metadata": {},
   "source": [
    "for Keras optimizers accept **clipnorm** or **clipvalue** for the optimizers"
   ]
  },
  {
   "cell_type": "code",
   "execution_count": 74,
   "id": "b3dfedec",
   "metadata": {},
   "outputs": [],
   "source": [
    "#Example\n",
    "optimizer = keras.optimizers.SGD(clipvalue=1.0)\n",
    "optimizer = keras.optimizers.SGD(clipnorm=1.0)"
   ]
  },
  {
   "cell_type": "markdown",
   "id": "9e21861d",
   "metadata": {},
   "source": [
    "## How to Reuse Pretrained Layers"
   ]
  },
  {
   "cell_type": "markdown",
   "id": "82872e26",
   "metadata": {},
   "source": [
    "### Resuing a Keras Model"
   ]
  },
  {
   "cell_type": "markdown",
   "id": "8b4cad7a",
   "metadata": {},
   "source": [
    "Let's split the fashion MNIST training set in two:\n",
    "* `X_train_A`: all images of all items except for sandals and shirts (classes 5 and 6).\n",
    "* `X_train_B`: a much smaller training set of just the first 200 images of sandals or shirts.\n",
    "\n",
    "The validation set and the test set are also split this way, but without restricting the number of images.\n",
    "\n",
    "We will train a model on set A (classification task with 8 classes), and try to reuse it to tackle set B (binary classification). We hope to transfer a little bit of knowledge from task A to task B, since classes in set A (sneakers, ankle boots, coats, t-shirts, etc.) are somewhat similar to classes in set B (sandals and shirts). However, since we are using `Dense` layers, only patterns that occur at the same location can be reused."
   ]
  },
  {
   "cell_type": "code",
   "execution_count": 75,
   "id": "e1fdb05d",
   "metadata": {},
   "outputs": [],
   "source": [
    "def split_dataset(X, y):\n",
    "    y_5_or_6 = (y == 5) | (y == 6) # sandals or shirts\n",
    "    y_A = y[~y_5_or_6]\n",
    "    y_A[y_A > 6] -= 2 # class indices 7, 8, 9 should be moved to 5, 6, 7\n",
    "    y_B = (y[y_5_or_6] == 6).astype(np.float32) # binary classification task: is it a shirt (class 6)?\n",
    "    return ((X[~y_5_or_6], y_A),\n",
    "            (X[y_5_or_6], y_B))\n",
    "\n",
    "(X_train_A, y_train_A), (X_train_B, y_train_B) = split_dataset(X_train, y_train)\n",
    "(X_valid_A, y_valid_A), (X_valid_B, y_valid_B) = split_dataset(X_val, y_val)\n",
    "(X_test_A, y_test_A), (X_test_B, y_test_B) = split_dataset(X_test, y_test)\n",
    "X_train_B = X_train_B[:200]\n",
    "y_train_B = y_train_B[:200]"
   ]
  },
  {
   "cell_type": "code",
   "execution_count": 76,
   "id": "7aa9a050",
   "metadata": {},
   "outputs": [
    {
     "data": {
      "text/plain": [
       "(43986, 28, 28)"
      ]
     },
     "execution_count": 76,
     "metadata": {},
     "output_type": "execute_result"
    }
   ],
   "source": [
    "X_train_A.shape"
   ]
  },
  {
   "cell_type": "code",
   "execution_count": 77,
   "id": "9595c782",
   "metadata": {},
   "outputs": [
    {
     "data": {
      "text/plain": [
       "(200, 28, 28)"
      ]
     },
     "execution_count": 77,
     "metadata": {},
     "output_type": "execute_result"
    }
   ],
   "source": [
    "X_train_B.shape"
   ]
  },
  {
   "cell_type": "code",
   "execution_count": 78,
   "id": "c9f43e70",
   "metadata": {},
   "outputs": [
    {
     "data": {
      "text/plain": [
       "array([4, 0, 5, 7, 7, 7, 4, 4, 3, 4, 0, 1, 6, 3, 4, 3, 2, 6, 5, 3, 4, 5,\n",
       "       1, 3, 4, 2, 0, 6, 7, 1], dtype=uint8)"
      ]
     },
     "execution_count": 78,
     "metadata": {},
     "output_type": "execute_result"
    }
   ],
   "source": [
    "y_train_A[:30]"
   ]
  },
  {
   "cell_type": "code",
   "execution_count": 79,
   "id": "42faaa2e",
   "metadata": {},
   "outputs": [
    {
     "data": {
      "text/plain": [
       "array([1., 1., 0., 0., 0., 0., 1., 1., 1., 0., 0., 1., 1., 0., 0., 0., 0.,\n",
       "       0., 0., 1., 1., 0., 0., 1., 1., 0., 1., 1., 1., 1.], dtype=float32)"
      ]
     },
     "execution_count": 79,
     "metadata": {},
     "output_type": "execute_result"
    }
   ],
   "source": [
    "y_train_B[:30]"
   ]
  },
  {
   "cell_type": "code",
   "execution_count": 113,
   "id": "82cf8675",
   "metadata": {},
   "outputs": [],
   "source": [
    "# Create a base model and title it model A\n",
    "model_A = keras.models.Sequential()\n",
    "model_A.add(keras.layers.Flatten(input_shape=[28, 28]))\n",
    "for n_hidden in (300, 100, 50, 50, 50):\n",
    "    model_A.add(keras.layers.Dense(n_hidden, activation=\"selu\"))\n",
    "model_A.add(keras.layers.Dense(8, activation=\"softmax\"))"
   ]
  },
  {
   "cell_type": "code",
   "execution_count": 114,
   "id": "ce30685d",
   "metadata": {},
   "outputs": [],
   "source": [
    "model_A.compile(loss=\"sparse_categorical_crossentropy\",\n",
    "                optimizer=keras.optimizers.SGD(learning_rate=10e-3),\n",
    "                metrics=[\"accuracy\"])"
   ]
  },
  {
   "cell_type": "code",
   "execution_count": 115,
   "id": "c8e29078",
   "metadata": {},
   "outputs": [
    {
     "name": "stdout",
     "output_type": "stream",
     "text": [
      "Train on 43986 samples, validate on 4014 samples\n",
      "Epoch 1/20\n",
      "43986/43986 [==============================] - 4s 81us/sample - loss: 0.3640 - accuracy: 0.8705 - val_loss: 0.2935 - val_accuracy: 0.8919\n",
      "Epoch 2/20\n",
      "43986/43986 [==============================] - 3s 69us/sample - loss: 0.2671 - accuracy: 0.9055 - val_loss: 0.2637 - val_accuracy: 0.9051\n",
      "Epoch 3/20\n",
      "43986/43986 [==============================] - 3s 67us/sample - loss: 0.2439 - accuracy: 0.9140 - val_loss: 0.2323 - val_accuracy: 0.9165\n",
      "Epoch 4/20\n",
      "43986/43986 [==============================] - 3s 63us/sample - loss: 0.2283 - accuracy: 0.9182 - val_loss: 0.2241 - val_accuracy: 0.9215\n",
      "Epoch 5/20\n",
      "43986/43986 [==============================] - 3s 65us/sample - loss: 0.2169 - accuracy: 0.9227 - val_loss: 0.2424 - val_accuracy: 0.9111\n",
      "Epoch 6/20\n",
      "43986/43986 [==============================] - 3s 64us/sample - loss: 0.2081 - accuracy: 0.9251 - val_loss: 0.2198 - val_accuracy: 0.9215\n",
      "Epoch 7/20\n",
      "43986/43986 [==============================] - 3s 66us/sample - loss: 0.2003 - accuracy: 0.9279 - val_loss: 0.2133 - val_accuracy: 0.9225\n",
      "Epoch 8/20\n",
      "43986/43986 [==============================] - 3s 66us/sample - loss: 0.1931 - accuracy: 0.9296 - val_loss: 0.2115 - val_accuracy: 0.9248\n",
      "Epoch 9/20\n",
      "43986/43986 [==============================] - 3s 68us/sample - loss: 0.1873 - accuracy: 0.9330 - val_loss: 0.2077 - val_accuracy: 0.9248\n",
      "Epoch 10/20\n",
      "43986/43986 [==============================] - 3s 63us/sample - loss: 0.1812 - accuracy: 0.9349 - val_loss: 0.2138 - val_accuracy: 0.9233\n",
      "Epoch 11/20\n",
      "43986/43986 [==============================] - 3s 63us/sample - loss: 0.1773 - accuracy: 0.9355 - val_loss: 0.2083 - val_accuracy: 0.9258\n",
      "Epoch 12/20\n",
      "43986/43986 [==============================] - 3s 65us/sample - loss: 0.1725 - accuracy: 0.9381 - val_loss: 0.1987 - val_accuracy: 0.9263\n",
      "Epoch 13/20\n",
      "43986/43986 [==============================] - 3s 62us/sample - loss: 0.1685 - accuracy: 0.9390 - val_loss: 0.2199 - val_accuracy: 0.9198\n",
      "Epoch 14/20\n",
      "43986/43986 [==============================] - 3s 62us/sample - loss: 0.1636 - accuracy: 0.9408 - val_loss: 0.2131 - val_accuracy: 0.9238\n",
      "Epoch 15/20\n",
      "43986/43986 [==============================] - 3s 67us/sample - loss: 0.1601 - accuracy: 0.9421 - val_loss: 0.2051 - val_accuracy: 0.9245\n",
      "Epoch 16/20\n",
      "43986/43986 [==============================] - 3s 64us/sample - loss: 0.1562 - accuracy: 0.9442 - val_loss: 0.1985 - val_accuracy: 0.9287\n",
      "Epoch 17/20\n",
      "43986/43986 [==============================] - 3s 66us/sample - loss: 0.1516 - accuracy: 0.9456 - val_loss: 0.1979 - val_accuracy: 0.9283\n",
      "Epoch 18/20\n",
      "43986/43986 [==============================] - 3s 63us/sample - loss: 0.1492 - accuracy: 0.9458 - val_loss: 0.2056 - val_accuracy: 0.9253\n",
      "Epoch 19/20\n",
      "43986/43986 [==============================] - 3s 65us/sample - loss: 0.1452 - accuracy: 0.9476 - val_loss: 0.2397 - val_accuracy: 0.9145\n",
      "Epoch 20/20\n",
      "43986/43986 [==============================] - 3s 65us/sample - loss: 0.1418 - accuracy: 0.9485 - val_loss: 0.2112 - val_accuracy: 0.9245\n"
     ]
    }
   ],
   "source": [
    "history = model_A.fit(X_train_A, y_train_A, epochs=20,\n",
    "                    validation_data=(X_valid_A, y_valid_A))"
   ]
  },
  {
   "cell_type": "code",
   "execution_count": 116,
   "id": "93286fad",
   "metadata": {},
   "outputs": [],
   "source": [
    "# Now save model A\n",
    "model_A.save(\"my_model_A.h5\")"
   ]
  },
  {
   "cell_type": "code",
   "execution_count": 117,
   "id": "ba52aec8",
   "metadata": {},
   "outputs": [],
   "source": [
    "# Build model B\n",
    "model_B = keras.models.Sequential()\n",
    "model_B.add(keras.layers.Flatten(input_shape=[28, 28]))\n",
    "for n_hidden in (300, 100, 50, 50, 50):\n",
    "    model_B.add(keras.layers.Dense(n_hidden, activation=\"selu\"))\n",
    "model_B.add(keras.layers.Dense(1, activation=\"sigmoid\"))"
   ]
  },
  {
   "cell_type": "code",
   "execution_count": 118,
   "id": "1ad41287",
   "metadata": {},
   "outputs": [],
   "source": [
    "model_B.compile(loss=\"binary_crossentropy\",\n",
    "                optimizer=keras.optimizers.SGD(learning_rate=10e-2),\n",
    "                metrics=[\"accuracy\"])"
   ]
  },
  {
   "cell_type": "code",
   "execution_count": 119,
   "id": "dbf4097e",
   "metadata": {},
   "outputs": [
    {
     "name": "stdout",
     "output_type": "stream",
     "text": [
      "Train on 200 samples, validate on 986 samples\n",
      "Epoch 1/20\n",
      "200/200 [==============================] - 1s 3ms/sample - loss: 3.5071 - accuracy: 0.6650 - val_loss: 1.2275 - val_accuracy: 0.5000\n",
      "Epoch 2/20\n",
      "200/200 [==============================] - 0s 573us/sample - loss: 0.4953 - accuracy: 0.8050 - val_loss: 0.0726 - val_accuracy: 0.9787\n",
      "Epoch 3/20\n",
      "200/200 [==============================] - 0s 508us/sample - loss: 0.0251 - accuracy: 0.9900 - val_loss: 0.0569 - val_accuracy: 0.9868\n",
      "Epoch 4/20\n",
      "200/200 [==============================] - 0s 688us/sample - loss: 0.0151 - accuracy: 0.9950 - val_loss: 0.0650 - val_accuracy: 0.9828\n",
      "Epoch 5/20\n",
      "200/200 [==============================] - 0s 410us/sample - loss: 0.0081 - accuracy: 1.0000 - val_loss: 0.0567 - val_accuracy: 0.9878\n",
      "Epoch 6/20\n",
      "200/200 [==============================] - 0s 450us/sample - loss: 0.0059 - accuracy: 0.9950 - val_loss: 0.0663 - val_accuracy: 0.9838\n",
      "Epoch 7/20\n",
      "200/200 [==============================] - 0s 435us/sample - loss: 0.0035 - accuracy: 1.0000 - val_loss: 0.0798 - val_accuracy: 0.9797\n",
      "Epoch 8/20\n",
      "200/200 [==============================] - 0s 388us/sample - loss: 0.0039 - accuracy: 1.0000 - val_loss: 0.0635 - val_accuracy: 0.9858\n",
      "Epoch 9/20\n",
      "200/200 [==============================] - 0s 383us/sample - loss: 0.0013 - accuracy: 1.0000 - val_loss: 0.0639 - val_accuracy: 0.9858\n",
      "Epoch 10/20\n",
      "200/200 [==============================] - 0s 380us/sample - loss: 0.0012 - accuracy: 1.0000 - val_loss: 0.0646 - val_accuracy: 0.9858\n",
      "Epoch 11/20\n",
      "200/200 [==============================] - 0s 373us/sample - loss: 0.0010 - accuracy: 1.0000 - val_loss: 0.0649 - val_accuracy: 0.9858\n",
      "Epoch 12/20\n",
      "200/200 [==============================] - 0s 368us/sample - loss: 9.0838e-04 - accuracy: 1.0000 - val_loss: 0.0655 - val_accuracy: 0.9858\n",
      "Epoch 13/20\n",
      "200/200 [==============================] - 0s 378us/sample - loss: 8.0732e-04 - accuracy: 1.0000 - val_loss: 0.0658 - val_accuracy: 0.9858\n",
      "Epoch 14/20\n",
      "200/200 [==============================] - 0s 368us/sample - loss: 7.3256e-04 - accuracy: 1.0000 - val_loss: 0.0657 - val_accuracy: 0.9858\n",
      "Epoch 15/20\n",
      "200/200 [==============================] - 0s 378us/sample - loss: 6.6468e-04 - accuracy: 1.0000 - val_loss: 0.0663 - val_accuracy: 0.9858\n",
      "Epoch 16/20\n",
      "200/200 [==============================] - 0s 378us/sample - loss: 6.1234e-04 - accuracy: 1.0000 - val_loss: 0.0667 - val_accuracy: 0.9858\n",
      "Epoch 17/20\n",
      "200/200 [==============================] - 0s 385us/sample - loss: 5.7126e-04 - accuracy: 1.0000 - val_loss: 0.0671 - val_accuracy: 0.9858\n",
      "Epoch 18/20\n",
      "200/200 [==============================] - 0s 378us/sample - loss: 5.3446e-04 - accuracy: 1.0000 - val_loss: 0.0675 - val_accuracy: 0.9858\n",
      "Epoch 19/20\n",
      "200/200 [==============================] - 0s 378us/sample - loss: 4.9838e-04 - accuracy: 1.0000 - val_loss: 0.0678 - val_accuracy: 0.9858\n",
      "Epoch 20/20\n",
      "200/200 [==============================] - 0s 373us/sample - loss: 4.6885e-04 - accuracy: 1.0000 - val_loss: 0.0680 - val_accuracy: 0.9868\n"
     ]
    }
   ],
   "source": [
    "history = model_B.fit(X_train_B, y_train_B, epochs=20,\n",
    "                      validation_data=(X_valid_B, y_valid_B))"
   ]
  },
  {
   "cell_type": "code",
   "execution_count": 120,
   "id": "bf4c803c",
   "metadata": {},
   "outputs": [
    {
     "name": "stdout",
     "output_type": "stream",
     "text": [
      "Model: \"sequential_17\"\n",
      "_________________________________________________________________\n",
      "Layer (type)                 Output Shape              Param #   \n",
      "=================================================================\n",
      "flatten_15 (Flatten)         (None, 784)               0         \n",
      "_________________________________________________________________\n",
      "dense_254 (Dense)            (None, 300)               235500    \n",
      "_________________________________________________________________\n",
      "dense_255 (Dense)            (None, 100)               30100     \n",
      "_________________________________________________________________\n",
      "dense_256 (Dense)            (None, 50)                5050      \n",
      "_________________________________________________________________\n",
      "dense_257 (Dense)            (None, 50)                2550      \n",
      "_________________________________________________________________\n",
      "dense_258 (Dense)            (None, 50)                2550      \n",
      "_________________________________________________________________\n",
      "dense_259 (Dense)            (None, 1)                 51        \n",
      "=================================================================\n",
      "Total params: 275,801\n",
      "Trainable params: 275,801\n",
      "Non-trainable params: 0\n",
      "_________________________________________________________________\n"
     ]
    }
   ],
   "source": [
    "model_B.summary()"
   ]
  },
  {
   "cell_type": "markdown",
   "id": "3105b4da",
   "metadata": {},
   "source": [
    "Now we will build on top of model A using a stack of model B. We will also show an example of cloning a so it doesn't actually update both models when we begin training."
   ]
  },
  {
   "cell_type": "code",
   "execution_count": 121,
   "id": "da8530d9",
   "metadata": {},
   "outputs": [],
   "source": [
    "model_A = keras.models.load_model(\"my_model_A.h5\")\n",
    "model_B_on_A = keras.models.Sequential(model_A.layers[:-1])\n",
    "model_B_on_A.add(keras.layers.Dense(1, activation=\"sigmoid\"))"
   ]
  },
  {
   "cell_type": "code",
   "execution_count": 122,
   "id": "e91eb430",
   "metadata": {},
   "outputs": [],
   "source": [
    "model_A_clone = keras.models.clone_model(model_A)\n",
    "model_A_clone.set_weights(model_A.get_weights())\n",
    "model_B_on_A = keras.models.Sequential(model_A_clone.layers[:-1])\n",
    "model_B_on_A.add(keras.layers.Dense(1, activation=\"sigmoid\"))"
   ]
  },
  {
   "cell_type": "code",
   "execution_count": 123,
   "id": "18915e16",
   "metadata": {},
   "outputs": [],
   "source": [
    "for layer in model_B_on_A.layers[:-1]:\n",
    "    layer.trainable = False\n",
    "\n",
    "model_B_on_A.compile(loss=\"binary_crossentropy\",\n",
    "                     optimizer=keras.optimizers.SGD(learning_rate=10e-2),\n",
    "                     metrics=[\"accuracy\"])"
   ]
  },
  {
   "cell_type": "code",
   "execution_count": 124,
   "id": "60f3ad44",
   "metadata": {},
   "outputs": [
    {
     "name": "stdout",
     "output_type": "stream",
     "text": [
      "Train on 200 samples, validate on 986 samples\n",
      "Epoch 1/5\n",
      "200/200 [==============================] - 0s 2ms/sample - loss: 0.1752 - accuracy: 0.9350 - val_loss: 0.0510 - val_accuracy: 0.9878\n",
      "Epoch 2/5\n",
      "200/200 [==============================] - 0s 583us/sample - loss: 0.0323 - accuracy: 0.9900 - val_loss: 0.0400 - val_accuracy: 0.9919\n",
      "Epoch 3/5\n",
      "200/200 [==============================] - 0s 565us/sample - loss: 0.0233 - accuracy: 0.9950 - val_loss: 0.0350 - val_accuracy: 0.9919\n",
      "Epoch 4/5\n",
      "200/200 [==============================] - 0s 508us/sample - loss: 0.0190 - accuracy: 1.0000 - val_loss: 0.0317 - val_accuracy: 0.9909\n",
      "Epoch 5/5\n",
      "200/200 [==============================] - 0s 418us/sample - loss: 0.0158 - accuracy: 1.0000 - val_loss: 0.0298 - val_accuracy: 0.9899\n",
      "Train on 200 samples, validate on 986 samples\n",
      "Epoch 1/20\n",
      "200/200 [==============================] - 0s 2ms/sample - loss: 0.0131 - accuracy: 1.0000 - val_loss: 0.0277 - val_accuracy: 0.9899\n",
      "Epoch 2/20\n",
      "200/200 [==============================] - 0s 493us/sample - loss: 0.0038 - accuracy: 1.0000 - val_loss: 0.0195 - val_accuracy: 0.9939\n",
      "Epoch 3/20\n",
      "200/200 [==============================] - 0s 458us/sample - loss: 0.0014 - accuracy: 1.0000 - val_loss: 0.0195 - val_accuracy: 0.9929\n",
      "Epoch 4/20\n",
      "200/200 [==============================] - 0s 745us/sample - loss: 0.0011 - accuracy: 1.0000 - val_loss: 0.0195 - val_accuracy: 0.9929\n",
      "Epoch 5/20\n",
      "200/200 [==============================] - 0s 465us/sample - loss: 8.8956e-04 - accuracy: 1.0000 - val_loss: 0.0195 - val_accuracy: 0.9929\n",
      "Epoch 6/20\n",
      "200/200 [==============================] - 0s 380us/sample - loss: 7.7423e-04 - accuracy: 1.0000 - val_loss: 0.0194 - val_accuracy: 0.9929\n",
      "Epoch 7/20\n",
      "200/200 [==============================] - 0s 365us/sample - loss: 6.8826e-04 - accuracy: 1.0000 - val_loss: 0.0193 - val_accuracy: 0.9929\n",
      "Epoch 8/20\n",
      "200/200 [==============================] - 0s 353us/sample - loss: 6.1336e-04 - accuracy: 1.0000 - val_loss: 0.0193 - val_accuracy: 0.9929\n",
      "Epoch 9/20\n",
      "200/200 [==============================] - 0s 388us/sample - loss: 5.5627e-04 - accuracy: 1.0000 - val_loss: 0.0191 - val_accuracy: 0.9929\n",
      "Epoch 10/20\n",
      "200/200 [==============================] - 0s 388us/sample - loss: 4.9822e-04 - accuracy: 1.0000 - val_loss: 0.0191 - val_accuracy: 0.9929\n",
      "Epoch 11/20\n",
      "200/200 [==============================] - 0s 360us/sample - loss: 4.5669e-04 - accuracy: 1.0000 - val_loss: 0.0192 - val_accuracy: 0.9929\n",
      "Epoch 12/20\n",
      "200/200 [==============================] - 0s 340us/sample - loss: 4.2125e-04 - accuracy: 1.0000 - val_loss: 0.0192 - val_accuracy: 0.9929\n",
      "Epoch 13/20\n",
      "200/200 [==============================] - 0s 353us/sample - loss: 3.9110e-04 - accuracy: 1.0000 - val_loss: 0.0193 - val_accuracy: 0.9929\n",
      "Epoch 14/20\n",
      "200/200 [==============================] - 0s 340us/sample - loss: 3.6364e-04 - accuracy: 1.0000 - val_loss: 0.0195 - val_accuracy: 0.9929\n",
      "Epoch 15/20\n",
      "200/200 [==============================] - 0s 370us/sample - loss: 3.3951e-04 - accuracy: 1.0000 - val_loss: 0.0194 - val_accuracy: 0.9929\n",
      "Epoch 16/20\n",
      "200/200 [==============================] - 0s 390us/sample - loss: 3.1716e-04 - accuracy: 1.0000 - val_loss: 0.0195 - val_accuracy: 0.9929\n",
      "Epoch 17/20\n",
      "200/200 [==============================] - 0s 385us/sample - loss: 2.9971e-04 - accuracy: 1.0000 - val_loss: 0.0194 - val_accuracy: 0.9929\n",
      "Epoch 18/20\n",
      "200/200 [==============================] - 0s 333us/sample - loss: 2.8502e-04 - accuracy: 1.0000 - val_loss: 0.0195 - val_accuracy: 0.9929\n",
      "Epoch 19/20\n",
      "200/200 [==============================] - 0s 355us/sample - loss: 2.7183e-04 - accuracy: 1.0000 - val_loss: 0.0194 - val_accuracy: 0.9929\n",
      "Epoch 20/20\n",
      "200/200 [==============================] - 0s 373us/sample - loss: 2.5903e-04 - accuracy: 1.0000 - val_loss: 0.0195 - val_accuracy: 0.9929\n"
     ]
    }
   ],
   "source": [
    "history = model_B_on_A.fit(X_train_B, y_train_B, epochs=5,\n",
    "                           validation_data=(X_valid_B, y_valid_B))\n",
    "\n",
    "for layer in model_B_on_A.layers[:-1]:\n",
    "    layer.trainable = True\n",
    "\n",
    "model_B_on_A.compile(loss=\"binary_crossentropy\",\n",
    "                     optimizer=keras.optimizers.SGD(learning_rate=10e-2),\n",
    "                     metrics=[\"accuracy\"])\n",
    "history = model_B_on_A.fit(X_train_B, y_train_B, epochs=20,\n",
    "                           validation_data=(X_valid_B, y_valid_B))"
   ]
  },
  {
   "cell_type": "code",
   "execution_count": 125,
   "id": "8e06be43",
   "metadata": {},
   "outputs": [
    {
     "name": "stdout",
     "output_type": "stream",
     "text": [
      "2000/2000 [==============================] - 0s 102us/sample - loss: 0.0427 - accuracy: 0.9890\n"
     ]
    },
    {
     "data": {
      "text/plain": [
       "[0.04274180712341331, 0.989]"
      ]
     },
     "execution_count": 125,
     "metadata": {},
     "output_type": "execute_result"
    }
   ],
   "source": [
    "#Results\n",
    "model_B.evaluate(X_test_B, y_test_B)"
   ]
  },
  {
   "cell_type": "code",
   "execution_count": 126,
   "id": "2f029e38",
   "metadata": {},
   "outputs": [
    {
     "name": "stdout",
     "output_type": "stream",
     "text": [
      "2000/2000 [==============================] - 0s 93us/sample - loss: 0.0081 - accuracy: 0.9970\n"
     ]
    },
    {
     "data": {
      "text/plain": [
       "[0.008058915600995533, 0.997]"
      ]
     },
     "execution_count": 126,
     "metadata": {},
     "output_type": "execute_result"
    }
   ],
   "source": [
    "model_B_on_A.evaluate(X_test_B, y_test_B)"
   ]
  },
  {
   "cell_type": "code",
   "execution_count": 127,
   "id": "d4fb9bf3",
   "metadata": {},
   "outputs": [
    {
     "data": {
      "text/plain": [
       "3.6666666666666825"
      ]
     },
     "execution_count": 127,
     "metadata": {},
     "output_type": "execute_result"
    }
   ],
   "source": [
    "(100 - 98.90) / (100 - 99.70) #Improvement"
   ]
  },
  {
   "cell_type": "markdown",
   "id": "29c935b0",
   "metadata": {},
   "source": [
    "## Faster Optimizers in Keras"
   ]
  },
  {
   "cell_type": "markdown",
   "id": "c6c6aba1",
   "metadata": {},
   "source": [
    "### Momentum Optimization"
   ]
  },
  {
   "cell_type": "code",
   "execution_count": 100,
   "id": "e817a1b2",
   "metadata": {},
   "outputs": [],
   "source": [
    "optimizer = keras.optimizers.SGD(learning_rate=0.001, momentum=0.9)"
   ]
  },
  {
   "cell_type": "markdown",
   "id": "c0631729",
   "metadata": {},
   "source": [
    "### Nesterov Accelerated Gradient"
   ]
  },
  {
   "cell_type": "code",
   "execution_count": 101,
   "id": "b1b5b108",
   "metadata": {},
   "outputs": [],
   "source": [
    "optimizer = keras.optimizers.SGD(learning_rate=0.001, momentum=0.9, nesterov=True)"
   ]
  },
  {
   "cell_type": "markdown",
   "id": "39effaf7",
   "metadata": {},
   "source": [
    "### AdaGrad"
   ]
  },
  {
   "cell_type": "code",
   "execution_count": 102,
   "id": "40f42a41",
   "metadata": {},
   "outputs": [],
   "source": [
    "optimizer = keras.optimizers.Adagrad(learning_rate=0.001)"
   ]
  },
  {
   "cell_type": "markdown",
   "id": "883486b7",
   "metadata": {},
   "source": [
    "### RMSProp"
   ]
  },
  {
   "cell_type": "code",
   "execution_count": 103,
   "id": "ac480464",
   "metadata": {},
   "outputs": [],
   "source": [
    "optimizer = keras.optimizers.RMSprop(learning_rate=0.001, rho=0.9)"
   ]
  },
  {
   "cell_type": "markdown",
   "id": "5e2fba45",
   "metadata": {},
   "source": [
    "### Adam Optimization"
   ]
  },
  {
   "cell_type": "code",
   "execution_count": 104,
   "id": "7b2ceea3",
   "metadata": {},
   "outputs": [],
   "source": [
    "optimizer = keras.optimizers.Adam(learning_rate=0.001, beta_1=0.9, beta_2=0.999)"
   ]
  },
  {
   "cell_type": "markdown",
   "id": "5ea281a6",
   "metadata": {},
   "source": [
    "### Adamax Optimization"
   ]
  },
  {
   "cell_type": "code",
   "execution_count": 105,
   "id": "f9f06eee",
   "metadata": {},
   "outputs": [],
   "source": [
    "optimizer = keras.optimizers.Adamax(learning_rate=0.001, beta_1=0.9, beta_2=0.999)"
   ]
  },
  {
   "cell_type": "markdown",
   "id": "1604760c",
   "metadata": {},
   "source": [
    "### Nadam Optimizatoin"
   ]
  },
  {
   "cell_type": "code",
   "execution_count": 106,
   "id": "3dd9aa4a",
   "metadata": {},
   "outputs": [],
   "source": [
    "optimizer = keras.optimizers.Nadam(learning_rate=0.001, beta_1=0.9, beta_2=0.999)"
   ]
  },
  {
   "cell_type": "markdown",
   "id": "55b1f07e",
   "metadata": {},
   "source": [
    "## Learning Rate Scheduling Examples"
   ]
  },
  {
   "cell_type": "markdown",
   "id": "fb32da3f",
   "metadata": {},
   "source": [
    "### Power Scheduling"
   ]
  },
  {
   "cell_type": "markdown",
   "id": "6ce95fad",
   "metadata": {},
   "source": [
    "`lr = lr0 / (1 + steps / s)**c`\n",
    "\n",
    "* for the base optimizer in Keras, Keras uses `c=1` and `s = 1 / decay`"
   ]
  },
  {
   "cell_type": "code",
   "execution_count": 129,
   "id": "41d88ddc",
   "metadata": {},
   "outputs": [],
   "source": [
    "optimizer = keras.optimizers.SGD(learning_rate=0.01, decay=1e-4)"
   ]
  },
  {
   "cell_type": "code",
   "execution_count": 130,
   "id": "e5ca68c7",
   "metadata": {},
   "outputs": [],
   "source": [
    "model = keras.models.Sequential([\n",
    "    keras.layers.Flatten(input_shape=[28, 28]),\n",
    "    keras.layers.Dense(300, activation=\"selu\", kernel_initializer=\"lecun_normal\"),\n",
    "    keras.layers.Dense(100, activation=\"selu\", kernel_initializer=\"lecun_normal\"),\n",
    "    keras.layers.Dense(10, activation=\"softmax\")\n",
    "])\n",
    "model.compile(loss=\"sparse_categorical_crossentropy\", optimizer=optimizer, metrics=[\"accuracy\"])"
   ]
  },
  {
   "cell_type": "code",
   "execution_count": 131,
   "id": "3242b7b1",
   "metadata": {},
   "outputs": [
    {
     "name": "stdout",
     "output_type": "stream",
     "text": [
      "ERROR! Session/line number was not unique in database. History logging moved to new session 523\n",
      "Train on 55000 samples, validate on 5000 samples\n",
      "Epoch 1/25\n",
      "55000/55000 [==============================] - 4s 72us/sample - loss: 0.4903 - accuracy: 0.8291 - val_loss: 0.4003 - val_accuracy: 0.8596\n",
      "Epoch 2/25\n",
      "55000/55000 [==============================] - 4s 64us/sample - loss: 0.3814 - accuracy: 0.8643 - val_loss: 0.3779 - val_accuracy: 0.8666\n",
      "Epoch 3/25\n",
      "55000/55000 [==============================] - 3s 58us/sample - loss: 0.3488 - accuracy: 0.8753 - val_loss: 0.3598 - val_accuracy: 0.8708\n",
      "Epoch 4/25\n",
      "55000/55000 [==============================] - 3s 60us/sample - loss: 0.3275 - accuracy: 0.8836 - val_loss: 0.3509 - val_accuracy: 0.8754\n",
      "Epoch 5/25\n",
      "55000/55000 [==============================] - 3s 58us/sample - loss: 0.3124 - accuracy: 0.8888 - val_loss: 0.3415 - val_accuracy: 0.8828\n",
      "Epoch 6/25\n",
      "55000/55000 [==============================] - 3s 62us/sample - loss: 0.3000 - accuracy: 0.8936 - val_loss: 0.3388 - val_accuracy: 0.8794\n",
      "Epoch 7/25\n",
      "55000/55000 [==============================] - 3s 59us/sample - loss: 0.2883 - accuracy: 0.8968 - val_loss: 0.3354 - val_accuracy: 0.8822\n",
      "Epoch 8/25\n",
      "55000/55000 [==============================] - 3s 58us/sample - loss: 0.2792 - accuracy: 0.9006 - val_loss: 0.3305 - val_accuracy: 0.8830\n",
      "Epoch 9/25\n",
      "55000/55000 [==============================] - 3s 61us/sample - loss: 0.2718 - accuracy: 0.9034 - val_loss: 0.3313 - val_accuracy: 0.8838\n",
      "Epoch 10/25\n",
      "55000/55000 [==============================] - 3s 62us/sample - loss: 0.2644 - accuracy: 0.9063 - val_loss: 0.3270 - val_accuracy: 0.8844\n",
      "Epoch 11/25\n",
      "55000/55000 [==============================] - 3s 59us/sample - loss: 0.2582 - accuracy: 0.9075 - val_loss: 0.3324 - val_accuracy: 0.8828\n",
      "Epoch 12/25\n",
      "55000/55000 [==============================] - 3s 57us/sample - loss: 0.2528 - accuracy: 0.9108 - val_loss: 0.3223 - val_accuracy: 0.8838\n",
      "Epoch 13/25\n",
      "55000/55000 [==============================] - 3s 59us/sample - loss: 0.2472 - accuracy: 0.9130 - val_loss: 0.3210 - val_accuracy: 0.8884\n",
      "Epoch 14/25\n",
      "55000/55000 [==============================] - 3s 54us/sample - loss: 0.2423 - accuracy: 0.9134 - val_loss: 0.3198 - val_accuracy: 0.8906\n",
      "Epoch 15/25\n",
      "55000/55000 [==============================] - 3s 61us/sample - loss: 0.2381 - accuracy: 0.9160 - val_loss: 0.3174 - val_accuracy: 0.8902\n",
      "Epoch 16/25\n",
      "55000/55000 [==============================] - 3s 62us/sample - loss: 0.2330 - accuracy: 0.9178 - val_loss: 0.3195 - val_accuracy: 0.8880\n",
      "Epoch 17/25\n",
      "55000/55000 [==============================] - 4s 65us/sample - loss: 0.2300 - accuracy: 0.9195 - val_loss: 0.3154 - val_accuracy: 0.8892\n",
      "Epoch 18/25\n",
      "55000/55000 [==============================] - 4s 64us/sample - loss: 0.2259 - accuracy: 0.9212 - val_loss: 0.3185 - val_accuracy: 0.8886\n",
      "Epoch 19/25\n",
      "55000/55000 [==============================] - 4s 65us/sample - loss: 0.2228 - accuracy: 0.9221 - val_loss: 0.3163 - val_accuracy: 0.8898\n",
      "Epoch 20/25\n",
      "55000/55000 [==============================] - 3s 61us/sample - loss: 0.2194 - accuracy: 0.9232 - val_loss: 0.3185 - val_accuracy: 0.8904\n",
      "Epoch 21/25\n",
      "55000/55000 [==============================] - 4s 65us/sample - loss: 0.2161 - accuracy: 0.9248 - val_loss: 0.3142 - val_accuracy: 0.8916\n",
      "Epoch 22/25\n",
      "55000/55000 [==============================] - 3s 61us/sample - loss: 0.2134 - accuracy: 0.9255 - val_loss: 0.3136 - val_accuracy: 0.8932\n",
      "Epoch 23/25\n",
      "55000/55000 [==============================] - 3s 62us/sample - loss: 0.2106 - accuracy: 0.9262 - val_loss: 0.3161 - val_accuracy: 0.8928\n",
      "Epoch 24/25\n",
      "55000/55000 [==============================] - 3s 63us/sample - loss: 0.2079 - accuracy: 0.9275 - val_loss: 0.3146 - val_accuracy: 0.8918\n",
      "Epoch 25/25\n",
      "55000/55000 [==============================] - 3s 61us/sample - loss: 0.2052 - accuracy: 0.9286 - val_loss: 0.3157 - val_accuracy: 0.8906\n"
     ]
    }
   ],
   "source": [
    "n_epochs = 25\n",
    "history = model.fit(X_train_scaled, y_train, epochs=n_epochs,\n",
    "                    validation_data=(X_val_scaled, y_val))"
   ]
  },
  {
   "cell_type": "code",
   "execution_count": 132,
   "id": "015c5914",
   "metadata": {},
   "outputs": [
    {
     "data": {
      "image/png": "[encoded data removed]",
      "text/plain": [
       "<Figure size 432x288 with 1 Axes>"
      ]
     },
     "metadata": {
      "needs_background": "light"
     },
     "output_type": "display_data"
    }
   ],
   "source": [
    "# Visualization using MatPlotLib\n",
    "import math\n",
    "\n",
    "learning_rate = 0.01\n",
    "decay = 1e-4\n",
    "batch_size = 32\n",
    "n_steps_per_epoch = math.ceil(len(X_train) / batch_size)\n",
    "epochs = np.arange(n_epochs)\n",
    "lrs = learning_rate / (1 + decay * epochs * n_steps_per_epoch)\n",
    "\n",
    "plt.plot(epochs, lrs,  \"o-\")\n",
    "plt.axis([0, n_epochs - 1, 0, 0.01])\n",
    "plt.xlabel(\"Epoch\")\n",
    "plt.ylabel(\"Learning Rate\")\n",
    "plt.title(\"Power Scheduling\", fontsize=14)\n",
    "plt.grid(True)\n",
    "plt.show()"
   ]
  },
  {
   "cell_type": "markdown",
   "id": "e4ac468f",
   "metadata": {},
   "source": [
    "### Exponential Scheduling"
   ]
  },
  {
   "cell_type": "markdown",
   "id": "261428ed",
   "metadata": {},
   "source": [
    "`lr = lr0 * 0.1**(epoch / s)`"
   ]
  },
  {
   "cell_type": "code",
   "execution_count": 133,
   "id": "8e95a7f1",
   "metadata": {},
   "outputs": [],
   "source": [
    "def exponential_decay_fn(epoch):\n",
    "    return 0.01 * 0.1**(epoch / 20)"
   ]
  },
  {
   "cell_type": "code",
   "execution_count": 134,
   "id": "bfe1193c",
   "metadata": {},
   "outputs": [],
   "source": [
    "def exponential_decay(lr0, s):\n",
    "    def exponential_decay_fn(epoch):\n",
    "        return lr0 * 0.1**(epoch / s)\n",
    "    return exponential_decay_fn\n",
    "\n",
    "exponential_decay_fn = exponential_decay(lr0=0.01, s=20)"
   ]
  },
  {
   "cell_type": "code",
   "execution_count": 135,
   "id": "58b69831",
   "metadata": {},
   "outputs": [],
   "source": [
    "model = keras.models.Sequential([\n",
    "    keras.layers.Flatten(input_shape=[28, 28]),\n",
    "    keras.layers.Dense(300, activation=\"selu\", kernel_initializer=\"lecun_normal\"),\n",
    "    keras.layers.Dense(100, activation=\"selu\", kernel_initializer=\"lecun_normal\"),\n",
    "    keras.layers.Dense(10, activation=\"softmax\")\n",
    "])\n",
    "model.compile(loss=\"sparse_categorical_crossentropy\", optimizer=\"nadam\", metrics=[\"accuracy\"])\n",
    "n_epochs = 25"
   ]
  },
  {
   "cell_type": "code",
   "execution_count": 136,
   "id": "f71f788d",
   "metadata": {},
   "outputs": [
    {
     "name": "stdout",
     "output_type": "stream",
     "text": [
      "ERROR! Session/line number was not unique in database. History logging moved to new session 524\n",
      "Train on 55000 samples, validate on 5000 samples\n",
      "Epoch 1/25\n",
      "55000/55000 [==============================] - 4s 74us/sample - loss: 0.8565 - accuracy: 0.7574 - val_loss: 1.2223 - val_accuracy: 0.6722\n",
      "Epoch 2/25\n",
      "55000/55000 [==============================] - 3s 63us/sample - loss: 0.7179 - accuracy: 0.7883 - val_loss: 0.7581 - val_accuracy: 0.8068\n",
      "Epoch 3/25\n",
      "55000/55000 [==============================] - 4s 65us/sample - loss: 0.6338 - accuracy: 0.8159 - val_loss: 0.6621 - val_accuracy: 0.7946\n",
      "Epoch 4/25\n",
      "55000/55000 [==============================] - 4s 64us/sample - loss: 0.6131 - accuracy: 0.8189 - val_loss: 0.7327 - val_accuracy: 0.7904\n",
      "Epoch 5/25\n",
      "55000/55000 [==============================] - 4s 65us/sample - loss: 0.5592 - accuracy: 0.8328 - val_loss: 0.5816 - val_accuracy: 0.8338\n",
      "Epoch 6/25\n",
      "55000/55000 [==============================] - 4s 71us/sample - loss: 0.5049 - accuracy: 0.8483 - val_loss: 0.6948 - val_accuracy: 0.8268\n",
      "Epoch 7/25\n",
      "55000/55000 [==============================] - 4s 72us/sample - loss: 0.4528 - accuracy: 0.8629 - val_loss: 0.6360 - val_accuracy: 0.8534\n",
      "Epoch 8/25\n",
      "55000/55000 [==============================] - 4s 65us/sample - loss: 0.4303 - accuracy: 0.8663 - val_loss: 0.5853 - val_accuracy: 0.8586\n",
      "Epoch 9/25\n",
      "55000/55000 [==============================] - 4s 65us/sample - loss: 0.3992 - accuracy: 0.8763 - val_loss: 0.5516 - val_accuracy: 0.8600\n",
      "Epoch 10/25\n",
      "55000/55000 [==============================] - 4s 65us/sample - loss: 0.3823 - accuracy: 0.8814 - val_loss: 0.5809 - val_accuracy: 0.7978\n",
      "Epoch 11/25\n",
      "55000/55000 [==============================] - 4s 64us/sample - loss: 0.3502 - accuracy: 0.8903 - val_loss: 0.5053 - val_accuracy: 0.8562\n",
      "Epoch 12/25\n",
      "55000/55000 [==============================] - 4s 66us/sample - loss: 0.3388 - accuracy: 0.8957 - val_loss: 0.5524 - val_accuracy: 0.8686\n",
      "Epoch 13/25\n",
      "55000/55000 [==============================] - 4s 65us/sample - loss: 0.3114 - accuracy: 0.9007 - val_loss: 0.5263 - val_accuracy: 0.8678\n",
      "Epoch 14/25\n",
      "55000/55000 [==============================] - 3s 63us/sample - loss: 0.2923 - accuracy: 0.9070 - val_loss: 0.4625 - val_accuracy: 0.8698\n",
      "Epoch 15/25\n",
      "55000/55000 [==============================] - 3s 63us/sample - loss: 0.2732 - accuracy: 0.9119 - val_loss: 0.5238 - val_accuracy: 0.8692\n",
      "Epoch 16/25\n",
      "55000/55000 [==============================] - 4s 64us/sample - loss: 0.2593 - accuracy: 0.9163 - val_loss: 0.5297 - val_accuracy: 0.8752\n",
      "Epoch 17/25\n",
      "55000/55000 [==============================] - 3s 63us/sample - loss: 0.2459 - accuracy: 0.9204 - val_loss: 0.4676 - val_accuracy: 0.8774\n",
      "Epoch 18/25\n",
      "55000/55000 [==============================] - 4s 67us/sample - loss: 0.2315 - accuracy: 0.9249 - val_loss: 0.4891 - val_accuracy: 0.8788\n",
      "Epoch 19/25\n",
      "55000/55000 [==============================] - 4s 65us/sample - loss: 0.2190 - accuracy: 0.9283 - val_loss: 0.5083 - val_accuracy: 0.8786\n",
      "Epoch 20/25\n",
      "55000/55000 [==============================] - 3s 63us/sample - loss: 0.2086 - accuracy: 0.9322 - val_loss: 0.4793 - val_accuracy: 0.8810\n",
      "Epoch 21/25\n",
      "55000/55000 [==============================] - 4s 64us/sample - loss: 0.1980 - accuracy: 0.9363 - val_loss: 0.5021 - val_accuracy: 0.8784\n",
      "Epoch 22/25\n",
      "55000/55000 [==============================] - 4s 65us/sample - loss: 0.1856 - accuracy: 0.9395 - val_loss: 0.5403 - val_accuracy: 0.8804\n",
      "Epoch 23/25\n",
      "55000/55000 [==============================] - 4s 65us/sample - loss: 0.1785 - accuracy: 0.9430 - val_loss: 0.5479 - val_accuracy: 0.8828\n",
      "Epoch 24/25\n",
      "55000/55000 [==============================] - 4s 69us/sample - loss: 0.1704 - accuracy: 0.9459 - val_loss: 0.5786 - val_accuracy: 0.8838\n",
      "Epoch 25/25\n",
      "55000/55000 [==============================] - 4s 67us/sample - loss: 0.1645 - accuracy: 0.9481 - val_loss: 0.5862 - val_accuracy: 0.8804\n"
     ]
    }
   ],
   "source": [
    "lr_scheduler = keras.callbacks.LearningRateScheduler(exponential_decay_fn)\n",
    "history = model.fit(X_train_scaled, y_train, epochs=n_epochs,\n",
    "                    validation_data=(X_val_scaled, y_val),\n",
    "                    callbacks=[lr_scheduler])"
   ]
  },
  {
   "cell_type": "code",
   "execution_count": 137,
   "id": "ff2f355e",
   "metadata": {},
   "outputs": [
    {
     "data": {
      "image/png": "[encoded data removed]",
      "text/plain": [
       "<Figure size 432x288 with 1 Axes>"
      ]
     },
     "metadata": {
      "needs_background": "light"
     },
     "output_type": "display_data"
    }
   ],
   "source": [
    "plt.plot(history.epoch, history.history[\"lr\"], \"o-\")\n",
    "plt.axis([0, n_epochs - 1, 0, 0.011])\n",
    "plt.xlabel(\"Epoch\")\n",
    "plt.ylabel(\"Learning Rate\")\n",
    "plt.title(\"Exponential Scheduling\", fontsize=14)\n",
    "plt.grid(True)\n",
    "plt.show()"
   ]
  },
  {
   "cell_type": "markdown",
   "id": "0a8b35a7",
   "metadata": {},
   "source": [
    "Alternatively, the schedule function can take the current learning rate as a second arugment like the following:"
   ]
  },
  {
   "cell_type": "code",
   "execution_count": 138,
   "id": "873b2ea7",
   "metadata": {},
   "outputs": [],
   "source": [
    "def exponential_decay_fn(epoch, lr):\n",
    "    return lr * 0.1**(1 / 20)"
   ]
  },
  {
   "cell_type": "markdown",
   "id": "b02bb5f4",
   "metadata": {},
   "source": [
    "Updating the learning rate at each iteration instead of epoch needs a callback class like below:"
   ]
  },
  {
   "cell_type": "code",
   "execution_count": 139,
   "id": "5b2f3284",
   "metadata": {},
   "outputs": [
    {
     "name": "stdout",
     "output_type": "stream",
     "text": [
      "ERROR! Session/line number was not unique in database. History logging moved to new session 525\n",
      "Train on 55000 samples, validate on 5000 samples\n",
      "Epoch 1/25\n",
      "55000/55000 [==============================] - 5s 96us/sample - loss: 0.8089 - accuracy: 0.7630 - val_loss: 0.8620 - val_accuracy: 0.6700\n",
      "Epoch 2/25\n",
      "55000/55000 [==============================] - 5s 86us/sample - loss: 0.6372 - accuracy: 0.8042 - val_loss: 0.6649 - val_accuracy: 0.8042\n",
      "Epoch 3/25\n",
      "55000/55000 [==============================] - 5s 85us/sample - loss: 0.5671 - accuracy: 0.8229 - val_loss: 0.6797 - val_accuracy: 0.8100\n",
      "Epoch 4/25\n",
      "55000/55000 [==============================] - 5s 86us/sample - loss: 0.5123 - accuracy: 0.8424 - val_loss: 0.5191 - val_accuracy: 0.8622\n",
      "Epoch 5/25\n",
      "55000/55000 [==============================] - 5s 88us/sample - loss: 0.4753 - accuracy: 0.8498 - val_loss: 0.5113 - val_accuracy: 0.8404\n",
      "Epoch 6/25\n",
      "55000/55000 [==============================] - 5s 85us/sample - loss: 0.4231 - accuracy: 0.8627 - val_loss: 0.4805 - val_accuracy: 0.8566\n",
      "Epoch 7/25\n",
      "55000/55000 [==============================] - 5s 86us/sample - loss: 0.3866 - accuracy: 0.8754 - val_loss: 0.4599 - val_accuracy: 0.8636\n",
      "Epoch 8/25\n",
      "55000/55000 [==============================] - 4s 82us/sample - loss: 0.3618 - accuracy: 0.8809 - val_loss: 0.4605 - val_accuracy: 0.8620\n",
      "Epoch 9/25\n",
      "55000/55000 [==============================] - 5s 82us/sample - loss: 0.3328 - accuracy: 0.8903 - val_loss: 0.4686 - val_accuracy: 0.8750\n",
      "Epoch 10/25\n",
      "55000/55000 [==============================] - 5s 88us/sample - loss: 0.3134 - accuracy: 0.8957 - val_loss: 0.5002 - val_accuracy: 0.8800\n",
      "Epoch 11/25\n",
      "55000/55000 [==============================] - 5s 88us/sample - loss: 0.2839 - accuracy: 0.9051 - val_loss: 0.4515 - val_accuracy: 0.8686\n",
      "Epoch 12/25\n",
      "55000/55000 [==============================] - 5s 89us/sample - loss: 0.2685 - accuracy: 0.9101 - val_loss: 0.4605 - val_accuracy: 0.8738\n",
      "Epoch 13/25\n",
      "55000/55000 [==============================] - 5s 83us/sample - loss: 0.2483 - accuracy: 0.9170 - val_loss: 0.4796 - val_accuracy: 0.8752\n",
      "Epoch 14/25\n",
      "55000/55000 [==============================] - 4s 79us/sample - loss: 0.2307 - accuracy: 0.9212 - val_loss: 0.4637 - val_accuracy: 0.8856\n",
      "Epoch 15/25\n",
      "55000/55000 [==============================] - 4s 80us/sample - loss: 0.2131 - accuracy: 0.9269 - val_loss: 0.4819 - val_accuracy: 0.8804\n",
      "Epoch 16/25\n",
      "55000/55000 [==============================] - 4s 80us/sample - loss: 0.1970 - accuracy: 0.9326 - val_loss: 0.4543 - val_accuracy: 0.8884\n",
      "Epoch 17/25\n",
      "55000/55000 [==============================] - 4s 79us/sample - loss: 0.1848 - accuracy: 0.9379 - val_loss: 0.4614 - val_accuracy: 0.8848\n",
      "Epoch 18/25\n",
      "55000/55000 [==============================] - 4s 79us/sample - loss: 0.1729 - accuracy: 0.9418 - val_loss: 0.4814 - val_accuracy: 0.8852\n",
      "Epoch 19/25\n",
      "55000/55000 [==============================] - 5s 87us/sample - loss: 0.1585 - accuracy: 0.9465 - val_loss: 0.5135 - val_accuracy: 0.8888\n",
      "Epoch 20/25\n",
      "55000/55000 [==============================] - 5s 88us/sample - loss: 0.1491 - accuracy: 0.9510 - val_loss: 0.5370 - val_accuracy: 0.8908\n",
      "Epoch 21/25\n",
      "55000/55000 [==============================] - 5s 83us/sample - loss: 0.1387 - accuracy: 0.9536 - val_loss: 0.5410 - val_accuracy: 0.8844\n",
      "Epoch 22/25\n",
      "55000/55000 [==============================] - 5s 87us/sample - loss: 0.1287 - accuracy: 0.9575 - val_loss: 0.5701 - val_accuracy: 0.8870\n",
      "Epoch 23/25\n",
      "55000/55000 [==============================] - 5s 83us/sample - loss: 0.1200 - accuracy: 0.9610 - val_loss: 0.5749 - val_accuracy: 0.8892\n",
      "Epoch 24/25\n",
      "55000/55000 [==============================] - 5s 84us/sample - loss: 0.1134 - accuracy: 0.9638 - val_loss: 0.6277 - val_accuracy: 0.8904\n",
      "Epoch 25/25\n",
      "55000/55000 [==============================] - 5s 84us/sample - loss: 0.1042 - accuracy: 0.9662 - val_loss: 0.6509 - val_accuracy: 0.8860\n"
     ]
    }
   ],
   "source": [
    "K = keras.backend\n",
    "\n",
    "class ExponentialDecay(keras.callbacks.Callback):\n",
    "    def __init__(self, s=40000):\n",
    "        super().__init__()\n",
    "        self.s = s\n",
    "\n",
    "    def on_batch_begin(self, batch, logs=None):\n",
    "        # Note: the `batch` argument is reset at each epoch\n",
    "        lr = K.get_value(self.model.optimizer.learning_rate)\n",
    "        K.set_value(self.model.optimizer.learning_rate, lr * 0.1**(1 / self.s))\n",
    "\n",
    "    def on_epoch_end(self, epoch, logs=None):\n",
    "        logs = logs or {}\n",
    "        logs['lr'] = K.get_value(self.model.optimizer.learning_rate)\n",
    "\n",
    "model = keras.models.Sequential([\n",
    "    keras.layers.Flatten(input_shape=[28, 28]),\n",
    "    keras.layers.Dense(300, activation=\"selu\", kernel_initializer=\"lecun_normal\"),\n",
    "    keras.layers.Dense(100, activation=\"selu\", kernel_initializer=\"lecun_normal\"),\n",
    "    keras.layers.Dense(10, activation=\"softmax\")\n",
    "])\n",
    "lr0 = 0.01\n",
    "optimizer = keras.optimizers.Nadam(learning_rate=lr0)\n",
    "model.compile(loss=\"sparse_categorical_crossentropy\", optimizer=optimizer, metrics=[\"accuracy\"])\n",
    "n_epochs = 25\n",
    "\n",
    "s = 20 * len(X_train) // 32 # number of steps in 20 epochs (batch size = 32)\n",
    "exp_decay = ExponentialDecay(s)\n",
    "history = model.fit(X_train_scaled, y_train, epochs=n_epochs,\n",
    "                    validation_data=(X_val_scaled, y_val),\n",
    "                    callbacks=[exp_decay])"
   ]
  },
  {
   "cell_type": "code",
   "execution_count": 140,
   "id": "77b15c6b",
   "metadata": {},
   "outputs": [],
   "source": [
    "n_steps = n_epochs * len(X_train) // 32\n",
    "steps = np.arange(n_steps)\n",
    "lrs = lr0 * 0.1**(steps / s)"
   ]
  },
  {
   "cell_type": "code",
   "execution_count": 141,
   "id": "b44c4b42",
   "metadata": {},
   "outputs": [
    {
     "data": {
      "image/png": "[encoded data removed]",
      "text/plain": [
       "<Figure size 432x288 with 1 Axes>"
      ]
     },
     "metadata": {
      "needs_background": "light"
     },
     "output_type": "display_data"
    }
   ],
   "source": [
    "plt.plot(steps, lrs, \"-\", linewidth=2)\n",
    "plt.axis([0, n_steps - 1, 0, lr0 * 1.1])\n",
    "plt.xlabel(\"Batch\")\n",
    "plt.ylabel(\"Learning Rate\")\n",
    "plt.title(\"Exponential Scheduling (per batch)\", fontsize=14)\n",
    "plt.grid(True)\n",
    "plt.show()"
   ]
  },
  {
   "cell_type": "markdown",
   "id": "51920589",
   "metadata": {},
   "source": [
    "### Piecewise Constant Scheduling"
   ]
  },
  {
   "cell_type": "code",
   "execution_count": 142,
   "id": "564efb59",
   "metadata": {},
   "outputs": [],
   "source": [
    "def piecewise_constant_fn(epoch):\n",
    "    if epoch < 5:\n",
    "        return 0.01\n",
    "    elif epoch < 15:\n",
    "        return 0.005\n",
    "    else:\n",
    "        return 0.001"
   ]
  },
  {
   "cell_type": "code",
   "execution_count": 143,
   "id": "5f2dcd12",
   "metadata": {},
   "outputs": [],
   "source": [
    "def piecewise_constant(boundaries, values):\n",
    "    boundaries = np.array([0] + boundaries)\n",
    "    values = np.array(values)\n",
    "    def piecewise_constant_fn(epoch):\n",
    "        return values[np.argmax(boundaries > epoch) - 1]\n",
    "    return piecewise_constant_fn\n",
    "\n",
    "piecewise_constant_fn = piecewise_constant([5, 15], [0.01, 0.005, 0.001])"
   ]
  },
  {
   "cell_type": "code",
   "execution_count": 144,
   "id": "aa572b1e",
   "metadata": {},
   "outputs": [
    {
     "name": "stdout",
     "output_type": "stream",
     "text": [
      "Train on 55000 samples, validate on 5000 samples\n",
      "Epoch 1/25\n",
      "55000/55000 [==============================] - 4s 77us/sample - loss: 0.8722 - accuracy: 0.7521 - val_loss: 0.7824 - val_accuracy: 0.7550\n",
      "Epoch 2/25\n",
      "55000/55000 [==============================] - 4s 71us/sample - loss: 0.8715 - accuracy: 0.7434 - val_loss: 0.8172 - val_accuracy: 0.7416\n",
      "Epoch 3/25\n",
      "55000/55000 [==============================] - 4s 75us/sample - loss: 0.9237 - accuracy: 0.7268 - val_loss: 0.8933 - val_accuracy: 0.7126\n",
      "Epoch 4/25\n",
      "55000/55000 [==============================] - 4s 69us/sample - loss: 1.0068 - accuracy: 0.6697 - val_loss: 1.2000 - val_accuracy: 0.5774\n",
      "Epoch 5/25\n",
      "55000/55000 [==============================] - 4s 67us/sample - loss: 1.1134 - accuracy: 0.6107 - val_loss: 1.2771 - val_accuracy: 0.5486\n",
      "Epoch 6/25\n",
      "55000/55000 [==============================] - 4s 69us/sample - loss: 0.8473 - accuracy: 0.6800 - val_loss: 0.8685 - val_accuracy: 0.7414\n",
      "Epoch 7/25\n",
      "55000/55000 [==============================] - 4s 73us/sample - loss: 0.6899 - accuracy: 0.7466 - val_loss: 0.7007 - val_accuracy: 0.7600\n",
      "Epoch 8/25\n",
      "55000/55000 [==============================] - 4s 71us/sample - loss: 0.6467 - accuracy: 0.7593 - val_loss: 0.8057 - val_accuracy: 0.7470\n",
      "Epoch 9/25\n",
      "55000/55000 [==============================] - 4s 73us/sample - loss: 0.6313 - accuracy: 0.7879 - val_loss: 0.6089 - val_accuracy: 0.8310\n",
      "Epoch 10/25\n",
      "55000/55000 [==============================] - 4s 66us/sample - loss: 0.5322 - accuracy: 0.8426 - val_loss: 0.6864 - val_accuracy: 0.8338\n",
      "Epoch 11/25\n",
      "55000/55000 [==============================] - 4s 67us/sample - loss: 0.5189 - accuracy: 0.8470 - val_loss: 0.6472 - val_accuracy: 0.8052\n",
      "Epoch 12/25\n",
      "55000/55000 [==============================] - 4s 66us/sample - loss: 0.5045 - accuracy: 0.8488 - val_loss: 0.6521 - val_accuracy: 0.8462\n",
      "Epoch 13/25\n",
      "55000/55000 [==============================] - 4s 71us/sample - loss: 0.4970 - accuracy: 0.8495 - val_loss: 0.6720 - val_accuracy: 0.8448\n",
      "Epoch 14/25\n",
      "55000/55000 [==============================] - 4s 75us/sample - loss: 0.4809 - accuracy: 0.8586 - val_loss: 0.6143 - val_accuracy: 0.8410\n",
      "Epoch 15/25\n",
      "55000/55000 [==============================] - 4s 71us/sample - loss: 0.4800 - accuracy: 0.8598 - val_loss: 0.6096 - val_accuracy: 0.8504\n",
      "Epoch 16/25\n",
      "55000/55000 [==============================] - 4s 72us/sample - loss: 0.3484 - accuracy: 0.8868 - val_loss: 0.5511 - val_accuracy: 0.8658\n",
      "Epoch 17/25\n",
      "55000/55000 [==============================] - 4s 71us/sample - loss: 0.3197 - accuracy: 0.8960 - val_loss: 0.5573 - val_accuracy: 0.8636\n",
      "Epoch 18/25\n",
      "55000/55000 [==============================] - 4s 70us/sample - loss: 0.3053 - accuracy: 0.9006 - val_loss: 0.5451 - val_accuracy: 0.8692\n",
      "Epoch 19/25\n",
      "55000/55000 [==============================] - 4s 71us/sample - loss: 0.2917 - accuracy: 0.9050 - val_loss: 0.5672 - val_accuracy: 0.8672\n",
      "Epoch 20/25\n",
      "55000/55000 [==============================] - 4s 68us/sample - loss: 0.2852 - accuracy: 0.9073 - val_loss: 0.5342 - val_accuracy: 0.8666\n",
      "Epoch 21/25\n",
      "55000/55000 [==============================] - 4s 69us/sample - loss: 0.2776 - accuracy: 0.9097 - val_loss: 0.5527 - val_accuracy: 0.8772\n",
      "Epoch 22/25\n",
      "55000/55000 [==============================] - 4s 66us/sample - loss: 0.2700 - accuracy: 0.9124 - val_loss: 0.5376 - val_accuracy: 0.8756\n",
      "Epoch 23/25\n",
      "55000/55000 [==============================] - 4s 65us/sample - loss: 0.2627 - accuracy: 0.9160 - val_loss: 0.5804 - val_accuracy: 0.8704\n",
      "Epoch 24/25\n",
      "55000/55000 [==============================] - 4s 71us/sample - loss: 0.2594 - accuracy: 0.9175 - val_loss: 0.5349 - val_accuracy: 0.8762\n",
      "Epoch 25/25\n",
      "55000/55000 [==============================] - 4s 70us/sample - loss: 0.2469 - accuracy: 0.9197 - val_loss: 0.5354 - val_accuracy: 0.8762\n"
     ]
    }
   ],
   "source": [
    "lr_scheduler = keras.callbacks.LearningRateScheduler(piecewise_constant_fn)\n",
    "\n",
    "model = keras.models.Sequential([\n",
    "    keras.layers.Flatten(input_shape=[28, 28]),\n",
    "    keras.layers.Dense(300, activation=\"selu\", kernel_initializer=\"lecun_normal\"),\n",
    "    keras.layers.Dense(100, activation=\"selu\", kernel_initializer=\"lecun_normal\"),\n",
    "    keras.layers.Dense(10, activation=\"softmax\")\n",
    "])\n",
    "model.compile(loss=\"sparse_categorical_crossentropy\", optimizer=\"nadam\", metrics=[\"accuracy\"])\n",
    "n_epochs = 25\n",
    "history = model.fit(X_train_scaled, y_train, epochs=n_epochs,\n",
    "                    validation_data=(X_val_scaled, y_val),\n",
    "                    callbacks=[lr_scheduler])"
   ]
  },
  {
   "cell_type": "code",
   "execution_count": 145,
   "id": "b8cc3804",
   "metadata": {},
   "outputs": [
    {
     "data": {
      "image/png": "[encoded data removed]",
      "text/plain": [
       "<Figure size 432x288 with 1 Axes>"
      ]
     },
     "metadata": {
      "needs_background": "light"
     },
     "output_type": "display_data"
    }
   ],
   "source": [
    "plt.plot(history.epoch, [piecewise_constant_fn(epoch) for epoch in history.epoch], \"o-\")\n",
    "plt.axis([0, n_epochs - 1, 0, 0.011])\n",
    "plt.xlabel(\"Epoch\")\n",
    "plt.ylabel(\"Learning Rate\")\n",
    "plt.title(\"Piecewise Constant Scheduling\", fontsize=14)\n",
    "plt.grid(True)\n",
    "plt.show()"
   ]
  },
  {
   "cell_type": "markdown",
   "id": "14be8ab9",
   "metadata": {},
   "source": [
    "### Performance Scheduling"
   ]
  },
  {
   "cell_type": "code",
   "execution_count": 146,
   "id": "6d4788c9",
   "metadata": {},
   "outputs": [
    {
     "name": "stdout",
     "output_type": "stream",
     "text": [
      "Train on 55000 samples, validate on 5000 samples\n",
      "Epoch 1/25\n",
      "55000/55000 [==============================] - 3s 60us/sample - loss: 0.5942 - accuracy: 0.8077 - val_loss: 0.4696 - val_accuracy: 0.8412\n",
      "Epoch 2/25\n",
      "55000/55000 [==============================] - 3s 59us/sample - loss: 0.5105 - accuracy: 0.8350 - val_loss: 0.6462 - val_accuracy: 0.8434\n",
      "Epoch 3/25\n",
      "55000/55000 [==============================] - 3s 58us/sample - loss: 0.4973 - accuracy: 0.8449 - val_loss: 0.4964 - val_accuracy: 0.8428\n",
      "Epoch 4/25\n",
      "55000/55000 [==============================] - 3s 56us/sample - loss: 0.4982 - accuracy: 0.8480 - val_loss: 0.6057 - val_accuracy: 0.8240\n",
      "Epoch 5/25\n",
      "55000/55000 [==============================] - 3s 56us/sample - loss: 0.5235 - accuracy: 0.8509 - val_loss: 0.4739 - val_accuracy: 0.8398\n",
      "Epoch 6/25\n",
      "55000/55000 [==============================] - 3s 55us/sample - loss: 0.5111 - accuracy: 0.8530 - val_loss: 0.6928 - val_accuracy: 0.8330\n",
      "Epoch 7/25\n",
      "55000/55000 [==============================] - 3s 57us/sample - loss: 0.3052 - accuracy: 0.8930 - val_loss: 0.3554 - val_accuracy: 0.8800\n",
      "Epoch 8/25\n",
      "55000/55000 [==============================] - 3s 61us/sample - loss: 0.2514 - accuracy: 0.9090 - val_loss: 0.4145 - val_accuracy: 0.8578\n",
      "Epoch 9/25\n",
      "55000/55000 [==============================] - 3s 55us/sample - loss: 0.2413 - accuracy: 0.9110 - val_loss: 0.3784 - val_accuracy: 0.8844\n",
      "Epoch 10/25\n",
      "55000/55000 [==============================] - 3s 57us/sample - loss: 0.2197 - accuracy: 0.9182 - val_loss: 0.3748 - val_accuracy: 0.8882\n",
      "Epoch 11/25\n",
      "55000/55000 [==============================] - 3s 59us/sample - loss: 0.2109 - accuracy: 0.9225 - val_loss: 0.4529 - val_accuracy: 0.8840\n",
      "Epoch 12/25\n",
      "55000/55000 [==============================] - 3s 59us/sample - loss: 0.2030 - accuracy: 0.9240 - val_loss: 0.4205 - val_accuracy: 0.8904\n",
      "Epoch 13/25\n",
      "55000/55000 [==============================] - 3s 59us/sample - loss: 0.1387 - accuracy: 0.9457 - val_loss: 0.3885 - val_accuracy: 0.8984\n",
      "Epoch 14/25\n",
      "55000/55000 [==============================] - 3s 57us/sample - loss: 0.1232 - accuracy: 0.9522 - val_loss: 0.3937 - val_accuracy: 0.8970\n",
      "Epoch 15/25\n",
      "55000/55000 [==============================] - 3s 56us/sample - loss: 0.1161 - accuracy: 0.9544 - val_loss: 0.4194 - val_accuracy: 0.8982\n",
      "Epoch 16/25\n",
      "55000/55000 [==============================] - 3s 58us/sample - loss: 0.1081 - accuracy: 0.9585 - val_loss: 0.4340 - val_accuracy: 0.8962\n",
      "Epoch 17/25\n",
      "55000/55000 [==============================] - 3s 58us/sample - loss: 0.0998 - accuracy: 0.9616 - val_loss: 0.4807 - val_accuracy: 0.8882\n",
      "Epoch 18/25\n",
      "55000/55000 [==============================] - 3s 58us/sample - loss: 0.0783 - accuracy: 0.9710 - val_loss: 0.4498 - val_accuracy: 0.9034\n",
      "Epoch 19/25\n",
      "55000/55000 [==============================] - 3s 56us/sample - loss: 0.0712 - accuracy: 0.9736 - val_loss: 0.4661 - val_accuracy: 0.9002\n",
      "Epoch 20/25\n",
      "55000/55000 [==============================] - 3s 55us/sample - loss: 0.0669 - accuracy: 0.9759 - val_loss: 0.4711 - val_accuracy: 0.8992\n",
      "Epoch 21/25\n",
      "55000/55000 [==============================] - 3s 55us/sample - loss: 0.0632 - accuracy: 0.9769 - val_loss: 0.4895 - val_accuracy: 0.9002\n",
      "Epoch 22/25\n",
      "55000/55000 [==============================] - 3s 54us/sample - loss: 0.0595 - accuracy: 0.9787 - val_loss: 0.4923 - val_accuracy: 0.8998\n",
      "Epoch 23/25\n",
      "55000/55000 [==============================] - 3s 56us/sample - loss: 0.0505 - accuracy: 0.9829 - val_loss: 0.5022 - val_accuracy: 0.8970\n",
      "Epoch 24/25\n",
      "55000/55000 [==============================] - 3s 55us/sample - loss: 0.0483 - accuracy: 0.9842 - val_loss: 0.5125 - val_accuracy: 0.8960\n",
      "Epoch 25/25\n",
      "55000/55000 [==============================] - 3s 57us/sample - loss: 0.0467 - accuracy: 0.9844 - val_loss: 0.5206 - val_accuracy: 0.8956\n"
     ]
    }
   ],
   "source": [
    "# We make use of the callback feature in kera to reduce the learning rate when there is a plateau\n",
    "# for learning\n",
    "lr_scheduler = keras.callbacks.ReduceLROnPlateau(factor=0.5, patience=5)\n",
    "\n",
    "model = keras.models.Sequential([\n",
    "    keras.layers.Flatten(input_shape=[28, 28]),\n",
    "    keras.layers.Dense(300, activation=\"selu\", kernel_initializer=\"lecun_normal\"),\n",
    "    keras.layers.Dense(100, activation=\"selu\", kernel_initializer=\"lecun_normal\"),\n",
    "    keras.layers.Dense(10, activation=\"softmax\")\n",
    "])\n",
    "optimizer = keras.optimizers.SGD(learning_rate=0.02, momentum=0.9)\n",
    "model.compile(loss=\"sparse_categorical_crossentropy\", optimizer=optimizer, metrics=[\"accuracy\"])\n",
    "n_epochs = 25\n",
    "history = model.fit(X_train_scaled, y_train, epochs=n_epochs,\n",
    "                    validation_data=(X_val_scaled, y_val),\n",
    "                    callbacks=[lr_scheduler])"
   ]
  },
  {
   "cell_type": "code",
   "execution_count": 147,
   "id": "6ee72b1d",
   "metadata": {},
   "outputs": [
    {
     "data": {
      "image/png": "[encoded data removed]",
      "text/plain": [
       "<Figure size 432x288 with 2 Axes>"
      ]
     },
     "metadata": {
      "needs_background": "light"
     },
     "output_type": "display_data"
    }
   ],
   "source": [
    "plt.plot(history.epoch, history.history[\"lr\"], \"bo-\")\n",
    "plt.xlabel(\"Epoch\")\n",
    "plt.ylabel(\"Learning Rate\", color='b')\n",
    "plt.tick_params('y', colors='b')\n",
    "plt.gca().set_xlim(0, n_epochs - 1)\n",
    "plt.grid(True)\n",
    "\n",
    "ax2 = plt.gca().twinx()\n",
    "ax2.plot(history.epoch, history.history[\"val_loss\"], \"r^-\")\n",
    "ax2.set_ylabel('Validation Loss', color='r')\n",
    "ax2.tick_params('y', colors='r')\n",
    "\n",
    "plt.title(\"Reduce LR on Plateau\", fontsize=14)\n",
    "plt.show()"
   ]
  },
  {
   "cell_type": "markdown",
   "id": "5887bcfc",
   "metadata": {},
   "source": [
    "## Tensorflow Schedulers"
   ]
  },
  {
   "cell_type": "code",
   "execution_count": 148,
   "id": "c9e77f47",
   "metadata": {},
   "outputs": [
    {
     "name": "stdout",
     "output_type": "stream",
     "text": [
      "Train on 55000 samples, validate on 5000 samples\n",
      "Epoch 1/25\n",
      "55000/55000 [==============================] - 3s 60us/sample - loss: 0.4856 - accuracy: 0.8297 - val_loss: 0.4160 - val_accuracy: 0.8564\n",
      "Epoch 2/25\n",
      "55000/55000 [==============================] - 3s 60us/sample - loss: 0.3789 - accuracy: 0.8663 - val_loss: 0.3815 - val_accuracy: 0.8682\n",
      "Epoch 3/25\n",
      "55000/55000 [==============================] - 3s 58us/sample - loss: 0.3455 - accuracy: 0.8761 - val_loss: 0.3661 - val_accuracy: 0.8720\n",
      "Epoch 4/25\n",
      "55000/55000 [==============================] - 3s 59us/sample - loss: 0.3228 - accuracy: 0.8842 - val_loss: 0.3607 - val_accuracy: 0.8734\n",
      "Epoch 5/25\n",
      "55000/55000 [==============================] - 3s 60us/sample - loss: 0.3055 - accuracy: 0.8911 - val_loss: 0.3603 - val_accuracy: 0.8738\n",
      "Epoch 6/25\n",
      "55000/55000 [==============================] - 3s 57us/sample - loss: 0.2931 - accuracy: 0.8956 - val_loss: 0.3435 - val_accuracy: 0.8792\n",
      "Epoch 7/25\n",
      "55000/55000 [==============================] - 4s 65us/sample - loss: 0.2816 - accuracy: 0.9003 - val_loss: 0.3395 - val_accuracy: 0.8802\n",
      "Epoch 8/25\n",
      "55000/55000 [==============================] - 3s 62us/sample - loss: 0.2724 - accuracy: 0.9029 - val_loss: 0.3383 - val_accuracy: 0.8804\n",
      "Epoch 9/25\n",
      "55000/55000 [==============================] - 3s 62us/sample - loss: 0.2651 - accuracy: 0.9054 - val_loss: 0.3358 - val_accuracy: 0.8818\n",
      "Epoch 10/25\n",
      "55000/55000 [==============================] - 3s 59us/sample - loss: 0.2582 - accuracy: 0.9086 - val_loss: 0.3318 - val_accuracy: 0.8842\n",
      "Epoch 11/25\n",
      "55000/55000 [==============================] - 3s 56us/sample - loss: 0.2522 - accuracy: 0.9103 - val_loss: 0.3294 - val_accuracy: 0.8858\n",
      "Epoch 12/25\n",
      "55000/55000 [==============================] - 3s 55us/sample - loss: 0.2471 - accuracy: 0.9127 - val_loss: 0.3309 - val_accuracy: 0.8848\n",
      "Epoch 13/25\n",
      "55000/55000 [==============================] - 3s 57us/sample - loss: 0.2426 - accuracy: 0.9143 - val_loss: 0.3313 - val_accuracy: 0.8824\n",
      "Epoch 14/25\n",
      "55000/55000 [==============================] - 3s 56us/sample - loss: 0.2388 - accuracy: 0.9159 - val_loss: 0.3265 - val_accuracy: 0.8858\n",
      "Epoch 15/25\n",
      "55000/55000 [==============================] - 3s 57us/sample - loss: 0.2350 - accuracy: 0.9168 - val_loss: 0.3281 - val_accuracy: 0.8854\n",
      "Epoch 16/25\n",
      "55000/55000 [==============================] - 3s 57us/sample - loss: 0.2319 - accuracy: 0.9182 - val_loss: 0.3268 - val_accuracy: 0.8868\n",
      "Epoch 17/25\n",
      "55000/55000 [==============================] - 3s 55us/sample - loss: 0.2290 - accuracy: 0.9198 - val_loss: 0.3258 - val_accuracy: 0.8872\n",
      "Epoch 18/25\n",
      "55000/55000 [==============================] - 3s 56us/sample - loss: 0.2267 - accuracy: 0.9194 - val_loss: 0.3263 - val_accuracy: 0.8870\n",
      "Epoch 19/25\n",
      "55000/55000 [==============================] - 3s 54us/sample - loss: 0.2242 - accuracy: 0.9204 - val_loss: 0.3276 - val_accuracy: 0.8864\n",
      "Epoch 20/25\n",
      "55000/55000 [==============================] - 3s 58us/sample - loss: 0.2226 - accuracy: 0.9221 - val_loss: 0.3272 - val_accuracy: 0.8844\n",
      "Epoch 21/25\n",
      "55000/55000 [==============================] - 3s 55us/sample - loss: 0.2207 - accuracy: 0.9228 - val_loss: 0.3238 - val_accuracy: 0.8872\n",
      "Epoch 22/25\n",
      "55000/55000 [==============================] - 3s 56us/sample - loss: 0.2192 - accuracy: 0.9237 - val_loss: 0.3247 - val_accuracy: 0.8876\n",
      "Epoch 23/25\n",
      "55000/55000 [==============================] - 3s 56us/sample - loss: 0.2178 - accuracy: 0.9235 - val_loss: 0.3248 - val_accuracy: 0.8872\n",
      "Epoch 24/25\n",
      "55000/55000 [==============================] - 3s 57us/sample - loss: 0.2166 - accuracy: 0.9249 - val_loss: 0.3262 - val_accuracy: 0.8864\n",
      "Epoch 25/25\n",
      "55000/55000 [==============================] - 4s 73us/sample - loss: 0.2156 - accuracy: 0.9249 - val_loss: 0.3251 - val_accuracy: 0.8876\n"
     ]
    }
   ],
   "source": [
    "model = keras.models.Sequential([\n",
    "    keras.layers.Flatten(input_shape=[28, 28]),\n",
    "    keras.layers.Dense(300, activation=\"selu\", kernel_initializer=\"lecun_normal\"),\n",
    "    keras.layers.Dense(100, activation=\"selu\", kernel_initializer=\"lecun_normal\"),\n",
    "    keras.layers.Dense(10, activation=\"softmax\")\n",
    "])\n",
    "s = 20 * len(X_train) // 32 # number of steps in 20 epochs (batch size = 32)\n",
    "learning_rate = keras.optimizers.schedules.ExponentialDecay(0.01, s, 0.1)\n",
    "optimizer = keras.optimizers.SGD(learning_rate)\n",
    "model.compile(loss=\"sparse_categorical_crossentropy\", optimizer=optimizer, metrics=[\"accuracy\"])\n",
    "n_epochs = 25\n",
    "history = model.fit(X_train_scaled, y_train, epochs=n_epochs,\n",
    "                    validation_data=(X_val_scaled, y_val))"
   ]
  },
  {
   "cell_type": "markdown",
   "id": "9d1d6b09",
   "metadata": {},
   "source": [
    "If we wanted to use the method of piecewise constant scheduling, we would do the following below:"
   ]
  },
  {
   "cell_type": "code",
   "execution_count": 149,
   "id": "1e67efe6",
   "metadata": {},
   "outputs": [],
   "source": [
    "learning_rate = keras.optimizers.schedules.PiecewiseConstantDecay(\n",
    "    boundaries=[5. * n_steps_per_epoch, 15. * n_steps_per_epoch],\n",
    "    values=[0.01, 0.005, 0.001])"
   ]
  },
  {
   "cell_type": "markdown",
   "id": "fb3801f2",
   "metadata": {},
   "source": [
    "## Example of 1Cycle Scheduling"
   ]
  },
  {
   "cell_type": "code",
   "execution_count": 150,
   "id": "093cf425",
   "metadata": {},
   "outputs": [],
   "source": [
    "K = keras.backend\n",
    "\n",
    "class ExponentialLearningRate(keras.callbacks.Callback):\n",
    "    def __init__(self, factor):\n",
    "        self.factor = factor\n",
    "        self.rates = []\n",
    "        self.losses = []\n",
    "    def on_batch_end(self, batch, logs):\n",
    "        self.rates.append(K.get_value(self.model.optimizer.learning_rate))\n",
    "        self.losses.append(logs[\"loss\"])\n",
    "        K.set_value(self.model.optimizer.learning_rate, self.model.optimizer.learning_rate * self.factor)\n",
    "\n",
    "def find_learning_rate(model, X, y, epochs=1, batch_size=32, min_rate=10**-5, max_rate=10):\n",
    "    init_weights = model.get_weights()\n",
    "    iterations = math.ceil(len(X) / batch_size) * epochs\n",
    "    factor = np.exp(np.log(max_rate / min_rate) / iterations)\n",
    "    init_lr = K.get_value(model.optimizer.learning_rate)\n",
    "    K.set_value(model.optimizer.learning_rate, min_rate)\n",
    "    exp_lr = ExponentialLearningRate(factor)\n",
    "    history = model.fit(X, y, epochs=epochs, batch_size=batch_size,\n",
    "                        callbacks=[exp_lr])\n",
    "    K.set_value(model.optimizer.learning_rate, init_lr)\n",
    "    model.set_weights(init_weights)\n",
    "    return exp_lr.rates, exp_lr.losses\n",
    "\n",
    "def plot_lr_vs_loss(rates, losses):\n",
    "    plt.plot(rates, losses)\n",
    "    plt.gca().set_xscale('log')\n",
    "    plt.hlines(min(losses), min(rates), max(rates))\n",
    "    plt.axis([min(rates), max(rates), min(losses), (losses[0] + min(losses)) / 2])\n",
    "    plt.xlabel(\"Learning rate\")\n",
    "    plt.ylabel(\"Loss\")"
   ]
  },
  {
   "cell_type": "code",
   "execution_count": 151,
   "id": "a526b242",
   "metadata": {},
   "outputs": [],
   "source": [
    "model = keras.models.Sequential([\n",
    "    keras.layers.Flatten(input_shape=[28, 28]),\n",
    "    keras.layers.Dense(300, activation=\"selu\", kernel_initializer=\"lecun_normal\"),\n",
    "    keras.layers.Dense(100, activation=\"selu\", kernel_initializer=\"lecun_normal\"),\n",
    "    keras.layers.Dense(10, activation=\"softmax\")\n",
    "])\n",
    "model.compile(loss=\"sparse_categorical_crossentropy\",\n",
    "              optimizer=keras.optimizers.SGD(learning_rate=10e-3),\n",
    "              metrics=[\"accuracy\"])"
   ]
  },
  {
   "cell_type": "code",
   "execution_count": 152,
   "id": "48808d2e",
   "metadata": {},
   "outputs": [
    {
     "name": "stdout",
     "output_type": "stream",
     "text": [
      "Train on 55000 samples\n",
      "55000/55000 [==============================] - 2s 35us/sample - loss: nan - accuracy: 0.3788\n"
     ]
    },
    {
     "data": {
      "image/png": "[encoded data removed]",
      "text/plain": [
       "<Figure size 432x288 with 1 Axes>"
      ]
     },
     "metadata": {
      "needs_background": "light"
     },
     "output_type": "display_data"
    }
   ],
   "source": [
    "batch_size = 128\n",
    "rates, losses = find_learning_rate(model, X_train_scaled, y_train, epochs=1, batch_size=batch_size)\n",
    "plot_lr_vs_loss(rates, losses)"
   ]
  },
  {
   "cell_type": "code",
   "execution_count": 153,
   "id": "82bcc7b0",
   "metadata": {},
   "outputs": [],
   "source": [
    "class OneCycleScheduler(keras.callbacks.Callback):\n",
    "    def __init__(self, iterations, max_rate, start_rate=None,\n",
    "                 last_iterations=None, last_rate=None):\n",
    "        self.iterations = iterations\n",
    "        self.max_rate = max_rate\n",
    "        self.start_rate = start_rate or max_rate / 10\n",
    "        self.last_iterations = last_iterations or iterations // 10 + 1\n",
    "        self.half_iteration = (iterations - self.last_iterations) // 2\n",
    "        self.last_rate = last_rate or self.start_rate / 1000\n",
    "        self.iteration = 0\n",
    "    def _interpolate(self, iter1, iter2, rate1, rate2):\n",
    "        return ((rate2 - rate1) * (self.iteration - iter1)\n",
    "                / (iter2 - iter1) + rate1)\n",
    "    def on_batch_begin(self, batch, logs):\n",
    "        if self.iteration < self.half_iteration:\n",
    "            rate = self._interpolate(0, self.half_iteration, self.start_rate, self.max_rate)\n",
    "        elif self.iteration < 2 * self.half_iteration:\n",
    "            rate = self._interpolate(self.half_iteration, 2 * self.half_iteration,\n",
    "                                     self.max_rate, self.start_rate)\n",
    "        else:\n",
    "            rate = self._interpolate(2 * self.half_iteration, self.iterations,\n",
    "                                     self.start_rate, self.last_rate)\n",
    "        self.iteration += 1\n",
    "        K.set_value(self.model.optimizer.learning_rate, rate)"
   ]
  },
  {
   "cell_type": "code",
   "execution_count": 154,
   "id": "e769cf33",
   "metadata": {},
   "outputs": [
    {
     "name": "stdout",
     "output_type": "stream",
     "text": [
      "Train on 55000 samples, validate on 5000 samples\n",
      "Epoch 1/25\n",
      "55000/55000 [==============================] - 1s 22us/sample - loss: 0.6609 - accuracy: 0.7731 - val_loss: 0.4850 - val_accuracy: 0.8330\n",
      "Epoch 2/25\n",
      "55000/55000 [==============================] - 1s 17us/sample - loss: 0.4544 - accuracy: 0.8403 - val_loss: 0.4326 - val_accuracy: 0.8530\n",
      "Epoch 3/25\n",
      "55000/55000 [==============================] - 1s 19us/sample - loss: 0.4105 - accuracy: 0.8559 - val_loss: 0.4074 - val_accuracy: 0.8590\n",
      "Epoch 4/25\n",
      "55000/55000 [==============================] - 1s 19us/sample - loss: 0.3826 - accuracy: 0.8658 - val_loss: 0.3855 - val_accuracy: 0.8670\n",
      "Epoch 5/25\n",
      "55000/55000 [==============================] - 1s 20us/sample - loss: 0.3611 - accuracy: 0.8730 - val_loss: 0.3915 - val_accuracy: 0.8570\n",
      "Epoch 6/25\n",
      "55000/55000 [==============================] - 1s 20us/sample - loss: 0.3448 - accuracy: 0.8771 - val_loss: 0.3664 - val_accuracy: 0.8740\n",
      "Epoch 7/25\n",
      "55000/55000 [==============================] - 1s 20us/sample - loss: 0.3300 - accuracy: 0.8819 - val_loss: 0.3715 - val_accuracy: 0.8672\n",
      "Epoch 8/25\n",
      "55000/55000 [==============================] - 1s 20us/sample - loss: 0.3173 - accuracy: 0.8871 - val_loss: 0.3531 - val_accuracy: 0.8766\n",
      "Epoch 9/25\n",
      "55000/55000 [==============================] - 1s 20us/sample - loss: 0.3028 - accuracy: 0.8905 - val_loss: 0.3626 - val_accuracy: 0.8748\n",
      "Epoch 10/25\n",
      "55000/55000 [==============================] - 1s 20us/sample - loss: 0.2922 - accuracy: 0.8943 - val_loss: 0.3636 - val_accuracy: 0.8736\n",
      "Epoch 11/25\n",
      "55000/55000 [==============================] - 1s 20us/sample - loss: 0.2821 - accuracy: 0.8977 - val_loss: 0.3463 - val_accuracy: 0.8764\n",
      "Epoch 12/25\n",
      "55000/55000 [==============================] - 1s 20us/sample - loss: 0.2707 - accuracy: 0.9006 - val_loss: 0.3381 - val_accuracy: 0.8782\n",
      "Epoch 13/25\n",
      "55000/55000 [==============================] - 1s 21us/sample - loss: 0.2528 - accuracy: 0.9076 - val_loss: 0.3363 - val_accuracy: 0.8788\n",
      "Epoch 14/25\n",
      "55000/55000 [==============================] - 1s 18us/sample - loss: 0.2377 - accuracy: 0.9139 - val_loss: 0.3491 - val_accuracy: 0.8820\n",
      "Epoch 15/25\n",
      "55000/55000 [==============================] - 1s 19us/sample - loss: 0.2266 - accuracy: 0.9181 - val_loss: 0.3438 - val_accuracy: 0.8798\n",
      "Epoch 16/25\n",
      "55000/55000 [==============================] - 1s 20us/sample - loss: 0.2147 - accuracy: 0.9231 - val_loss: 0.3308 - val_accuracy: 0.8826\n",
      "Epoch 17/25\n",
      "55000/55000 [==============================] - 1s 20us/sample - loss: 0.2053 - accuracy: 0.9255 - val_loss: 0.3350 - val_accuracy: 0.8864\n",
      "Epoch 18/25\n",
      "55000/55000 [==============================] - 1s 22us/sample - loss: 0.1961 - accuracy: 0.9304 - val_loss: 0.3283 - val_accuracy: 0.8886\n",
      "Epoch 19/25\n",
      "55000/55000 [==============================] - 1s 20us/sample - loss: 0.1872 - accuracy: 0.9350 - val_loss: 0.3220 - val_accuracy: 0.8872\n",
      "Epoch 20/25\n",
      "55000/55000 [==============================] - 1s 20us/sample - loss: 0.1800 - accuracy: 0.9384 - val_loss: 0.3287 - val_accuracy: 0.8878\n",
      "Epoch 21/25\n",
      "55000/55000 [==============================] - 1s 19us/sample - loss: 0.1738 - accuracy: 0.9398 - val_loss: 0.3215 - val_accuracy: 0.8884\n",
      "Epoch 22/25\n",
      "55000/55000 [==============================] - 1s 20us/sample - loss: 0.1684 - accuracy: 0.9427 - val_loss: 0.3205 - val_accuracy: 0.8910\n",
      "Epoch 23/25\n",
      "55000/55000 [==============================] - 1s 19us/sample - loss: 0.1637 - accuracy: 0.9451 - val_loss: 0.3214 - val_accuracy: 0.8900\n",
      "Epoch 24/25\n",
      "55000/55000 [==============================] - 1s 20us/sample - loss: 0.1612 - accuracy: 0.9468 - val_loss: 0.3194 - val_accuracy: 0.8908\n",
      "Epoch 25/25\n",
      "55000/55000 [==============================] - 1s 20us/sample - loss: 0.1591 - accuracy: 0.9477 - val_loss: 0.3183 - val_accuracy: 0.8906\n"
     ]
    }
   ],
   "source": [
    "n_epochs = 25\n",
    "onecycle = OneCycleScheduler(math.ceil(len(X_train) / batch_size) * n_epochs, max_rate=0.05)\n",
    "history = model.fit(X_train_scaled, y_train, epochs=n_epochs, batch_size=batch_size,\n",
    "                    validation_data=(X_val_scaled, y_val),\n",
    "                    callbacks=[onecycle])"
   ]
  },
  {
   "cell_type": "markdown",
   "id": "9ee55a44",
   "metadata": {},
   "source": [
    "## Avoiding Overfitting Using Regularization in Models"
   ]
  },
  {
   "cell_type": "markdown",
   "id": "18b166ec",
   "metadata": {},
   "source": [
    "## *$\\ell_1$ and $\\ell_2$ regularization*\n"
   ]
  },
  {
   "cell_type": "code",
   "execution_count": 155,
   "id": "fa01fae8",
   "metadata": {},
   "outputs": [],
   "source": [
    "layer = keras.layers.Dense(100, activation=\"elu\",\n",
    "                           kernel_initializer=\"he_normal\",\n",
    "                           kernel_regularizer=keras.regularizers.l2(0.01))\n",
    "# or l1(0.1) for ℓ1 regularization with a factor of 0.1\n",
    "# or l1_l2(0.1, 0.01) for both ℓ1 and ℓ2 regularization, with factors 0.1 and 0.01 respectively"
   ]
  },
  {
   "cell_type": "code",
   "execution_count": 156,
   "id": "605d2500",
   "metadata": {},
   "outputs": [
    {
     "name": "stdout",
     "output_type": "stream",
     "text": [
      "Train on 55000 samples, validate on 5000 samples\n",
      "Epoch 1/2\n",
      "55000/55000 [==============================] - 4s 79us/sample - loss: 1.6002 - accuracy: 0.8108 - val_loss: 0.7255 - val_accuracy: 0.8296\n",
      "Epoch 2/2\n",
      "55000/55000 [==============================] - 4s 70us/sample - loss: 0.7183 - accuracy: 0.8244 - val_loss: 0.6935 - val_accuracy: 0.8440\n"
     ]
    }
   ],
   "source": [
    "model = keras.models.Sequential([\n",
    "    keras.layers.Flatten(input_shape=[28, 28]),\n",
    "    keras.layers.Dense(300, activation=\"elu\",\n",
    "                       kernel_initializer=\"he_normal\",\n",
    "                       kernel_regularizer=keras.regularizers.l2(0.01)),\n",
    "    keras.layers.Dense(100, activation=\"elu\",\n",
    "                       kernel_initializer=\"he_normal\",\n",
    "                       kernel_regularizer=keras.regularizers.l2(0.01)),\n",
    "    keras.layers.Dense(10, activation=\"softmax\",\n",
    "                       kernel_regularizer=keras.regularizers.l2(0.01))\n",
    "])\n",
    "model.compile(loss=\"sparse_categorical_crossentropy\", optimizer=\"nadam\", metrics=[\"accuracy\"])\n",
    "n_epochs = 2\n",
    "history = model.fit(X_train_scaled, y_train, epochs=n_epochs,\n",
    "                    validation_data=(X_val_scaled, y_val))"
   ]
  },
  {
   "cell_type": "code",
   "execution_count": 157,
   "id": "9772b749",
   "metadata": {},
   "outputs": [
    {
     "name": "stdout",
     "output_type": "stream",
     "text": [
      "Train on 55000 samples, validate on 5000 samples\n",
      "Epoch 1/2\n",
      "55000/55000 [==============================] - 4s 79us/sample - loss: 1.6298 - accuracy: 0.8123 - val_loss: 0.7151 - val_accuracy: 0.8348\n",
      "Epoch 2/2\n",
      "55000/55000 [==============================] - 4s 67us/sample - loss: 0.7219 - accuracy: 0.8252 - val_loss: 0.6903 - val_accuracy: 0.8388\n"
     ]
    }
   ],
   "source": [
    "from functools import partial\n",
    "\n",
    "RegularizedDense = partial(keras.layers.Dense,\n",
    "                           activation=\"elu\",\n",
    "                           kernel_initializer=\"he_normal\",\n",
    "                           kernel_regularizer=keras.regularizers.l2(0.01))\n",
    "\n",
    "model = keras.models.Sequential([\n",
    "    keras.layers.Flatten(input_shape=[28, 28]),\n",
    "    RegularizedDense(300),\n",
    "    RegularizedDense(100),\n",
    "    RegularizedDense(10, activation=\"softmax\")\n",
    "])\n",
    "model.compile(loss=\"sparse_categorical_crossentropy\", optimizer=\"nadam\", metrics=[\"accuracy\"])\n",
    "n_epochs = 2\n",
    "history = model.fit(X_train_scaled, y_train, epochs=n_epochs,\n",
    "                    validation_data=(X_val_scaled, y_val))"
   ]
  },
  {
   "cell_type": "markdown",
   "id": "0ab2eed4",
   "metadata": {},
   "source": [
    "## Dropout Technique"
   ]
  },
  {
   "cell_type": "code",
   "execution_count": 158,
   "id": "6d64c73a",
   "metadata": {},
   "outputs": [
    {
     "name": "stdout",
     "output_type": "stream",
     "text": [
      "Train on 55000 samples, validate on 5000 samples\n",
      "Epoch 1/2\n",
      "55000/55000 [==============================] - 5s 82us/sample - loss: 0.5708 - accuracy: 0.8021 - val_loss: 0.3802 - val_accuracy: 0.8654\n",
      "Epoch 2/2\n",
      "55000/55000 [==============================] - 4s 67us/sample - loss: 0.4208 - accuracy: 0.8452 - val_loss: 0.3361 - val_accuracy: 0.8754\n"
     ]
    }
   ],
   "source": [
    "model = keras.models.Sequential([\n",
    "    keras.layers.Flatten(input_shape=[28, 28]),\n",
    "    keras.layers.Dropout(rate=0.2),\n",
    "    keras.layers.Dense(300, activation=\"elu\", kernel_initializer=\"he_normal\"),\n",
    "    keras.layers.Dropout(rate=0.2),\n",
    "    keras.layers.Dense(100, activation=\"elu\", kernel_initializer=\"he_normal\"),\n",
    "    keras.layers.Dropout(rate=0.2),\n",
    "    keras.layers.Dense(10, activation=\"softmax\")\n",
    "])\n",
    "model.compile(loss=\"sparse_categorical_crossentropy\", optimizer=\"nadam\", metrics=[\"accuracy\"])\n",
    "n_epochs = 2\n",
    "history = model.fit(X_train_scaled, y_train, epochs=n_epochs,\n",
    "                    validation_data=(X_val_scaled, y_val))"
   ]
  },
  {
   "cell_type": "markdown",
   "id": "ebec5d6e",
   "metadata": {},
   "source": [
    "## Alpha Dropout Method"
   ]
  },
  {
   "cell_type": "code",
   "execution_count": 159,
   "id": "078eb448",
   "metadata": {},
   "outputs": [
    {
     "name": "stdout",
     "output_type": "stream",
     "text": [
      "Train on 55000 samples, validate on 5000 samples\n",
      "Epoch 1/20\n",
      "55000/55000 [==============================] - 3s 63us/sample - loss: 0.6646 - accuracy: 0.7603 - val_loss: 0.5879 - val_accuracy: 0.8458\n",
      "Epoch 2/20\n",
      "55000/55000 [==============================] - 3s 57us/sample - loss: 0.5582 - accuracy: 0.7937 - val_loss: 0.5625 - val_accuracy: 0.8386\n",
      "Epoch 3/20\n",
      "55000/55000 [==============================] - 3s 61us/sample - loss: 0.5258 - accuracy: 0.8046 - val_loss: 0.5868 - val_accuracy: 0.8378\n",
      "Epoch 4/20\n",
      "55000/55000 [==============================] - 3s 59us/sample - loss: 0.5109 - accuracy: 0.8092 - val_loss: 0.5107 - val_accuracy: 0.8550\n",
      "Epoch 5/20\n",
      "55000/55000 [==============================] - 3s 61us/sample - loss: 0.4955 - accuracy: 0.8179 - val_loss: 0.4582 - val_accuracy: 0.8586\n",
      "Epoch 6/20\n",
      "55000/55000 [==============================] - 3s 61us/sample - loss: 0.4783 - accuracy: 0.8217 - val_loss: 0.4901 - val_accuracy: 0.8646\n",
      "Epoch 7/20\n",
      "55000/55000 [==============================] - 3s 61us/sample - loss: 0.4706 - accuracy: 0.8269 - val_loss: 0.4429 - val_accuracy: 0.8676\n",
      "Epoch 8/20\n",
      "55000/55000 [==============================] - 3s 61us/sample - loss: 0.4645 - accuracy: 0.8289 - val_loss: 0.4804 - val_accuracy: 0.8584\n",
      "Epoch 9/20\n",
      "55000/55000 [==============================] - 3s 61us/sample - loss: 0.4586 - accuracy: 0.8294 - val_loss: 0.4273 - val_accuracy: 0.8652\n",
      "Epoch 10/20\n",
      "55000/55000 [==============================] - 3s 57us/sample - loss: 0.4524 - accuracy: 0.8316 - val_loss: 0.4563 - val_accuracy: 0.8656\n",
      "Epoch 11/20\n",
      "55000/55000 [==============================] - 3s 58us/sample - loss: 0.4465 - accuracy: 0.8338 - val_loss: 0.4520 - val_accuracy: 0.8708\n",
      "Epoch 12/20\n",
      "55000/55000 [==============================] - 3s 57us/sample - loss: 0.4440 - accuracy: 0.8358 - val_loss: 0.3863 - val_accuracy: 0.8778\n",
      "Epoch 13/20\n",
      "55000/55000 [==============================] - 3s 59us/sample - loss: 0.4371 - accuracy: 0.8375 - val_loss: 0.4390 - val_accuracy: 0.8764\n",
      "Epoch 14/20\n",
      "55000/55000 [==============================] - 3s 59us/sample - loss: 0.4321 - accuracy: 0.8400 - val_loss: 0.4970 - val_accuracy: 0.8590\n",
      "Epoch 15/20\n",
      "55000/55000 [==============================] - 3s 59us/sample - loss: 0.4308 - accuracy: 0.8397 - val_loss: 0.4196 - val_accuracy: 0.8808\n",
      "Epoch 16/20\n",
      "55000/55000 [==============================] - 3s 60us/sample - loss: 0.4266 - accuracy: 0.8425 - val_loss: 0.4174 - val_accuracy: 0.8776\n",
      "Epoch 17/20\n",
      "55000/55000 [==============================] - 3s 59us/sample - loss: 0.4226 - accuracy: 0.8433 - val_loss: 0.4509 - val_accuracy: 0.8722\n",
      "Epoch 18/20\n",
      "55000/55000 [==============================] - 3s 58us/sample - loss: 0.4232 - accuracy: 0.8428 - val_loss: 0.4759 - val_accuracy: 0.8706\n",
      "Epoch 19/20\n",
      "55000/55000 [==============================] - 3s 58us/sample - loss: 0.4213 - accuracy: 0.8435 - val_loss: 0.4569 - val_accuracy: 0.8712\n",
      "Epoch 20/20\n",
      "55000/55000 [==============================] - 3s 63us/sample - loss: 0.4210 - accuracy: 0.8424 - val_loss: 0.4130 - val_accuracy: 0.8760\n"
     ]
    }
   ],
   "source": [
    "model = keras.models.Sequential([\n",
    "    keras.layers.Flatten(input_shape=[28, 28]),\n",
    "    keras.layers.AlphaDropout(rate=0.2),\n",
    "    keras.layers.Dense(300, activation=\"selu\", kernel_initializer=\"lecun_normal\"),\n",
    "    keras.layers.AlphaDropout(rate=0.2),\n",
    "    keras.layers.Dense(100, activation=\"selu\", kernel_initializer=\"lecun_normal\"),\n",
    "    keras.layers.AlphaDropout(rate=0.2),\n",
    "    keras.layers.Dense(10, activation=\"softmax\")\n",
    "])\n",
    "optimizer = keras.optimizers.SGD(learning_rate=0.01, momentum=0.9, nesterov=True)\n",
    "model.compile(loss=\"sparse_categorical_crossentropy\", optimizer=optimizer, metrics=[\"accuracy\"])\n",
    "n_epochs = 20\n",
    "history = model.fit(X_train_scaled, y_train, epochs=n_epochs,\n",
    "                    validation_data=(X_val_scaled, y_val))"
   ]
  },
  {
   "cell_type": "code",
   "execution_count": 160,
   "id": "77fafc25",
   "metadata": {},
   "outputs": [
    {
     "name": "stdout",
     "output_type": "stream",
     "text": [
      "10000/10000 [==============================] - 0s 42us/sample - loss: 0.4524 - accuracy: 0.8619\n"
     ]
    },
    {
     "data": {
      "text/plain": [
       "[0.45237642294168473, 0.8619]"
      ]
     },
     "execution_count": 160,
     "metadata": {},
     "output_type": "execute_result"
    }
   ],
   "source": [
    "model.evaluate(X_test_scaled, y_test)"
   ]
  },
  {
   "cell_type": "code",
   "execution_count": 161,
   "id": "a3d98f34",
   "metadata": {},
   "outputs": [
    {
     "name": "stdout",
     "output_type": "stream",
     "text": [
      "55000/55000 [==============================] - 2s 45us/sample - loss: 0.3421 - accuracy: 0.8843\n"
     ]
    },
    {
     "data": {
      "text/plain": [
       "[0.3420901405995542, 0.88429093]"
      ]
     },
     "execution_count": 161,
     "metadata": {},
     "output_type": "execute_result"
    }
   ],
   "source": [
    "model.evaluate(X_train_scaled, y_train)"
   ]
  },
  {
   "cell_type": "code",
   "execution_count": 162,
   "id": "f6906818",
   "metadata": {},
   "outputs": [
    {
     "name": "stdout",
     "output_type": "stream",
     "text": [
      "Train on 55000 samples\n",
      "55000/55000 [==============================] - 3s 63us/sample - loss: 0.4147 - accuracy: 0.8439\n"
     ]
    }
   ],
   "source": [
    "history = model.fit(X_train_scaled, y_train)"
   ]
  },
  {
   "cell_type": "markdown",
   "id": "a779593b",
   "metadata": {},
   "source": [
    "## MC Dropout"
   ]
  },
  {
   "cell_type": "code",
   "execution_count": 163,
   "id": "b9a7fc6d",
   "metadata": {},
   "outputs": [
    {
     "name": "stdout",
     "output_type": "stream",
     "text": [
      "WARNING:tensorflow:Layer flatten_27 is casting an input tensor from dtype float64 to the layer's dtype of float32, which is new behavior in TensorFlow 2.  The layer has dtype float32 because it's dtype defaults to floatx.\n",
      "\n",
      "If you intended to run this layer in float32, you can safely ignore this warning. If in doubt, this warning is likely only an issue if you are porting a TensorFlow 1.X model to TensorFlow 2.\n",
      "\n",
      "To change all layers to have dtype float64 by default, call `tf.keras.backend.set_floatx('float64')`. To change just this layer, pass dtype='float64' to the layer constructor. If you are the author of this layer, you can disable autocasting by passing autocast=False to the base Layer constructor.\n",
      "\n"
     ]
    },
    {
     "name": "stderr",
     "output_type": "stream",
     "text": [
      "WARNING:tensorflow:Layer flatten_27 is casting an input tensor from dtype float64 to the layer's dtype of float32, which is new behavior in TensorFlow 2.  The layer has dtype float32 because it's dtype defaults to floatx.\n",
      "\n",
      "If you intended to run this layer in float32, you can safely ignore this warning. If in doubt, this warning is likely only an issue if you are porting a TensorFlow 1.X model to TensorFlow 2.\n",
      "\n",
      "To change all layers to have dtype float64 by default, call `tf.keras.backend.set_floatx('float64')`. To change just this layer, pass dtype='float64' to the layer constructor. If you are the author of this layer, you can disable autocasting by passing autocast=False to the base Layer constructor.\n",
      "\n"
     ]
    }
   ],
   "source": [
    "y_probas = np.stack([model(X_test_scaled, training=True)\n",
    "                     for sample in range(100)])\n",
    "y_proba = y_probas.mean(axis=0)\n",
    "y_std = y_probas.std(axis=0)"
   ]
  },
  {
   "cell_type": "code",
   "execution_count": 164,
   "id": "33421b3d",
   "metadata": {},
   "outputs": [
    {
     "data": {
      "text/plain": [
       "array([[0.  , 0.  , 0.  , 0.  , 0.  , 0.  , 0.  , 0.14, 0.  , 0.86]],\n",
       "      dtype=float32)"
      ]
     },
     "execution_count": 164,
     "metadata": {},
     "output_type": "execute_result"
    }
   ],
   "source": [
    "np.round(model.predict(X_test_scaled[:1]), 2)"
   ]
  },
  {
   "cell_type": "code",
   "execution_count": 165,
   "id": "387d2c0a",
   "metadata": {},
   "outputs": [
    {
     "data": {
      "text/plain": [
       "array([[[0.  , 0.  , 0.  , 0.  , 0.  , 0.03, 0.  , 0.09, 0.  , 0.88]],\n",
       "\n",
       "       [[0.  , 0.  , 0.  , 0.  , 0.  , 0.  , 0.  , 0.93, 0.  , 0.06]],\n",
       "\n",
       "       [[0.  , 0.  , 0.  , 0.  , 0.  , 0.1 , 0.  , 0.74, 0.  , 0.16]],\n",
       "\n",
       "       [[0.  , 0.  , 0.  , 0.  , 0.  , 0.24, 0.  , 0.49, 0.  , 0.26]],\n",
       "\n",
       "       [[0.  , 0.  , 0.  , 0.  , 0.  , 0.  , 0.  , 0.13, 0.  , 0.87]],\n",
       "\n",
       "       [[0.  , 0.  , 0.  , 0.  , 0.  , 0.01, 0.  , 0.55, 0.  , 0.44]],\n",
       "\n",
       "       [[0.  , 0.  , 0.  , 0.  , 0.  , 0.03, 0.  , 0.41, 0.  , 0.57]],\n",
       "\n",
       "       [[0.  , 0.  , 0.  , 0.  , 0.  , 0.19, 0.  , 0.48, 0.  , 0.32]],\n",
       "\n",
       "       [[0.  , 0.  , 0.  , 0.  , 0.  , 0.05, 0.  , 0.36, 0.  , 0.59]],\n",
       "\n",
       "       [[0.  , 0.  , 0.  , 0.  , 0.  , 0.08, 0.  , 0.6 , 0.  , 0.32]],\n",
       "\n",
       "       [[0.  , 0.  , 0.  , 0.  , 0.  , 0.02, 0.  , 0.65, 0.  , 0.33]],\n",
       "\n",
       "       [[0.  , 0.  , 0.  , 0.  , 0.  , 0.05, 0.  , 0.54, 0.  , 0.41]],\n",
       "\n",
       "       [[0.  , 0.  , 0.  , 0.  , 0.  , 0.05, 0.  , 0.23, 0.  , 0.72]],\n",
       "\n",
       "       [[0.  , 0.  , 0.  , 0.  , 0.  , 0.02, 0.  , 0.28, 0.  , 0.7 ]],\n",
       "\n",
       "       [[0.  , 0.  , 0.  , 0.  , 0.  , 0.07, 0.  , 0.31, 0.  , 0.62]],\n",
       "\n",
       "       [[0.  , 0.  , 0.  , 0.  , 0.  , 0.02, 0.  , 0.51, 0.  , 0.47]],\n",
       "\n",
       "       [[0.  , 0.  , 0.  , 0.  , 0.  , 0.22, 0.  , 0.58, 0.  , 0.19]],\n",
       "\n",
       "       [[0.  , 0.  , 0.  , 0.  , 0.  , 0.06, 0.  , 0.05, 0.  , 0.88]],\n",
       "\n",
       "       [[0.  , 0.  , 0.  , 0.  , 0.  , 0.02, 0.  , 0.14, 0.  , 0.84]],\n",
       "\n",
       "       [[0.  , 0.  , 0.  , 0.  , 0.  , 0.07, 0.  , 0.11, 0.  , 0.82]],\n",
       "\n",
       "       [[0.  , 0.  , 0.  , 0.  , 0.  , 0.  , 0.  , 0.61, 0.  , 0.39]],\n",
       "\n",
       "       [[0.  , 0.  , 0.  , 0.  , 0.  , 0.  , 0.  , 0.  , 0.  , 1.  ]],\n",
       "\n",
       "       [[0.  , 0.  , 0.  , 0.  , 0.  , 0.04, 0.  , 0.86, 0.  , 0.1 ]],\n",
       "\n",
       "       [[0.  , 0.  , 0.  , 0.  , 0.  , 0.28, 0.  , 0.16, 0.  , 0.55]],\n",
       "\n",
       "       [[0.  , 0.  , 0.  , 0.  , 0.  , 0.13, 0.  , 0.42, 0.  , 0.44]],\n",
       "\n",
       "       [[0.  , 0.  , 0.  , 0.  , 0.  , 0.02, 0.  , 0.76, 0.  , 0.23]],\n",
       "\n",
       "       [[0.  , 0.  , 0.  , 0.  , 0.  , 0.18, 0.  , 0.39, 0.  , 0.43]],\n",
       "\n",
       "       [[0.  , 0.  , 0.  , 0.  , 0.  , 0.01, 0.  , 0.87, 0.  , 0.11]],\n",
       "\n",
       "       [[0.  , 0.  , 0.  , 0.  , 0.  , 0.01, 0.  , 0.56, 0.  , 0.43]],\n",
       "\n",
       "       [[0.  , 0.  , 0.  , 0.  , 0.  , 0.01, 0.  , 0.27, 0.  , 0.73]],\n",
       "\n",
       "       [[0.  , 0.  , 0.  , 0.  , 0.  , 0.01, 0.  , 0.2 , 0.  , 0.79]],\n",
       "\n",
       "       [[0.  , 0.  , 0.  , 0.  , 0.  , 0.09, 0.  , 0.76, 0.  , 0.15]],\n",
       "\n",
       "       [[0.  , 0.  , 0.  , 0.  , 0.  , 0.83, 0.  , 0.16, 0.  , 0.  ]],\n",
       "\n",
       "       [[0.  , 0.  , 0.  , 0.  , 0.  , 0.49, 0.  , 0.46, 0.  , 0.05]],\n",
       "\n",
       "       [[0.  , 0.  , 0.  , 0.  , 0.  , 0.  , 0.  , 0.66, 0.  , 0.34]],\n",
       "\n",
       "       [[0.  , 0.  , 0.  , 0.  , 0.  , 0.42, 0.  , 0.11, 0.  , 0.47]],\n",
       "\n",
       "       [[0.  , 0.  , 0.  , 0.  , 0.  , 0.02, 0.  , 0.82, 0.  , 0.16]],\n",
       "\n",
       "       [[0.  , 0.  , 0.  , 0.  , 0.  , 0.  , 0.  , 0.04, 0.  , 0.96]],\n",
       "\n",
       "       [[0.  , 0.  , 0.  , 0.  , 0.  , 0.16, 0.  , 0.06, 0.  , 0.78]],\n",
       "\n",
       "       [[0.  , 0.  , 0.  , 0.  , 0.  , 0.  , 0.  , 0.01, 0.  , 0.99]],\n",
       "\n",
       "       [[0.  , 0.  , 0.  , 0.  , 0.  , 0.03, 0.  , 0.2 , 0.  , 0.77]],\n",
       "\n",
       "       [[0.  , 0.  , 0.  , 0.  , 0.  , 0.03, 0.  , 0.57, 0.  , 0.4 ]],\n",
       "\n",
       "       [[0.  , 0.  , 0.  , 0.  , 0.  , 0.02, 0.  , 0.78, 0.  , 0.2 ]],\n",
       "\n",
       "       [[0.  , 0.  , 0.  , 0.  , 0.  , 0.05, 0.  , 0.84, 0.  , 0.11]],\n",
       "\n",
       "       [[0.  , 0.  , 0.  , 0.  , 0.  , 0.13, 0.  , 0.55, 0.  , 0.32]],\n",
       "\n",
       "       [[0.  , 0.  , 0.  , 0.  , 0.  , 0.3 , 0.  , 0.44, 0.  , 0.26]],\n",
       "\n",
       "       [[0.  , 0.  , 0.  , 0.  , 0.  , 0.57, 0.  , 0.26, 0.  , 0.17]],\n",
       "\n",
       "       [[0.  , 0.  , 0.  , 0.  , 0.  , 0.02, 0.  , 0.3 , 0.  , 0.68]],\n",
       "\n",
       "       [[0.  , 0.  , 0.  , 0.  , 0.  , 0.01, 0.  , 0.96, 0.  , 0.03]],\n",
       "\n",
       "       [[0.  , 0.  , 0.  , 0.  , 0.  , 0.02, 0.  , 0.19, 0.  , 0.79]],\n",
       "\n",
       "       [[0.  , 0.  , 0.  , 0.  , 0.  , 0.01, 0.  , 0.58, 0.  , 0.41]],\n",
       "\n",
       "       [[0.  , 0.  , 0.  , 0.  , 0.  , 0.97, 0.  , 0.01, 0.  , 0.02]],\n",
       "\n",
       "       [[0.  , 0.  , 0.  , 0.  , 0.  , 0.1 , 0.  , 0.09, 0.  , 0.8 ]],\n",
       "\n",
       "       [[0.  , 0.  , 0.  , 0.  , 0.  , 0.03, 0.  , 0.24, 0.  , 0.73]],\n",
       "\n",
       "       [[0.  , 0.  , 0.  , 0.  , 0.  , 0.45, 0.  , 0.16, 0.  , 0.38]],\n",
       "\n",
       "       [[0.  , 0.  , 0.  , 0.  , 0.  , 0.7 , 0.  , 0.03, 0.  , 0.27]],\n",
       "\n",
       "       [[0.  , 0.  , 0.  , 0.  , 0.  , 0.28, 0.  , 0.06, 0.  , 0.66]],\n",
       "\n",
       "       [[0.  , 0.  , 0.  , 0.  , 0.  , 0.03, 0.  , 0.68, 0.  , 0.29]],\n",
       "\n",
       "       [[0.  , 0.  , 0.  , 0.  , 0.  , 0.01, 0.  , 0.62, 0.  , 0.37]],\n",
       "\n",
       "       [[0.  , 0.  , 0.  , 0.  , 0.  , 0.01, 0.  , 0.7 , 0.  , 0.3 ]],\n",
       "\n",
       "       [[0.  , 0.  , 0.  , 0.  , 0.  , 0.  , 0.  , 0.59, 0.  , 0.41]],\n",
       "\n",
       "       [[0.  , 0.  , 0.  , 0.  , 0.  , 0.02, 0.  , 0.79, 0.  , 0.19]],\n",
       "\n",
       "       [[0.  , 0.  , 0.  , 0.  , 0.  , 0.06, 0.  , 0.19, 0.  , 0.74]],\n",
       "\n",
       "       [[0.  , 0.  , 0.  , 0.  , 0.  , 0.  , 0.  , 0.99, 0.  , 0.01]],\n",
       "\n",
       "       [[0.  , 0.  , 0.  , 0.  , 0.  , 0.06, 0.  , 0.72, 0.  , 0.22]],\n",
       "\n",
       "       [[0.  , 0.  , 0.  , 0.  , 0.  , 0.  , 0.  , 0.3 , 0.  , 0.69]],\n",
       "\n",
       "       [[0.  , 0.  , 0.  , 0.  , 0.  , 0.04, 0.  , 0.75, 0.  , 0.21]],\n",
       "\n",
       "       [[0.  , 0.  , 0.  , 0.  , 0.  , 0.  , 0.  , 0.91, 0.  , 0.09]],\n",
       "\n",
       "       [[0.  , 0.  , 0.  , 0.  , 0.  , 0.  , 0.  , 0.26, 0.  , 0.74]],\n",
       "\n",
       "       [[0.  , 0.  , 0.  , 0.  , 0.  , 0.06, 0.  , 0.58, 0.  , 0.36]],\n",
       "\n",
       "       [[0.  , 0.  , 0.  , 0.  , 0.  , 0.01, 0.  , 0.18, 0.  , 0.81]],\n",
       "\n",
       "       [[0.  , 0.  , 0.  , 0.  , 0.  , 0.  , 0.  , 0.03, 0.  , 0.96]],\n",
       "\n",
       "       [[0.  , 0.  , 0.  , 0.  , 0.  , 0.72, 0.  , 0.03, 0.  , 0.25]],\n",
       "\n",
       "       [[0.  , 0.  , 0.  , 0.  , 0.  , 0.13, 0.  , 0.23, 0.  , 0.63]],\n",
       "\n",
       "       [[0.  , 0.  , 0.  , 0.  , 0.  , 0.01, 0.  , 0.68, 0.  , 0.31]],\n",
       "\n",
       "       [[0.  , 0.  , 0.  , 0.  , 0.  , 0.04, 0.  , 0.13, 0.  , 0.83]],\n",
       "\n",
       "       [[0.  , 0.  , 0.  , 0.  , 0.  , 0.03, 0.  , 0.11, 0.  , 0.86]],\n",
       "\n",
       "       [[0.  , 0.  , 0.  , 0.  , 0.  , 0.09, 0.  , 0.72, 0.  , 0.19]],\n",
       "\n",
       "       [[0.  , 0.  , 0.  , 0.  , 0.  , 0.16, 0.  , 0.09, 0.  , 0.75]],\n",
       "\n",
       "       [[0.  , 0.  , 0.  , 0.  , 0.  , 0.01, 0.  , 0.7 , 0.  , 0.29]],\n",
       "\n",
       "       [[0.  , 0.  , 0.  , 0.  , 0.  , 0.01, 0.  , 0.08, 0.  , 0.91]],\n",
       "\n",
       "       [[0.  , 0.  , 0.  , 0.  , 0.  , 0.  , 0.  , 0.36, 0.  , 0.63]],\n",
       "\n",
       "       [[0.  , 0.  , 0.  , 0.  , 0.  , 0.03, 0.  , 0.87, 0.  , 0.09]],\n",
       "\n",
       "       [[0.  , 0.  , 0.  , 0.  , 0.  , 0.4 , 0.  , 0.43, 0.  , 0.17]],\n",
       "\n",
       "       [[0.  , 0.  , 0.  , 0.  , 0.  , 0.03, 0.  , 0.28, 0.  , 0.7 ]],\n",
       "\n",
       "       [[0.  , 0.  , 0.  , 0.  , 0.  , 0.01, 0.  , 0.83, 0.  , 0.17]],\n",
       "\n",
       "       [[0.  , 0.  , 0.  , 0.  , 0.  , 0.03, 0.  , 0.03, 0.  , 0.94]],\n",
       "\n",
       "       [[0.  , 0.  , 0.  , 0.  , 0.  , 0.02, 0.  , 0.31, 0.  , 0.67]],\n",
       "\n",
       "       [[0.  , 0.  , 0.  , 0.  , 0.  , 0.04, 0.  , 0.63, 0.  , 0.33]],\n",
       "\n",
       "       [[0.  , 0.  , 0.  , 0.  , 0.  , 0.08, 0.  , 0.13, 0.  , 0.79]],\n",
       "\n",
       "       [[0.  , 0.  , 0.  , 0.  , 0.  , 0.06, 0.  , 0.25, 0.  , 0.69]],\n",
       "\n",
       "       [[0.  , 0.  , 0.  , 0.  , 0.  , 0.12, 0.  , 0.41, 0.  , 0.48]],\n",
       "\n",
       "       [[0.  , 0.  , 0.  , 0.  , 0.  , 0.  , 0.  , 0.06, 0.  , 0.94]],\n",
       "\n",
       "       [[0.  , 0.  , 0.  , 0.  , 0.  , 0.08, 0.  , 0.57, 0.  , 0.35]],\n",
       "\n",
       "       [[0.  , 0.  , 0.  , 0.  , 0.  , 0.07, 0.  , 0.46, 0.  , 0.48]],\n",
       "\n",
       "       [[0.  , 0.  , 0.  , 0.  , 0.  , 0.  , 0.  , 0.74, 0.  , 0.26]],\n",
       "\n",
       "       [[0.  , 0.  , 0.  , 0.  , 0.  , 0.02, 0.  , 0.23, 0.  , 0.75]],\n",
       "\n",
       "       [[0.  , 0.  , 0.  , 0.  , 0.  , 0.1 , 0.  , 0.25, 0.  , 0.66]],\n",
       "\n",
       "       [[0.  , 0.  , 0.  , 0.  , 0.  , 0.8 , 0.  , 0.03, 0.  , 0.18]],\n",
       "\n",
       "       [[0.  , 0.  , 0.  , 0.  , 0.  , 0.87, 0.  , 0.01, 0.  , 0.12]]],\n",
       "      dtype=float32)"
      ]
     },
     "execution_count": 165,
     "metadata": {},
     "output_type": "execute_result"
    }
   ],
   "source": [
    "np.round(y_probas[:, :1], 2)"
   ]
  },
  {
   "cell_type": "code",
   "execution_count": 166,
   "id": "bdfa588b",
   "metadata": {},
   "outputs": [
    {
     "data": {
      "text/plain": [
       "array([[0.  , 0.  , 0.  , 0.  , 0.  , 0.12, 0.  , 0.41, 0.  , 0.47]],\n",
       "      dtype=float32)"
      ]
     },
     "execution_count": 166,
     "metadata": {},
     "output_type": "execute_result"
    }
   ],
   "source": [
    "np.round(y_proba[:1], 2)"
   ]
  },
  {
   "cell_type": "code",
   "execution_count": 167,
   "id": "790a1548",
   "metadata": {},
   "outputs": [
    {
     "data": {
      "text/plain": [
       "array([[0.  , 0.  , 0.  , 0.  , 0.  , 0.21, 0.  , 0.28, 0.  , 0.28]],\n",
       "      dtype=float32)"
      ]
     },
     "execution_count": 167,
     "metadata": {},
     "output_type": "execute_result"
    }
   ],
   "source": [
    "y_std = y_probas.std(axis=0)\n",
    "np.round(y_std[:1], 2)"
   ]
  },
  {
   "cell_type": "code",
   "execution_count": 168,
   "id": "1985bcfb",
   "metadata": {},
   "outputs": [
    {
     "data": {
      "text/plain": [
       "0.8716"
      ]
     },
     "execution_count": 168,
     "metadata": {},
     "output_type": "execute_result"
    }
   ],
   "source": [
    "y_pred = np.argmax(y_proba, axis=1)\n",
    "accuracy = np.sum(y_pred == y_test) / len(y_test)\n",
    "accuracy"
   ]
  },
  {
   "cell_type": "code",
   "execution_count": 169,
   "id": "64dfb2b8",
   "metadata": {},
   "outputs": [],
   "source": [
    "class MCDropout(keras.layers.Dropout):\n",
    "    def call(self, inputs):\n",
    "        return super().call(inputs, training=True)\n",
    "\n",
    "class MCAlphaDropout(keras.layers.AlphaDropout):\n",
    "    def call(self, inputs):\n",
    "        return super().call(inputs, training=True)"
   ]
  },
  {
   "cell_type": "code",
   "execution_count": 170,
   "id": "1f6e8630",
   "metadata": {},
   "outputs": [
    {
     "name": "stdout",
     "output_type": "stream",
     "text": [
      "WARNING:tensorflow:AutoGraph could not transform <bound method MCAlphaDropout.call of <__main__.MCAlphaDropout object at 0x0000017C23A31A58>> and will run it as-is.\n",
      "Please report this to the TensorFlow team. When filing the bug, set the verbosity to 10 (on Linux, `export AUTOGRAPH_VERBOSITY=10`) and attach the full output.\n",
      "Cause: No module named 'tensorflow_core.estimator'\n"
     ]
    },
    {
     "name": "stderr",
     "output_type": "stream",
     "text": [
      "WARNING:tensorflow:AutoGraph could not transform <bound method MCAlphaDropout.call of <__main__.MCAlphaDropout object at 0x0000017C23A31A58>> and will run it as-is.\n",
      "Please report this to the TensorFlow team. When filing the bug, set the verbosity to 10 (on Linux, `export AUTOGRAPH_VERBOSITY=10`) and attach the full output.\n",
      "Cause: No module named 'tensorflow_core.estimator'\n"
     ]
    },
    {
     "name": "stdout",
     "output_type": "stream",
     "text": [
      "WARNING: AutoGraph could not transform <bound method MCAlphaDropout.call of <__main__.MCAlphaDropout object at 0x0000017C23A31A58>> and will run it as-is.\n",
      "Please report this to the TensorFlow team. When filing the bug, set the verbosity to 10 (on Linux, `export AUTOGRAPH_VERBOSITY=10`) and attach the full output.\n",
      "Cause: No module named 'tensorflow_core.estimator'\n",
      "WARNING:tensorflow:AutoGraph could not transform <bound method MCAlphaDropout.call of <__main__.MCAlphaDropout object at 0x0000017C1FE23D68>> and will run it as-is.\n",
      "Please report this to the TensorFlow team. When filing the bug, set the verbosity to 10 (on Linux, `export AUTOGRAPH_VERBOSITY=10`) and attach the full output.\n",
      "Cause: No module named 'tensorflow_core.estimator'\n"
     ]
    },
    {
     "name": "stderr",
     "output_type": "stream",
     "text": [
      "WARNING:tensorflow:AutoGraph could not transform <bound method MCAlphaDropout.call of <__main__.MCAlphaDropout object at 0x0000017C1FE23D68>> and will run it as-is.\n",
      "Please report this to the TensorFlow team. When filing the bug, set the verbosity to 10 (on Linux, `export AUTOGRAPH_VERBOSITY=10`) and attach the full output.\n",
      "Cause: No module named 'tensorflow_core.estimator'\n"
     ]
    },
    {
     "name": "stdout",
     "output_type": "stream",
     "text": [
      "WARNING: AutoGraph could not transform <bound method MCAlphaDropout.call of <__main__.MCAlphaDropout object at 0x0000017C1FE23D68>> and will run it as-is.\n",
      "Please report this to the TensorFlow team. When filing the bug, set the verbosity to 10 (on Linux, `export AUTOGRAPH_VERBOSITY=10`) and attach the full output.\n",
      "Cause: No module named 'tensorflow_core.estimator'\n",
      "WARNING:tensorflow:AutoGraph could not transform <bound method MCAlphaDropout.call of <__main__.MCAlphaDropout object at 0x0000017C239D5CC0>> and will run it as-is.\n",
      "Please report this to the TensorFlow team. When filing the bug, set the verbosity to 10 (on Linux, `export AUTOGRAPH_VERBOSITY=10`) and attach the full output.\n",
      "Cause: No module named 'tensorflow_core.estimator'\n"
     ]
    },
    {
     "name": "stderr",
     "output_type": "stream",
     "text": [
      "WARNING:tensorflow:AutoGraph could not transform <bound method MCAlphaDropout.call of <__main__.MCAlphaDropout object at 0x0000017C239D5CC0>> and will run it as-is.\n",
      "Please report this to the TensorFlow team. When filing the bug, set the verbosity to 10 (on Linux, `export AUTOGRAPH_VERBOSITY=10`) and attach the full output.\n",
      "Cause: No module named 'tensorflow_core.estimator'\n"
     ]
    },
    {
     "name": "stdout",
     "output_type": "stream",
     "text": [
      "WARNING: AutoGraph could not transform <bound method MCAlphaDropout.call of <__main__.MCAlphaDropout object at 0x0000017C239D5CC0>> and will run it as-is.\n",
      "Please report this to the TensorFlow team. When filing the bug, set the verbosity to 10 (on Linux, `export AUTOGRAPH_VERBOSITY=10`) and attach the full output.\n",
      "Cause: No module named 'tensorflow_core.estimator'\n"
     ]
    }
   ],
   "source": [
    "mc_model = keras.models.Sequential([\n",
    "    MCAlphaDropout(layer.rate) if isinstance(layer, keras.layers.AlphaDropout) else layer\n",
    "    for layer in model.layers\n",
    "])"
   ]
  },
  {
   "cell_type": "code",
   "execution_count": 171,
   "id": "3f551815",
   "metadata": {},
   "outputs": [
    {
     "name": "stdout",
     "output_type": "stream",
     "text": [
      "Model: \"sequential_32\"\n",
      "_________________________________________________________________\n",
      "Layer (type)                 Output Shape              Param #   \n",
      "=================================================================\n",
      "flatten_27 (Flatten)         (None, 784)               0         \n",
      "_________________________________________________________________\n",
      "mc_alpha_dropout (MCAlphaDro (None, 784)               0         \n",
      "_________________________________________________________________\n",
      "dense_296 (Dense)            (None, 300)               235500    \n",
      "_________________________________________________________________\n",
      "mc_alpha_dropout_1 (MCAlphaD (None, 300)               0         \n",
      "_________________________________________________________________\n",
      "dense_297 (Dense)            (None, 100)               30100     \n",
      "_________________________________________________________________\n",
      "mc_alpha_dropout_2 (MCAlphaD (None, 100)               0         \n",
      "_________________________________________________________________\n",
      "dense_298 (Dense)            (None, 10)                1010      \n",
      "=================================================================\n",
      "Total params: 266,610\n",
      "Trainable params: 266,610\n",
      "Non-trainable params: 0\n",
      "_________________________________________________________________\n"
     ]
    }
   ],
   "source": [
    "mc_model.summary()"
   ]
  },
  {
   "cell_type": "code",
   "execution_count": 172,
   "id": "db22ca18",
   "metadata": {},
   "outputs": [],
   "source": [
    "optimizer = keras.optimizers.SGD(learning_rate=0.01, momentum=0.9, nesterov=True)\n",
    "mc_model.compile(loss=\"sparse_categorical_crossentropy\", optimizer=optimizer, metrics=[\"accuracy\"])"
   ]
  },
  {
   "cell_type": "code",
   "execution_count": 173,
   "id": "c99ebd05",
   "metadata": {},
   "outputs": [],
   "source": [
    "mc_model.set_weights(model.get_weights())"
   ]
  },
  {
   "cell_type": "code",
   "execution_count": 174,
   "id": "59c61fc9",
   "metadata": {},
   "outputs": [
    {
     "data": {
      "text/plain": [
       "array([[0.  , 0.  , 0.  , 0.  , 0.  , 0.11, 0.  , 0.39, 0.  , 0.5 ]],\n",
       "      dtype=float32)"
      ]
     },
     "execution_count": 174,
     "metadata": {},
     "output_type": "execute_result"
    }
   ],
   "source": [
    "# Model ready for MC Dropout\n",
    "np.round(np.mean([mc_model.predict(X_test_scaled[:1]) for sample in range(100)], axis=0), 2)"
   ]
  },
  {
   "cell_type": "markdown",
   "id": "4315d76d",
   "metadata": {},
   "source": [
    "## Max Norm"
   ]
  },
  {
   "cell_type": "code",
   "execution_count": 175,
   "id": "3441f5ac",
   "metadata": {},
   "outputs": [],
   "source": [
    "layer = keras.layers.Dense(100, activation=\"selu\", kernel_initializer=\"lecun_normal\",\n",
    "                           kernel_constraint=keras.constraints.max_norm(1.))"
   ]
  },
  {
   "cell_type": "code",
   "execution_count": 176,
   "id": "1ef2fea0",
   "metadata": {},
   "outputs": [
    {
     "name": "stdout",
     "output_type": "stream",
     "text": [
      "ERROR! Session/line number was not unique in database. History logging moved to new session 526\n",
      "Train on 55000 samples, validate on 5000 samples\n",
      "Epoch 1/2\n",
      "55000/55000 [==============================] - 4s 80us/sample - loss: 0.4719 - accuracy: 0.8325 - val_loss: 0.3896 - val_accuracy: 0.8552\n",
      "Epoch 2/2\n",
      "55000/55000 [==============================] - 4s 68us/sample - loss: 0.3564 - accuracy: 0.8710 - val_loss: 0.3575 - val_accuracy: 0.8706\n"
     ]
    }
   ],
   "source": [
    "MaxNormDense = partial(keras.layers.Dense,\n",
    "                       activation=\"selu\", kernel_initializer=\"lecun_normal\",\n",
    "                       kernel_constraint=keras.constraints.max_norm(1.))\n",
    "\n",
    "model = keras.models.Sequential([\n",
    "    keras.layers.Flatten(input_shape=[28, 28]),\n",
    "    MaxNormDense(300),\n",
    "    MaxNormDense(100),\n",
    "    keras.layers.Dense(10, activation=\"softmax\")\n",
    "])\n",
    "model.compile(loss=\"sparse_categorical_crossentropy\", optimizer=\"nadam\", metrics=[\"accuracy\"])\n",
    "n_epochs = 2\n",
    "history = model.fit(X_train_scaled, y_train, epochs=n_epochs,\n",
    "                    validation_data=(X_val_scaled, y_val))"
   ]
  },
  {
   "cell_type": "markdown",
   "id": "c464388f",
   "metadata": {},
   "source": [
    "# End of Chapter Exercises"
   ]
  },
  {
   "cell_type": "markdown",
   "id": "c144d5f2",
   "metadata": {},
   "source": [
    "1. Is it OK to initialize all the weights to the same value as long as that value is\n",
    "   selected randomly using He initialization?\n",
    "2. Is it OK to initialize the bias terms to 0?\n",
    "3. Name three advantages of the SELU activation function over ReLU.\n",
    "4. In which cases would you want to use each of the following activation functions:\n",
    "   SELU, leaky ReLU (and its variants), ReLU, tanh, logistic, and softmax?\n",
    "5. What may happen if you set the momentum hyperparameter too close to 1 (e.g.,\n",
    "   0.99999) when using an SGD optimizer?\n",
    "6. Name three ways you can produce a sparse model.\n",
    "7. Does dropout slow down training? Does it slow down inference (i.e., making\n",
    "   predictions on new instances)? What about MC Dropout?\n",
    "8. Practice training a deep neural network on the CIFAR10 image dataset:\n",
    "\n",
    "\n",
    "a. Build a DNN with 20 hidden layers of 100 neurons each (that’s too many, but\n",
    "   it’s the point of this exercise). Use He initialization and the ELU activation\n",
    "   function.\n",
    "   \n",
    "b. Using Nadam optimization and early stopping, train the network on the\n",
    "   CIFAR10 dataset. You can load it with keras.datasets.cifar10.load_\n",
    "   data(). The dataset is composed of 60,000 32 × 32–pixel color images (50,000\n",
    "   for training, 10,000 for testing) with 10 classes, so you’ll need a softmax out‐\n",
    "   put layer with 10 neurons. Remember to search for the right learning rate each\n",
    "   time you change the model’s architecture or hyperparameters.\n",
    "   \n",
    "c. Now try adding Batch Normalization and compare the learning curves: Is it\n",
    "   converging faster than before? Does it produce a better model? How does it\n",
    "   affect training speed?\n",
    "   \n",
    "d. Try replacing Batch Normalization with SELU, and make the necessary adjust‐\n",
    "   ements to ensure the network self-normalizes (i.e., standardize the input fea‐\n",
    "   tures, use LeCun normal initialization, make sure the DNN contains only a\n",
    "   sequence of dense layers, etc.).\n",
    "   \n",
    "e. Try regularizing the model with alpha dropout. Then, without retraining your\n",
    "   model, see if you can achieve better accuracy using MC Dropout.\n",
    "   f. Retrain your model using 1cycle scheduling and see if it improves training\n",
    "   speed and model accuracy"
   ]
  },
  {
   "cell_type": "markdown",
   "id": "53b26e7c",
   "metadata": {},
   "source": [
    "***1. Is it OK to initialize all the weights to the same value as long as that value is\n",
    "   selected randomly using He initialization?***\n",
    "   \n",
    "A: Well the problem with the above is that if all weights were to start with equal values, if the solution requires unequal weights to be developed the system would never learn. We want to BREAK SYMMETRY in our model, not keep it. Regardless of He initialization or not, it is not a good idea.\n",
    "\n",
    "***2. Is it OK to initialize the bias terms to 0?***\n",
    "\n",
    "A: Depends on the situation. Usually when doing Batch Normalization layers before activation functions, you can remove the bias term altogether. But if both the weight and bias terms are 0 in the hidden layers, we may arrive at the dead neuron problem. In each iteration of gradient descent the gradient in the previous layer is multiplying by the existing weight and gradient in backprop. If the weight is 0, the new gradient will be zero. Result: A dead neuron. \n",
    "\n",
    "***3. Name three advantages of the SELU activation function over ReLU.***\n",
    "\n",
    "A: \n",
    "1. SELU activation function solves the vanishing/exploding gradients problem that exists with ReLU.\n",
    "2. SELUs have a faster learning rate.\n",
    "3. SELU activation functions has a nonzero derivative which helps avoid the dying units issue that plagues ReLU. \n",
    "\n",
    "***4. In which cases would you want to use each of the following activation functions:\n",
    "   SELU, leaky ReLU (and its variants), ReLU, tanh, logistic, and softmax?***\n",
    "\n",
    "A: SELU: Ideal when the network architecture is *sequential* and input features are standardized.\n",
    "\n",
    "Leaky ReLU: Ideal when NN Architecture is resulting in dead neurons with ReLU, and if you are trying to improve on ReLU. Generally, Leaky ReLU or PReLU perform better than strict ReLU and they perform well on large image datasets (Much Faster).\n",
    "\n",
    "ReLU: Ideal if looking to test network with a quick solution as ReLU is the most used activation function in coding libraries and there are hand picked accelerators for ReLU and it is also a very simplistic activation function.\n",
    "\n",
    "Tanh: Ideal for an output layer if an output is needed between -1 and 1.\n",
    "\n",
    "Logistic: Ideal for output layers dealing with binary classification (1 or 0 for ex). \n",
    "\n",
    "Softmax: Ideal for output layer in NN when looking to output probabilities for mutually exclusive classes (Input objects ONLY belong to one class like the MNIST dataset for Ex.). \n",
    "\n",
    "***5. What may happen if you set the momentum hyperparameter too close to 1 (e.g.,\n",
    "   0.99999) when using an SGD optimizer?***\n",
    "   \n",
    "A: If the momentum hyperparam is too close to 1, The optimizer may overshoot completely missing the optimal minimum as it ramps up speed as the iterations grow larger and larger. Or, it could come back towards the minumum and roll back and forth for a very long time before finally converging. Almost like shooting a ball into a net where it rolls around the rim for what feels like forever until going in. \n",
    "\n",
    "***6. Name three ways you can produce a sparse model.***\n",
    "\n",
    "A: \n",
    "1. After training the model, get rid of the tiny weights in the neurons by setting them to 0\n",
    "2. Use regularization terms. Specifically, using l2 regularizatoin during training (zeros out weights).\n",
    "3. Using the TensorFlow Model Optimization Toolkit: https://www.tensorflow.org/model_optimization\n",
    "\n",
    "***7. Does dropout slow down training? Does it slow down inference (i.e., making\n",
    "   predictions on new instances)? What about MC Dropout?***\n",
    "   \n",
    "A: Dropout tends to slow down convergence and it typically slows down training. But with that said, it typically trains the model better with better tuning so it can make better predictions on newer instances. It does not affect inference speed because it is only for training, not evaluating. MC Dropout stacks the inferences being made to 10 or more. So inference is slowed in this case but training is nill as MC Dropout doesn't require the model to be retrained or modified in any manner."
   ]
  },
  {
   "cell_type": "code",
   "execution_count": 1,
   "id": "0ae8085c",
   "metadata": {},
   "outputs": [],
   "source": [
    "# Question #8\n",
    "'''8. Practice training a deep neural network on the CIFAR10 image dataset:\n",
    "a. Build a DNN with 20 hidden layers of 100 neurons each (that’s too many, but\n",
    "it’s the point of this exercise). Use He initialization and the ELU activation\n",
    "function.\n",
    "b. Using Nadam optimization and early stopping, train the network on the\n",
    "CIFAR10 dataset. You can load it with keras.datasets.cifar10.load_\n",
    "data(). The dataset is composed of 60,000 32 × 32–pixel color images (50,000\n",
    "for training, 10,000 for testing) with 10 classes, so you’ll need a softmax out‐\n",
    "put layer with 10 neurons. Remember to search for the right learning rate each\n",
    "time you change the model’s architecture or hyperparameters.\n",
    "c. Now try adding Batch Normalization and compare the learning curves: Is it\n",
    "converging faster than before? Does it produce a better model? How does it\n",
    "affect training speed?\n",
    "d. Try replacing Batch Normalization with SELU, and make the necessary adjust‐\n",
    "ements to ensure the network self-normalizes (i.e., standardize the input fea‐\n",
    "tures, use LeCun normal initialization, make sure the DNN contains only a\n",
    "sequence of dense layers, etc.).\n",
    "e. Try regularizing the model with alpha dropout. Then, without retraining your\n",
    "model, see if you can achieve better accuracy using MC Dropout.\n",
    "f. Retrain your model using 1cycle scheduling and see if it improves training\n",
    "speed and model accuracy.\n",
    "'''\n",
    "import tensorflow as tf\n",
    "import os\n",
    "from tensorflow import keras"
   ]
  },
  {
   "cell_type": "markdown",
   "id": "58df9099",
   "metadata": {},
   "source": [
    "### A. Build a DNN with 20 hidden layers of 100 neurons each (that’s too many, but it’s the point of this exercise). Use He initialization and the ELU activation function."
   ]
  },
  {
   "cell_type": "markdown",
   "id": "2371ed12",
   "metadata": {},
   "source": [
    "To do A., we will use the following resource from TF: https://www.tensorflow.org/api_docs/python/tf/keras/datasets/cifar10/load_data\n",
    "\n",
    "it tells us if we assign (x_train, y_train), (x_test, y_test) = keras.datasets.cifar10.load_data() that our image data shape is (50000, 32, 32, 3) So we will need to flatten a 32 by 32 by 3 NumPy array. Let us do that now and build our model:"
   ]
  },
  {
   "cell_type": "code",
   "execution_count": 2,
   "id": "2304e0df",
   "metadata": {},
   "outputs": [],
   "source": [
    "model = keras.models.Sequential()\n",
    "model.add(keras.layers.Flatten(input_shape=[32, 32, 3]))\n",
    "# simple for loop for dense layers\n",
    "for i in range(20):\n",
    "    model.add(keras.layers.Dense(100, activation=\"elu\", kernel_initializer=\"he_normal\"))"
   ]
  },
  {
   "cell_type": "markdown",
   "id": "fe4e02b4",
   "metadata": {},
   "source": [
    "### b. Using Nadam optimization and early stopping, train the network on the CIFAR10 dataset. You can load it with keras.datasets.cifar10.load_data(). The dataset is composed of 60,000 32 × 32–pixel color images (50,000 for training, 10,000 for testing) with 10 classes, so you’ll need a softmax output layer with 10 neurons. Remember to search for the right learning rate each time you change the model’s architecture or hyperparameters."
   ]
  },
  {
   "cell_type": "code",
   "execution_count": 3,
   "id": "ce9ec536",
   "metadata": {},
   "outputs": [],
   "source": [
    "# Load dataset\n",
    "(X_train_full, y_train_full), (X_test, y_test) = keras.datasets.cifar10.load_data()\n",
    "\n",
    "# cross validation set like before\n",
    "X_train = X_train_full[5000:]\n",
    "y_train = y_train_full[5000:]\n",
    "X_val = X_train_full[:5000]\n",
    "y_val = y_train_full[:5000]"
   ]
  },
  {
   "cell_type": "markdown",
   "id": "38588524",
   "metadata": {},
   "source": [
    "Now we know we need a softmax output with 10 neurons. Let us add that right now"
   ]
  },
  {
   "cell_type": "code",
   "execution_count": 4,
   "id": "9dc0c43a",
   "metadata": {},
   "outputs": [],
   "source": [
    "model.add(keras.layers.Dense(10, activation=\"softmax\"))"
   ]
  },
  {
   "cell_type": "markdown",
   "id": "c654e8b7",
   "metadata": {},
   "source": [
    "We will now need to compile the model with a Nadam Optimizer, we will check for accuracy and we will also use the sparse crossentropy for our loss function when compiling. We use 1Cycle Scheduling in part F., so for now we will just use a smaller learning rate than we have been using in this chapter as we are training a very deep mode. Let's pick something like 10e-5 and see how we do from there."
   ]
  },
  {
   "cell_type": "code",
   "execution_count": 5,
   "id": "2c5a1960",
   "metadata": {},
   "outputs": [],
   "source": [
    "optimizer = keras.optimizers.Nadam(learning_rate=10e-5)\n",
    "model.compile(loss=\"sparse_categorical_crossentropy\",\n",
    "              optimizer=optimizer,\n",
    "              metrics=[\"accuracy\"])"
   ]
  },
  {
   "cell_type": "code",
   "execution_count": 6,
   "id": "c3054cca",
   "metadata": {},
   "outputs": [],
   "source": [
    "early_stopping_cb = keras.callbacks.EarlyStopping(patience=20) # early stopping callback\n",
    "model_checkpoint_cb = keras.callbacks.ModelCheckpoint(\"question8_model.h5\", save_best_only=True)\n",
    "run_index = 1 # For each iteration the model runs sequentially\n",
    "run_logdir = os.path.join(os.curdir, \"question8_logs\", \"run_{:03d}\".format(run_index))\n",
    "tensorboard_cb = keras.callbacks.TensorBoard(run_logdir) #tensorboard callback\n",
    "callbacks = [early_stopping_cb, model_checkpoint_cb, tensorboard_cb]"
   ]
  },
  {
   "cell_type": "code",
   "execution_count": 10,
   "id": "f4cfb763",
   "metadata": {},
   "outputs": [
    {
     "name": "stdout",
     "output_type": "stream",
     "text": [
      "The tensorboard extension is already loaded. To reload it, use:\n",
      "  %reload_ext tensorboard\n"
     ]
    },
    {
     "data": {
      "text/plain": [
       "Reusing TensorBoard on port 6010 (pid 932), started 0:00:56 ago. (Use '!kill 932' to kill it.)"
      ]
     },
     "metadata": {},
     "output_type": "display_data"
    },
    {
     "data": {
      "text/html": [
       "\n",
       "      <iframe id=\"tensorboard-frame-5450303a84fb69c9\" width=\"100%\" height=\"800\" frameborder=\"0\">\n",
       "      </iframe>\n",
       "      <script>\n",
       "        (function() {\n",
       "          const frame = document.getElementById(\"tensorboard-frame-5450303a84fb69c9\");\n",
       "          const url = new URL(\"/\", window.location);\n",
       "          const port = 6010;\n",
       "          if (port) {\n",
       "            url.port = port;\n",
       "          }\n",
       "          frame.src = url;\n",
       "        })();\n",
       "      </script>\n",
       "    "
      ],
      "text/plain": [
       "<IPython.core.display.HTML object>"
      ]
     },
     "metadata": {},
     "output_type": "display_data"
    }
   ],
   "source": [
    "%load_ext tensorboard\n",
    "%tensorboard --logdir=./question8_logs --port=6010"
   ]
  },
  {
   "cell_type": "markdown",
   "id": "945faea9",
   "metadata": {},
   "source": [
    "Now it's time to train our model..."
   ]
  },
  {
   "cell_type": "code",
   "execution_count": 11,
   "id": "c7213ae6",
   "metadata": {},
   "outputs": [
    {
     "name": "stdout",
     "output_type": "stream",
     "text": [
      "Train on 45000 samples, validate on 5000 samples\n",
      "Epoch 1/100\n",
      "45000/45000 [==============================] - 60s 1ms/sample - loss: 4.1687 - accuracy: 0.1775 - val_loss: 2.4555 - val_accuracy: 0.2008\n",
      "Epoch 2/100\n",
      "45000/45000 [==============================] - 9s 190us/sample - loss: 2.0505 - accuracy: 0.2486 - val_loss: 2.3301 - val_accuracy: 0.2136\n",
      "Epoch 3/100\n",
      "45000/45000 [==============================] - 9s 192us/sample - loss: 1.9456 - accuracy: 0.2873 - val_loss: 1.9842 - val_accuracy: 0.2952\n",
      "Epoch 4/100\n",
      "45000/45000 [==============================] - 9s 190us/sample - loss: 1.8631 - accuracy: 0.3210 - val_loss: 1.8990 - val_accuracy: 0.3082\n",
      "Epoch 5/100\n",
      "45000/45000 [==============================] - 9s 193us/sample - loss: 1.8009 - accuracy: 0.3479 - val_loss: 1.8103 - val_accuracy: 0.3422\n",
      "Epoch 6/100\n",
      "45000/45000 [==============================] - 8s 185us/sample - loss: 1.7406 - accuracy: 0.3688 - val_loss: 1.8542 - val_accuracy: 0.3196\n",
      "Epoch 7/100\n",
      "45000/45000 [==============================] - 9s 193us/sample - loss: 1.7029 - accuracy: 0.3844 - val_loss: 1.7098 - val_accuracy: 0.3866\n",
      "Epoch 8/100\n",
      "45000/45000 [==============================] - 9s 190us/sample - loss: 1.6615 - accuracy: 0.3969 - val_loss: 1.6846 - val_accuracy: 0.3988\n",
      "Epoch 9/100\n",
      "45000/45000 [==============================] - 9s 190us/sample - loss: 1.6323 - accuracy: 0.4122 - val_loss: 1.6475 - val_accuracy: 0.4096\n",
      "Epoch 10/100\n",
      "45000/45000 [==============================] - 8s 188us/sample - loss: 1.6095 - accuracy: 0.4178 - val_loss: 1.6566 - val_accuracy: 0.3994\n",
      "Epoch 11/100\n",
      "45000/45000 [==============================] - 8s 189us/sample - loss: 1.5862 - accuracy: 0.4290 - val_loss: 1.5913 - val_accuracy: 0.4254\n",
      "Epoch 12/100\n",
      "45000/45000 [==============================] - 8s 187us/sample - loss: 1.5695 - accuracy: 0.4340 - val_loss: 1.6379 - val_accuracy: 0.4146\n",
      "Epoch 13/100\n",
      "45000/45000 [==============================] - 9s 191us/sample - loss: 1.5505 - accuracy: 0.4428 - val_loss: 1.5909 - val_accuracy: 0.4274\n",
      "Epoch 14/100\n",
      "45000/45000 [==============================] - 9s 189us/sample - loss: 1.5355 - accuracy: 0.4470 - val_loss: 1.5763 - val_accuracy: 0.4268\n",
      "Epoch 15/100\n",
      "45000/45000 [==============================] - 8s 187us/sample - loss: 1.5222 - accuracy: 0.4522 - val_loss: 1.5955 - val_accuracy: 0.4222\n",
      "Epoch 16/100\n",
      "45000/45000 [==============================] - 9s 192us/sample - loss: 1.5109 - accuracy: 0.4564 - val_loss: 1.6371 - val_accuracy: 0.4110\n",
      "Epoch 17/100\n",
      "45000/45000 [==============================] - 9s 190us/sample - loss: 1.4975 - accuracy: 0.4620 - val_loss: 1.6107 - val_accuracy: 0.4198\n",
      "Epoch 18/100\n",
      "45000/45000 [==============================] - 9s 191us/sample - loss: 1.4816 - accuracy: 0.4685 - val_loss: 1.6046 - val_accuracy: 0.4252\n",
      "Epoch 19/100\n",
      "45000/45000 [==============================] - 8s 187us/sample - loss: 1.4682 - accuracy: 0.4722 - val_loss: 1.6272 - val_accuracy: 0.4184\n",
      "Epoch 20/100\n",
      "45000/45000 [==============================] - 9s 193us/sample - loss: 1.4558 - accuracy: 0.4752 - val_loss: 1.5703 - val_accuracy: 0.4476\n",
      "Epoch 21/100\n",
      "45000/45000 [==============================] - 8s 188us/sample - loss: 1.4461 - accuracy: 0.4814 - val_loss: 1.5964 - val_accuracy: 0.4324\n",
      "Epoch 22/100\n",
      "45000/45000 [==============================] - 9s 191us/sample - loss: 1.4318 - accuracy: 0.4852 - val_loss: 1.5509 - val_accuracy: 0.4570\n",
      "Epoch 23/100\n",
      "45000/45000 [==============================] - 9s 191us/sample - loss: 1.4240 - accuracy: 0.4884 - val_loss: 1.5408 - val_accuracy: 0.4492\n",
      "Epoch 24/100\n",
      "45000/45000 [==============================] - 9s 191us/sample - loss: 1.4153 - accuracy: 0.4890 - val_loss: 1.5315 - val_accuracy: 0.4582\n",
      "Epoch 25/100\n",
      "45000/45000 [==============================] - 9s 192us/sample - loss: 1.4027 - accuracy: 0.4964 - val_loss: 1.5299 - val_accuracy: 0.4526\n",
      "Epoch 26/100\n",
      "45000/45000 [==============================] - 8s 187us/sample - loss: 1.3902 - accuracy: 0.4992 - val_loss: 1.5430 - val_accuracy: 0.4550\n",
      "Epoch 27/100\n",
      "45000/45000 [==============================] - 9s 190us/sample - loss: 1.3791 - accuracy: 0.5012 - val_loss: 1.5432 - val_accuracy: 0.4526\n",
      "Epoch 28/100\n",
      "45000/45000 [==============================] - 9s 190us/sample - loss: 1.3728 - accuracy: 0.5052 - val_loss: 1.5659 - val_accuracy: 0.4498\n",
      "Epoch 29/100\n",
      "45000/45000 [==============================] - 9s 190us/sample - loss: 1.3588 - accuracy: 0.5096 - val_loss: 1.5601 - val_accuracy: 0.4508\n",
      "Epoch 30/100\n",
      "45000/45000 [==============================] - 8s 188us/sample - loss: 1.3526 - accuracy: 0.5131 - val_loss: 1.5737 - val_accuracy: 0.4516\n",
      "Epoch 31/100\n",
      "45000/45000 [==============================] - 8s 187us/sample - loss: 1.3414 - accuracy: 0.5149 - val_loss: 1.5646 - val_accuracy: 0.4566\n",
      "Epoch 32/100\n",
      "45000/45000 [==============================] - 8s 185us/sample - loss: 1.3346 - accuracy: 0.5193 - val_loss: 1.5548 - val_accuracy: 0.4504\n",
      "Epoch 33/100\n",
      "45000/45000 [==============================] - 9s 192us/sample - loss: 1.3272 - accuracy: 0.5206 - val_loss: 1.5369 - val_accuracy: 0.4672\n",
      "Epoch 34/100\n",
      "45000/45000 [==============================] - 8s 188us/sample - loss: 1.3140 - accuracy: 0.5263 - val_loss: 1.5348 - val_accuracy: 0.4560\n",
      "Epoch 35/100\n",
      "45000/45000 [==============================] - 9s 208us/sample - loss: 1.3093 - accuracy: 0.5302 - val_loss: 1.5521 - val_accuracy: 0.4504\n",
      "Epoch 36/100\n",
      "45000/45000 [==============================] - 9s 194us/sample - loss: 1.3030 - accuracy: 0.5311 - val_loss: 1.5363 - val_accuracy: 0.4604\n",
      "Epoch 37/100\n",
      "45000/45000 [==============================] - 9s 190us/sample - loss: 1.2893 - accuracy: 0.5345 - val_loss: 1.5038 - val_accuracy: 0.4688\n",
      "Epoch 38/100\n",
      "45000/45000 [==============================] - 9s 189us/sample - loss: 1.2817 - accuracy: 0.5377 - val_loss: 1.5734 - val_accuracy: 0.4492\n",
      "Epoch 39/100\n",
      "45000/45000 [==============================] - 9s 189us/sample - loss: 1.2731 - accuracy: 0.5396 - val_loss: 1.5285 - val_accuracy: 0.4702\n",
      "Epoch 40/100\n",
      "45000/45000 [==============================] - 9s 195us/sample - loss: 1.2630 - accuracy: 0.5461 - val_loss: 1.5780 - val_accuracy: 0.4668\n",
      "Epoch 41/100\n",
      "45000/45000 [==============================] - 9s 190us/sample - loss: 1.2562 - accuracy: 0.5477 - val_loss: 1.5390 - val_accuracy: 0.4698\n",
      "Epoch 42/100\n",
      "45000/45000 [==============================] - 9s 193us/sample - loss: 1.2478 - accuracy: 0.5503 - val_loss: 1.5876 - val_accuracy: 0.4604\n",
      "Epoch 43/100\n",
      "45000/45000 [==============================] - 10s 215us/sample - loss: 1.2373 - accuracy: 0.5511 - val_loss: 1.5721 - val_accuracy: 0.4590\n",
      "Epoch 44/100\n",
      "45000/45000 [==============================] - 10s 218us/sample - loss: 1.2343 - accuracy: 0.5563 - val_loss: 1.6051 - val_accuracy: 0.4494\n",
      "Epoch 45/100\n",
      "45000/45000 [==============================] - 9s 205us/sample - loss: 1.2219 - accuracy: 0.5598 - val_loss: 1.5412 - val_accuracy: 0.4636\n",
      "Epoch 46/100\n",
      "45000/45000 [==============================] - 9s 206us/sample - loss: 1.2159 - accuracy: 0.5606 - val_loss: 1.5496 - val_accuracy: 0.4706\n",
      "Epoch 47/100\n",
      "45000/45000 [==============================] - 9s 191us/sample - loss: 1.2067 - accuracy: 0.5638 - val_loss: 1.5916 - val_accuracy: 0.4658\n",
      "Epoch 48/100\n",
      "45000/45000 [==============================] - 9s 196us/sample - loss: 1.2006 - accuracy: 0.5670 - val_loss: 1.5809 - val_accuracy: 0.4628\n",
      "Epoch 49/100\n",
      "45000/45000 [==============================] - 9s 193us/sample - loss: 1.1901 - accuracy: 0.5717 - val_loss: 1.6011 - val_accuracy: 0.4586\n",
      "Epoch 50/100\n",
      "45000/45000 [==============================] - 9s 193us/sample - loss: 1.1852 - accuracy: 0.5720 - val_loss: 1.5581 - val_accuracy: 0.4588\n",
      "Epoch 51/100\n",
      "45000/45000 [==============================] - 9s 193us/sample - loss: 1.1761 - accuracy: 0.5755 - val_loss: 1.5988 - val_accuracy: 0.4582\n",
      "Epoch 52/100\n",
      "45000/45000 [==============================] - 9s 190us/sample - loss: 1.1699 - accuracy: 0.5781 - val_loss: 1.6071 - val_accuracy: 0.4534\n",
      "Epoch 53/100\n",
      "45000/45000 [==============================] - 9s 196us/sample - loss: 1.1616 - accuracy: 0.5801 - val_loss: 1.5594 - val_accuracy: 0.4676\n",
      "Epoch 54/100\n",
      "45000/45000 [==============================] - 8s 188us/sample - loss: 1.1530 - accuracy: 0.5840 - val_loss: 1.5988 - val_accuracy: 0.4682\n",
      "Epoch 55/100\n",
      "45000/45000 [==============================] - 8s 188us/sample - loss: 1.1486 - accuracy: 0.5837 - val_loss: 1.6443 - val_accuracy: 0.4556\n",
      "Epoch 56/100\n",
      "45000/45000 [==============================] - 8s 188us/sample - loss: 1.1393 - accuracy: 0.5868 - val_loss: 1.5982 - val_accuracy: 0.4620\n",
      "Epoch 57/100\n",
      "45000/45000 [==============================] - 9s 190us/sample - loss: 1.1318 - accuracy: 0.5918 - val_loss: 1.6581 - val_accuracy: 0.4666\n"
     ]
    },
    {
     "data": {
      "text/plain": [
       "<tensorflow.python.keras.callbacks.History at 0x1bf04c4a780>"
      ]
     },
     "execution_count": 11,
     "metadata": {},
     "output_type": "execute_result"
    }
   ],
   "source": [
    "model.fit(X_train, y_train, epochs=100,\n",
    "          validation_data=(X_val, y_val),\n",
    "          callbacks=callbacks)"
   ]
  },
  {
   "cell_type": "code",
   "execution_count": 12,
   "id": "280407d0",
   "metadata": {},
   "outputs": [
    {
     "name": "stdout",
     "output_type": "stream",
     "text": [
      "5000/5000 [==============================] - 1s 156us/sample - loss: 1.5038 - accuracy: 0.4688\n"
     ]
    },
    {
     "data": {
      "text/plain": [
       "[1.5038173973083495, 0.4688]"
      ]
     },
     "execution_count": 12,
     "metadata": {},
     "output_type": "execute_result"
    }
   ],
   "source": [
    "model = keras.models.load_model(\"question8_model.h5\")\n",
    "model.evaluate(X_val, y_val)"
   ]
  },
  {
   "cell_type": "markdown",
   "id": "2f042eb9",
   "metadata": {},
   "source": [
    "Looks like going with too deep of a model doesn't do so well... And this is with the validation loss. Let's move onto C. to see if we can improve on this."
   ]
  },
  {
   "cell_type": "markdown",
   "id": "9961ac47",
   "metadata": {},
   "source": [
    "### C. Now try adding Batch Normalization and compare the learning curves: Is it converging faster than before? Does it produce a better model? How does it affect training speed?"
   ]
  },
  {
   "cell_type": "code",
   "execution_count": 14,
   "id": "88a9f0cb",
   "metadata": {},
   "outputs": [
    {
     "name": "stdout",
     "output_type": "stream",
     "text": [
      "Train on 45000 samples, validate on 5000 samples\n",
      "Epoch 1/100\n",
      "45000/45000 [==============================] - 30s 671us/sample - loss: 1.9526 - accuracy: 0.2985 - val_loss: 1.7158 - val_accuracy: 0.3866\n",
      "Epoch 2/100\n",
      "45000/45000 [==============================] - 25s 546us/sample - loss: 1.7164 - accuracy: 0.3876 - val_loss: 1.5973 - val_accuracy: 0.4254\n",
      "Epoch 3/100\n",
      "45000/45000 [==============================] - 25s 549us/sample - loss: 1.6320 - accuracy: 0.4173 - val_loss: 1.5279 - val_accuracy: 0.4518\n",
      "Epoch 4/100\n",
      "45000/45000 [==============================] - 24s 539us/sample - loss: 1.5737 - accuracy: 0.4401 - val_loss: 1.4920 - val_accuracy: 0.4714\n",
      "Epoch 5/100\n",
      "45000/45000 [==============================] - 24s 529us/sample - loss: 1.5284 - accuracy: 0.4580 - val_loss: 1.4826 - val_accuracy: 0.4782\n",
      "Epoch 6/100\n",
      "45000/45000 [==============================] - 24s 532us/sample - loss: 1.4925 - accuracy: 0.4682 - val_loss: 1.4588 - val_accuracy: 0.4788\n",
      "Epoch 7/100\n",
      "45000/45000 [==============================] - 24s 541us/sample - loss: 1.4635 - accuracy: 0.4808 - val_loss: 1.4315 - val_accuracy: 0.4870\n",
      "Epoch 8/100\n",
      "45000/45000 [==============================] - 24s 528us/sample - loss: 1.4340 - accuracy: 0.4902 - val_loss: 1.4213 - val_accuracy: 0.4904\n",
      "Epoch 9/100\n",
      "45000/45000 [==============================] - 24s 531us/sample - loss: 1.4060 - accuracy: 0.4999 - val_loss: 1.4128 - val_accuracy: 0.4926\n",
      "Epoch 10/100\n",
      "45000/45000 [==============================] - 24s 529us/sample - loss: 1.3892 - accuracy: 0.5090 - val_loss: 1.4101 - val_accuracy: 0.4994\n",
      "Epoch 11/100\n",
      "45000/45000 [==============================] - 24s 531us/sample - loss: 1.3700 - accuracy: 0.5147 - val_loss: 1.3758 - val_accuracy: 0.5042\n",
      "Epoch 12/100\n",
      "45000/45000 [==============================] - 24s 536us/sample - loss: 1.3540 - accuracy: 0.5205 - val_loss: 1.3815 - val_accuracy: 0.5012\n",
      "Epoch 13/100\n",
      "45000/45000 [==============================] - 24s 534us/sample - loss: 1.3338 - accuracy: 0.5246 - val_loss: 1.3858 - val_accuracy: 0.5034\n",
      "Epoch 14/100\n",
      "45000/45000 [==============================] - 24s 537us/sample - loss: 1.3246 - accuracy: 0.5293 - val_loss: 1.3549 - val_accuracy: 0.5198\n",
      "Epoch 15/100\n",
      "45000/45000 [==============================] - 24s 533us/sample - loss: 1.3057 - accuracy: 0.5337 - val_loss: 1.3579 - val_accuracy: 0.5126\n",
      "Epoch 16/100\n",
      "45000/45000 [==============================] - 24s 532us/sample - loss: 1.2893 - accuracy: 0.5416 - val_loss: 1.3537 - val_accuracy: 0.5148\n",
      "Epoch 17/100\n",
      "45000/45000 [==============================] - 24s 532us/sample - loss: 1.2811 - accuracy: 0.5462 - val_loss: 1.3666 - val_accuracy: 0.5152\n",
      "Epoch 18/100\n",
      "45000/45000 [==============================] - 24s 533us/sample - loss: 1.2583 - accuracy: 0.5526 - val_loss: 1.3412 - val_accuracy: 0.5192\n",
      "Epoch 19/100\n",
      "45000/45000 [==============================] - 24s 534us/sample - loss: 1.2503 - accuracy: 0.5554 - val_loss: 1.3384 - val_accuracy: 0.5238\n",
      "Epoch 20/100\n",
      "45000/45000 [==============================] - 24s 528us/sample - loss: 1.2368 - accuracy: 0.5602 - val_loss: 1.3455 - val_accuracy: 0.5178\n",
      "Epoch 21/100\n",
      "45000/45000 [==============================] - 24s 540us/sample - loss: 1.2268 - accuracy: 0.5638 - val_loss: 1.3566 - val_accuracy: 0.5170\n",
      "Epoch 22/100\n",
      "45000/45000 [==============================] - 24s 539us/sample - loss: 1.2168 - accuracy: 0.5680 - val_loss: 1.3351 - val_accuracy: 0.5320\n",
      "Epoch 23/100\n",
      "45000/45000 [==============================] - 24s 538us/sample - loss: 1.2004 - accuracy: 0.5725 - val_loss: 1.3703 - val_accuracy: 0.5212\n",
      "Epoch 24/100\n",
      "45000/45000 [==============================] - 24s 530us/sample - loss: 1.1874 - accuracy: 0.5778 - val_loss: 1.3495 - val_accuracy: 0.5252\n",
      "Epoch 25/100\n",
      "45000/45000 [==============================] - 24s 533us/sample - loss: 1.1784 - accuracy: 0.5813 - val_loss: 1.3378 - val_accuracy: 0.5306\n",
      "Epoch 26/100\n",
      "45000/45000 [==============================] - 24s 540us/sample - loss: 1.1680 - accuracy: 0.5859 - val_loss: 1.3343 - val_accuracy: 0.5280\n",
      "Epoch 27/100\n",
      "45000/45000 [==============================] - 25s 554us/sample - loss: 1.1599 - accuracy: 0.5882 - val_loss: 1.3314 - val_accuracy: 0.5356\n",
      "Epoch 28/100\n",
      "45000/45000 [==============================] - 24s 539us/sample - loss: 1.1534 - accuracy: 0.5914 - val_loss: 1.3435 - val_accuracy: 0.5326\n",
      "Epoch 29/100\n",
      "45000/45000 [==============================] - 24s 537us/sample - loss: 1.1477 - accuracy: 0.5910 - val_loss: 1.3507 - val_accuracy: 0.5302\n",
      "Epoch 30/100\n",
      "45000/45000 [==============================] - 24s 538us/sample - loss: 1.1313 - accuracy: 0.5996 - val_loss: 1.3463 - val_accuracy: 0.5296\n",
      "Epoch 31/100\n",
      "45000/45000 [==============================] - 24s 536us/sample - loss: 1.1254 - accuracy: 0.6007 - val_loss: 1.3599 - val_accuracy: 0.5232\n",
      "Epoch 32/100\n",
      "45000/45000 [==============================] - 24s 542us/sample - loss: 1.1164 - accuracy: 0.6033 - val_loss: 1.3364 - val_accuracy: 0.5356\n",
      "Epoch 33/100\n",
      "45000/45000 [==============================] - 25s 551us/sample - loss: 1.1132 - accuracy: 0.6059 - val_loss: 1.3394 - val_accuracy: 0.5288\n",
      "Epoch 34/100\n",
      "45000/45000 [==============================] - 24s 534us/sample - loss: 1.1003 - accuracy: 0.6101 - val_loss: 1.3447 - val_accuracy: 0.5350\n",
      "Epoch 35/100\n",
      "45000/45000 [==============================] - 24s 526us/sample - loss: 1.0963 - accuracy: 0.6109 - val_loss: 1.3333 - val_accuracy: 0.5320\n",
      "Epoch 36/100\n",
      "45000/45000 [==============================] - 25s 546us/sample - loss: 1.0820 - accuracy: 0.6162 - val_loss: 1.3793 - val_accuracy: 0.5276\n",
      "Epoch 37/100\n",
      "45000/45000 [==============================] - 24s 532us/sample - loss: 1.0757 - accuracy: 0.6169 - val_loss: 1.3376 - val_accuracy: 0.5360\n",
      "Epoch 38/100\n",
      "45000/45000 [==============================] - 24s 539us/sample - loss: 1.0684 - accuracy: 0.6190 - val_loss: 1.3532 - val_accuracy: 0.5328\n",
      "Epoch 39/100\n",
      "45000/45000 [==============================] - 25s 549us/sample - loss: 1.0610 - accuracy: 0.6246 - val_loss: 1.3727 - val_accuracy: 0.5274\n",
      "Epoch 40/100\n",
      "45000/45000 [==============================] - 25s 551us/sample - loss: 1.0507 - accuracy: 0.6286 - val_loss: 1.3628 - val_accuracy: 0.5310\n",
      "Epoch 41/100\n",
      "45000/45000 [==============================] - 25s 549us/sample - loss: 1.0451 - accuracy: 0.6288 - val_loss: 1.3472 - val_accuracy: 0.5392\n",
      "Epoch 42/100\n",
      "45000/45000 [==============================] - 24s 538us/sample - loss: 1.0419 - accuracy: 0.6300 - val_loss: 1.3575 - val_accuracy: 0.5364\n",
      "Epoch 43/100\n",
      "45000/45000 [==============================] - 24s 541us/sample - loss: 1.0298 - accuracy: 0.6325 - val_loss: 1.3536 - val_accuracy: 0.5370\n",
      "Epoch 44/100\n",
      "45000/45000 [==============================] - 24s 528us/sample - loss: 1.0323 - accuracy: 0.6339 - val_loss: 1.3835 - val_accuracy: 0.5294\n",
      "Epoch 45/100\n",
      "45000/45000 [==============================] - 24s 528us/sample - loss: 1.0232 - accuracy: 0.6356 - val_loss: 1.3802 - val_accuracy: 0.5350\n",
      "Epoch 46/100\n",
      "45000/45000 [==============================] - 24s 542us/sample - loss: 1.0100 - accuracy: 0.6414 - val_loss: 1.3720 - val_accuracy: 0.5362\n",
      "Epoch 47/100\n",
      "45000/45000 [==============================] - 24s 540us/sample - loss: 1.0063 - accuracy: 0.6434 - val_loss: 1.3759 - val_accuracy: 0.5280\n",
      "5000/5000 [==============================] - 1s 189us/sample - loss: 1.3314 - accuracy: 0.5356\n"
     ]
    },
    {
     "data": {
      "text/plain": [
       "[1.331355502796173, 0.5356]"
      ]
     },
     "execution_count": 14,
     "metadata": {},
     "output_type": "execute_result"
    }
   ],
   "source": [
    "model = keras.models.Sequential()\n",
    "model.add(keras.layers.Flatten(input_shape=[32, 32, 3]))\n",
    "model.add(keras.layers.BatchNormalization())\n",
    "for _ in range(20):\n",
    "    model.add(keras.layers.Dense(100, kernel_initializer=\"he_normal\"))\n",
    "    model.add(keras.layers.BatchNormalization())\n",
    "    model.add(keras.layers.Activation(\"elu\"))\n",
    "model.add(keras.layers.Dense(10, activation=\"softmax\"))\n",
    "\n",
    "optimizer = keras.optimizers.Nadam(learning_rate=10e-5)\n",
    "model.compile(loss=\"sparse_categorical_crossentropy\",\n",
    "              optimizer=optimizer,\n",
    "              metrics=[\"accuracy\"])\n",
    "\n",
    "early_stopping_cb = keras.callbacks.EarlyStopping(patience=20) # early stopping callback\n",
    "model_checkpoint_cb = keras.callbacks.ModelCheckpoint(\"question8_bn_model.h5\", save_best_only=True)\n",
    "run_index = 1 # For each iteration the model runs sequentially\n",
    "run_logdir = os.path.join(os.curdir, \"question8_logs\", \"run_bn_{:03d}\".format(run_index))\n",
    "tensorboard_cb = keras.callbacks.TensorBoard(run_logdir)\n",
    "callbacks = [early_stopping_cb, model_checkpoint_cb, tensorboard_cb]\n",
    "\n",
    "model.fit(X_train, y_train, epochs=100,\n",
    "          validation_data=(X_val, y_val),\n",
    "          callbacks=callbacks)\n",
    "\n",
    "model = keras.models.load_model(\"question8_bn_model.h5\")\n",
    "model.evaluate(X_val, y_val)"
   ]
  },
  {
   "cell_type": "markdown",
   "id": "ceb0b7f7",
   "metadata": {},
   "source": [
    "Wow! Batch normalization was able to get to the lowest validation loss in our previous model by the 5th iteration! That means it is converging faster. The accuracy of this model is higher than the previous mode which is a good sign but the training speed is slower and each epoch is taking on average almost 15seconds longer per epoch. Let's take a quick look in tensorboard to see our results"
   ]
  },
  {
   "cell_type": "code",
   "execution_count": 15,
   "id": "10a43b42",
   "metadata": {},
   "outputs": [
    {
     "data": {
      "text/plain": [
       "Reusing TensorBoard on port 6010 (pid 932), started 1:09:49 ago. (Use '!kill 932' to kill it.)"
      ]
     },
     "metadata": {},
     "output_type": "display_data"
    },
    {
     "data": {
      "text/html": [
       "\n",
       "      <iframe id=\"tensorboard-frame-4992ddbb14a435ad\" width=\"100%\" height=\"800\" frameborder=\"0\">\n",
       "      </iframe>\n",
       "      <script>\n",
       "        (function() {\n",
       "          const frame = document.getElementById(\"tensorboard-frame-4992ddbb14a435ad\");\n",
       "          const url = new URL(\"/\", window.location);\n",
       "          const port = 6010;\n",
       "          if (port) {\n",
       "            url.port = port;\n",
       "          }\n",
       "          frame.src = url;\n",
       "        })();\n",
       "      </script>\n",
       "    "
      ],
      "text/plain": [
       "<IPython.core.display.HTML object>"
      ]
     },
     "metadata": {},
     "output_type": "display_data"
    }
   ],
   "source": [
    "%tensorboard --logdir=./question8_logs --port=6010"
   ]
  },
  {
   "cell_type": "markdown",
   "id": "89e4127b",
   "metadata": {},
   "source": [
    "Looks good! Let's move onto question D."
   ]
  },
  {
   "cell_type": "markdown",
   "id": "fca75873",
   "metadata": {},
   "source": [
    "### D. Try replacing Batch Normalization with SELU, and make the necessary adjustements to ensure the network self-normalizes (i.e., standardize the input features, use LeCun normal initialization, make sure the DNN contains only a sequence of dense layers, etc.)."
   ]
  },
  {
   "cell_type": "code",
   "execution_count": 16,
   "id": "e8c7cd23",
   "metadata": {},
   "outputs": [
    {
     "name": "stdout",
     "output_type": "stream",
     "text": [
      "Train on 45000 samples, validate on 5000 samples\n",
      "Epoch 1/100\n",
      "45000/45000 [==============================] - 11s 249us/sample - loss: 1.8241 - accuracy: 0.3435 - val_loss: 1.6951 - val_accuracy: 0.3876\n",
      "Epoch 2/100\n",
      "45000/45000 [==============================] - 9s 201us/sample - loss: 1.6135 - accuracy: 0.4267 - val_loss: 1.5994 - val_accuracy: 0.4284\n",
      "Epoch 3/100\n",
      "45000/45000 [==============================] - 9s 206us/sample - loss: 1.5115 - accuracy: 0.4624 - val_loss: 1.5367 - val_accuracy: 0.4490\n",
      "Epoch 4/100\n",
      "45000/45000 [==============================] - 10s 219us/sample - loss: 1.4371 - accuracy: 0.4878 - val_loss: 1.4833 - val_accuracy: 0.4772\n",
      "Epoch 5/100\n",
      "45000/45000 [==============================] - 9s 200us/sample - loss: 1.3772 - accuracy: 0.5102 - val_loss: 1.4718 - val_accuracy: 0.4760\n",
      "Epoch 6/100\n",
      "45000/45000 [==============================] - 9s 198us/sample - loss: 1.3235 - accuracy: 0.5317 - val_loss: 1.4563 - val_accuracy: 0.4866\n",
      "Epoch 7/100\n",
      "45000/45000 [==============================] - 9s 199us/sample - loss: 1.2730 - accuracy: 0.5498 - val_loss: 1.4634 - val_accuracy: 0.4894\n",
      "Epoch 8/100\n",
      "45000/45000 [==============================] - 9s 198us/sample - loss: 1.2284 - accuracy: 0.5636 - val_loss: 1.4593 - val_accuracy: 0.4892\n",
      "Epoch 9/100\n",
      "45000/45000 [==============================] - 9s 198us/sample - loss: 1.1852 - accuracy: 0.5798 - val_loss: 1.4796 - val_accuracy: 0.4932\n",
      "Epoch 10/100\n",
      "45000/45000 [==============================] - 9s 199us/sample - loss: 1.1406 - accuracy: 0.5972 - val_loss: 1.4597 - val_accuracy: 0.4992\n",
      "Epoch 11/100\n",
      "45000/45000 [==============================] - 9s 197us/sample - loss: 1.1070 - accuracy: 0.6055 - val_loss: 1.4571 - val_accuracy: 0.5012\n",
      "Epoch 12/100\n",
      "45000/45000 [==============================] - 9s 203us/sample - loss: 1.0704 - accuracy: 0.6225 - val_loss: 1.4811 - val_accuracy: 0.4984\n",
      "Epoch 13/100\n",
      "45000/45000 [==============================] - 9s 199us/sample - loss: 1.0344 - accuracy: 0.6356 - val_loss: 1.4973 - val_accuracy: 0.4980\n",
      "Epoch 14/100\n",
      "45000/45000 [==============================] - 9s 201us/sample - loss: 1.0000 - accuracy: 0.6491 - val_loss: 1.5229 - val_accuracy: 0.5128\n",
      "Epoch 15/100\n",
      "45000/45000 [==============================] - 9s 198us/sample - loss: 0.9637 - accuracy: 0.6612 - val_loss: 1.5212 - val_accuracy: 0.4996\n",
      "Epoch 16/100\n",
      "45000/45000 [==============================] - 9s 199us/sample - loss: 0.9352 - accuracy: 0.6699 - val_loss: 1.5483 - val_accuracy: 0.4918\n",
      "Epoch 17/100\n",
      "45000/45000 [==============================] - 10s 222us/sample - loss: 0.9037 - accuracy: 0.6793 - val_loss: 1.5530 - val_accuracy: 0.5022\n",
      "Epoch 18/100\n",
      "45000/45000 [==============================] - 9s 203us/sample - loss: 0.8701 - accuracy: 0.6948 - val_loss: 1.5790 - val_accuracy: 0.5060\n",
      "Epoch 19/100\n",
      "45000/45000 [==============================] - 9s 203us/sample - loss: 0.8425 - accuracy: 0.7021 - val_loss: 1.5979 - val_accuracy: 0.5086\n",
      "Epoch 20/100\n",
      "45000/45000 [==============================] - 9s 201us/sample - loss: 0.8185 - accuracy: 0.7111 - val_loss: 1.6124 - val_accuracy: 0.5066\n",
      "Epoch 21/100\n",
      "45000/45000 [==============================] - 9s 203us/sample - loss: 0.7910 - accuracy: 0.7200 - val_loss: 1.6417 - val_accuracy: 0.5044\n",
      "Epoch 22/100\n",
      "45000/45000 [==============================] - 9s 200us/sample - loss: 0.7597 - accuracy: 0.7342 - val_loss: 1.6861 - val_accuracy: 0.5002\n",
      "Epoch 23/100\n",
      "45000/45000 [==============================] - 9s 204us/sample - loss: 0.7311 - accuracy: 0.7429 - val_loss: 1.7322 - val_accuracy: 0.4976\n",
      "Epoch 24/100\n",
      "45000/45000 [==============================] - 9s 200us/sample - loss: 0.7116 - accuracy: 0.7484 - val_loss: 1.7607 - val_accuracy: 0.5014\n",
      "Epoch 25/100\n",
      "45000/45000 [==============================] - 9s 199us/sample - loss: 0.6829 - accuracy: 0.7600 - val_loss: 1.8121 - val_accuracy: 0.4910\n",
      "Epoch 26/100\n",
      "45000/45000 [==============================] - 9s 198us/sample - loss: 0.6605 - accuracy: 0.7664 - val_loss: 1.8587 - val_accuracy: 0.4970\n",
      "5000/5000 [==============================] - 1s 103us/sample - loss: 1.4563 - accuracy: 0.4866\n"
     ]
    },
    {
     "data": {
      "text/plain": [
       "[1.4563379108428955, 0.4866]"
      ]
     },
     "execution_count": 16,
     "metadata": {},
     "output_type": "execute_result"
    }
   ],
   "source": [
    "model = keras.models.Sequential()\n",
    "model.add(keras.layers.Flatten(input_shape=[32, 32, 3]))\n",
    "for _ in range(20):\n",
    "    model.add(keras.layers.Dense(100,\n",
    "                                 kernel_initializer=\"lecun_normal\",\n",
    "                                 activation=\"selu\"))\n",
    "model.add(keras.layers.Dense(10, activation=\"softmax\"))\n",
    "\n",
    "optimizer = keras.optimizers.Nadam(learning_rate=10e-5)\n",
    "model.compile(loss=\"sparse_categorical_crossentropy\",\n",
    "              optimizer=optimizer,\n",
    "              metrics=[\"accuracy\"])\n",
    "\n",
    "early_stopping_cb = keras.callbacks.EarlyStopping(patience=20) # early stopping callback\n",
    "model_checkpoint_cb = keras.callbacks.ModelCheckpoint(\"question8_SELU_model.h5\", save_best_only=True)\n",
    "run_index = 1 # For each iteration the model runs sequentially\n",
    "run_logdir = os.path.join(os.curdir, \"question8_logs\", \"run_selu_{:03d}\".format(run_index))\n",
    "tensorboard_cb = keras.callbacks.TensorBoard(run_logdir)\n",
    "callbacks = [early_stopping_cb, model_checkpoint_cb, tensorboard_cb]\n",
    "\n",
    "X_means = X_train.mean(axis=0)\n",
    "X_stds = X_train.std(axis=0)\n",
    "X_train_scaled = (X_train - X_means) / X_stds\n",
    "X_val_scaled = (X_val - X_means) / X_stds\n",
    "X_test_scaled = (X_test - X_means) / X_stds\n",
    "\n",
    "model.fit(X_train_scaled, y_train, epochs=100,\n",
    "          validation_data=(X_val_scaled, y_val),\n",
    "          callbacks=callbacks)\n",
    "\n",
    "model = keras.models.load_model(\"question8_SELU_model.h5\")\n",
    "model.evaluate(X_val_scaled, y_val)"
   ]
  },
  {
   "cell_type": "markdown",
   "id": "cbd8ca7a",
   "metadata": {},
   "source": [
    "From here we can see that our accuracy is around 48.66% which is better than our original model but performed worse than using batch normalization. But this one was much quicker than using batch normalization. Let us move onto question E."
   ]
  },
  {
   "cell_type": "markdown",
   "id": "bfe2da79",
   "metadata": {},
   "source": [
    "### E. Try regularizing the model with alpha dropout. Then, without retraining your model, see if you can achieve better accuracy using MC Dropout."
   ]
  },
  {
   "cell_type": "code",
   "execution_count": 17,
   "id": "a797e41e",
   "metadata": {},
   "outputs": [
    {
     "name": "stdout",
     "output_type": "stream",
     "text": [
      "ERROR! Session/line number was not unique in database. History logging moved to new session 540\n",
      "Train on 45000 samples, validate on 5000 samples\n",
      "Epoch 1/100\n",
      "45000/45000 [==============================] - 11s 248us/sample - loss: 1.9448 - accuracy: 0.3145 - val_loss: 1.7141 - val_accuracy: 0.3912\n",
      "Epoch 2/100\n",
      "45000/45000 [==============================] - 9s 197us/sample - loss: 1.6524 - accuracy: 0.4126 - val_loss: 1.6167 - val_accuracy: 0.4342\n",
      "Epoch 3/100\n",
      "45000/45000 [==============================] - 9s 195us/sample - loss: 1.5324 - accuracy: 0.4535 - val_loss: 1.5807 - val_accuracy: 0.4416\n",
      "Epoch 4/100\n",
      "45000/45000 [==============================] - 9s 202us/sample - loss: 1.4545 - accuracy: 0.4833 - val_loss: 1.5606 - val_accuracy: 0.4628\n",
      "Epoch 5/100\n",
      "45000/45000 [==============================] - 9s 202us/sample - loss: 1.3910 - accuracy: 0.5064 - val_loss: 1.5056 - val_accuracy: 0.4842\n",
      "Epoch 6/100\n",
      "45000/45000 [==============================] - 9s 201us/sample - loss: 1.3324 - accuracy: 0.5262 - val_loss: 1.4733 - val_accuracy: 0.4834\n",
      "Epoch 7/100\n",
      "45000/45000 [==============================] - 9s 197us/sample - loss: 1.2829 - accuracy: 0.5431 - val_loss: 1.4818 - val_accuracy: 0.4976\n",
      "Epoch 8/100\n",
      "45000/45000 [==============================] - 9s 198us/sample - loss: 1.2374 - accuracy: 0.5605 - val_loss: 1.5206 - val_accuracy: 0.4922\n",
      "Epoch 9/100\n",
      "45000/45000 [==============================] - 9s 205us/sample - loss: 1.1987 - accuracy: 0.5710 - val_loss: 1.5229 - val_accuracy: 0.4990\n",
      "Epoch 10/100\n",
      "45000/45000 [==============================] - 9s 203us/sample - loss: 1.1555 - accuracy: 0.5882 - val_loss: 1.4928 - val_accuracy: 0.5036\n",
      "Epoch 11/100\n",
      "45000/45000 [==============================] - 9s 203us/sample - loss: 1.1157 - accuracy: 0.6010 - val_loss: 1.5225 - val_accuracy: 0.5070\n",
      "Epoch 12/100\n",
      "45000/45000 [==============================] - 9s 198us/sample - loss: 1.0826 - accuracy: 0.6144 - val_loss: 1.5932 - val_accuracy: 0.5064\n",
      "Epoch 13/100\n",
      "45000/45000 [==============================] - 9s 199us/sample - loss: 1.0481 - accuracy: 0.6270 - val_loss: 1.5939 - val_accuracy: 0.5024\n",
      "Epoch 14/100\n",
      "45000/45000 [==============================] - 9s 197us/sample - loss: 1.0132 - accuracy: 0.6375 - val_loss: 1.6346 - val_accuracy: 0.5134\n",
      "Epoch 15/100\n",
      "45000/45000 [==============================] - 9s 197us/sample - loss: 0.9823 - accuracy: 0.6505 - val_loss: 1.6561 - val_accuracy: 0.5048\n",
      "Epoch 16/100\n",
      "45000/45000 [==============================] - 9s 199us/sample - loss: 0.9531 - accuracy: 0.6577 - val_loss: 1.6642 - val_accuracy: 0.5098\n",
      "Epoch 17/100\n",
      "45000/45000 [==============================] - 9s 196us/sample - loss: 0.9251 - accuracy: 0.6696 - val_loss: 1.6959 - val_accuracy: 0.5046\n",
      "Epoch 18/100\n",
      "45000/45000 [==============================] - 9s 198us/sample - loss: 0.8995 - accuracy: 0.6788 - val_loss: 1.7810 - val_accuracy: 0.5036\n",
      "Epoch 19/100\n",
      "45000/45000 [==============================] - 9s 195us/sample - loss: 0.8690 - accuracy: 0.6877 - val_loss: 1.7646 - val_accuracy: 0.5020\n",
      "Epoch 20/100\n",
      "45000/45000 [==============================] - 9s 198us/sample - loss: 0.8447 - accuracy: 0.6987 - val_loss: 1.8146 - val_accuracy: 0.4998\n",
      "Epoch 21/100\n",
      "45000/45000 [==============================] - 9s 196us/sample - loss: 0.8204 - accuracy: 0.7077 - val_loss: 1.8401 - val_accuracy: 0.4992\n",
      "Epoch 22/100\n",
      "45000/45000 [==============================] - 9s 200us/sample - loss: 0.7943 - accuracy: 0.7176 - val_loss: 1.8246 - val_accuracy: 0.4944\n",
      "Epoch 23/100\n",
      "45000/45000 [==============================] - 9s 196us/sample - loss: 0.7703 - accuracy: 0.7243 - val_loss: 1.9879 - val_accuracy: 0.4936\n",
      "Epoch 24/100\n",
      "45000/45000 [==============================] - 9s 201us/sample - loss: 0.7480 - accuracy: 0.7315 - val_loss: 1.9603 - val_accuracy: 0.5034\n",
      "Epoch 25/100\n",
      "45000/45000 [==============================] - 9s 194us/sample - loss: 0.7254 - accuracy: 0.7384 - val_loss: 2.1007 - val_accuracy: 0.4928\n",
      "Epoch 26/100\n",
      "45000/45000 [==============================] - 9s 198us/sample - loss: 0.7056 - accuracy: 0.7498 - val_loss: 2.0868 - val_accuracy: 0.4916\n",
      "5000/5000 [==============================] - 0s 99us/sample - loss: 1.4733 - accuracy: 0.4834\n"
     ]
    },
    {
     "data": {
      "text/plain": [
       "[1.4733000394821167, 0.4834]"
      ]
     },
     "execution_count": 17,
     "metadata": {},
     "output_type": "execute_result"
    }
   ],
   "source": [
    "model = keras.models.Sequential()\n",
    "model.add(keras.layers.Flatten(input_shape=[32, 32, 3]))\n",
    "for _ in range(20):\n",
    "    model.add(keras.layers.Dense(100,\n",
    "                                 kernel_initializer=\"lecun_normal\",\n",
    "                                 activation=\"selu\"))\n",
    "\n",
    "model.add(keras.layers.AlphaDropout(rate=0.1))\n",
    "model.add(keras.layers.Dense(10, activation=\"softmax\"))\n",
    "\n",
    "optimizer = keras.optimizers.Nadam(learning_rate=10e-5)\n",
    "model.compile(loss=\"sparse_categorical_crossentropy\",\n",
    "              optimizer=optimizer,\n",
    "              metrics=[\"accuracy\"])\n",
    "\n",
    "early_stopping_cb = keras.callbacks.EarlyStopping(patience=20) # early stopping callback\n",
    "model_checkpoint_cb = keras.callbacks.ModelCheckpoint(\"question8_alpha_dropout_model.h5\", save_best_only=True)\n",
    "run_index = 1 # For each iteration the model runs sequentially\n",
    "run_logdir = os.path.join(os.curdir, \"question8_logs\", \"run_alpha_dropout_{:03d}\".format(run_index))\n",
    "tensorboard_cb = keras.callbacks.TensorBoard(run_logdir)\n",
    "callbacks = [early_stopping_cb, model_checkpoint_cb, tensorboard_cb]\n",
    "\n",
    "X_means = X_train.mean(axis=0)\n",
    "X_stds = X_train.std(axis=0)\n",
    "X_train_scaled = (X_train - X_means) / X_stds\n",
    "X_val_scaled = (X_val - X_means) / X_stds\n",
    "X_test_scaled = (X_test - X_means) / X_stds\n",
    "\n",
    "model.fit(X_train_scaled, y_train, epochs=100,\n",
    "          validation_data=(X_val_scaled, y_val),\n",
    "          callbacks=callbacks)\n",
    "\n",
    "model = keras.models.load_model(\"question8_alpha_dropout_model.h5\")\n",
    "model.evaluate(X_val_scaled, y_val)"
   ]
  },
  {
   "cell_type": "markdown",
   "id": "1f762792",
   "metadata": {},
   "source": [
    "Performance is very similar to the other models on the validation set (48.34%). Let us now use the MCAlphaDropout Class to use MC Dropout and check performance."
   ]
  },
  {
   "cell_type": "code",
   "execution_count": 18,
   "id": "84fa03a1",
   "metadata": {},
   "outputs": [],
   "source": [
    "class MCAlphaDropout(keras.layers.AlphaDropout):\n",
    "    def call(self, inputs):\n",
    "        return super().call(inputs, training=True)"
   ]
  },
  {
   "cell_type": "code",
   "execution_count": 19,
   "id": "1bbddd99",
   "metadata": {},
   "outputs": [
    {
     "name": "stdout",
     "output_type": "stream",
     "text": [
      "WARNING:tensorflow:AutoGraph could not transform <bound method MCAlphaDropout.call of <__main__.MCAlphaDropout object at 0x000001C21D761860>> and will run it as-is.\n",
      "Please report this to the TensorFlow team. When filing the bug, set the verbosity to 10 (on Linux, `export AUTOGRAPH_VERBOSITY=10`) and attach the full output.\n",
      "Cause: No module named 'tensorflow_core.estimator'\n"
     ]
    },
    {
     "name": "stderr",
     "output_type": "stream",
     "text": [
      "WARNING:tensorflow:AutoGraph could not transform <bound method MCAlphaDropout.call of <__main__.MCAlphaDropout object at 0x000001C21D761860>> and will run it as-is.\n",
      "Please report this to the TensorFlow team. When filing the bug, set the verbosity to 10 (on Linux, `export AUTOGRAPH_VERBOSITY=10`) and attach the full output.\n",
      "Cause: No module named 'tensorflow_core.estimator'\n"
     ]
    },
    {
     "name": "stdout",
     "output_type": "stream",
     "text": [
      "WARNING: AutoGraph could not transform <bound method MCAlphaDropout.call of <__main__.MCAlphaDropout object at 0x000001C21D761860>> and will run it as-is.\n",
      "Please report this to the TensorFlow team. When filing the bug, set the verbosity to 10 (on Linux, `export AUTOGRAPH_VERBOSITY=10`) and attach the full output.\n",
      "Cause: No module named 'tensorflow_core.estimator'\n"
     ]
    }
   ],
   "source": [
    "# Create new model with MCAlphaDropout\n",
    "mc_model = keras.models.Sequential([\n",
    "    MCAlphaDropout(layer.rate) if isinstance(layer, keras.layers.AlphaDropout) else layer\n",
    "    for layer in model.layers\n",
    "])"
   ]
  },
  {
   "cell_type": "markdown",
   "id": "82ab7e8c",
   "metadata": {},
   "source": [
    "Next we will add a function to calculate the mean predicted class probability over a set number of iterations. We will iterate 15 times over our data and return a mean of the Y probabilities from numPy. The other function we will add is one to pick the argmax in that array of probabilities or in this case, the most likely class for classification of that instance."
   ]
  },
  {
   "cell_type": "code",
   "execution_count": 21,
   "id": "803ab364",
   "metadata": {},
   "outputs": [
    {
     "name": "stdout",
     "output_type": "stream",
     "text": [
      "ERROR! Session/line number was not unique in database. History logging moved to new session 541\n"
     ]
    }
   ],
   "source": [
    "import numpy as np\n",
    "def mc_dropout_predict_probas(mc_model, X, n_samples=15):\n",
    "    Y_probas = [mc_model.predict(X) for sample in range(n_samples)]\n",
    "    return np.mean(Y_probas, axis=0)\n",
    "\n",
    "def mc_dropout_predict_classes(mc_model, X, n_samples=15):\n",
    "    Y_probas = mc_dropout_predict_probas(mc_model, X, n_samples)\n",
    "    return np.argmax(Y_probas, axis=1)"
   ]
  },
  {
   "cell_type": "code",
   "execution_count": 22,
   "id": "d16d4377",
   "metadata": {},
   "outputs": [
    {
     "data": {
      "text/plain": [
       "0.4822"
      ]
     },
     "execution_count": 22,
     "metadata": {},
     "output_type": "execute_result"
    }
   ],
   "source": [
    "# Now for the prediction\n",
    "y_pred = mc_dropout_predict_classes(mc_model, X_val_scaled)\n",
    "accuracy = np.mean(y_pred == y_val[:, 0])\n",
    "accuracy"
   ]
  },
  {
   "cell_type": "markdown",
   "id": "25b0da83",
   "metadata": {},
   "source": [
    "No improvement accuracy in this case.. it is actually worse than Alpha Dropout in our case... Now we move onto our final question; F."
   ]
  },
  {
   "cell_type": "markdown",
   "id": "a166a476",
   "metadata": {},
   "source": [
    "### F. Retrain your model using 1cycle scheduling and see if it improves training speed and model accuracy."
   ]
  },
  {
   "cell_type": "code",
   "execution_count": 23,
   "id": "15b114c2",
   "metadata": {},
   "outputs": [],
   "source": [
    "model = keras.models.Sequential()\n",
    "model.add(keras.layers.Flatten(input_shape=[32, 32, 3]))\n",
    "for _ in range(20):\n",
    "    model.add(keras.layers.Dense(100,\n",
    "                                 kernel_initializer=\"lecun_normal\",\n",
    "                                 activation=\"selu\"))\n",
    "\n",
    "model.add(keras.layers.AlphaDropout(rate=0.1))\n",
    "model.add(keras.layers.Dense(10, activation=\"softmax\"))\n",
    "\n",
    "optimizer = keras.optimizers.SGD(learning_rate=10e-5)\n",
    "model.compile(loss=\"sparse_categorical_crossentropy\",\n",
    "              optimizer=optimizer,\n",
    "              metrics=[\"accuracy\"])"
   ]
  },
  {
   "cell_type": "markdown",
   "id": "0d296e37",
   "metadata": {},
   "source": [
    "Now let us use the **ExponentialLearningRate** and **find_learning_rate** functions we used early and the **plot_lr_vs_loss** function as well to see our loss/learning rate visualization. We will also need to import the math library to assist"
   ]
  },
  {
   "cell_type": "code",
   "execution_count": 32,
   "id": "fcfdd800",
   "metadata": {},
   "outputs": [
    {
     "name": "stdout",
     "output_type": "stream",
     "text": [
      "ERROR! Session/line number was not unique in database. History logging moved to new session 545\n"
     ]
    }
   ],
   "source": [
    "import math\n",
    "K = keras.backend\n",
    "\n",
    "class ExponentialLearningRate(keras.callbacks.Callback):\n",
    "    def __init__(self, factor):\n",
    "        self.factor = factor\n",
    "        self.rates = []\n",
    "        self.losses = []\n",
    "    def on_batch_end(self, batch, logs):\n",
    "        self.rates.append(K.get_value(self.model.optimizer.learning_rate))\n",
    "        self.losses.append(logs[\"loss\"])\n",
    "        K.set_value(self.model.optimizer.learning_rate, self.model.optimizer.learning_rate * self.factor)\n",
    "        \n",
    "        \n",
    "def find_learning_rate(model, X, y, epochs=1, batch_size=32, min_rate=10**-5, max_rate=10):\n",
    "    init_weights = model.get_weights()\n",
    "    iterations = math.ceil(len(X) / batch_size) * epochs\n",
    "    factor = np.exp(np.log(max_rate / min_rate) / iterations)\n",
    "    init_lr = K.get_value(model.optimizer.learning_rate)\n",
    "    K.set_value(model.optimizer.learning_rate, min_rate)\n",
    "    exp_lr = ExponentialLearningRate(factor)\n",
    "    history = model.fit(X, y, epochs=epochs, batch_size=batch_size,\n",
    "                        callbacks=[exp_lr])\n",
    "    K.set_value(model.optimizer.learning_rate, init_lr)\n",
    "    model.set_weights(init_weights)\n",
    "    return exp_lr.rates, exp_lr.losses"
   ]
  },
  {
   "cell_type": "code",
   "execution_count": 33,
   "id": "26428925",
   "metadata": {},
   "outputs": [],
   "source": [
    "def plot_lr_vs_loss(rates, losses):\n",
    "    plt.plot(rates, losses)\n",
    "    plt.gca().set_xscale('log')\n",
    "    plt.hlines(min(losses), min(rates), max(rates))\n",
    "    plt.axis([min(rates), max(rates), min(losses), (losses[0] + min(losses)) / 2])\n",
    "    plt.xlabel(\"Learning rate\")\n",
    "    plt.ylabel(\"Loss\")"
   ]
  },
  {
   "cell_type": "code",
   "execution_count": 34,
   "id": "05d09d21",
   "metadata": {},
   "outputs": [
    {
     "name": "stdout",
     "output_type": "stream",
     "text": [
      "Train on 45000 samples\n",
      "45000/45000 [==============================] - 2s 41us/sample - loss: nan - accuracy: 0.1453\n"
     ]
    },
    {
     "data": {
      "text/plain": [
       "(9.999999747378752e-06,\n",
       " 9.615227699279785,\n",
       " 1.9660615921020508,\n",
       " 3.4728370394025534)"
      ]
     },
     "execution_count": 34,
     "metadata": {},
     "output_type": "execute_result"
    },
    {
     "data": {
      "image/png": "[encoded data removed]",
      "text/plain": [
       "<Figure size 432x288 with 1 Axes>"
      ]
     },
     "metadata": {
      "needs_background": "light"
     },
     "output_type": "display_data"
    }
   ],
   "source": [
    "import matplotlib as mpl\n",
    "import matplotlib.pyplot as plt\n",
    "%matplotlib inline\n",
    "batch_size = 128\n",
    "rates, losses = find_learning_rate(model, X_train_scaled, y_train, epochs=1, batch_size=batch_size)\n",
    "plot_lr_vs_loss(rates, losses)\n",
    "plt.axis([min(rates), max(rates), min(losses), (losses[0] + min(losses)) / 1.4])"
   ]
  },
  {
   "cell_type": "code",
   "execution_count": 35,
   "id": "c4737557",
   "metadata": {},
   "outputs": [],
   "source": [
    "model = keras.models.Sequential()\n",
    "model.add(keras.layers.Flatten(input_shape=[32, 32, 3]))\n",
    "for _ in range(20):\n",
    "    model.add(keras.layers.Dense(100,\n",
    "                                 kernel_initializer=\"lecun_normal\",\n",
    "                                 activation=\"selu\"))\n",
    "\n",
    "model.add(keras.layers.AlphaDropout(rate=0.1))\n",
    "model.add(keras.layers.Dense(10, activation=\"softmax\"))\n",
    "\n",
    "optimizer = keras.optimizers.SGD(learning_rate=10e-2)\n",
    "model.compile(loss=\"sparse_categorical_crossentropy\",\n",
    "              optimizer=optimizer,\n",
    "              metrics=[\"accuracy\"])"
   ]
  },
  {
   "cell_type": "markdown",
   "id": "f53323eb",
   "metadata": {},
   "source": [
    "Finally, we use our **OneCycleScheduler** Class"
   ]
  },
  {
   "cell_type": "code",
   "execution_count": 36,
   "id": "0e711d70",
   "metadata": {},
   "outputs": [
    {
     "name": "stdout",
     "output_type": "stream",
     "text": [
      "ERROR! Session/line number was not unique in database. History logging moved to new session 546\n"
     ]
    }
   ],
   "source": [
    "class OneCycleScheduler(keras.callbacks.Callback):\n",
    "    def __init__(self, iterations, max_rate, start_rate=None,\n",
    "                 last_iterations=None, last_rate=None):\n",
    "        self.iterations = iterations\n",
    "        self.max_rate = max_rate\n",
    "        self.start_rate = start_rate or max_rate / 10\n",
    "        self.last_iterations = last_iterations or iterations // 10 + 1\n",
    "        self.half_iteration = (iterations - self.last_iterations) // 2\n",
    "        self.last_rate = last_rate or self.start_rate / 1000\n",
    "        self.iteration = 0\n",
    "    def _interpolate(self, iter1, iter2, rate1, rate2):\n",
    "        return ((rate2 - rate1) * (self.iteration - iter1)\n",
    "                / (iter2 - iter1) + rate1)\n",
    "    def on_batch_begin(self, batch, logs):\n",
    "        if self.iteration < self.half_iteration:\n",
    "            rate = self._interpolate(0, self.half_iteration, self.start_rate, self.max_rate)\n",
    "        elif self.iteration < 2 * self.half_iteration:\n",
    "            rate = self._interpolate(self.half_iteration, 2 * self.half_iteration,\n",
    "                                     self.max_rate, self.start_rate)\n",
    "        else:\n",
    "            rate = self._interpolate(2 * self.half_iteration, self.iterations,\n",
    "                                     self.start_rate, self.last_rate)\n",
    "        self.iteration += 1\n",
    "        K.set_value(self.model.optimizer.learning_rate, rate)"
   ]
  },
  {
   "cell_type": "code",
   "execution_count": 37,
   "id": "bbf2b307",
   "metadata": {},
   "outputs": [
    {
     "name": "stdout",
     "output_type": "stream",
     "text": [
      "Train on 45000 samples, validate on 5000 samples\n",
      "Epoch 1/15\n",
      "45000/45000 [==============================] - 2s 52us/sample - loss: 2.0668 - accuracy: 0.2841 - val_loss: 1.7679 - val_accuracy: 0.3748\n",
      "Epoch 2/15\n",
      "45000/45000 [==============================] - 1s 33us/sample - loss: 1.7749 - accuracy: 0.3742 - val_loss: 1.7146 - val_accuracy: 0.3942\n",
      "Epoch 3/15\n",
      "45000/45000 [==============================] - 2s 35us/sample - loss: 1.6308 - accuracy: 0.4219 - val_loss: 1.6468 - val_accuracy: 0.4256\n",
      "Epoch 4/15\n",
      "45000/45000 [==============================] - 1s 33us/sample - loss: 1.5486 - accuracy: 0.4501 - val_loss: 1.6107 - val_accuracy: 0.4454\n",
      "Epoch 5/15\n",
      "45000/45000 [==============================] - 1s 33us/sample - loss: 1.4975 - accuracy: 0.4705 - val_loss: 1.5785 - val_accuracy: 0.4540\n",
      "Epoch 6/15\n",
      "45000/45000 [==============================] - 2s 34us/sample - loss: 1.4563 - accuracy: 0.4844 - val_loss: 1.6025 - val_accuracy: 0.4464\n",
      "Epoch 7/15\n",
      "45000/45000 [==============================] - 2s 35us/sample - loss: 1.4218 - accuracy: 0.4975 - val_loss: 1.6551 - val_accuracy: 0.4402\n",
      "Epoch 8/15\n",
      "45000/45000 [==============================] - 2s 35us/sample - loss: 1.3528 - accuracy: 0.5198 - val_loss: 1.5501 - val_accuracy: 0.4702\n",
      "Epoch 9/15\n",
      "45000/45000 [==============================] - 2s 34us/sample - loss: 1.2755 - accuracy: 0.5444 - val_loss: 1.5645 - val_accuracy: 0.4794\n",
      "Epoch 10/15\n",
      "45000/45000 [==============================] - 2s 34us/sample - loss: 1.2055 - accuracy: 0.5724 - val_loss: 1.4990 - val_accuracy: 0.4996\n",
      "Epoch 11/15\n",
      "45000/45000 [==============================] - 2s 33us/sample - loss: 1.1387 - accuracy: 0.5955 - val_loss: 1.5500 - val_accuracy: 0.4986\n",
      "Epoch 12/15\n",
      "45000/45000 [==============================] - 2s 34us/sample - loss: 1.0673 - accuracy: 0.6196 - val_loss: 1.5252 - val_accuracy: 0.5146\n",
      "Epoch 13/15\n",
      "45000/45000 [==============================] - 2s 35us/sample - loss: 0.9973 - accuracy: 0.6471 - val_loss: 1.5489 - val_accuracy: 0.5236\n",
      "Epoch 14/15\n",
      "45000/45000 [==============================] - 2s 34us/sample - loss: 0.9304 - accuracy: 0.6707 - val_loss: 1.5651 - val_accuracy: 0.5266\n",
      "Epoch 15/15\n",
      "45000/45000 [==============================] - 2s 33us/sample - loss: 0.8889 - accuracy: 0.6848 - val_loss: 1.5851 - val_accuracy: 0.5234\n"
     ]
    }
   ],
   "source": [
    "n_epochs = 15\n",
    "onecycle = OneCycleScheduler(math.ceil(len(X_train_scaled) / batch_size) * n_epochs, max_rate=0.05)\n",
    "history = model.fit(X_train_scaled, y_train, epochs=n_epochs, batch_size=batch_size,\n",
    "                    validation_data=(X_val_scaled, y_val),\n",
    "                    callbacks=[onecycle])"
   ]
  },
  {
   "cell_type": "code",
   "execution_count": 40,
   "id": "354fe9f6",
   "metadata": {},
   "outputs": [
    {
     "name": "stdout",
     "output_type": "stream",
     "text": [
      "5000/5000 [==============================] - 0s 91us/sample - loss: 1.5851 - accuracy: 0.5234\n"
     ]
    },
    {
     "data": {
      "text/plain": [
       "[1.5851462087631225, 0.5234]"
      ]
     },
     "execution_count": 40,
     "metadata": {},
     "output_type": "execute_result"
    }
   ],
   "source": [
    "model.evaluate(X_val_scaled, y_val)"
   ]
  },
  {
   "cell_type": "markdown",
   "id": "75a29631",
   "metadata": {},
   "source": [
    "This is insanely fast due to the increased batch sizes! We also managed to get a validation accuracy of 52%! Batch normalization was more accurate but this was much quicker and was obtained almost the same performance! Although the model performance is abysmal, we were able to see the improvements in this exercise."
   ]
  },
  {
   "cell_type": "markdown",
   "id": "7b6e4d5f",
   "metadata": {},
   "source": [
    "# End of Notebook"
   ]
  },
  {
   "cell_type": "code",
   "execution_count": null,
   "id": "c1cb2952",
   "metadata": {},
   "outputs": [],
   "source": []
  }
 ],
 "metadata": {
  "kernelspec": {
   "display_name": "Python 3 (ipykernel)",
   "language": "python",
   "name": "python3"
  },
  "language_info": {
   "codemirror_mode": {
    "name": "ipython",
    "version": 3
   },
   "file_extension": ".py",
   "mimetype": "text/x-python",
   "name": "python",
   "nbconvert_exporter": "python",
   "pygments_lexer": "ipython3",
   "version": "3.9.5"
  }
 },
 "nbformat": 4,
 "nbformat_minor": 5
}
