{
 "cells": [
  {
   "cell_type": "markdown",
   "id": "41b844ec",
   "metadata": {},
   "source": [
    "# Chapter 13: Loading and Preprocessing Data with TensorFlow"
   ]
  },
  {
   "cell_type": "markdown",
   "id": "826d7e4f",
   "metadata": {},
   "source": [
    "### Ensure GPU Env is working correctly"
   ]
  },
  {
   "cell_type": "code",
   "execution_count": 1,
   "id": "b0f654d5",
   "metadata": {},
   "outputs": [],
   "source": [
    "import tensorflow as tf\n",
    "import os\n",
    "from tensorflow import keras"
   ]
  },
  {
   "cell_type": "code",
   "execution_count": 2,
   "id": "b698bc27",
   "metadata": {},
   "outputs": [
    {
     "data": {
      "text/plain": [
       "'2.6.0'"
      ]
     },
     "execution_count": 2,
     "metadata": {},
     "output_type": "execute_result"
    }
   ],
   "source": [
    "tf.__version__"
   ]
  },
  {
   "cell_type": "code",
   "execution_count": 3,
   "id": "e5232dc8",
   "metadata": {},
   "outputs": [
    {
     "data": {
      "text/plain": [
       "'2.6.0'"
      ]
     },
     "execution_count": 3,
     "metadata": {},
     "output_type": "execute_result"
    }
   ],
   "source": [
    "keras.__version__"
   ]
  },
  {
   "cell_type": "code",
   "execution_count": 4,
   "id": "d5f70faf",
   "metadata": {},
   "outputs": [
    {
     "name": "stdout",
     "output_type": "stream",
     "text": [
      "Num of GPUs Available:  1\n"
     ]
    }
   ],
   "source": [
    "print(\"Num of GPUs Available: \", len(tf.config.experimental.list_physical_devices('GPU')))"
   ]
  },
  {
   "cell_type": "markdown",
   "id": "69cc0028",
   "metadata": {},
   "source": [
    "### Libraries"
   ]
  },
  {
   "cell_type": "code",
   "execution_count": 5,
   "id": "34b763ec",
   "metadata": {},
   "outputs": [],
   "source": [
    "import numpy as np\n",
    "import pandas as pd\n",
    "import os\n",
    "%matplotlib inline\n",
    "import matplotlib as mpl\n",
    "import matplotlib.pyplot as plt"
   ]
  },
  {
   "cell_type": "markdown",
   "id": "d7207b0c",
   "metadata": {},
   "source": [
    "## Datasets"
   ]
  },
  {
   "cell_type": "code",
   "execution_count": 6,
   "id": "bd6226d7",
   "metadata": {},
   "outputs": [
    {
     "data": {
      "text/plain": [
       "<TensorSliceDataset shapes: (), types: tf.int32>"
      ]
     },
     "execution_count": 6,
     "metadata": {},
     "output_type": "execute_result"
    }
   ],
   "source": [
    "# Range function in tensorflow\n",
    "X = tf.range(10)\n",
    "dataset = tf.data.Dataset.from_tensor_slices(X)\n",
    "dataset"
   ]
  },
  {
   "cell_type": "code",
   "execution_count": 7,
   "id": "ab9a76d1",
   "metadata": {},
   "outputs": [],
   "source": [
    "# Can also do this\n",
    "dataset = tf.data.Dataset.range(10)"
   ]
  },
  {
   "cell_type": "code",
   "execution_count": 8,
   "id": "ff5fced6",
   "metadata": {},
   "outputs": [
    {
     "name": "stdout",
     "output_type": "stream",
     "text": [
      "tf.Tensor(0, shape=(), dtype=int64)\n",
      "tf.Tensor(1, shape=(), dtype=int64)\n",
      "tf.Tensor(2, shape=(), dtype=int64)\n",
      "tf.Tensor(3, shape=(), dtype=int64)\n",
      "tf.Tensor(4, shape=(), dtype=int64)\n",
      "tf.Tensor(5, shape=(), dtype=int64)\n",
      "tf.Tensor(6, shape=(), dtype=int64)\n",
      "tf.Tensor(7, shape=(), dtype=int64)\n",
      "tf.Tensor(8, shape=(), dtype=int64)\n",
      "tf.Tensor(9, shape=(), dtype=int64)\n"
     ]
    }
   ],
   "source": [
    "for item in dataset:\n",
    "    print(item)"
   ]
  },
  {
   "cell_type": "code",
   "execution_count": 9,
   "id": "83129576",
   "metadata": {},
   "outputs": [
    {
     "name": "stdout",
     "output_type": "stream",
     "text": [
      "tf.Tensor([0 1 2 3 4 5 6], shape=(7,), dtype=int64)\n",
      "tf.Tensor([7 8 9 0 1 2 3], shape=(7,), dtype=int64)\n",
      "tf.Tensor([4 5 6 7 8 9 0], shape=(7,), dtype=int64)\n",
      "tf.Tensor([1 2 3 4 5 6 7], shape=(7,), dtype=int64)\n",
      "tf.Tensor([8 9], shape=(2,), dtype=int64)\n"
     ]
    }
   ],
   "source": [
    "#We repeat the dataset 3 times (30numbers) and then batch 7 of our range of 10 numbers in list\n",
    "dataset = dataset.repeat(3).batch(7)\n",
    "for item in dataset:\n",
    "    print(item)"
   ]
  },
  {
   "cell_type": "code",
   "execution_count": 10,
   "id": "eccc1db5",
   "metadata": {},
   "outputs": [],
   "source": [
    "# use lambda function to map functions to our dataset\n",
    "dataset = dataset.map(lambda x: x * 2)"
   ]
  },
  {
   "cell_type": "code",
   "execution_count": 11,
   "id": "e99609c5",
   "metadata": {},
   "outputs": [
    {
     "name": "stdout",
     "output_type": "stream",
     "text": [
      "tf.Tensor([ 0  2  4  6  8 10 12], shape=(7,), dtype=int64)\n",
      "tf.Tensor([14 16 18  0  2  4  6], shape=(7,), dtype=int64)\n",
      "tf.Tensor([ 8 10 12 14 16 18  0], shape=(7,), dtype=int64)\n",
      "tf.Tensor([ 2  4  6  8 10 12 14], shape=(7,), dtype=int64)\n",
      "tf.Tensor([16 18], shape=(2,), dtype=int64)\n"
     ]
    }
   ],
   "source": [
    "for item in dataset:\n",
    "    print(item)"
   ]
  },
  {
   "cell_type": "code",
   "execution_count": 12,
   "id": "63848a53",
   "metadata": {},
   "outputs": [],
   "source": [
    "# now to unbatch or single out the elements in the array to get single elements for us to take\n",
    "dataset = dataset.unbatch()\n",
    "dataset = dataset.filter(lambda x: x < 10) # 10 items to keep from batch"
   ]
  },
  {
   "cell_type": "code",
   "execution_count": 13,
   "id": "4d18a762",
   "metadata": {},
   "outputs": [
    {
     "name": "stdout",
     "output_type": "stream",
     "text": [
      "tf.Tensor(0, shape=(), dtype=int64)\n",
      "tf.Tensor(2, shape=(), dtype=int64)\n",
      "tf.Tensor(4, shape=(), dtype=int64)\n"
     ]
    }
   ],
   "source": [
    "for item in dataset.take(3):\n",
    "    print(item)"
   ]
  },
  {
   "cell_type": "code",
   "execution_count": 14,
   "id": "0a018a48",
   "metadata": {},
   "outputs": [
    {
     "name": "stdout",
     "output_type": "stream",
     "text": [
      "tf.Tensor([2 3 0 4 5 1 8], shape=(7,), dtype=int64)\n",
      "tf.Tensor([6 0 9 1 3 2 7], shape=(7,), dtype=int64)\n",
      "tf.Tensor([4 6 7 5 8 0 2], shape=(7,), dtype=int64)\n",
      "tf.Tensor([3 1 9 5 7 8 6], shape=(7,), dtype=int64)\n",
      "tf.Tensor([9 4], shape=(2,), dtype=int64)\n"
     ]
    }
   ],
   "source": [
    "# Now we could shuffle our digits and repeat them again three times with a batch of 7 again\n",
    "dataset = tf.data.Dataset.range(10).repeat(3)\n",
    "dataset = dataset.shuffle(buffer_size=3).batch(7)\n",
    "for item in dataset:\n",
    "    print(item)"
   ]
  },
  {
   "cell_type": "markdown",
   "id": "4643fa70",
   "metadata": {},
   "source": [
    "## Working with a dataset and save to multiple CSV files"
   ]
  },
  {
   "cell_type": "markdown",
   "id": "bcaa8359",
   "metadata": {},
   "source": [
    "Let's start by loading and preparing the California housing dataset. We first load it, then split it into a training set, a validation set and a test set, and finally we scale it:"
   ]
  },
  {
   "cell_type": "code",
   "execution_count": 15,
   "id": "e67f0032",
   "metadata": {},
   "outputs": [],
   "source": [
    "from sklearn.datasets import fetch_california_housing\n",
    "from sklearn.model_selection import train_test_split\n",
    "from sklearn.preprocessing import StandardScaler\n",
    "\n",
    "housing_df = fetch_california_housing()\n",
    "X_train_ds, X_test, y_train_ds, y_test = train_test_split(housing_df.data, \n",
    "                                                         housing_df.target.reshape(-1, 1),)\n",
    "X_train, X_val, y_train, y_val = train_test_split(X_train_ds, y_train_ds)\n",
    "\n",
    "scaler = StandardScaler()\n",
    "scaler.fit(X_train)\n",
    "X_mean = scaler.mean_\n",
    "X_std = scaler.scale_"
   ]
  },
  {
   "cell_type": "markdown",
   "id": "8b04a60f",
   "metadata": {},
   "source": [
    "If we're dealing with a very large dataset that cannot fit in memory, it is best to split it into many differenty files then have TensorFlow read the files in parallel. Let's do that in a function below:"
   ]
  },
  {
   "cell_type": "code",
   "execution_count": 16,
   "id": "46ab6203",
   "metadata": {},
   "outputs": [],
   "source": [
    "def save_to_multiple_csv_files(data, name_prefix, header=None, n_parts=10):\n",
    "    housing_dir = os.path.join(\"datasets\", \"housing\")\n",
    "    os.makedirs(housing_dir, exist_ok=True)\n",
    "    path_format = os.path.join(housing_dir, \"my_{}_{:02d}.csv\")\n",
    "    \n",
    "    filepaths = []\n",
    "    m = len(data)\n",
    "    for files, rows in enumerate(np.array_split(np.arange(m), n_parts)):\n",
    "        csv = path_format.format(name_prefix, files)\n",
    "        filepaths.append(csv)\n",
    "        with open(csv, \"wt\", encoding=\"utf-8\") as w:\n",
    "            if header is not None:\n",
    "                w.write(header)\n",
    "                w.write(\"\\n\")\n",
    "            for row in rows:\n",
    "                w.write(\",\".join([repr(col) for col in data[row]]))\n",
    "                w.write(\"\\n\")\n",
    "    return filepaths"
   ]
  },
  {
   "cell_type": "code",
   "execution_count": 17,
   "id": "4c8efa9e",
   "metadata": {},
   "outputs": [],
   "source": [
    "training_data = np.c_[X_train, y_train]\n",
    "validation_data = np.c_[X_val, y_val]\n",
    "testing_data = np.c_[X_test, y_test]\n",
    "column_headers = housing_df.feature_names + [\"MedianHouseValue\"]\n",
    "header = \",\".join(column_headers)\n",
    "\n",
    "training_filepaths = save_to_multiple_csv_files(training_data, \"train\", header, n_parts=20)\n",
    "validation_filepaths = save_to_multiple_csv_files(validation_data, \"valid\", header, n_parts=10)\n",
    "testing_filepaths = save_to_multiple_csv_files(testing_data, \"test\", header, n_parts=10)"
   ]
  },
  {
   "cell_type": "code",
   "execution_count": 18,
   "id": "bf78b11c",
   "metadata": {},
   "outputs": [],
   "source": [
    "trainingdf_1 = pd.read_csv(training_filepaths[0])"
   ]
  },
  {
   "cell_type": "code",
   "execution_count": 19,
   "id": "b21775f6",
   "metadata": {},
   "outputs": [
    {
     "data": {
      "text/html": [
       "<div>\n",
       "<style scoped>\n",
       "    .dataframe tbody tr th:only-of-type {\n",
       "        vertical-align: middle;\n",
       "    }\n",
       "\n",
       "    .dataframe tbody tr th {\n",
       "        vertical-align: top;\n",
       "    }\n",
       "\n",
       "    .dataframe thead th {\n",
       "        text-align: right;\n",
       "    }\n",
       "</style>\n",
       "<table border=\"1\" class=\"dataframe\">\n",
       "  <thead>\n",
       "    <tr style=\"text-align: right;\">\n",
       "      <th></th>\n",
       "      <th>MedInc</th>\n",
       "      <th>HouseAge</th>\n",
       "      <th>AveRooms</th>\n",
       "      <th>AveBedrms</th>\n",
       "      <th>Population</th>\n",
       "      <th>AveOccup</th>\n",
       "      <th>Latitude</th>\n",
       "      <th>Longitude</th>\n",
       "      <th>MedianHouseValue</th>\n",
       "    </tr>\n",
       "  </thead>\n",
       "  <tbody>\n",
       "    <tr>\n",
       "      <th>0</th>\n",
       "      <td>1.8438</td>\n",
       "      <td>35.0</td>\n",
       "      <td>4.623853</td>\n",
       "      <td>1.155963</td>\n",
       "      <td>323.0</td>\n",
       "      <td>2.963303</td>\n",
       "      <td>37.74</td>\n",
       "      <td>-122.18</td>\n",
       "      <td>0.90500</td>\n",
       "    </tr>\n",
       "    <tr>\n",
       "      <th>1</th>\n",
       "      <td>3.1630</td>\n",
       "      <td>40.0</td>\n",
       "      <td>3.875000</td>\n",
       "      <td>0.966912</td>\n",
       "      <td>1922.0</td>\n",
       "      <td>3.533088</td>\n",
       "      <td>33.98</td>\n",
       "      <td>-118.34</td>\n",
       "      <td>1.37800</td>\n",
       "    </tr>\n",
       "    <tr>\n",
       "      <th>2</th>\n",
       "      <td>15.0001</td>\n",
       "      <td>34.0</td>\n",
       "      <td>8.114173</td>\n",
       "      <td>1.023622</td>\n",
       "      <td>825.0</td>\n",
       "      <td>3.248031</td>\n",
       "      <td>34.19</td>\n",
       "      <td>-118.19</td>\n",
       "      <td>5.00001</td>\n",
       "    </tr>\n",
       "    <tr>\n",
       "      <th>3</th>\n",
       "      <td>2.1875</td>\n",
       "      <td>28.0</td>\n",
       "      <td>1.972906</td>\n",
       "      <td>0.982759</td>\n",
       "      <td>936.0</td>\n",
       "      <td>2.305419</td>\n",
       "      <td>34.05</td>\n",
       "      <td>-118.45</td>\n",
       "      <td>1.81300</td>\n",
       "    </tr>\n",
       "    <tr>\n",
       "      <th>4</th>\n",
       "      <td>3.1729</td>\n",
       "      <td>45.0</td>\n",
       "      <td>5.219643</td>\n",
       "      <td>1.078571</td>\n",
       "      <td>1903.0</td>\n",
       "      <td>3.398214</td>\n",
       "      <td>34.14</td>\n",
       "      <td>-118.08</td>\n",
       "      <td>2.18700</td>\n",
       "    </tr>\n",
       "  </tbody>\n",
       "</table>\n",
       "</div>"
      ],
      "text/plain": [
       "    MedInc  HouseAge  AveRooms  AveBedrms  Population  AveOccup  Latitude  \\\n",
       "0   1.8438      35.0  4.623853   1.155963       323.0  2.963303     37.74   \n",
       "1   3.1630      40.0  3.875000   0.966912      1922.0  3.533088     33.98   \n",
       "2  15.0001      34.0  8.114173   1.023622       825.0  3.248031     34.19   \n",
       "3   2.1875      28.0  1.972906   0.982759       936.0  2.305419     34.05   \n",
       "4   3.1729      45.0  5.219643   1.078571      1903.0  3.398214     34.14   \n",
       "\n",
       "   Longitude  MedianHouseValue  \n",
       "0    -122.18           0.90500  \n",
       "1    -118.34           1.37800  \n",
       "2    -118.19           5.00001  \n",
       "3    -118.45           1.81300  \n",
       "4    -118.08           2.18700  "
      ]
     },
     "execution_count": 19,
     "metadata": {},
     "output_type": "execute_result"
    }
   ],
   "source": [
    "trainingdf_1.head()"
   ]
  },
  {
   "cell_type": "code",
   "execution_count": 20,
   "id": "a0ae5319",
   "metadata": {},
   "outputs": [
    {
     "name": "stdout",
     "output_type": "stream",
     "text": [
      "MedInc,HouseAge,AveRooms,AveBedrms,Population,AveOccup,Latitude,Longitude,MedianHouseValue\n",
      "1.8438,35.0,4.623853211009174,1.1559633027522935,323.0,2.963302752293578,37.74,-122.18,0.905\n",
      "3.163,40.0,3.875,0.9669117647058824,1922.0,3.5330882352941178,33.98,-118.34,1.378\n",
      "15.0001,34.0,8.114173228346457,1.0236220472440944,825.0,3.248031496062992,34.19,-118.19,5.00001\n",
      "2.1875,28.0,1.9729064039408868,0.9827586206896551,936.0,2.3054187192118225,34.05,-118.45,1.813\n"
     ]
    }
   ],
   "source": [
    "# Could also open in text mode if needed\n",
    "with open(training_filepaths[0]) as f:\n",
    "    for i in range(5):\n",
    "        print(f.readline(), end=\"\")"
   ]
  },
  {
   "cell_type": "code",
   "execution_count": 21,
   "id": "e2ab0eb7",
   "metadata": {},
   "outputs": [
    {
     "data": {
      "text/plain": [
       "['datasets\\\\housing\\\\my_train_00.csv',\n",
       " 'datasets\\\\housing\\\\my_train_01.csv',\n",
       " 'datasets\\\\housing\\\\my_train_02.csv',\n",
       " 'datasets\\\\housing\\\\my_train_03.csv',\n",
       " 'datasets\\\\housing\\\\my_train_04.csv',\n",
       " 'datasets\\\\housing\\\\my_train_05.csv',\n",
       " 'datasets\\\\housing\\\\my_train_06.csv',\n",
       " 'datasets\\\\housing\\\\my_train_07.csv',\n",
       " 'datasets\\\\housing\\\\my_train_08.csv',\n",
       " 'datasets\\\\housing\\\\my_train_09.csv',\n",
       " 'datasets\\\\housing\\\\my_train_10.csv',\n",
       " 'datasets\\\\housing\\\\my_train_11.csv',\n",
       " 'datasets\\\\housing\\\\my_train_12.csv',\n",
       " 'datasets\\\\housing\\\\my_train_13.csv',\n",
       " 'datasets\\\\housing\\\\my_train_14.csv',\n",
       " 'datasets\\\\housing\\\\my_train_15.csv',\n",
       " 'datasets\\\\housing\\\\my_train_16.csv',\n",
       " 'datasets\\\\housing\\\\my_train_17.csv',\n",
       " 'datasets\\\\housing\\\\my_train_18.csv',\n",
       " 'datasets\\\\housing\\\\my_train_19.csv']"
      ]
     },
     "execution_count": 21,
     "metadata": {},
     "output_type": "execute_result"
    }
   ],
   "source": [
    "training_filepaths"
   ]
  },
  {
   "cell_type": "markdown",
   "id": "a9a55dea",
   "metadata": {},
   "source": [
    "### Build an input pipeline in TF"
   ]
  },
  {
   "cell_type": "code",
   "execution_count": 22,
   "id": "3410d972",
   "metadata": {},
   "outputs": [],
   "source": [
    "dataset_fpth = tf.data.Dataset.list_files(training_filepaths)"
   ]
  },
  {
   "cell_type": "code",
   "execution_count": 23,
   "id": "366ae493",
   "metadata": {},
   "outputs": [
    {
     "name": "stdout",
     "output_type": "stream",
     "text": [
      "tf.Tensor(b'datasets\\\\housing\\\\my_train_10.csv', shape=(), dtype=string)\n",
      "tf.Tensor(b'datasets\\\\housing\\\\my_train_18.csv', shape=(), dtype=string)\n",
      "tf.Tensor(b'datasets\\\\housing\\\\my_train_08.csv', shape=(), dtype=string)\n",
      "tf.Tensor(b'datasets\\\\housing\\\\my_train_15.csv', shape=(), dtype=string)\n",
      "tf.Tensor(b'datasets\\\\housing\\\\my_train_03.csv', shape=(), dtype=string)\n",
      "tf.Tensor(b'datasets\\\\housing\\\\my_train_12.csv', shape=(), dtype=string)\n",
      "tf.Tensor(b'datasets\\\\housing\\\\my_train_04.csv', shape=(), dtype=string)\n",
      "tf.Tensor(b'datasets\\\\housing\\\\my_train_00.csv', shape=(), dtype=string)\n",
      "tf.Tensor(b'datasets\\\\housing\\\\my_train_09.csv', shape=(), dtype=string)\n",
      "tf.Tensor(b'datasets\\\\housing\\\\my_train_01.csv', shape=(), dtype=string)\n",
      "tf.Tensor(b'datasets\\\\housing\\\\my_train_11.csv', shape=(), dtype=string)\n",
      "tf.Tensor(b'datasets\\\\housing\\\\my_train_13.csv', shape=(), dtype=string)\n",
      "tf.Tensor(b'datasets\\\\housing\\\\my_train_05.csv', shape=(), dtype=string)\n",
      "tf.Tensor(b'datasets\\\\housing\\\\my_train_02.csv', shape=(), dtype=string)\n",
      "tf.Tensor(b'datasets\\\\housing\\\\my_train_17.csv', shape=(), dtype=string)\n",
      "tf.Tensor(b'datasets\\\\housing\\\\my_train_19.csv', shape=(), dtype=string)\n",
      "tf.Tensor(b'datasets\\\\housing\\\\my_train_16.csv', shape=(), dtype=string)\n",
      "tf.Tensor(b'datasets\\\\housing\\\\my_train_06.csv', shape=(), dtype=string)\n",
      "tf.Tensor(b'datasets\\\\housing\\\\my_train_14.csv', shape=(), dtype=string)\n",
      "tf.Tensor(b'datasets\\\\housing\\\\my_train_07.csv', shape=(), dtype=string)\n"
     ]
    }
   ],
   "source": [
    "for filepath in dataset_fpth:\n",
    "    print(filepath)"
   ]
  },
  {
   "cell_type": "code",
   "execution_count": 24,
   "id": "c8f2b24c",
   "metadata": {},
   "outputs": [],
   "source": [
    "# setup 5 different csv line readers to interleave values together\n",
    "n_readers = 5\n",
    "dataset = dataset_fpth.interleave(\n",
    "            lambda filepath: tf.data.TextLineDataset(filepath).skip(1),\n",
    "            cycle_length=n_readers)"
   ]
  },
  {
   "cell_type": "code",
   "execution_count": 25,
   "id": "271b0cff",
   "metadata": {},
   "outputs": [
    {
     "name": "stdout",
     "output_type": "stream",
     "text": [
      "b'4.5217,23.0,5.1867612293144205,1.0212765957446808,2526.0,2.9858156028368796,33.84,-117.84,2.194'\n",
      "b'4.6875,20.0,4.348623853211009,1.0458715596330275,1069.0,2.4518348623853212,37.41,-122.08,2.889'\n",
      "b'5.37,26.0,6.127579737335835,0.9212007504690432,1222.0,2.292682926829268,37.76,-122.13,2.754'\n",
      "b'2.9781,31.0,3.642737896494157,1.0517529215358932,1069.0,1.7846410684474123,32.8,-117.25,2.125'\n",
      "b'10.3345,5.0,8.74031007751938,1.0426356589147288,876.0,3.395348837209302,37.76,-121.93,4.614'\n",
      "b'1.4167,20.0,4.066666666666666,1.1238095238095238,402.0,3.8285714285714287,33.96,-118.18,1.375'\n",
      "b'2.0804,42.0,4.294117647058823,1.1176470588235294,1206.0,2.026890756302521,37.84,-122.26,2.267'\n",
      "b'5.6441,18.0,6.089593383873191,1.0523776705720194,3946.0,2.7195037904893176,33.91,-117.94,3.13'\n",
      "b'1.8281,44.0,3.78,0.8933333333333333,565.0,3.7666666666666666,34.11,-117.27,0.629'\n",
      "b'7.5443,9.0,6.723404255319149,0.9957446808510638,1675.0,3.5638297872340425,37.33,-121.77,3.484'\n"
     ]
    }
   ],
   "source": [
    "for line in dataset.take(10):\n",
    "    print(line.numpy())"
   ]
  },
  {
   "cell_type": "markdown",
   "id": "e4d0217a",
   "metadata": {},
   "source": [
    "Judging by the quotations, it seems that we are getting strings back... Let's look at the decode_csv function in TF to see if it can give us some insight:"
   ]
  },
  {
   "cell_type": "code",
   "execution_count": 26,
   "id": "a3ce2160",
   "metadata": {},
   "outputs": [],
   "source": [
    "records = [0, np.nan, tf.constant(np.nan, dtype=tf.float64), \"Hi There~\", tf.constant([])]"
   ]
  },
  {
   "cell_type": "code",
   "execution_count": 27,
   "id": "ecd997c4",
   "metadata": {},
   "outputs": [
    {
     "data": {
      "text/plain": [
       "[<tf.Tensor: shape=(), dtype=int32, numpy=1>,\n",
       " <tf.Tensor: shape=(), dtype=float32, numpy=2.0>,\n",
       " <tf.Tensor: shape=(), dtype=float64, numpy=3.0>,\n",
       " <tf.Tensor: shape=(), dtype=string, numpy=b'4'>,\n",
       " <tf.Tensor: shape=(), dtype=float32, numpy=5.0>]"
      ]
     },
     "execution_count": 27,
     "metadata": {},
     "output_type": "execute_result"
    }
   ],
   "source": [
    "decoding_csv = tf.io.decode_csv('1,2,3,4,5', record_defaults=records)\n",
    "decoding_csv"
   ]
  },
  {
   "cell_type": "markdown",
   "id": "20acce7f",
   "metadata": {},
   "source": [
    "let's now see the default values with nothing except the last value in that string call (because it is the default necessary):"
   ]
  },
  {
   "cell_type": "code",
   "execution_count": 28,
   "id": "c9ac80a4",
   "metadata": {},
   "outputs": [
    {
     "data": {
      "text/plain": [
       "[<tf.Tensor: shape=(), dtype=int32, numpy=0>,\n",
       " <tf.Tensor: shape=(), dtype=float32, numpy=nan>,\n",
       " <tf.Tensor: shape=(), dtype=float64, numpy=nan>,\n",
       " <tf.Tensor: shape=(), dtype=string, numpy=b'Hi There~'>,\n",
       " <tf.Tensor: shape=(), dtype=float32, numpy=8.0>]"
      ]
     },
     "execution_count": 28,
     "metadata": {},
     "output_type": "execute_result"
    }
   ],
   "source": [
    "decoding_csv = tf.io.decode_csv(\",,,,8\", record_defaults=records)\n",
    "decoding_csv"
   ]
  },
  {
   "cell_type": "markdown",
   "id": "8607e48f",
   "metadata": {},
   "source": [
    "Otherwise we get an error:"
   ]
  },
  {
   "cell_type": "code",
   "execution_count": 29,
   "id": "6901f477",
   "metadata": {},
   "outputs": [
    {
     "name": "stdout",
     "output_type": "stream",
     "text": [
      "Field 4 is required but missing in record 0! [Op:DecodeCSV]\n"
     ]
    }
   ],
   "source": [
    "try:\n",
    "    decoding_csv = tf.io.decode_csv(',,,,', record_defaults=records)\n",
    "except tf.errors.InvalidArgumentError as ex:\n",
    "    print(ex)"
   ]
  },
  {
   "cell_type": "markdown",
   "id": "3cc50522",
   "metadata": {},
   "source": [
    "Now it is time to fix and preprocess our dataset:"
   ]
  },
  {
   "cell_type": "code",
   "execution_count": 30,
   "id": "57eed422",
   "metadata": {},
   "outputs": [],
   "source": [
    "n_inputs = 8 # X_train.shape[-1]\n",
    "\n",
    "@tf.function\n",
    "def preprocess(line):\n",
    "    defs = [0.] * n_inputs + [tf.constant([], dtype=tf.float32)]\n",
    "    fields = tf.io.decode_csv(line, record_defaults=defs)\n",
    "    x = tf.stack(fields[:-1])\n",
    "    y = tf.stack(fields[-1:])\n",
    "    return (x - X_mean) / X_std, y"
   ]
  },
  {
   "cell_type": "code",
   "execution_count": 31,
   "id": "ae4900b5",
   "metadata": {},
   "outputs": [
    {
     "data": {
      "text/plain": [
       "(<tf.Tensor: shape=(8,), dtype=float32, numpy=\n",
       " array([ 0.33967397, -0.44173327, -0.10424154, -0.16569561,  1.0373163 ,\n",
       "        -0.00863913, -0.83841485,  0.8620488 ], dtype=float32)>,\n",
       " <tf.Tensor: shape=(1,), dtype=float32, numpy=array([2.194], dtype=float32)>)"
      ]
     },
     "execution_count": 31,
     "metadata": {},
     "output_type": "execute_result"
    }
   ],
   "source": [
    "#first line from output\n",
    "preprocess(b'4.5217,23.0,5.1867612293144205,1.0212765957446808,2526.0,2.9858156028368796,33.84,-117.84,2.194')"
   ]
  },
  {
   "cell_type": "code",
   "execution_count": 32,
   "id": "a803d300",
   "metadata": {},
   "outputs": [],
   "source": [
    "# Putting it all together\n",
    "def csv_reader_dataset(filepaths, repeat=1, n_readers=5, n_read_threads=None, shuffle_buffer_size=10000,\n",
    "                       n_parse_threads=5, batch_size=32):\n",
    "    dataset = tf.data.Dataset.list_files(filepaths).repeat(repeat)\n",
    "    dataset = dataset.interleave(\n",
    "        lambda filepath: tf.data.TextLineDataset(filepath).skip(1),\n",
    "        cycle_length=n_readers, num_parallel_calls=n_read_threads)\n",
    "    dataset = dataset.shuffle(shuffle_buffer_size)\n",
    "    dataset = dataset.map(preprocess, num_parallel_calls=n_parse_threads)\n",
    "    dataset = dataset.batch(batch_size)\n",
    "    return dataset.prefetch(1)\n"
   ]
  },
  {
   "cell_type": "code",
   "execution_count": 33,
   "id": "4a269ea2",
   "metadata": {},
   "outputs": [
    {
     "name": "stdout",
     "output_type": "stream",
     "text": [
      "X = tf.Tensor(\n",
      "[[-0.78667635 -1.0738989  -0.61369044  0.17542437  1.18327     0.0029808\n",
      "  -0.6845263   0.59804225]\n",
      " [-0.33520082 -0.28369185 -0.80488735  0.39220905 -0.92887485 -0.09408078\n",
      "   0.23414785 -1.0208465 ]\n",
      " [ 0.49696267 -0.9948782  -0.12979206 -0.23257889 -0.08661993 -0.04140528\n",
      "  -0.8943742   0.8819702 ]], shape=(3, 8), dtype=float32)\n",
      "y = tf.Tensor(\n",
      "[[1.854]\n",
      " [4.5  ]\n",
      " [2.014]], shape=(3, 1), dtype=float32)\n",
      "\n",
      "X = tf.Tensor(\n",
      "[[ 0.2672572  -0.20467116 -0.28708923  0.21515547 -0.29021135 -0.08503555\n",
      "  -0.68918884  0.5532133 ]\n",
      " [ 0.9736631  -1.9431266   0.53972346  0.6172938  -0.26139247 -0.077267\n",
      "  -1.0016303   0.9218207 ]\n",
      " [-1.3168225   0.90161866 -0.3512487  -0.18556666 -0.68344957 -0.03069402\n",
      "   1.3859879  -0.92620254]], shape=(3, 8), dtype=float32)\n",
      "y = tf.Tensor(\n",
      "[[2.991  ]\n",
      " [5.00001]\n",
      " [0.652  ]], shape=(3, 1), dtype=float32)\n",
      "\n"
     ]
    }
   ],
   "source": [
    "train_set = csv_reader_dataset(training_filepaths, batch_size=3)\n",
    "for X_batch, y_batch in train_set.take(2):\n",
    "    print(\"X =\", X_batch)\n",
    "    print(\"y =\", y_batch)\n",
    "    print()"
   ]
  },
  {
   "cell_type": "markdown",
   "id": "7e193abe",
   "metadata": {},
   "source": [
    "## Create and Train Model from Pipeline"
   ]
  },
  {
   "cell_type": "code",
   "execution_count": 34,
   "id": "47da2398",
   "metadata": {},
   "outputs": [],
   "source": [
    "train_set = csv_reader_dataset(training_filepaths, repeat=None)\n",
    "val_set = csv_reader_dataset(validation_filepaths)\n",
    "test_set = csv_reader_dataset(testing_filepaths)"
   ]
  },
  {
   "cell_type": "code",
   "execution_count": 35,
   "id": "6c2fb648",
   "metadata": {},
   "outputs": [],
   "source": [
    "model = keras.models.Sequential([keras.layers.Dense(30, activation=\"relu\", input_shape=X_train.shape[1:]),\n",
    "                                keras.layers.Dense(15, activation=\"relu\"),\n",
    "                                keras.layers.Dense(1),\n",
    "])"
   ]
  },
  {
   "cell_type": "code",
   "execution_count": 36,
   "id": "ba8d059c",
   "metadata": {},
   "outputs": [],
   "source": [
    "model.compile(loss=\"mse\", optimizer=keras.optimizers.SGD(learning_rate=10e-3))"
   ]
  },
  {
   "cell_type": "code",
   "execution_count": 37,
   "id": "7b633b87",
   "metadata": {},
   "outputs": [
    {
     "name": "stdout",
     "output_type": "stream",
     "text": [
      "Epoch 1/10\n",
      "362/362 [==============================] - 6s 5ms/step - loss: 1.0483 - val_loss: 0.5649\n",
      "Epoch 2/10\n",
      "362/362 [==============================] - 1s 4ms/step - loss: 0.7604 - val_loss: 0.4820\n",
      "Epoch 3/10\n",
      "362/362 [==============================] - 1s 4ms/step - loss: 0.4254 - val_loss: 0.4713\n",
      "Epoch 4/10\n",
      "362/362 [==============================] - 1s 4ms/step - loss: 0.4113 - val_loss: 0.4312\n",
      "Epoch 5/10\n",
      "362/362 [==============================] - 1s 4ms/step - loss: 0.3916 - val_loss: 0.4234\n",
      "Epoch 6/10\n",
      "362/362 [==============================] - 1s 4ms/step - loss: 0.3855 - val_loss: 0.4191\n",
      "Epoch 7/10\n",
      "362/362 [==============================] - 1s 4ms/step - loss: 0.3692 - val_loss: 0.3984\n",
      "Epoch 8/10\n",
      "362/362 [==============================] - 1s 4ms/step - loss: 0.3637 - val_loss: 0.3942\n",
      "Epoch 9/10\n",
      "362/362 [==============================] - 1s 4ms/step - loss: 0.3562 - val_loss: 0.3925\n",
      "Epoch 10/10\n",
      "362/362 [==============================] - 1s 4ms/step - loss: 0.3611 - val_loss: 0.3746\n"
     ]
    },
    {
     "data": {
      "text/plain": [
       "<keras.callbacks.History at 0x26eaebf86d0>"
      ]
     },
     "execution_count": 37,
     "metadata": {},
     "output_type": "execute_result"
    }
   ],
   "source": [
    "batch_size = 32\n",
    "model.fit(train_set, steps_per_epoch=len(X_train) // batch_size, epochs=10, validation_data=val_set)"
   ]
  },
  {
   "cell_type": "code",
   "execution_count": 38,
   "id": "1ef4e0a3",
   "metadata": {},
   "outputs": [
    {
     "name": "stdout",
     "output_type": "stream",
     "text": [
      "161/161 [==============================] - 0s 2ms/step - loss: 0.3788\n"
     ]
    },
    {
     "data": {
      "text/plain": [
       "0.37883707880973816"
      ]
     },
     "execution_count": 38,
     "metadata": {},
     "output_type": "execute_result"
    }
   ],
   "source": [
    "model.evaluate(test_set, steps=len(X_test) // batch_size)"
   ]
  },
  {
   "cell_type": "code",
   "execution_count": 39,
   "id": "2efb87df",
   "metadata": {},
   "outputs": [
    {
     "data": {
      "text/plain": [
       "array([[3.9843297],\n",
       "       [0.8679904],\n",
       "       [3.6915605],\n",
       "       ...,\n",
       "       [2.1079144],\n",
       "       [2.3962379],\n",
       "       [2.230005 ]], dtype=float32)"
      ]
     },
     "execution_count": 39,
     "metadata": {},
     "output_type": "execute_result"
    }
   ],
   "source": [
    "# now to predict\n",
    "new_set = test_set.map(lambda X, y: X) # we could instead just pass test_set, Keras would ignore the labels\n",
    "X_new = X_test\n",
    "model.predict(new_set, steps=len(X_new) // batch_size)"
   ]
  },
  {
   "cell_type": "markdown",
   "id": "91287728",
   "metadata": {},
   "source": [
    "## Functions to Train Model Standalone"
   ]
  },
  {
   "cell_type": "code",
   "execution_count": 40,
   "id": "af72d268",
   "metadata": {},
   "outputs": [
    {
     "name": "stdout",
     "output_type": "stream",
     "text": [
      "Global step 1810/1810"
     ]
    }
   ],
   "source": [
    "optimizer = keras.optimizers.Nadam(learning_rate=0.01)\n",
    "loss_fn = keras.losses.mean_squared_error\n",
    "\n",
    "n_epochs = 5\n",
    "batch_size = 32\n",
    "n_steps_per_epoch = len(X_train) // batch_size\n",
    "total_steps = n_epochs * n_steps_per_epoch\n",
    "global_step = 0\n",
    "for X_batch, y_batch in train_set.take(total_steps):\n",
    "    global_step += 1\n",
    "    print(\"\\rGlobal step {}/{}\".format(global_step, total_steps), end=\"\")\n",
    "    with tf.GradientTape() as tape:\n",
    "        y_pred = model(X_batch)\n",
    "        main_loss = tf.reduce_mean(loss_fn(y_batch, y_pred))\n",
    "        loss = tf.add_n([main_loss] + model.losses)\n",
    "    gradients = tape.gradient(loss, model.trainable_variables)\n",
    "    optimizer.apply_gradients(zip(gradients, model.trainable_variables))"
   ]
  },
  {
   "cell_type": "code",
   "execution_count": 41,
   "id": "26f5a9a4",
   "metadata": {},
   "outputs": [
    {
     "name": "stdout",
     "output_type": "stream",
     "text": [
      "Global step 100 / 1810\n",
      "Global step 200 / 1810\n",
      "Global step 300 / 1810\n",
      "Global step 400 / 1810\n",
      "Global step 500 / 1810\n",
      "Global step 600 / 1810\n",
      "Global step 700 / 1810\n",
      "Global step 800 / 1810\n",
      "Global step 900 / 1810\n",
      "Global step 1000 / 1810\n",
      "Global step 1100 / 1810\n",
      "Global step 1200 / 1810\n",
      "Global step 1300 / 1810\n",
      "Global step 1400 / 1810\n",
      "Global step 1500 / 1810\n",
      "Global step 1600 / 1810\n",
      "Global step 1700 / 1810\n",
      "Global step 1800 / 1810\n"
     ]
    }
   ],
   "source": [
    "optimizer = keras.optimizers.Nadam(learning_rate=0.01)\n",
    "loss_fn = keras.losses.mean_squared_error\n",
    "\n",
    "@tf.function\n",
    "def train(model, n_epochs, batch_size=32,\n",
    "          n_readers=5, n_read_threads=5, shuffle_buffer_size=10000, n_parse_threads=5):\n",
    "    train_set = csv_reader_dataset(training_filepaths, repeat=n_epochs, n_readers=n_readers,\n",
    "                       n_read_threads=n_read_threads, shuffle_buffer_size=shuffle_buffer_size,\n",
    "                       n_parse_threads=n_parse_threads, batch_size=batch_size)\n",
    "    n_steps_per_epoch = len(X_train) // batch_size\n",
    "    total_steps = n_epochs * n_steps_per_epoch\n",
    "    global_step = 0\n",
    "    for X_batch, y_batch in train_set.take(total_steps):\n",
    "        global_step += 1\n",
    "        if tf.equal(global_step % 100, 0):\n",
    "            tf.print(\"\\rGlobal step\", global_step, \"/\", total_steps)\n",
    "        with tf.GradientTape() as tape:\n",
    "            y_pred = model(X_batch)\n",
    "            main_loss = tf.reduce_mean(loss_fn(y_batch, y_pred))\n",
    "            loss = tf.add_n([main_loss] + model.losses)\n",
    "        gradients = tape.gradient(loss, model.trainable_variables)\n",
    "        optimizer.apply_gradients(zip(gradients, model.trainable_variables))\n",
    "\n",
    "train(model, 5)"
   ]
  },
  {
   "cell_type": "markdown",
   "id": "a8a8f445",
   "metadata": {},
   "source": [
    "## Methods in Dataset Class"
   ]
  },
  {
   "cell_type": "code",
   "execution_count": 42,
   "id": "16722c10",
   "metadata": {},
   "outputs": [
    {
     "name": "stdout",
     "output_type": "stream",
     "text": [
      "● apply()              Applies a transformation function to this dataset.\n",
      "● as_numpy_iterator()  Returns an iterator which converts all elements of the dataset to numpy.\n",
      "● batch()              Combines consecutive elements of this dataset into batches.\n",
      "● bucket_by_sequence_length()A transformation that buckets elements in a `Dataset` by length.\n",
      "● cache()              Caches the elements in this dataset.\n",
      "● cardinality()        Returns the cardinality of the dataset, if known.\n",
      "● concatenate()        Creates a `Dataset` by concatenating the given dataset with this dataset.\n",
      "● element_spec()       The type specification of an element of this dataset.\n",
      "● enumerate()          Enumerates the elements of this dataset.\n",
      "● filter()             Filters this dataset according to `predicate`.\n",
      "● flat_map()           Maps `map_func` across this dataset and flattens the result.\n",
      "● from_generator()     Creates a `Dataset` whose elements are generated by `generator`. (deprecated arguments)\n",
      "● from_tensor_slices() Creates a `Dataset` whose elements are slices of the given tensors.\n",
      "● from_tensors()       Creates a `Dataset` with a single element, comprising the given tensors.\n",
      "● get_single_element() Returns the single element of the `dataset` as a nested structure of tensors.\n",
      "● group_by_window()    Groups windows of elements by key and reduces them.\n",
      "● interleave()         Maps `map_func` across this dataset, and interleaves the results.\n",
      "● list_files()         A dataset of all files matching one or more glob patterns.\n",
      "● map()                Maps `map_func` across the elements of this dataset.\n",
      "● options()            Returns the options for this dataset and its inputs.\n",
      "● padded_batch()       Combines consecutive elements of this dataset into padded batches.\n",
      "● prefetch()           Creates a `Dataset` that prefetches elements from this dataset.\n",
      "● random()             Creates a `Dataset` of pseudorandom values.\n",
      "● range()              Creates a `Dataset` of a step-separated range of values.\n",
      "● reduce()             Reduces the input dataset to a single element.\n",
      "● repeat()             Repeats this dataset so each original value is seen `count` times.\n",
      "● scan()               A transformation that scans a function across an input dataset.\n",
      "● shard()              Creates a `Dataset` that includes only 1/`num_shards` of this dataset.\n",
      "● shuffle()            Randomly shuffles the elements of this dataset.\n",
      "● skip()               Creates a `Dataset` that skips `count` elements from this dataset.\n",
      "● snapshot()           API to persist the output of the input dataset.\n",
      "● take()               Creates a `Dataset` with at most `count` elements from this dataset.\n",
      "● take_while()         A transformation that stops dataset iteration based on a `predicate`.\n",
      "● unbatch()            Splits elements of a dataset into multiple elements.\n",
      "● unique()             A transformation that discards duplicate elements of a `Dataset`.\n",
      "● window()             Returns a dataset of \"windows\".\n",
      "● with_options()       Returns a new `tf.data.Dataset` with the given options set.\n",
      "● zip()                Creates a `Dataset` by zipping together the given datasets.\n"
     ]
    }
   ],
   "source": [
    "for m in dir(tf.data.Dataset):\n",
    "    if not (m.startswith(\"_\") or m.endswith(\"_\")):\n",
    "        func = getattr(tf.data.Dataset, m)\n",
    "        if hasattr(func, \"__doc__\"):\n",
    "            print(\"● {:21s}{}\".format(m + \"()\", func.__doc__.split(\"\\n\")[0]))"
   ]
  },
  {
   "cell_type": "markdown",
   "id": "ac4afb17",
   "metadata": {},
   "source": [
    "## TFRecord Binary Format"
   ]
  },
  {
   "cell_type": "markdown",
   "id": "5bb3e731",
   "metadata": {},
   "source": [
    "TFReocrds is a list of binary records you can create using `td.io.TFRecordWriter`:"
   ]
  },
  {
   "cell_type": "code",
   "execution_count": 43,
   "id": "07259648",
   "metadata": {},
   "outputs": [],
   "source": [
    "with tf.io.TFRecordWriter(\"my_data.tfrecord\") as f:\n",
    "    f.write(b\"This is the first record\")\n",
    "    f.write(b\"And this is the second record\")"
   ]
  },
  {
   "cell_type": "code",
   "execution_count": 44,
   "id": "e5f820c3",
   "metadata": {},
   "outputs": [
    {
     "name": "stdout",
     "output_type": "stream",
     "text": [
      "tf.Tensor(b'This is the first record', shape=(), dtype=string)\n",
      "tf.Tensor(b'And this is the second record', shape=(), dtype=string)\n"
     ]
    }
   ],
   "source": [
    "# read the records\n",
    "filepaths = [\"my_data.tfrecord\"]\n",
    "dataset = tf.data.TFRecordDataset(filepaths)\n",
    "for item in dataset:\n",
    "    print(item)"
   ]
  },
  {
   "cell_type": "markdown",
   "id": "62111ab5",
   "metadata": {},
   "source": [
    "You can read multiple TFRecord files with just one `TFRecordDataset`. By default it will read them one at a time, but if you set `num_parallel_reads=3`, it will read 3 at a time in parallel and interleave their records:"
   ]
  },
  {
   "cell_type": "code",
   "execution_count": 45,
   "id": "a29c19c3",
   "metadata": {},
   "outputs": [
    {
     "name": "stdout",
     "output_type": "stream",
     "text": [
      "tf.Tensor(b'File 0 record 0', shape=(), dtype=string)\n",
      "tf.Tensor(b'File 1 record 0', shape=(), dtype=string)\n",
      "tf.Tensor(b'File 2 record 0', shape=(), dtype=string)\n",
      "tf.Tensor(b'File 0 record 1', shape=(), dtype=string)\n",
      "tf.Tensor(b'File 1 record 1', shape=(), dtype=string)\n",
      "tf.Tensor(b'File 2 record 1', shape=(), dtype=string)\n",
      "tf.Tensor(b'File 0 record 2', shape=(), dtype=string)\n",
      "tf.Tensor(b'File 1 record 2', shape=(), dtype=string)\n",
      "tf.Tensor(b'File 2 record 2', shape=(), dtype=string)\n",
      "tf.Tensor(b'File 3 record 0', shape=(), dtype=string)\n",
      "tf.Tensor(b'File 4 record 0', shape=(), dtype=string)\n",
      "tf.Tensor(b'File 3 record 1', shape=(), dtype=string)\n",
      "tf.Tensor(b'File 4 record 1', shape=(), dtype=string)\n",
      "tf.Tensor(b'File 3 record 2', shape=(), dtype=string)\n",
      "tf.Tensor(b'File 4 record 2', shape=(), dtype=string)\n"
     ]
    }
   ],
   "source": [
    "filepaths = [\"my_test_{}.tfrecord\".format(i) for i in range(5)]\n",
    "for i, filepath in enumerate(filepaths):\n",
    "    with tf.io.TFRecordWriter(filepath) as f:\n",
    "        for j in range(3):\n",
    "            f.write(\"File {} record {}\".format(i, j).encode(\"utf-8\"))\n",
    "\n",
    "dataset = tf.data.TFRecordDataset(filepaths, num_parallel_reads=3)\n",
    "for item in dataset:\n",
    "    print(item)"
   ]
  },
  {
   "cell_type": "code",
   "execution_count": 46,
   "id": "57cf4496",
   "metadata": {},
   "outputs": [],
   "source": [
    "# Can also compress our records either using the ZLIB algorithm or GZIP algorithm method\n",
    "options = tf.io.TFRecordOptions(compression_type=\"GZIP\")\n",
    "with tf.io.TFRecordWriter(\"my_compressed.tfrecord\", options) as f:\n",
    "    f.write(b\"This is the first record\")\n",
    "    f.write(b\"And this is the second record\")"
   ]
  },
  {
   "cell_type": "code",
   "execution_count": 47,
   "id": "58fc2b09",
   "metadata": {},
   "outputs": [
    {
     "name": "stdout",
     "output_type": "stream",
     "text": [
      "tf.Tensor(b'This is the first record', shape=(), dtype=string)\n",
      "tf.Tensor(b'And this is the second record', shape=(), dtype=string)\n"
     ]
    }
   ],
   "source": [
    "dataset = tf.data.TFRecordDataset([\"my_compressed.tfrecord\"],\n",
    "                                  compression_type=\"GZIP\")\n",
    "for item in dataset:\n",
    "    print(item)"
   ]
  },
  {
   "cell_type": "markdown",
   "id": "8a5d710f",
   "metadata": {},
   "source": [
    "## TensorFlow Protobufs"
   ]
  },
  {
   "cell_type": "markdown",
   "id": "af581189",
   "metadata": {},
   "source": [
    "Example using the definition for the tf.train.Example protobuf:\n",
    "\n",
    "```proto\n",
    "syntax = \"proto3\";\n",
    "\n",
    "message BytesList { repeated bytes value = 1; }\n",
    "message FloatList { repeated float value = 1 [packed = true]; }\n",
    "message Int64List { repeated int64 value = 1 [packed = true]; }\n",
    "message Feature {\n",
    "    oneof kind {\n",
    "        BytesList bytes_list = 1;\n",
    "        FloatList float_list = 2;\n",
    "        Int64List int64_list = 3;\n",
    "    }\n",
    "};\n",
    "message Features { map<string, Feature> feature = 1; };\n",
    "message Example { Features features = 1; };\n",
    "```"
   ]
  },
  {
   "cell_type": "code",
   "execution_count": 48,
   "id": "882f9e4d",
   "metadata": {},
   "outputs": [],
   "source": [
    "# Example in TensorFlow\n",
    "from tensorflow.train import BytesList, FloatList, Int64List\n",
    "from tensorflow.train import Feature, Features, Example\n",
    "BytesList = tf.train.BytesList\n",
    "FloatList = tf.train.FloatList\n",
    "Int64List = tf.train.Int64List\n",
    "Feature = tf.train.Feature\n",
    "Features = tf.train.Features\n",
    "Example = tf.train.Example\n",
    "\n",
    "person_example = Example(\n",
    "    features=Features(\n",
    "        feature={\n",
    "            \"name\": Feature(bytes_list=BytesList(value=[b\"Alice\"])),\n",
    "            \"id\": Feature(int64_list=Int64List(value=[123])),\n",
    "            \"emails\": Feature(bytes_list=BytesList(value=[b\"a@b.com\", b\"c@d.com\"]))\n",
    "        }))\n",
    "\n",
    "with tf.io.TFRecordWriter(\"my_contacts.tfrecord\") as f:\n",
    "    f.write(person_example.SerializeToString())"
   ]
  },
  {
   "cell_type": "code",
   "execution_count": 49,
   "id": "ed2baddb",
   "metadata": {},
   "outputs": [],
   "source": [
    "feature_description = {\n",
    "    \"name\": tf.io.FixedLenFeature([], tf.string, default_value=\"\"),\n",
    "    \"id\": tf.io.FixedLenFeature([], tf.int64, default_value=0),\n",
    "    \"emails\": tf.io.VarLenFeature(tf.string),\n",
    "}\n",
    "for serialized_example in tf.data.TFRecordDataset([\"my_contacts.tfrecord\"]):\n",
    "    parsed_example = tf.io.parse_single_example(serialized_example,\n",
    "                                                feature_description)"
   ]
  },
  {
   "cell_type": "code",
   "execution_count": 50,
   "id": "5c6a68cc",
   "metadata": {},
   "outputs": [
    {
     "data": {
      "text/plain": [
       "{'emails': <tensorflow.python.framework.sparse_tensor.SparseTensor at 0x26ec8dfef10>,\n",
       " 'id': <tf.Tensor: shape=(), dtype=int64, numpy=123>,\n",
       " 'name': <tf.Tensor: shape=(), dtype=string, numpy=b'Alice'>}"
      ]
     },
     "execution_count": 50,
     "metadata": {},
     "output_type": "execute_result"
    }
   ],
   "source": [
    "parsed_example"
   ]
  },
  {
   "cell_type": "code",
   "execution_count": 51,
   "id": "9c95be87",
   "metadata": {},
   "outputs": [
    {
     "data": {
      "text/plain": [
       "<tf.Tensor: shape=(), dtype=string, numpy=b'a@b.com'>"
      ]
     },
     "execution_count": 51,
     "metadata": {},
     "output_type": "execute_result"
    }
   ],
   "source": [
    "parsed_example[\"emails\"].values[0]"
   ]
  },
  {
   "cell_type": "code",
   "execution_count": 52,
   "id": "cd325b1a",
   "metadata": {},
   "outputs": [
    {
     "data": {
      "text/plain": [
       "<tf.Tensor: shape=(2,), dtype=string, numpy=array([b'a@b.com', b'c@d.com'], dtype=object)>"
      ]
     },
     "execution_count": 52,
     "metadata": {},
     "output_type": "execute_result"
    }
   ],
   "source": [
    "# converts SparseTensor to DenseTensor\n",
    "tf.sparse.to_dense(parsed_example[\"emails\"], default_value=b\"\")"
   ]
  },
  {
   "cell_type": "code",
   "execution_count": 53,
   "id": "b880cc72",
   "metadata": {},
   "outputs": [
    {
     "data": {
      "text/plain": [
       "<tf.Tensor: shape=(2,), dtype=string, numpy=array([b'a@b.com', b'c@d.com'], dtype=object)>"
      ]
     },
     "execution_count": 53,
     "metadata": {},
     "output_type": "execute_result"
    }
   ],
   "source": [
    "# new example \n",
    "parsed_example[\"emails\"].values"
   ]
  },
  {
   "cell_type": "markdown",
   "id": "26ad9e74",
   "metadata": {},
   "source": [
    "## Transforming images to tensors and then back again"
   ]
  },
  {
   "cell_type": "code",
   "execution_count": 54,
   "id": "5763cbad",
   "metadata": {},
   "outputs": [
    {
     "data": {
      "image/png": "[encoded data removed]",
      "text/plain": [
       "<Figure size 432x288 with 1 Axes>"
      ]
     },
     "metadata": {
      "needs_background": "light"
     },
     "output_type": "display_data"
    }
   ],
   "source": [
    "from sklearn.datasets import load_sample_images\n",
    "\n",
    "img = load_sample_images()[\"images\"][1]\n",
    "plt.imshow(img)\n",
    "plt.axis(\"off\")\n",
    "plt.title(\"Original Image\")\n",
    "plt.show()"
   ]
  },
  {
   "cell_type": "code",
   "execution_count": 55,
   "id": "f69d6521",
   "metadata": {},
   "outputs": [],
   "source": [
    "data = tf.io.encode_jpeg(img) # function to encode it to 3-D unit8 Tensor\n",
    "example_with_image = Example(features=Features(feature={\n",
    "    \"image\": Feature(bytes_list=BytesList(value=[data.numpy()]))}))\n",
    "serialized_example = example_with_image.SerializeToString()"
   ]
  },
  {
   "cell_type": "code",
   "execution_count": 56,
   "id": "14358d2c",
   "metadata": {},
   "outputs": [],
   "source": [
    "feature_description = { \"image\": tf.io.VarLenFeature(tf.string) }\n",
    "example_with_image = tf.io.parse_single_example(serialized_example, feature_description)\n",
    "decoded_img = tf.io.decode_jpeg(example_with_image[\"image\"].values[0])"
   ]
  },
  {
   "cell_type": "code",
   "execution_count": 57,
   "id": "074714be",
   "metadata": {},
   "outputs": [
    {
     "data": {
      "image/png": "[encoded data removed]",
      "text/plain": [
       "<Figure size 432x288 with 1 Axes>"
      ]
     },
     "metadata": {
      "needs_background": "light"
     },
     "output_type": "display_data"
    }
   ],
   "source": [
    "plt.imshow(decoded_img)\n",
    "plt.title(\"Decoded Image\")\n",
    "plt.axis(\"off\")\n",
    "plt.show()"
   ]
  },
  {
   "cell_type": "markdown",
   "id": "fc3d25b3",
   "metadata": {},
   "source": [
    "We could also use the `tf.io.decode_image` function in the same way. This function supports the following file types: BMP,GIF, JPEG and PNG:"
   ]
  },
  {
   "cell_type": "code",
   "execution_count": 58,
   "id": "d879bcd9",
   "metadata": {},
   "outputs": [],
   "source": [
    "decoded_img = tf.io.decode_image(example_with_image[\"image\"].values[0])"
   ]
  },
  {
   "cell_type": "code",
   "execution_count": 59,
   "id": "aba1ca2f",
   "metadata": {},
   "outputs": [
    {
     "data": {
      "image/png": "[encoded data removed]",
      "text/plain": [
       "<Figure size 432x288 with 1 Axes>"
      ]
     },
     "metadata": {
      "needs_background": "light"
     },
     "output_type": "display_data"
    }
   ],
   "source": [
    "plt.imshow(decoded_img)\n",
    "plt.title(\"Decoded Image\")\n",
    "plt.axis(\"off\")\n",
    "plt.show()"
   ]
  },
  {
   "cell_type": "markdown",
   "id": "e2571f16",
   "metadata": {},
   "source": [
    "### Being able to put tensors and sparse tensors in TFRecords"
   ]
  },
  {
   "cell_type": "markdown",
   "id": "8c4ce3d7",
   "metadata": {},
   "source": [
    "Tensors can be serialized and parsed easily using `tf.io.serialize_tensor()` and `tf.io.parse_tensor()`:"
   ]
  },
  {
   "cell_type": "code",
   "execution_count": 60,
   "id": "4fa04f97",
   "metadata": {},
   "outputs": [
    {
     "data": {
      "text/plain": [
       "<tf.Tensor: shape=(), dtype=string, numpy=b'\\x08\\x01\\x12\\x08\\x12\\x02\\x08\\x03\\x12\\x02\\x08\\x02\"\\x18\\x00\\x00\\x00\\x00\\x00\\x00\\x80?\\x00\\x00\\x00@\\x00\\x00@@\\x00\\x00\\x80@\\x00\\x00\\xa0@'>"
      ]
     },
     "execution_count": 60,
     "metadata": {},
     "output_type": "execute_result"
    }
   ],
   "source": [
    "t = tf.constant([[0., 1.], [2., 3.], [4., 5.]])\n",
    "s = tf.io.serialize_tensor(t)\n",
    "s"
   ]
  },
  {
   "cell_type": "code",
   "execution_count": 61,
   "id": "56e2dfd6",
   "metadata": {},
   "outputs": [
    {
     "data": {
      "text/plain": [
       "<tf.Tensor: shape=(3, 2), dtype=float32, numpy=\n",
       "array([[0., 1.],\n",
       "       [2., 3.],\n",
       "       [4., 5.]], dtype=float32)>"
      ]
     },
     "execution_count": 61,
     "metadata": {},
     "output_type": "execute_result"
    }
   ],
   "source": [
    "tf.io.parse_tensor(s, out_type=tf.float32)"
   ]
  },
  {
   "cell_type": "code",
   "execution_count": 62,
   "id": "9819faa4",
   "metadata": {},
   "outputs": [
    {
     "data": {
      "text/plain": [
       "<tf.Tensor: shape=(3,), dtype=string, numpy=\n",
       "array([b'\\x08\\t\\x12\\x08\\x12\\x02\\x08\\x02\\x12\\x02\\x08\\x01\"\\x10\\x00\\x00\\x00\\x00\\x00\\x00\\x00\\x00\\x01\\x00\\x00\\x00\\x00\\x00\\x00\\x00',\n",
       "       b'\\x08\\x07\\x12\\x04\\x12\\x02\\x08\\x02\"\\x10\\x07\\x07a@b.comc@d.com',\n",
       "       b'\\x08\\t\\x12\\x04\\x12\\x02\\x08\\x01\"\\x08\\x02\\x00\\x00\\x00\\x00\\x00\\x00\\x00'],\n",
       "      dtype=object)>"
      ]
     },
     "execution_count": 62,
     "metadata": {},
     "output_type": "execute_result"
    }
   ],
   "source": [
    "serialized_sparse = tf.io.serialize_sparse(parsed_example[\"emails\"])\n",
    "serialized_sparse"
   ]
  },
  {
   "cell_type": "code",
   "execution_count": 63,
   "id": "2812ff1c",
   "metadata": {},
   "outputs": [
    {
     "data": {
      "text/plain": [
       "value: \"\\010\\t\\022\\010\\022\\002\\010\\002\\022\\002\\010\\001\\\"\\020\\000\\000\\000\\000\\000\\000\\000\\000\\001\\000\\000\\000\\000\\000\\000\\000\"\n",
       "value: \"\\010\\007\\022\\004\\022\\002\\010\\002\\\"\\020\\007\\007a@b.comc@d.com\"\n",
       "value: \"\\010\\t\\022\\004\\022\\002\\010\\001\\\"\\010\\002\\000\\000\\000\\000\\000\\000\\000\""
      ]
     },
     "execution_count": 63,
     "metadata": {},
     "output_type": "execute_result"
    }
   ],
   "source": [
    "BytesList(value=serialized_sparse.numpy())"
   ]
  },
  {
   "cell_type": "code",
   "execution_count": 64,
   "id": "fe47e23a",
   "metadata": {},
   "outputs": [],
   "source": [
    "dataset = tf.data.TFRecordDataset([\"my_contacts.tfrecord\"]).batch(10)\n",
    "for serialized_examples in dataset:\n",
    "    parsed_examples = tf.io.parse_example(serialized_examples,\n",
    "                                          feature_description)"
   ]
  },
  {
   "cell_type": "code",
   "execution_count": 65,
   "id": "a392af96",
   "metadata": {},
   "outputs": [
    {
     "data": {
      "text/plain": [
       "{'image': <tensorflow.python.framework.sparse_tensor.SparseTensor at 0x26ec8d73e20>}"
      ]
     },
     "execution_count": 65,
     "metadata": {},
     "output_type": "execute_result"
    }
   ],
   "source": [
    "parsed_examples"
   ]
  },
  {
   "cell_type": "markdown",
   "id": "93a1f851",
   "metadata": {},
   "source": [
    "## Handling sequential data using `SequenceExample`"
   ]
  },
  {
   "cell_type": "markdown",
   "id": "6b94a198",
   "metadata": {},
   "source": [
    "```proto\n",
    "    syntax = \"proto3\";\n",
    "\n",
    "    message FeatureList { repeated Feature feature = 1; };\n",
    "    message FeatureLists { map<string, FeatureList> feature_list = 1; };\n",
    "    message SequenceExample {\n",
    "      Features context = 1;\n",
    "      FeatureLists feature_lists = 2;\n",
    "    };\n",
    "```"
   ]
  },
  {
   "cell_type": "code",
   "execution_count": 66,
   "id": "a86e0a51",
   "metadata": {},
   "outputs": [],
   "source": [
    "# Same example from before but with the SequenceExample\n",
    "from tensorflow.train import FeatureList, FeatureLists, SequenceExample\n",
    "FeatureList = tf.train.FeatureList\n",
    "FeatureLists = tf.train.FeatureLists\n",
    "SequenceExample = tf.train.SequenceExample\n",
    "\n",
    "context = Features(feature={\n",
    "    \"author_id\": Feature(int64_list=Int64List(value=[123])),\n",
    "    \"title\": Feature(bytes_list=BytesList(value=[b\"A\", b\"desert\", b\"place\", b\".\"])),\n",
    "    \"pub_date\": Feature(int64_list=Int64List(value=[1623, 12, 25]))\n",
    "})\n",
    "\n",
    "content = [[\"When\", \"shall\", \"we\", \"three\", \"meet\", \"again\", \"?\"],\n",
    "           [\"In\", \"thunder\", \",\", \"lightning\", \",\", \"or\", \"in\", \"rain\", \"?\"]]\n",
    "comments = [[\"When\", \"the\", \"hurlyburly\", \"'s\", \"done\", \".\"],\n",
    "            [\"When\", \"the\", \"battle\", \"'s\", \"lost\", \"and\", \"won\", \".\"]]\n",
    "\n",
    "def words_to_feature(words):\n",
    "    return Feature(bytes_list=BytesList(value=[word.encode(\"utf-8\")\n",
    "                                               for word in words]))\n",
    "\n",
    "content_features = [words_to_feature(sentence) for sentence in content]\n",
    "comments_features = [words_to_feature(comment) for comment in comments]\n",
    "            \n",
    "sequence_example = SequenceExample(\n",
    "    context=context,\n",
    "    feature_lists=FeatureLists(feature_list={\n",
    "        \"content\": FeatureList(feature=content_features),\n",
    "        \"comments\": FeatureList(feature=comments_features)\n",
    "    }))"
   ]
  },
  {
   "cell_type": "code",
   "execution_count": 67,
   "id": "a58d61f0",
   "metadata": {},
   "outputs": [
    {
     "data": {
      "text/plain": [
       "context {\n",
       "  feature {\n",
       "    key: \"author_id\"\n",
       "    value {\n",
       "      int64_list {\n",
       "        value: 123\n",
       "      }\n",
       "    }\n",
       "  }\n",
       "  feature {\n",
       "    key: \"pub_date\"\n",
       "    value {\n",
       "      int64_list {\n",
       "        value: 1623\n",
       "        value: 12\n",
       "        value: 25\n",
       "      }\n",
       "    }\n",
       "  }\n",
       "  feature {\n",
       "    key: \"title\"\n",
       "    value {\n",
       "      bytes_list {\n",
       "        value: \"A\"\n",
       "        value: \"desert\"\n",
       "        value: \"place\"\n",
       "        value: \".\"\n",
       "      }\n",
       "    }\n",
       "  }\n",
       "}\n",
       "feature_lists {\n",
       "  feature_list {\n",
       "    key: \"comments\"\n",
       "    value {\n",
       "      feature {\n",
       "        bytes_list {\n",
       "          value: \"When\"\n",
       "          value: \"the\"\n",
       "          value: \"hurlyburly\"\n",
       "          value: \"\\'s\"\n",
       "          value: \"done\"\n",
       "          value: \".\"\n",
       "        }\n",
       "      }\n",
       "      feature {\n",
       "        bytes_list {\n",
       "          value: \"When\"\n",
       "          value: \"the\"\n",
       "          value: \"battle\"\n",
       "          value: \"\\'s\"\n",
       "          value: \"lost\"\n",
       "          value: \"and\"\n",
       "          value: \"won\"\n",
       "          value: \".\"\n",
       "        }\n",
       "      }\n",
       "    }\n",
       "  }\n",
       "  feature_list {\n",
       "    key: \"content\"\n",
       "    value {\n",
       "      feature {\n",
       "        bytes_list {\n",
       "          value: \"When\"\n",
       "          value: \"shall\"\n",
       "          value: \"we\"\n",
       "          value: \"three\"\n",
       "          value: \"meet\"\n",
       "          value: \"again\"\n",
       "          value: \"?\"\n",
       "        }\n",
       "      }\n",
       "      feature {\n",
       "        bytes_list {\n",
       "          value: \"In\"\n",
       "          value: \"thunder\"\n",
       "          value: \",\"\n",
       "          value: \"lightning\"\n",
       "          value: \",\"\n",
       "          value: \"or\"\n",
       "          value: \"in\"\n",
       "          value: \"rain\"\n",
       "          value: \"?\"\n",
       "        }\n",
       "      }\n",
       "    }\n",
       "  }\n",
       "}"
      ]
     },
     "execution_count": 67,
     "metadata": {},
     "output_type": "execute_result"
    }
   ],
   "source": [
    "sequence_example"
   ]
  },
  {
   "cell_type": "code",
   "execution_count": 68,
   "id": "62862e3f",
   "metadata": {},
   "outputs": [
    {
     "data": {
      "text/plain": [
       "b\"\\nL\\n\\x12\\n\\tauthor_id\\x12\\x05\\x1a\\x03\\n\\x01{\\n \\n\\x05title\\x12\\x17\\n\\x15\\n\\x01A\\n\\x06desert\\n\\x05place\\n\\x01.\\n\\x14\\n\\x08pub_date\\x12\\x08\\x1a\\x06\\n\\x04\\xd7\\x0c\\x0c\\x19\\x12\\xd0\\x01\\nj\\n\\x07content\\x12_\\n*\\n(\\n\\x04When\\n\\x05shall\\n\\x02we\\n\\x05three\\n\\x04meet\\n\\x05again\\n\\x01?\\n1\\n/\\n\\x02In\\n\\x07thunder\\n\\x01,\\n\\tlightning\\n\\x01,\\n\\x02or\\n\\x02in\\n\\x04rain\\n\\x01?\\nb\\n\\x08comments\\x12V\\n&\\n$\\n\\x04When\\n\\x03the\\n\\nhurlyburly\\n\\x02's\\n\\x04done\\n\\x01.\\n,\\n*\\n\\x04When\\n\\x03the\\n\\x06battle\\n\\x02's\\n\\x04lost\\n\\x03and\\n\\x03won\\n\\x01.\""
      ]
     },
     "execution_count": 68,
     "metadata": {},
     "output_type": "execute_result"
    }
   ],
   "source": [
    "serialized_sequence_example = sequence_example.SerializeToString()\n",
    "serialized_sequence_example"
   ]
  },
  {
   "cell_type": "code",
   "execution_count": 69,
   "id": "f0802314",
   "metadata": {},
   "outputs": [],
   "source": [
    "context_feature_descriptions = {\n",
    "    \"author_id\": tf.io.FixedLenFeature([], tf.int64, default_value=0),\n",
    "    \"title\": tf.io.VarLenFeature(tf.string),\n",
    "    \"pub_date\": tf.io.FixedLenFeature([3], tf.int64, default_value=[0, 0, 0]),\n",
    "}\n",
    "sequence_feature_descriptions = {\n",
    "    \"content\": tf.io.VarLenFeature(tf.string),\n",
    "    \"comments\": tf.io.VarLenFeature(tf.string),\n",
    "}\n",
    "parsed_context, parsed_feature_lists = tf.io.parse_single_sequence_example(\n",
    "    serialized_sequence_example, context_feature_descriptions,\n",
    "    sequence_feature_descriptions)"
   ]
  },
  {
   "cell_type": "code",
   "execution_count": 70,
   "id": "f288722c",
   "metadata": {},
   "outputs": [
    {
     "data": {
      "text/plain": [
       "{'title': <tensorflow.python.framework.sparse_tensor.SparseTensor at 0x26ed01e5ee0>,\n",
       " 'author_id': <tf.Tensor: shape=(), dtype=int64, numpy=123>,\n",
       " 'pub_date': <tf.Tensor: shape=(3,), dtype=int64, numpy=array([1623,   12,   25], dtype=int64)>}"
      ]
     },
     "execution_count": 70,
     "metadata": {},
     "output_type": "execute_result"
    }
   ],
   "source": [
    "parsed_context"
   ]
  },
  {
   "cell_type": "code",
   "execution_count": 71,
   "id": "448b2440",
   "metadata": {},
   "outputs": [
    {
     "data": {
      "text/plain": [
       "<tf.Tensor: shape=(4,), dtype=string, numpy=array([b'A', b'desert', b'place', b'.'], dtype=object)>"
      ]
     },
     "execution_count": 71,
     "metadata": {},
     "output_type": "execute_result"
    }
   ],
   "source": [
    "parsed_context[\"title\"].values"
   ]
  },
  {
   "cell_type": "code",
   "execution_count": 72,
   "id": "16e35f93",
   "metadata": {},
   "outputs": [
    {
     "data": {
      "text/plain": [
       "{'comments': <tensorflow.python.framework.sparse_tensor.SparseTensor at 0x26ece89ed00>,\n",
       " 'content': <tensorflow.python.framework.sparse_tensor.SparseTensor at 0x26ed01fd790>}"
      ]
     },
     "execution_count": 72,
     "metadata": {},
     "output_type": "execute_result"
    }
   ],
   "source": [
    "parsed_feature_lists"
   ]
  },
  {
   "cell_type": "code",
   "execution_count": 73,
   "id": "571eb523",
   "metadata": {},
   "outputs": [
    {
     "name": "stdout",
     "output_type": "stream",
     "text": [
      "<tf.RaggedTensor [[b'When', b'shall', b'we', b'three', b'meet', b'again', b'?'], [b'In', b'thunder', b',', b'lightning', b',', b'or', b'in', b'rain', b'?']]>\n"
     ]
    }
   ],
   "source": [
    "print(tf.RaggedTensor.from_sparse(parsed_feature_lists[\"content\"]))"
   ]
  },
  {
   "cell_type": "markdown",
   "id": "00faec0c",
   "metadata": {},
   "source": [
    "## Using the housing dataset with the TF features API"
   ]
  },
  {
   "cell_type": "markdown",
   "id": "37be799a",
   "metadata": {},
   "source": [
    "We will use the variant of the California housing dataset from Chapter 2, since it contains categorical features and missing values:"
   ]
  },
  {
   "cell_type": "code",
   "execution_count": 74,
   "id": "7c1e56ae",
   "metadata": {},
   "outputs": [],
   "source": [
    "import os\n",
    "import tarfile\n",
    "import urllib.request\n",
    "\n",
    "DOWNLOAD_ROOT = \"https://raw.githubusercontent.com/ageron/handson-ml2/master/\"\n",
    "HOUSING_PATH = os.path.join(\"datasets\", \"housing\")\n",
    "HOUSING_URL = DOWNLOAD_ROOT + \"datasets/housing/housing.tgz\"\n",
    "\n",
    "def fetch_housing_data(housing_url=HOUSING_URL, housing_path=HOUSING_PATH):\n",
    "    os.makedirs(housing_path, exist_ok=True)\n",
    "    tgz_path = os.path.join(housing_path, \"housing.tgz\")\n",
    "    urllib.request.urlretrieve(housing_url, tgz_path)\n",
    "    housing_tgz = tarfile.open(tgz_path)\n",
    "    housing_tgz.extractall(path=housing_path)\n",
    "    housing_tgz.close()"
   ]
  },
  {
   "cell_type": "code",
   "execution_count": 75,
   "id": "56b8ac06",
   "metadata": {},
   "outputs": [],
   "source": [
    "fetch_housing_data()"
   ]
  },
  {
   "cell_type": "code",
   "execution_count": 76,
   "id": "0ca1ba4b",
   "metadata": {},
   "outputs": [],
   "source": [
    "import pandas as pd\n",
    "\n",
    "def load_housing_data(housing_path=HOUSING_PATH):\n",
    "    csv_path = os.path.join(housing_path, \"housing.csv\")\n",
    "    return pd.read_csv(csv_path)"
   ]
  },
  {
   "cell_type": "code",
   "execution_count": 77,
   "id": "5b94c426",
   "metadata": {},
   "outputs": [
    {
     "data": {
      "text/html": [
       "<div>\n",
       "<style scoped>\n",
       "    .dataframe tbody tr th:only-of-type {\n",
       "        vertical-align: middle;\n",
       "    }\n",
       "\n",
       "    .dataframe tbody tr th {\n",
       "        vertical-align: top;\n",
       "    }\n",
       "\n",
       "    .dataframe thead th {\n",
       "        text-align: right;\n",
       "    }\n",
       "</style>\n",
       "<table border=\"1\" class=\"dataframe\">\n",
       "  <thead>\n",
       "    <tr style=\"text-align: right;\">\n",
       "      <th></th>\n",
       "      <th>longitude</th>\n",
       "      <th>latitude</th>\n",
       "      <th>housing_median_age</th>\n",
       "      <th>total_rooms</th>\n",
       "      <th>total_bedrooms</th>\n",
       "      <th>population</th>\n",
       "      <th>households</th>\n",
       "      <th>median_income</th>\n",
       "      <th>median_house_value</th>\n",
       "      <th>ocean_proximity</th>\n",
       "    </tr>\n",
       "  </thead>\n",
       "  <tbody>\n",
       "    <tr>\n",
       "      <th>0</th>\n",
       "      <td>-122.23</td>\n",
       "      <td>37.88</td>\n",
       "      <td>41.0</td>\n",
       "      <td>880.0</td>\n",
       "      <td>129.0</td>\n",
       "      <td>322.0</td>\n",
       "      <td>126.0</td>\n",
       "      <td>8.3252</td>\n",
       "      <td>452600.0</td>\n",
       "      <td>NEAR BAY</td>\n",
       "    </tr>\n",
       "    <tr>\n",
       "      <th>1</th>\n",
       "      <td>-122.22</td>\n",
       "      <td>37.86</td>\n",
       "      <td>21.0</td>\n",
       "      <td>7099.0</td>\n",
       "      <td>1106.0</td>\n",
       "      <td>2401.0</td>\n",
       "      <td>1138.0</td>\n",
       "      <td>8.3014</td>\n",
       "      <td>358500.0</td>\n",
       "      <td>NEAR BAY</td>\n",
       "    </tr>\n",
       "    <tr>\n",
       "      <th>2</th>\n",
       "      <td>-122.24</td>\n",
       "      <td>37.85</td>\n",
       "      <td>52.0</td>\n",
       "      <td>1467.0</td>\n",
       "      <td>190.0</td>\n",
       "      <td>496.0</td>\n",
       "      <td>177.0</td>\n",
       "      <td>7.2574</td>\n",
       "      <td>352100.0</td>\n",
       "      <td>NEAR BAY</td>\n",
       "    </tr>\n",
       "    <tr>\n",
       "      <th>3</th>\n",
       "      <td>-122.25</td>\n",
       "      <td>37.85</td>\n",
       "      <td>52.0</td>\n",
       "      <td>1274.0</td>\n",
       "      <td>235.0</td>\n",
       "      <td>558.0</td>\n",
       "      <td>219.0</td>\n",
       "      <td>5.6431</td>\n",
       "      <td>341300.0</td>\n",
       "      <td>NEAR BAY</td>\n",
       "    </tr>\n",
       "    <tr>\n",
       "      <th>4</th>\n",
       "      <td>-122.25</td>\n",
       "      <td>37.85</td>\n",
       "      <td>52.0</td>\n",
       "      <td>1627.0</td>\n",
       "      <td>280.0</td>\n",
       "      <td>565.0</td>\n",
       "      <td>259.0</td>\n",
       "      <td>3.8462</td>\n",
       "      <td>342200.0</td>\n",
       "      <td>NEAR BAY</td>\n",
       "    </tr>\n",
       "  </tbody>\n",
       "</table>\n",
       "</div>"
      ],
      "text/plain": [
       "   longitude  latitude  housing_median_age  total_rooms  total_bedrooms  \\\n",
       "0    -122.23     37.88                41.0        880.0           129.0   \n",
       "1    -122.22     37.86                21.0       7099.0          1106.0   \n",
       "2    -122.24     37.85                52.0       1467.0           190.0   \n",
       "3    -122.25     37.85                52.0       1274.0           235.0   \n",
       "4    -122.25     37.85                52.0       1627.0           280.0   \n",
       "\n",
       "   population  households  median_income  median_house_value ocean_proximity  \n",
       "0       322.0       126.0         8.3252            452600.0        NEAR BAY  \n",
       "1      2401.0      1138.0         8.3014            358500.0        NEAR BAY  \n",
       "2       496.0       177.0         7.2574            352100.0        NEAR BAY  \n",
       "3       558.0       219.0         5.6431            341300.0        NEAR BAY  \n",
       "4       565.0       259.0         3.8462            342200.0        NEAR BAY  "
      ]
     },
     "execution_count": 77,
     "metadata": {},
     "output_type": "execute_result"
    }
   ],
   "source": [
    "housing = load_housing_data()\n",
    "housing.head()"
   ]
  },
  {
   "cell_type": "code",
   "execution_count": 78,
   "id": "75b20a3b",
   "metadata": {},
   "outputs": [],
   "source": [
    "housing_median_age = tf.feature_column.numeric_column(\"housing_median_age\")"
   ]
  },
  {
   "cell_type": "code",
   "execution_count": 79,
   "id": "5fe54ed9",
   "metadata": {},
   "outputs": [],
   "source": [
    "age_mean, age_std = X_mean[1], X_std[1]  # The median age is column in 1\n",
    "housing_median_age = tf.feature_column.numeric_column(\n",
    "    \"housing_median_age\", normalizer_fn=lambda x: (x - age_mean) / age_std)"
   ]
  },
  {
   "cell_type": "code",
   "execution_count": 80,
   "id": "c9f23910",
   "metadata": {},
   "outputs": [],
   "source": [
    "median_income = tf.feature_column.numeric_column(\"median_income\")\n",
    "bucketized_income = tf.feature_column.bucketized_column(\n",
    "    median_income, boundaries=[1.5, 3., 4.5, 6.])"
   ]
  },
  {
   "cell_type": "code",
   "execution_count": 81,
   "id": "04a8c8bf",
   "metadata": {},
   "outputs": [
    {
     "data": {
      "text/plain": [
       "BucketizedColumn(source_column=NumericColumn(key='median_income', shape=(1,), default_value=None, dtype=tf.float32, normalizer_fn=None), boundaries=(1.5, 3.0, 4.5, 6.0))"
      ]
     },
     "execution_count": 81,
     "metadata": {},
     "output_type": "execute_result"
    }
   ],
   "source": [
    "bucketized_income"
   ]
  },
  {
   "cell_type": "code",
   "execution_count": 82,
   "id": "e14a403b",
   "metadata": {},
   "outputs": [],
   "source": [
    "ocean_prox_vocab = ['<1H OCEAN', 'INLAND', 'ISLAND', 'NEAR BAY', 'NEAR OCEAN']\n",
    "ocean_proximity = tf.feature_column.categorical_column_with_vocabulary_list(\n",
    "    \"ocean_proximity\", ocean_prox_vocab)"
   ]
  },
  {
   "cell_type": "code",
   "execution_count": 83,
   "id": "da14dc37",
   "metadata": {},
   "outputs": [
    {
     "data": {
      "text/plain": [
       "VocabularyListCategoricalColumn(key='ocean_proximity', vocabulary_list=('<1H OCEAN', 'INLAND', 'ISLAND', 'NEAR BAY', 'NEAR OCEAN'), dtype=tf.string, default_value=-1, num_oov_buckets=0)"
      ]
     },
     "execution_count": 83,
     "metadata": {},
     "output_type": "execute_result"
    }
   ],
   "source": [
    "ocean_proximity"
   ]
  },
  {
   "cell_type": "code",
   "execution_count": 84,
   "id": "f47141e9",
   "metadata": {},
   "outputs": [
    {
     "data": {
      "text/plain": [
       "HashedCategoricalColumn(key='city', hash_bucket_size=1000, dtype=tf.string)"
      ]
     },
     "execution_count": 84,
     "metadata": {},
     "output_type": "execute_result"
    }
   ],
   "source": [
    "# Just an example, it's not used later on\n",
    "city_hash = tf.feature_column.categorical_column_with_hash_bucket(\n",
    "    \"city\", hash_bucket_size=1000)\n",
    "city_hash"
   ]
  },
  {
   "cell_type": "code",
   "execution_count": 85,
   "id": "467e0eac",
   "metadata": {},
   "outputs": [],
   "source": [
    "bucketized_age = tf.feature_column.bucketized_column(\n",
    "    housing_median_age, boundaries=[-1., -0.5, 0., 0.5, 1.]) # age was scaled\n",
    "age_and_ocean_proximity = tf.feature_column.crossed_column(\n",
    "    [bucketized_age, ocean_proximity], hash_bucket_size=100)"
   ]
  },
  {
   "cell_type": "code",
   "execution_count": 86,
   "id": "b6f5c042",
   "metadata": {},
   "outputs": [],
   "source": [
    "latitude = tf.feature_column.numeric_column(\"latitude\")\n",
    "longitude = tf.feature_column.numeric_column(\"longitude\")\n",
    "bucketized_latitude = tf.feature_column.bucketized_column(\n",
    "    latitude, boundaries=list(np.linspace(32., 42., 20 - 1)))\n",
    "bucketized_longitude = tf.feature_column.bucketized_column(\n",
    "    longitude, boundaries=list(np.linspace(-125., -114., 20 - 1)))\n",
    "location = tf.feature_column.crossed_column(\n",
    "    [bucketized_latitude, bucketized_longitude], hash_bucket_size=1000)"
   ]
  },
  {
   "cell_type": "code",
   "execution_count": 87,
   "id": "b1e8d5d8",
   "metadata": {},
   "outputs": [],
   "source": [
    "ocean_proximity_one_hot = tf.feature_column.indicator_column(ocean_proximity)\n",
    "ocean_proximity_embed = tf.feature_column.embedding_column(ocean_proximity,\n",
    "                                                           dimension=2)"
   ]
  },
  {
   "cell_type": "markdown",
   "id": "b044c487",
   "metadata": {},
   "source": [
    "As you can see from the above example. There a lot of similar features that are available in the TensorFlow API that we created ourselves when working on this problem back in chapter 2. Neat stuff to say the least."
   ]
  },
  {
   "cell_type": "markdown",
   "id": "f9c1edb3",
   "metadata": {},
   "source": [
    "## Using feature columns for parsing"
   ]
  },
  {
   "cell_type": "code",
   "execution_count": 88,
   "id": "e20c8265",
   "metadata": {},
   "outputs": [],
   "source": [
    "median_house_value = tf.feature_column.numeric_column(\"median_house_value\")"
   ]
  },
  {
   "cell_type": "code",
   "execution_count": 89,
   "id": "8d764e2c",
   "metadata": {},
   "outputs": [
    {
     "data": {
      "text/plain": [
       "{'housing_median_age': FixedLenFeature(shape=(1,), dtype=tf.float32, default_value=None),\n",
       " 'median_house_value': FixedLenFeature(shape=(1,), dtype=tf.float32, default_value=None)}"
      ]
     },
     "execution_count": 89,
     "metadata": {},
     "output_type": "execute_result"
    }
   ],
   "source": [
    "columns = [housing_median_age, median_house_value]\n",
    "feature_descriptions = tf.feature_column.make_parse_example_spec(columns)\n",
    "feature_descriptions"
   ]
  },
  {
   "cell_type": "code",
   "execution_count": 90,
   "id": "1fa74ef6",
   "metadata": {},
   "outputs": [],
   "source": [
    "with tf.io.TFRecordWriter(\"my_data_with_features.tfrecords\") as f:\n",
    "    for x, y in zip(X_train[:, 1:2], y_train):\n",
    "        example = Example(features=Features(feature={\n",
    "            \"housing_median_age\": Feature(float_list=FloatList(value = x)),\n",
    "            \"median_house_value\": Feature(float_list=FloatList(value=y))\n",
    "        }))\n",
    "        f.write(example.SerializeToString())"
   ]
  },
  {
   "cell_type": "code",
   "execution_count": 91,
   "id": "d6969ec0",
   "metadata": {},
   "outputs": [],
   "source": [
    "def parse_examples(serialized_examples):\n",
    "    examples = tf.io.parse_example(serialized_examples, feature_descriptions)\n",
    "    targets = examples.pop(\"median_house_value\") # separate the targets\n",
    "    return examples, targets\n",
    "\n",
    "batch_size = 32\n",
    "dataset = tf.data.TFRecordDataset([\"my_data_with_features.tfrecords\"])\n",
    "dataset = dataset.repeat().shuffle(10000).batch(batch_size).map(parse_examples)"
   ]
  },
  {
   "cell_type": "code",
   "execution_count": 92,
   "id": "e70ea918",
   "metadata": {},
   "outputs": [
    {
     "name": "stdout",
     "output_type": "stream",
     "text": [
      "Epoch 1/5\n",
      "WARNING:tensorflow:Layers in a Sequential model should only have a single input tensor, but we receive a <class 'dict'> input: {'housing_median_age': <tf.Tensor 'IteratorGetNext:0' shape=(None, 1) dtype=float32>}\n",
      "Consider rewriting this model with the Functional API.\n",
      "WARNING:tensorflow:Layers in a Sequential model should only have a single input tensor, but we receive a <class 'dict'> input: {'housing_median_age': <tf.Tensor 'IteratorGetNext:0' shape=(None, 1) dtype=float32>}\n",
      "Consider rewriting this model with the Functional API.\n",
      "362/362 [==============================] - 1s 3ms/step - loss: 3.6124 - accuracy: 0.0013\n",
      "Epoch 2/5\n",
      "362/362 [==============================] - 1s 3ms/step - loss: 1.9000 - accuracy: 0.0024\n",
      "Epoch 3/5\n",
      "362/362 [==============================] - 1s 3ms/step - loss: 1.4457 - accuracy: 0.0031\n",
      "Epoch 4/5\n",
      "362/362 [==============================] - 1s 3ms/step - loss: 1.3280 - accuracy: 0.0025\n",
      "Epoch 5/5\n",
      "362/362 [==============================] - 1s 3ms/step - loss: 1.2958 - accuracy: 0.0029\n"
     ]
    },
    {
     "data": {
      "text/plain": [
       "<keras.callbacks.History at 0x26ed01fdfd0>"
      ]
     },
     "execution_count": 92,
     "metadata": {},
     "output_type": "execute_result"
    }
   ],
   "source": [
    "columns_without_target = columns[:-1]\n",
    "model = keras.models.Sequential([\n",
    "    keras.layers.DenseFeatures(feature_columns=columns_without_target),\n",
    "    keras.layers.Dense(1)\n",
    "])\n",
    "model.compile(loss=\"mse\",\n",
    "              optimizer=keras.optimizers.SGD(learning_rate=1e-3),\n",
    "              metrics=[\"accuracy\"])\n",
    "model.fit(dataset, steps_per_epoch=len(X_train) // batch_size, epochs=5)"
   ]
  },
  {
   "cell_type": "code",
   "execution_count": 93,
   "id": "7ab69af9",
   "metadata": {},
   "outputs": [
    {
     "data": {
      "text/plain": [
       "<tf.Tensor: shape=(3, 7), dtype=float32, numpy=\n",
       "array([[ 0.        ,  0.        ,  1.        ,  0.        ,  0.        ,\n",
       "        -0.7864783 , -0.55232894],\n",
       "       [ 0.        ,  0.        ,  0.        ,  0.        ,  1.        ,\n",
       "        -0.7424211 ,  0.85499257],\n",
       "       [ 1.        ,  0.        ,  0.        ,  0.        ,  0.        ,\n",
       "        -0.7424211 ,  0.85499257]], dtype=float32)>"
      ]
     },
     "execution_count": 93,
     "metadata": {},
     "output_type": "execute_result"
    }
   ],
   "source": [
    "some_columns = [ocean_proximity_embed, bucketized_income]\n",
    "dense_features = keras.layers.DenseFeatures(some_columns)\n",
    "dense_features({\n",
    "    \"ocean_proximity\": [[\"NEAR OCEAN\"], [\"INLAND\"], [\"INLAND\"]],\n",
    "    \"median_income\": [[3.], [7.2], [1.]]\n",
    "})"
   ]
  },
  {
   "cell_type": "markdown",
   "id": "32f8c2a9",
   "metadata": {},
   "source": [
    "## TF Transform"
   ]
  },
  {
   "cell_type": "markdown",
   "id": "1303c28c",
   "metadata": {},
   "source": [
    "# Ran into a ton of problems trying to install this in tensorflow 2.6. Ignored this step for now"
   ]
  },
  {
   "cell_type": "code",
   "execution_count": 94,
   "id": "0a7b1bd6",
   "metadata": {},
   "outputs": [
    {
     "name": "stdout",
     "output_type": "stream",
     "text": [
      "TF Transform is not installed. Try running: pip3 install -U tensorflow-transform\n"
     ]
    }
   ],
   "source": [
    "try:\n",
    "    import tensorflow_transform as tft\n",
    "\n",
    "    def preprocess(inputs):  # inputs is a batch of input features\n",
    "        median_age = inputs[\"housing_median_age\"]\n",
    "        ocean_proximity = inputs[\"ocean_proximity\"]\n",
    "        standardized_age = tft.scale_to_z_score(median_age - tft.mean(median_age))\n",
    "        ocean_proximity_id = tft.compute_and_apply_vocabulary(ocean_proximity)\n",
    "        return {\n",
    "            \"standardized_median_age\": standardized_age,\n",
    "            \"ocean_proximity_id\": ocean_proximity_id\n",
    "        }\n",
    "except ImportError:\n",
    "    print(\"TF Transform is not installed. Try running: pip3 install -U tensorflow-transform\")"
   ]
  },
  {
   "cell_type": "markdown",
   "id": "14ddc914",
   "metadata": {},
   "source": []
  },
  {
   "cell_type": "markdown",
   "id": "66385817",
   "metadata": {},
   "source": [
    "## TensorFlow datasets"
   ]
  },
  {
   "cell_type": "code",
   "execution_count": 95,
   "id": "cfa99dba",
   "metadata": {},
   "outputs": [],
   "source": [
    "import tensorflow_datasets as tfds\n",
    "\n",
    "datasets = tfds.load(\"mnist\")\n",
    "train_dataset, test_dataset = datasets[\"train\"], datasets[\"test\"]\n",
    "assert isinstance(train_dataset, tf.data.Dataset)"
   ]
  },
  {
   "cell_type": "code",
   "execution_count": 96,
   "id": "f399a6f4",
   "metadata": {},
   "outputs": [
    {
     "name": "stdout",
     "output_type": "stream",
     "text": [
      "['abstract_reasoning', 'accentdb', 'aeslc', 'aflw2k3d', 'ag_news_subset', 'ai2_arc', 'ai2_arc_with_ir', 'amazon_us_reviews', 'anli', 'arc', 'bair_robot_pushing_small', 'bccd', 'beans', 'big_patent', 'bigearthnet', 'billsum', 'binarized_mnist', 'binary_alpha_digits', 'blimp', 'bool_q', 'c4', 'caltech101', 'caltech_birds2010', 'caltech_birds2011', 'cars196', 'cassava', 'cats_vs_dogs', 'celeb_a', 'celeb_a_hq', 'cfq', 'cherry_blossoms', 'chexpert', 'cifar10', 'cifar100', 'cifar10_1', 'cifar10_corrupted', 'citrus_leaves', 'cityscapes', 'civil_comments', 'clevr', 'clic', 'clinc_oos', 'cmaterdb', 'cnn_dailymail', 'coco', 'coco_captions', 'coil100', 'colorectal_histology', 'colorectal_histology_large', 'common_voice', 'coqa', 'cos_e', 'cosmos_qa', 'covid19', 'covid19sum', 'crema_d', 'curated_breast_imaging_ddsm', 'cycle_gan', 'd4rl_adroit_door', 'd4rl_adroit_hammer', 'd4rl_adroit_pen', 'd4rl_adroit_relocate', 'd4rl_mujoco_ant', 'd4rl_mujoco_halfcheetah', 'd4rl_mujoco_hopper', 'd4rl_mujoco_walker2d', 'dart', 'davis', 'deep_weeds', 'definite_pronoun_resolution', 'dementiabank', 'diabetic_retinopathy_detection', 'div2k', 'dmlab', 'doc_nli', 'dolphin_number_word', 'downsampled_imagenet', 'drop', 'dsprites', 'dtd', 'duke_ultrasound', 'e2e_cleaned', 'efron_morris75', 'emnist', 'eraser_multi_rc', 'esnli', 'eurosat', 'fashion_mnist', 'flic', 'flores', 'food101', 'forest_fires', 'fuss', 'gap', 'geirhos_conflict_stimuli', 'gem', 'genomics_ood', 'german_credit_numeric', 'gigaword', 'glue', 'goemotions', 'gpt3', 'gref', 'groove', 'gtzan', 'gtzan_music_speech', 'hellaswag', 'higgs', 'horses_or_humans', 'howell', 'i_naturalist2017', 'imagenet2012', 'imagenet2012_corrupted', 'imagenet2012_multilabel', 'imagenet2012_real', 'imagenet2012_subset', 'imagenet_a', 'imagenet_r', 'imagenet_resized', 'imagenet_v2', 'imagenette', 'imagewang', 'imdb_reviews', 'irc_disentanglement', 'iris', 'kddcup99', 'kitti', 'kmnist', 'lambada', 'lfw', 'librispeech', 'librispeech_lm', 'libritts', 'ljspeech', 'lm1b', 'lost_and_found', 'lsun', 'lvis', 'malaria', 'math_dataset', 'mctaco', 'mlqa', 'mnist', 'mnist_corrupted', 'movie_lens', 'movie_rationales', 'movielens', 'moving_mnist', 'multi_news', 'multi_nli', 'multi_nli_mismatch', 'natural_questions', 'natural_questions_open', 'newsroom', 'nsynth', 'nyu_depth_v2', 'ogbg_molpcba', 'omniglot', 'open_images_challenge2019_detection', 'open_images_v4', 'openbookqa', 'opinion_abstracts', 'opinosis', 'opus', 'oxford_flowers102', 'oxford_iiit_pet', 'para_crawl', 'patch_camelyon', 'paws_wiki', 'paws_x_wiki', 'pet_finder', 'pg19', 'piqa', 'places365_small', 'plant_leaves', 'plant_village', 'plantae_k', 'protein_net', 'qa4mre', 'qasc', 'quac', 'quickdraw_bitmap', 'race', 'radon', 'reddit', 'reddit_disentanglement', 'reddit_tifu', 'ref_coco', 'resisc45', 'rlu_atari', 'rlu_dmlab_explore_object_rewards_few', 'rlu_dmlab_explore_object_rewards_many', 'rlu_dmlab_rooms_select_nonmatching_object', 'rlu_dmlab_rooms_watermaze', 'rlu_dmlab_seekavoid_arena01', 'robonet', 'rock_paper_scissors', 'rock_you', 's3o4d', 'salient_span_wikipedia', 'samsum', 'savee', 'scan', 'scene_parse150', 'schema_guided_dialogue', 'scicite', 'scientific_papers', 'sentiment140', 'shapes3d', 'siscore', 'smallnorb', 'snli', 'so2sat', 'speech_commands', 'spoken_digit', 'squad', 'stanford_dogs', 'stanford_online_products', 'star_cfq', 'starcraft_video', 'stl10', 'story_cloze', 'summscreen', 'sun397', 'super_glue', 'svhn_cropped', 'symmetric_solids', 'tao', 'ted_hrlr_translate', 'ted_multi_translate', 'tedlium', 'tf_flowers', 'the300w_lp', 'tiny_shakespeare', 'titanic', 'trec', 'trivia_qa', 'tydi_qa', 'uc_merced', 'ucf101', 'vctk', 'visual_domain_decathlon', 'voc', 'voxceleb', 'voxforge', 'waymo_open_dataset', 'web_nlg', 'web_questions', 'wider_face', 'wiki40b', 'wiki_bio', 'wiki_table_questions', 'wiki_table_text', 'wikiann', 'wikihow', 'wikipedia', 'wikipedia_toxicity_subtypes', 'wine_quality', 'winogrande', 'wmt13_translate', 'wmt14_translate', 'wmt15_translate', 'wmt16_translate', 'wmt17_translate', 'wmt18_translate', 'wmt19_translate', 'wmt_t2t_translate', 'wmt_translate', 'wordnet', 'wsc273', 'xnli', 'xquad', 'xsum', 'xtreme_pawsx', 'xtreme_xnli', 'yelp_polarity_reviews', 'yes_no', 'youtube_vis']\n"
     ]
    }
   ],
   "source": [
    "print(tfds.list_builders())"
   ]
  },
  {
   "cell_type": "code",
   "execution_count": 99,
   "id": "ebf43e84",
   "metadata": {},
   "outputs": [
    {
     "data": {
      "image/png": "[encoded data removed]",
      "text/plain": [
       "<Figure size 432x216 with 5 Axes>"
      ]
     },
     "metadata": {
      "needs_background": "light"
     },
     "output_type": "display_data"
    }
   ],
   "source": [
    "plt.figure(figsize=(6,3))\n",
    "train_dataset = train_dataset.repeat(5).batch(32).prefetch(1)\n",
    "for item in train_dataset:\n",
    "    images = item[\"image\"]\n",
    "    labels = item[\"label\"]\n",
    "    for index in range(5):\n",
    "        plt.subplot(1, 5, index + 1)\n",
    "        image = images[index, ..., 0]\n",
    "        label = labels[index].numpy()\n",
    "        plt.imshow(image, cmap=\"binary\")\n",
    "        plt.title(label)\n",
    "        plt.axis(\"off\")\n",
    "    break # just showing part of the first batch"
   ]
  },
  {
   "cell_type": "code",
   "execution_count": 101,
   "id": "d4b0c03e",
   "metadata": {},
   "outputs": [
    {
     "name": "stdout",
     "output_type": "stream",
     "text": [
      "(32, 28, 28, 1)\n",
      "[4 1 0 7 8 1 2 7 1 6 6 4 7 7 3 3 7 9 9 1 0 6 6 9 9 4 8 9 4 7 3 3]\n"
     ]
    }
   ],
   "source": [
    "datasets = tfds.load(name=\"mnist\")\n",
    "mnist_train, mnist_test = datasets[\"train\"], datasets[\"test\"]\n",
    "mnist_train = mnist_train.repeat(5).batch(32)\n",
    "mnist_train = mnist_train.map(lambda items: (items[\"image\"], items[\"label\"]))\n",
    "mnist_train = mnist_train.prefetch(1)\n",
    "for images, labels in mnist_train.take(1):\n",
    "    print(images.shape)\n",
    "    print(labels.numpy())"
   ]
  },
  {
   "cell_type": "code",
   "execution_count": 102,
   "id": "50612d63",
   "metadata": {},
   "outputs": [
    {
     "name": "stdout",
     "output_type": "stream",
     "text": [
      "Epoch 1/5\n",
      "1875/1875 [==============================] - 5s 3ms/step - loss: 32.2238 - accuracy: 0.8424\n",
      "Epoch 2/5\n",
      "1875/1875 [==============================] - 5s 3ms/step - loss: 26.0739 - accuracy: 0.8688\n",
      "Epoch 3/5\n",
      "1875/1875 [==============================] - 5s 2ms/step - loss: 24.9871 - accuracy: 0.8730\n",
      "Epoch 4/5\n",
      "1875/1875 [==============================] - 5s 2ms/step - loss: 24.0950 - accuracy: 0.8757\n",
      "Epoch 5/5\n",
      "1875/1875 [==============================] - 5s 2ms/step - loss: 24.3907 - accuracy: 0.8771\n"
     ]
    },
    {
     "data": {
      "text/plain": [
       "<keras.callbacks.History at 0x26efe475f70>"
      ]
     },
     "execution_count": 102,
     "metadata": {},
     "output_type": "execute_result"
    }
   ],
   "source": [
    "datasets = tfds.load(name=\"mnist\", batch_size=32, as_supervised=True)\n",
    "mnist_train = datasets[\"train\"].repeat().prefetch(1)\n",
    "model = keras.models.Sequential([\n",
    "    keras.layers.Flatten(input_shape=[28, 28, 1]),\n",
    "    keras.layers.Lambda(lambda images: tf.cast(images, tf.float32)),\n",
    "    keras.layers.Dense(10, activation=\"softmax\")])\n",
    "model.compile(loss=\"sparse_categorical_crossentropy\",\n",
    "              optimizer=keras.optimizers.SGD(learning_rate=1e-3),\n",
    "              metrics=[\"accuracy\"])\n",
    "model.fit(mnist_train, steps_per_epoch=60000 // 32, epochs=5)"
   ]
  },
  {
   "cell_type": "markdown",
   "id": "bb103369",
   "metadata": {},
   "source": [
    "## TensorFlow Hub"
   ]
  },
  {
   "cell_type": "code",
   "execution_count": 103,
   "id": "aa996a8a",
   "metadata": {},
   "outputs": [
    {
     "name": "stdout",
     "output_type": "stream",
     "text": [
      "Model: \"sequential_4\"\n",
      "_________________________________________________________________\n",
      "Layer (type)                 Output Shape              Param #   \n",
      "=================================================================\n",
      "keras_layer (KerasLayer)     (None, 50)                48190600  \n",
      "_________________________________________________________________\n",
      "dense_6 (Dense)              (None, 16)                816       \n",
      "_________________________________________________________________\n",
      "dense_7 (Dense)              (None, 1)                 17        \n",
      "=================================================================\n",
      "Total params: 48,191,433\n",
      "Trainable params: 833\n",
      "Non-trainable params: 48,190,600\n",
      "_________________________________________________________________\n"
     ]
    }
   ],
   "source": [
    "import tensorflow_hub as hub\n",
    "\n",
    "hub_layer = hub.KerasLayer(\"https://tfhub.dev/google/nnlm-en-dim50/2\",\n",
    "                           output_shape=[50], input_shape=[], dtype=tf.string)\n",
    "\n",
    "model = keras.Sequential()\n",
    "model.add(hub_layer)\n",
    "model.add(keras.layers.Dense(16, activation='relu'))\n",
    "model.add(keras.layers.Dense(1, activation='sigmoid'))\n",
    "\n",
    "model.summary()"
   ]
  },
  {
   "cell_type": "code",
   "execution_count": 104,
   "id": "f4f07c0a",
   "metadata": {},
   "outputs": [],
   "source": [
    "sentences = tf.constant([\"It was a great movie\", \"The actors were amazing\"])\n",
    "embeddings = hub_layer(sentences)"
   ]
  },
  {
   "cell_type": "code",
   "execution_count": 105,
   "id": "ddb61dcc",
   "metadata": {},
   "outputs": [
    {
     "data": {
      "text/plain": [
       "<tf.Tensor: shape=(2, 50), dtype=float32, numpy=\n",
       "array([[ 7.45939985e-02,  2.76720114e-02,  9.38646123e-02,\n",
       "         1.25124469e-01,  5.40293928e-04, -1.09435350e-01,\n",
       "         1.34755149e-01, -9.57818255e-02, -1.85177118e-01,\n",
       "        -1.69703495e-02,  1.75612606e-02, -9.06603858e-02,\n",
       "         1.12110220e-01,  1.04646273e-01,  3.87700424e-02,\n",
       "        -7.71859884e-02, -3.12189370e-01,  6.99466765e-02,\n",
       "        -4.88970093e-02, -2.99049795e-01,  1.31183028e-01,\n",
       "        -2.12630898e-01,  6.96169436e-02,  1.63592950e-01,\n",
       "         1.05169769e-02,  7.79720694e-02, -2.55230188e-01,\n",
       "        -1.80790052e-01,  2.93739915e-01,  1.62875261e-02,\n",
       "        -2.80566931e-01,  1.60284728e-01,  9.87277832e-03,\n",
       "         8.44555616e-04,  8.39456245e-02,  3.24002892e-01,\n",
       "         1.53253034e-01, -3.01048346e-02,  8.94618109e-02,\n",
       "        -2.39153411e-02, -1.50188789e-01, -1.81733668e-02,\n",
       "        -1.20483577e-01,  1.32937476e-01, -3.35325629e-01,\n",
       "        -1.46504581e-01, -1.25251599e-02, -1.64428815e-01,\n",
       "        -7.00765476e-02,  3.60923223e-02],\n",
       "       [-1.56998575e-01,  4.24599349e-02, -5.57703003e-02,\n",
       "        -8.08446854e-03,  1.23733155e-01,  3.89427543e-02,\n",
       "        -4.37901802e-02, -1.86987907e-01, -2.29341656e-01,\n",
       "        -1.27766818e-01,  3.83025259e-02, -1.07057482e-01,\n",
       "        -6.11584112e-02,  2.49654502e-01, -1.39712945e-01,\n",
       "        -3.91289443e-02, -1.35873526e-01, -3.58613044e-01,\n",
       "         2.53462754e-02, -1.58370987e-01, -1.38350084e-01,\n",
       "        -3.90771806e-01, -6.63642734e-02, -3.24838236e-02,\n",
       "        -2.20453963e-02, -1.68282315e-01, -7.40613639e-02,\n",
       "        -2.49074101e-02,  2.46460736e-01,  9.87201929e-05,\n",
       "        -1.85390845e-01, -4.92824614e-02,  1.09015472e-01,\n",
       "        -9.54203904e-02, -1.60352528e-01, -2.59811729e-02,\n",
       "         1.13778859e-01, -2.09578887e-01,  2.18261331e-01,\n",
       "        -3.11211571e-02, -6.12562597e-02, -8.66057724e-02,\n",
       "        -1.10762455e-01, -5.73977083e-03, -1.08923554e-01,\n",
       "        -1.72919363e-01,  1.00515485e-01, -5.64153939e-02,\n",
       "        -4.97694984e-02, -1.07776590e-01]], dtype=float32)>"
      ]
     },
     "execution_count": 105,
     "metadata": {},
     "output_type": "execute_result"
    }
   ],
   "source": [
    "embeddings"
   ]
  },
  {
   "cell_type": "markdown",
   "id": "f4dc7fa3",
   "metadata": {},
   "source": [
    "# End of Chapter Exercises"
   ]
  },
  {
   "cell_type": "markdown",
   "id": "6af355fb",
   "metadata": {},
   "source": [
    "1. Why would you want to use the Data API?\n",
    "2. What are the benefits of splitting a large dataset into multiple files?\n",
    "3. During training, how can you tell that your input pipeline is the bottleneck?\n",
    "   What can you do to fix it?\n",
    "4. Can you save any binary data to a TFRecord file, or only serialized protocol\n",
    "   buffers?\n",
    "5. Why would you go through the hassle of converting all your data to the Example\n",
    "   protobuf format? Why not use your own protobuf definition?\n",
    "6. When using TFRecords, when would you want to activate compression? Why\n",
    "   not do it systematically?\n",
    "7. Data can be preprocessed directly when writing the data files, or within the\n",
    "   tf.data pipeline, or in preprocessing layers within your model, or using TF Trans‐\n",
    "   form. Can you list a few pros and cons of each option?\n",
    "8. Name a few common techniques you can use to encode categorical features.\n",
    "   What about text?\n",
    "9. Load the Fashion MNIST dataset (introduced in Chapter 10); split it into a train‐\n",
    "   ing set, a validation set, and a test set; shuffle the training set; and save each\n",
    "   dataset to multiple TFRecord files. Each record should be a serialized Example\n",
    "   protobuf with two features: the serialized image (use tf.io.serialize_tensor()\n",
    "   to serialize each image), and the label.11 Then use tf.data to create an efficient\n",
    "   dataset for each set. Finally, use a Keras model to train these datasets, including a\n",
    "   preprocessing layer to standardize each input feature. Try to make the input\n",
    "   pipeline as efficient as possible, using TensorBoard to visualize profiling data.\n",
    "10. In this exercise you will download a dataset, split it, create a tf.data.Dataset to\n",
    "    load it and preprocess it efficiently, then build and train a binary classification\n",
    "    model containing an Embedding layer:\n",
    "    \n",
    "    \n",
    "    a. Download the Large Movie Review Dataset, which contains 50,000 movies\n",
    "    reviews from the Internet Movie Database. The data is organized in two direc‐\n",
    "    tories, train and test, each containing a pos subdirectory with 12,500 positive\n",
    "    reviews and a neg subdirectory with 12,500 negative reviews. Each review is\n",
    "    stored in a separate text file. There are other files and folders (including pre‐\n",
    "    processed bag-of-words), but we will ignore them in this exercise.\n",
    "    \n",
    "    b. Split the test set into a validation set (15,000) and a test set (10,000).\n",
    "    \n",
    "    c. Use tf.data to create an efficient dataset for each set.\n",
    "    \n",
    "    \n",
    "    d. Create a binary classification model, using a TextVectorization layer to pre‐\n",
    "    process each review. If the TextVectorization layer is not yet available (or if\n",
    "    you like a challenge), try to create your own custom preprocessing layer: you\n",
    "    can use the functions in the tf.strings package, for example lower() to\n",
    "    make everything lowercase, regex_replace() to replace punctuation with\n",
    "    spaces, and split() to split words on spaces. You should use a lookup table to\n",
    "    output word indices, which must be prepared in the adapt() method.\n",
    "    \n",
    "    \n",
    "    e. Add an Embedding layer and compute the mean embedding for each review,\n",
    "    multiplied by the square root of the number of words (see Chapter 16). This\n",
    "    rescaled mean embedding can then be passed to the rest of your model.\n",
    "    \n",
    "    \n",
    "    f. Train the model and see what accuracy you get. Try to optimize your pipelines\n",
    "    to make training as fast as possible.\n",
    "    \n",
    "    \n",
    "    g. Use TFDS to load the same dataset more easily: tfds.load(\"imdb_reviews\")."
   ]
  },
  {
   "cell_type": "markdown",
   "id": "b194f535",
   "metadata": {},
   "source": [
    "***1. Why would you want to use the Data API?***\n",
    "\n",
    "A: If you are dealing with a very large dataset, it can be a huge processing challenge or even take a while. With the tools available in the Data API, it simplifies it so that you can can load various data sources, multiple sources of the data in parallel from several sources or folders and there are also easy ways to transform data, shuffle it, batch it and prefetch it.\n",
    "\n",
    "***2. What are the benefits of splitting a large dataset into multiple files?***\n",
    "\n",
    "A: The benefit here is that you can handle a large dataset that doesn't fit on a single machine. And you can load thousands of smaller files as opposed to one large one. Computationally, it is always faster to divide and conquer than to iterate through a massive dataset.\n",
    "\n",
    "***3. During training, how can you tell that your input pipeline is the bottleneck?\n",
    "   What can you do to fix it?***\n",
    "   \n",
    "A: In this scenario you could use TensorBoard to visualize your data. You will also be able to view your GPU Usage as well which is useful to look for bottlenecks. One possible fix is processing the data across multiple threads or multithreading in parallel to prefetch batches.\n",
    "\n",
    "***4. Can you save any binary data to a TFRecord file, or only serialized protocol\n",
    "   buffers?\n",
    "   \n",
    "A: From the chapter exercise we saw tha you can save any binary data into a TFRecord but most TFRecord files contain sequences of serialized protocol buffers already. Protocol Buffers make files easily readable across multiple platforms as they as structured similar to XML documents and files. \n",
    "\n",
    "***5. Why would you go through the hassle of converting all your data to the Example\n",
    "   protobuf format? Why not use your own protobuf definition?***\n",
    "   \n",
    "A: The Example protobuf format has the advantage that TensorFlow provides some\n",
    "operations to parse it (the tf.io.parse*example() functions) without you hav‐\n",
    "ing to define your own format. If this doesn't work, you can define your own and the benefit would be if the Example protobuf doesn't cover your main use case.\n",
    "\n",
    "***6. When using TFRecords, when would you want to activate compression? Why\n",
    "   not do it systematically?***\n",
    "   \n",
    "A: When using TFRecords,compression becomes useful if the TFRecord files will need to be downloaded by the training script, as this will make the files smaller. But if the files are located on the same machine as the training script, it’s usually preferable to leave com‐\n",
    "pression off, might not need to use CPU power in this case.\n",
    "\n",
    "***7. Data can be preprocessed directly when writing the data files, or within the\n",
    "   tf.data pipeline, or in preprocessing layers within your model, or using TF Transform. Can you list a few pros and cons of each option?***\n",
    "   \n",
    "A: \n",
    "\n",
    "Pros: \n",
    "- Training script will run faster when preprocessing data in data files split across several files\n",
    "- If you build a TF Pipeline, you can then simply tweak the preprocessing informatoin and use data augmentation.\n",
    "- TF Transofrm for preprocessing allows the preprocessed data to be materialized, and preprocessing layers get generated automatically. \n",
    "\n",
    "Cons:\n",
    "- If you want to perform data augmentation, you have to fix many variants of your dataset, which will use a large amount of time to generate.\n",
    "- Preprocessing is generally slower in a pipeline\n",
    "- Preprocessing data generally takes longer to train data.\n",
    "\n",
    "***8. Name a few common techniques you can use to encode categorical features.\n",
    "   What about text?***\n",
    "   \n",
    "A: \n",
    "- Types of reviews (Terrible, Bad, Good, Great, etc.) where they are mapped to 1,2,3,4,etc. can use ordinal encoding where they are sorted in ascending or descending order and mapped accordingly.\n",
    "- For text, you can use a bag-of-words techique with TF-IDF where the vector represents space between words and phrases. This could help with pairing words like how man is to woman as boy is to girl."
   ]
  },
  {
   "cell_type": "code",
   "execution_count": 106,
   "id": "6842a8cb",
   "metadata": {},
   "outputs": [],
   "source": [
    "# Question #9\n",
    "'''\n",
    "9. Load the Fashion MNIST dataset (introduced in Chapter 10); split it into a train‐\n",
    "   ing set, a validation set, and a test set; shuffle the training set; and save each\n",
    "   dataset to multiple TFRecord files. Each record should be a serialized Example\n",
    "   protobuf with two features: the serialized image (use tf.io.serialize_tensor()\n",
    "   to serialize each image), and the label. Then use tf.data to create an efficient\n",
    "   dataset for each set. Finally, use a Keras model to train these datasets, including a\n",
    "   preprocessing layer to standardize each input feature. Try to make the input\n",
    "   pipeline as efficient as possible, using TensorBoard to visualize profiling data.'''\n",
    "\n",
    "import tensorflow as tf\n",
    "import os\n",
    "from tensorflow import keras"
   ]
  },
  {
   "cell_type": "markdown",
   "id": "18c5a52f",
   "metadata": {},
   "source": [
    "### Load the Fashion MNIST dataset (introduced in Chapter 10); split it into a training set, a validation set, and a test set; shuffle the training set; and save each dataset to multiple TFRecord files. Each record should be a serialized Example protobuf with two features: the serialized image (use tf.io.serialize_tensor() to serialize each image), and the label."
   ]
  },
  {
   "cell_type": "code",
   "execution_count": 107,
   "id": "b5838cd4",
   "metadata": {},
   "outputs": [],
   "source": [
    "(X_train_ds, y_train_ds), (X_test, y_test) = keras.datasets.fashion_mnist.load_data()\n",
    "X_val, X_train = X_train_ds[:5000], X_train_ds[5000:]\n",
    "y_val, y_train = y_train_ds[:5000], y_train_ds[5000:]"
   ]
  },
  {
   "cell_type": "code",
   "execution_count": 108,
   "id": "2c8dd042",
   "metadata": {},
   "outputs": [],
   "source": [
    "training_set = tf.data.Dataset.from_tensor_slices((X_train, y_train))\n",
    "training_set = training_set.shuffle(len(X_train))\n",
    "validation_set = tf.data.Dataset.from_tensor_slices((X_val, y_val))\n",
    "testing_set = tf.data.Dataset.from_tensor_slices((X_test, y_test))"
   ]
  },
  {
   "cell_type": "markdown",
   "id": "8368ad13",
   "metadata": {},
   "source": [
    "Let us now create a function that will use our datasets and create a serialized Example protobuf. (Like in Question 5 and the previous sections of this chapter). We will use a serialized tensor for each and then we will want a labela dn details for our image in a list (specifically in bytes). So we will need to import these protobuf features from `tensorflow.train`. Let's try and build a function that can help with that now:"
   ]
  },
  {
   "cell_type": "code",
   "execution_count": 109,
   "id": "075b19b2",
   "metadata": {},
   "outputs": [],
   "source": [
    "from tensorflow.train import BytesList, FloatList, Int64List\n",
    "from tensorflow.train import Feature, Features, Example\n",
    "BytesList = tf.train.BytesList\n",
    "FloatList = tf.train.FloatList\n",
    "Int64List = tf.train.Int64List\n",
    "Feature = tf.train.Feature\n",
    "Features = tf.train.Features\n",
    "Example = tf.train.Example\n",
    "def Ex_Protobuf(image_tens, label_tens):\n",
    "    image = tf.io.serialize_tensor(image_tens)\n",
    "    return Example(\n",
    "        features=Features(\n",
    "            feature={\n",
    "                \"image\": Feature(bytes_list=BytesList(value=[image.numpy()])),\n",
    "                \"label\": Feature(int64_list=Int64List(value=[label_tens])),\n",
    "            }))"
   ]
  },
  {
   "cell_type": "code",
   "execution_count": 110,
   "id": "bf2a00d5",
   "metadata": {},
   "outputs": [
    {
     "name": "stdout",
     "output_type": "stream",
     "text": [
      "features {\n",
      "  feature {\n",
      "    key: \"image\"\n",
      "    value {\n",
      "      bytes_list {\n",
      "        value: \"\\010\\004\\022\\010\\022\\002\\010\\034\\022\\002\\010\\034\\\"\\220\\006\\000\\000\\000\\000\\000\\000\\000\\000\\000\\000\\000\\000\\000\\000\\000\\000\\000\\000\\000\\000\\000\\000\\000\\000\\000\\000\\000\\000\\000\\000\\000\\000\\000\\000\\000\\000\\000\\000\\000\\000\\000\\000\\000\\000\\000\\000\\000\\000\\000\\000\\000\\000\\000\\000\\000\\000\\000\\000\\000\\000\\000\\000\\000\\000\\000\\000\\000\\000\\000\\000\\000\\000\\000\\000\\000\\000\\000\\000\\000\\000\\000\\000\\000\\000\\000\\000\\000\\000\\000\\000\\000\\000\\000\\000\\000\\000\\000\\000\\000\\000\\000\\000\\000\\000\\000\\000\\000\\000\\000\\000\\000\\000\\000\\000\\000\\000\\000\\000\\000\\000\\000\\000\\000\\000\\000\\000\\000\\000\\000\\000\\000\\000\\000\\000\\000\\000\\000\\000\\000\\000\\000\\000\\000\\000\\000\\000\\000\\000\\000\\000\\000\\000\\000\\000\\000\\000\\000\\000\\000\\000\\000\\000\\000\\000\\000\\000\\000\\000\\000\\000\\000\\000\\000\\000\\000\\000\\000\\000\\000\\000\\000\\000\\000\\000\\000\\000\\000\\000\\000\\000\\000\\000\\000\\000\\000\\000\\000\\000\\000\\000\\000\\000\\000\\000\\000\\000\\000\\000\\000\\000\\000\\000\\000\\000\\000\\003\\001\\000\\000\\007\\000%\\000\\000\\000\\000\\000\\000\\000\\000\\000\\000\\000\\000\\000\\000\\000\\001\\002\\000\\033T\\013\\000\\000\\000\\000\\000\\000w\\000\\000\\000\\000\\000\\000\\000\\000\\000\\000\\000\\000\\000\\000\\000\\001\\000\\000X\\217n\\000\\000\\000\\000\\026]j\\000\\000\\000\\000\\000\\000\\000\\000\\000\\000\\000\\000\\000\\000\\000\\004\\0005\\201x\\223\\257\\235\\246\\207\\232\\250\\214\\000\\000\\000\\000\\000\\000\\000\\000\\000\\000\\000\\000\\000\\000\\002\\000\\013\\211\\202\\200\\240\\260\\237\\247\\262\\225\\227\\220\\000\\000\\000\\000\\000\\000\\000\\000\\001\\000\\002\\001\\000\\003\\000\\000srj\\211\\250\\231\\234\\245\\247\\217\\235\\236\\013\\000\\000\\000\\000\\000\\001\\000\\000\\000\\000\\000\\003\\000\\000Y\\213Z^\\231\\225\\203\\227\\251\\254\\217\\237\\2510\\000\\000\\000\\000\\000\\000\\000\\002\\004\\001\\000\\000\\000b\\210nmn\\242\\207\\220\\225\\237\\247\\220\\236\\251w\\000\\000\\000\\002\\002\\001\\002\\000\\000\\000\\000\\032lucou\\210\\234\\206\\232\\232\\234\\240\\215\\223\\234\\262\\000\\003\\000\\000\\000\\000\\000\\000\\0255\\\\uogs\\201\\206\\217\\232\\245\\252\\232\\227\\232\\217\\212\\226\\245+\\000\\000\\0276ALUv\\200{oqv\\177}\\213\\205\\210\\240\\214\\233\\241\\220\\233\\254\\241\\275>\\000D^Zorors\\177\\207\\210\\217~\\177\\227\\232\\217\\224}\\242\\242\\220\\212\\231\\242\\304:F\\251\\201hbd^abfljwx\\201\\225\\234\\247\\276\\276\\304\\306\\306\\273\\305\\275\\270$\\020~\\253\\274\\274\\270\\253\\231\\207x~\\177\\222\\271\\303\\321\\320\\377\\321\\261\\365\\374\\373\\373\\367\\334\\3161\\000\\000\\000\\014Cj\\244\\271\\307\\322\\323\\322\\320\\276\\226R\\010\\000\\000\\000\\262\\320\\274\\257\\242\\236\\227\\013\\000\\000\\000\\000\\000\\000\\000\\000\\000\\000\\000\\000\\000\\000\\000\\000\\000\\000\\000\\000\\000\\000\\000\\000\\000\\000\\000\\000\\000\\000\\000\\000\\000\\000\\000\\000\\000\\000\\000\\000\\000\\000\\000\\000\\000\\000\\000\\000\\000\\000\\000\\000\\000\\000\\000\\000\\000\\000\\000\\000\\000\\000\\000\\000\\000\\000\\000\\000\\000\\000\\000\\000\\000\\000\\000\\000\\000\\000\\000\\000\\000\\000\\000\\000\\000\\000\\000\\000\\000\\000\\000\\000\\000\\000\\000\\000\\000\\000\\000\\000\\000\\000\\000\\000\\000\\000\\000\\000\\000\\000\\000\\000\\000\\000\\000\\000\\000\\000\\000\\000\\000\\000\\000\\000\\000\\000\\000\\000\\000\\000\\000\\000\\000\\000\\000\\000\\000\\000\\000\\000\\000\\000\\000\\000\\000\\000\\000\\000\\000\\000\\000\\000\\000\\000\\000\\000\\000\\000\\000\\000\\000\\000\\000\\000\\000\\000\\000\\000\"\n",
      "      }\n",
      "    }\n",
      "  }\n",
      "  feature {\n",
      "    key: \"label\"\n",
      "    value {\n",
      "      int64_list {\n",
      "        value: 9\n",
      "      }\n",
      "    }\n",
      "  }\n",
      "}\n",
      "\n",
      "features {\n",
      "  feature {\n",
      "    key: \"image\"\n",
      "    value {\n",
      "      bytes_list {\n",
      "        value: \"\\010\\004\\022\\010\\022\\002\\010\\034\\022\\002\\010\\034\\\"\\220\\006\\000\\000\\000\\000\\000\\000\\000\\000\\000\\000\\rC\\000\\000\\000\\0002&\\000\\000\\000\\000\\000\\000\\000\\000\\000\\000\\000\\000\\000\\000\\000\\000\\000\\010x\\321\\342\\367\\355\\377\\377\\377\\367\\356\\353\\254H\\000\\000\\000\\000\\000\\000\\000\\000\\000\\000\\000\\000\\000\\211\\357\\374\\363\\352\\345\\356\\364\\366\\360\\346\\350\\357\\370\\373\\302\\000\\000\\000\\000\\000\\000\\000\\000\\000\\000\\000f\\377\\347\\344\\343\\344\\351\\346\\346\\345\\344\\350\\350\\347\\343\\340\\374\\263\\000\\000\\000\\000\\000\\000\\000\\000\\000\\000\\351\\361\\345\\347\\377\\377\\356\\347\\343\\356\\366\\344\\346\\343\\352\\353\\345\\361\\024\\000\\000\\000\\000\\000\\000\\000\\000\\000\\370\\361\\347\\377\\225/\\374\\344\\377\\362\\330\\356\\350\\377\\344\\334\\352\\3726\\000\\000\\000\\000\\000\\000\\000\\000\\000\\377\\360\\350\\377\\017\\000\\377\\355\\277\\000\\000\\326\\377\\r{\\377\\352\\374r\\000\\000\\000\\000\\000\\000\\000\\000\\006\\377\\356\\357\\377\\261\\000\\377\\377\\000\\202t/A+%\\377\\354\\371\\242\\000\\000\\000\\000\\000\\000\\000\\000 \\377\\354\\365\\377\\314\\000\\377T\\000%\\034\\037\\000\\031\\r\\377\\354\\371\\307\\000\\000\\000\\000\\000\\000\\000\\0005\\377\\354\\372\\372\\347\\002\\377\\025\\000\\335\\377\\3546\\365\\306\\363\\356\\365\\337\\000\\000\\000\\000\\000\\000\\000\\000P\\377\\355\\372\\360\\377\\000\\000\\'\\235\\000\\000\\327^\\024~\\377\\355\\357\\372\\000\\000\\000\\000\\000\\000\\000\\000e\\377\\353\\375\\364\\363\\205\\212\\320\\377\\311\\326\\377\\346\\007\\256\\377\\360\\356\\377\\000\\000\\000\\000\\000\\000\\000\\000~\\377\\351\\377\\370\\351\\377\\377\\360\\350\\363\\363\\347\\373\\377\\377\\376\\363\\356\\377\\003\\000\\000\\000\\000\\000\\000\\000\\223\\377\\351\\371\\265\\363\\343\\340\\346\\352\\346\\346\\353\\344\\353\\336\\317\\377\\354\\377#\\000\\000\\000\\000\\000\\000\\000\\243\\377\\365\\335V\\377\\351\\351\\353\\354\\352\\352\\352\\350\\362\\347}\\377\\354\\3777\\000\\000\\000\\000\\000\\000\\000\\265\\376\\377\\310E\\377\\344\\350\\352\\353\\352\\352\\351\\353\\361\\355F\\377\\353\\3669\\000\\000\\000\\000\\000\\000\\000\\305\\367\\377\\274n\\377\\340\\351\\352\\352\\352\\352\\352\\352\\360\\375E\\377\\354\\370M\\000\\000\\000\\000\\000\\000\\000\\310\\366\\377\\225\\221\\377\\337\\353\\352\\353\\353\\353\\352\\355\\351\\377/\\377\\357\\371b\\000\\000\\000\\000\\000\\000\\000\\314\\363\\377o\\255\\377\\343\\353\\353\\354\\353\\353\\353\\357\\345\\377\\023\\343\\366\\371n\\000\\000\\000\\000\\000\\000\\000\\304\\360\\377m\\325\\372\\345\\353\\353\\354\\353\\355\\354\\355\\342\\3777\\313\\373\\365x\\000\\000\\000\\000\\000\\000\\000\\300\\363\\377r\\350\\360\\350\\353\\353\\354\\352\\355\\354\\353\\345\\377\\206\\253\\374\\364\\211\\000\\000\\000\\000\\000\\000\\000\\275\\373\\377\\232\\356\\351\\354\\352\\353\\354\\353\\356\\354\\353\\350\\377\\246}\\377\\363\\216\\000\\000\\000\\000\\000\\000\\000\\267\\374\\377\\253\\367\\350\\352\\352\\351\\351\\350\\352\\351\\352\\351\\360\\337\\200\\377\\362\\227\\000\\000\\000\\000\\000\\000\\000\\262\\363\\3779\\356\\361\\356\\356\\356\\355\\354\\355\\355\\360\\355\\376\\2604\\377\\357\\235\\000\\000\\000\\000\\000\\000\\000\\274\\360\\372>\\332\\377\\334\\336\\336\\336\\337\\337\\340\\336\\332\\377\\232 \\377\\354\\274\\000\\000\\000\\000\\000\\000\\000\\202\\365\\362\\030\\000\\000\\000\\000\\000\\000\\000\\000\\000\\000\\000\\000\\000\\\"\\362\\364\\207\\000\\000\\000\\000\\000\\000\\000L\\377\\371\\026\\000\\000\\000\\000\\000\\000\\000\\000\\000\\000\\000\\000\\000\\'\\371\\377{\\000\\000\\000\\000\\000\\000\\0001\\315\\305\\013\\000\\004\\001\\002\\002\\002\\002\\002\\002\\002\\002\\003\\000\\003\\256\\275C\\000\\000\\000\"\n",
      "      }\n",
      "    }\n",
      "  }\n",
      "  feature {\n",
      "    key: \"label\"\n",
      "    value {\n",
      "      int64_list {\n",
      "        value: 2\n",
      "      }\n",
      "    }\n",
      "  }\n",
      "}\n",
      "\n",
      "features {\n",
      "  feature {\n",
      "    key: \"image\"\n",
      "    value {\n",
      "      bytes_list {\n",
      "        value: \"\\010\\004\\022\\010\\022\\002\\010\\034\\022\\002\\010\\034\\\"\\220\\006\\000\\000\\000\\000\\000\\000\\000\\000\\001\\000C\\261\\201\\231u\\201\\222\\215\\257\\000\\000\\000\\000\\000\\000\\000\\000\\000\\000\\000\\000\\000\\000\\000\\000\\000\\002\\000\\304\\377\\377\\377\\361\\373\\377\\365\\377L\\000\\000\\000\\000\\000\\000\\000\\000\\000\\000\\000\\000\\000\\000\\000\\000\\000\\000\\363\\355\\331\\344\\347\\336\\332\\333\\377t\\000\\000\\000\\000\\000\\000\\000\\000\\000\\000\\000\\000\\000\\000\\000\\000\\000\\000\\377\\353\\347\\351\\342\\341\\345\\336\\377\\221\\000\\000\\000\\000\\000\\000\\000\\000\\000\\000\\000\\000\\000\\000\\000\\000\\000\\027\\377\\346\\345\\351\\345\\341\\343\\335\\361\\247\\000\\000\\000\\000\\000\\000\\000\\000\\000\\000\\000\\000\\000\\000\\000\\000\\000C\\377\\341\\352\\347\\342\\343\\344\\340\\352\\273\\000\\000\\000\\000\\000\\000\\000\\000\\000\\000\\000\\000\\000\\000\\000\\000\\000r\\371\\331\\353\\356\\365\\343\\343\\341\\361\\260\\000\\000\\000\\000\\000\\000\\000\\000\\000\\000\\000\\000\\000\\000\\000\\000\\000\\247\\367\\343\\347\\372\\310\\370\\347\\340\\373\\223\\000\\000\\000\\000\\000\\000\\000\\000\\000\\000\\000\\000\\000\\000\\000\\000\\000\\320\\362\\341\\363\\341\\000\\377\\351\\342\\377\\201\\000\\000\\000\\000\\000\\000\\000\\000\\000\\000\\000\\000\\000\\000\\000\\000\\000\\337\\356\\337\\377\\241\\000\\377\\354\\337\\377\\207\\000\\000\\000\\000\\000\\000\\000\\000\\000\\000\\000\\000\\000\\000\\000\\000\\000\\365\\353\\336\\377H\\000\\370\\376\\331\\377\\221\\000\\000\\000\\000\\000\\000\\000\\000\\000\\000\\000\\000\\000\\000\\000\\000\\000\\377\\351\\342\\377\\007\\000\\277\\370\\334\\377~\\000\\000\\000\\000\\000\\000\\000\\000\\000\\000\\000\\000\\000\\000\\000\\000\\000\\377\\351\\347\\373\\000\\000\\237\\373\\335\\377o\\000\\000\\000\\000\\000\\000\\000\\000\\000\\000\\000\\000\\000\\000\\000\\000\\000\\377\\350\\354\\330\\000\\000\\203\\375\\334\\377o\\000\\000\\000\\000\\000\\000\\000\\000\\000\\000\\000\\000\\000\\000\\000\\000\\000\\377\\344\\363\\254\\000\\0009\\371\\336\\377o\\000\\000\\000\\000\\000\\000\\000\\000\\000\\000\\000\\000\\000\\000\\000\\000\\000\\377\\346\\364\\213\\000\\000\\n\\377\\343\\377d\\000\\000\\000\\000\\000\\000\\000\\000\\000\\000\\000\\000\\000\\000\\000\\000\\000\\343\\355\\362q\\000\\000\\006\\377\\346\\377Y\\000\\000\\000\\000\\000\\000\\000\\000\\000\\000\\000\\000\\000\\000\\000\\000\\000\\314\\357\\365\\227\\000\\000\\000\\377\\343\\377c\\000\\000\\000\\000\\000\\000\\000\\000\\000\\000\\000\\000\\000\\000\\000\\000\\000\\227\\365\\356\\306\\000\\000\\000\\377\\352\\377\\\\\\000\\000\\000\\000\\000\\000\\000\\000\\000\\000\\000\\000\\000\\000\\000\\000\\000Y\\370\\351\\370\\000\\000\\000\\374\\355\\377Z\\000\\000\\000\\000\\000\\000\\000\\000\\000\\000\\000\\000\\000\\000\\000\\000\\000\\037\\360\\345\\342\\000\\000\\000\\357\\356\\377\\\\\\000\\000\\000\\000\\000\\000\\000\\000\\000\\000\\000\\000\\000\\000\\000\\000\\000\\000\\342\\351\\355\\\"\\000\\000\\352\\356\\377_\\000\\000\\000\\000\\000\\000\\000\\000\\000\\000\\000\\000\\000\\000\\000\\000\\000\\000\\351\\354\\364D\\000\\000\\321\\361\\355b\\000\\000\\000\\000\\000\\000\\000\\000\\000\\000\\000\\000\\000\\000\\000\\000\\001\\000\\230\\362\\365\\200\\000\\000\\306\\361\\356Q\\000\\000\\000\\000\\000\\000\\000\\000\\000\\000\\000\\000\\000\\000\\000\\000\\002\\000I\\366\\361\\323\\000\\000\\312\\360\\355J\\000\\000\\000\\000\\000\\000\\000\\000\\000\\000\\000\\000\\000\\000\\000\\000\\004\\000\\000\\345\\354\\321\\000\\000\\236\\367\\356c\\000\\000\\000\\000\\000\\000\\000\\000\\000\\000\\000\\000\\000\\000\\000\\000\\001\\000\\000\\307\\377\\367:\\000\\241\\377\\374w\\000\\000\\000\\000\\000\\000\\000\\000\\000\\000\\000\\000\\000\\000\\000\\000\\000\\000\\000b\\237G\\000\\000D\\260\\244:\\000\\000\\000\\000\\000\\000\\000\\000\"\n",
      "      }\n",
      "    }\n",
      "  }\n",
      "  feature {\n",
      "    key: \"label\"\n",
      "    value {\n",
      "      int64_list {\n",
      "        value: 1\n",
      "      }\n",
      "    }\n",
      "  }\n",
      "}\n",
      "\n"
     ]
    }
   ],
   "source": [
    "for images,labels in testing_set.take(3):\n",
    "    print(Ex_Protobuf(images,labels))"
   ]
  },
  {
   "cell_type": "code",
   "execution_count": 111,
   "id": "0c0ed7db",
   "metadata": {},
   "outputs": [],
   "source": [
    "def save_to_multiple_files(data, name_prefix, n_parts=10):\n",
    "    paths = [\"mytfrecord_{}_{:02d}-of-{:02d}\".format(data, indx, n_parts) for indx in range(n_parts)]\n",
    "    write_to_file = [tf.io.TFRecordWriter(path) for path in paths]\n",
    "    for indx, (image, label) in name_prefix.enumerate():\n",
    "        file_to_write = indx % n_parts\n",
    "        ex = Ex_Protobuf(image, label)\n",
    "        write_to_file[file_to_write].write(ex.SerializeToString())\n",
    "    return paths"
   ]
  },
  {
   "cell_type": "code",
   "execution_count": 112,
   "id": "79a17852",
   "metadata": {},
   "outputs": [],
   "source": [
    "train_filepaths = save_to_multiple_files(\"my_fashion_mnist.train\", training_set)\n",
    "valid_filepaths = save_to_multiple_files(\"my_fashion_mnist.valid\", validation_set)\n",
    "test_filepaths = save_to_multiple_files(\"my_fashion_mnist.test\", testing_set)"
   ]
  },
  {
   "cell_type": "markdown",
   "id": "29d1ae0a",
   "metadata": {},
   "source": [
    "### Then use tf.data to create an efficient dataset for each set. Finally, use a Keras model to train these datasets, including a preprocessing layer to standardize each input feature. Try to make the input pipeline as efficient as possible, using TensorBoard to visualize profiling data."
   ]
  },
  {
   "cell_type": "code",
   "execution_count": 113,
   "id": "296dfd02",
   "metadata": {},
   "outputs": [],
   "source": [
    "def dataset(filepaths, threads=5, shuffle_size=None, threads_in_parallel=5, batch_size=32, cache=True):\n",
    "    data_set = tf.data.TFRecordDataset(filepaths, num_parallel_reads=threads)\n",
    "    \n",
    "    if cache == True:\n",
    "        data_set = data_set.cache()\n",
    "    if shuffle_size == True:\n",
    "        data_set = data_set.shuffle(shuffle_size)\n",
    "    data_set = data_set.map(preprocess_data, num_parallel_calls=threads_in_parallel)\n",
    "    data_set = data_set.batch(batch_size)\n",
    "    return data_set.prefetch(1)\n",
    "\n",
    "def preprocess_data(record):\n",
    "    record_features = {\n",
    "        \"image\": tf.io.FixedLenFeature([], tf.string, default_value=\"\"),\n",
    "        \"label\": tf.io.FixedLenFeature([], tf.int64, default_value=-1)\n",
    "    }\n",
    "    example = tf.io.parse_single_example(record, record_features)\n",
    "    image = tf.io.parse_tensor(example[\"image\"], out_type=tf.uint8)\n",
    "    image = tf.reshape(image, shape=[28, 28])\n",
    "    return image, example[\"label\"]"
   ]
  },
  {
   "cell_type": "code",
   "execution_count": 114,
   "id": "d00c9565",
   "metadata": {},
   "outputs": [],
   "source": [
    "train_set = dataset(train_filepaths, shuffle_size=60000)\n",
    "valid_set = dataset(valid_filepaths)\n",
    "test_set = dataset(test_filepaths)"
   ]
  },
  {
   "cell_type": "code",
   "execution_count": 115,
   "id": "5b2805fc",
   "metadata": {},
   "outputs": [
    {
     "data": {
      "image/png": "[encoded data removed]",
      "text/plain": [
       "<Figure size 432x288 with 5 Axes>"
      ]
     },
     "metadata": {
      "needs_background": "light"
     },
     "output_type": "display_data"
    }
   ],
   "source": [
    "%matplotlib inline\n",
    "import matplotlib as mpl\n",
    "import matplotlib.pyplot as plt\n",
    "for X, y in train_set.take(1):\n",
    "    for i in range(5):\n",
    "        plt.subplot(1, 5, i + 1)\n",
    "        plt.imshow(X[i].numpy(), cmap=\"binary\")\n",
    "        plt.axis(\"off\")\n",
    "        plt.title(str(y[i].numpy()))"
   ]
  },
  {
   "cell_type": "code",
   "execution_count": 116,
   "id": "25eb4d5c",
   "metadata": {},
   "outputs": [],
   "source": [
    "import numpy as np\n",
    "standardization = keras.layers.Normalization(input_shape=[28,28])\n",
    "\n",
    "sample_image_batches = train_set.take(100).map(lambda image, label: image)\n",
    "sample_images = np.concatenate(list(sample_image_batches.as_numpy_iterator()),\n",
    "                               axis=0).astype(np.float32)\n",
    "standardization.adapt(sample_images)\n",
    "\n",
    "model = keras.models.Sequential([\n",
    "    standardization,\n",
    "    keras.layers.Flatten(),\n",
    "    keras.layers.Dense(100, activation=\"relu\"),\n",
    "    keras.layers.Dense(10, activation=\"softmax\")\n",
    "])\n",
    "model.compile(loss=\"sparse_categorical_crossentropy\",\n",
    "              optimizer=\"nadam\", metrics=[\"accuracy\"])"
   ]
  },
  {
   "cell_type": "code",
   "execution_count": 117,
   "id": "1a622d6e",
   "metadata": {},
   "outputs": [
    {
     "name": "stdout",
     "output_type": "stream",
     "text": [
      "Epoch 1/10\n",
      "1719/1719 [==============================] - 14s 8ms/step - loss: 0.4430 - accuracy: 0.8404 - val_loss: 0.3558 - val_accuracy: 0.8706\n",
      "Epoch 2/10\n",
      "1719/1719 [==============================] - 14s 8ms/step - loss: 0.3310 - accuracy: 0.8800 - val_loss: 0.3373 - val_accuracy: 0.8796\n",
      "Epoch 3/10\n",
      "1719/1719 [==============================] - 13s 8ms/step - loss: 0.2913 - accuracy: 0.8945 - val_loss: 0.3327 - val_accuracy: 0.8844\n",
      "Epoch 4/10\n",
      "1719/1719 [==============================] - 14s 8ms/step - loss: 0.2650 - accuracy: 0.9031 - val_loss: 0.3330 - val_accuracy: 0.8874\n",
      "Epoch 5/10\n",
      "1719/1719 [==============================] - 15s 8ms/step - loss: 0.2440 - accuracy: 0.9106 - val_loss: 0.3411 - val_accuracy: 0.8850\n",
      "Epoch 6/10\n",
      "1719/1719 [==============================] - 14s 8ms/step - loss: 0.2264 - accuracy: 0.9179 - val_loss: 0.3545 - val_accuracy: 0.8870\n",
      "Epoch 7/10\n",
      "1719/1719 [==============================] - 14s 8ms/step - loss: 0.2106 - accuracy: 0.9240 - val_loss: 0.3538 - val_accuracy: 0.8852\n",
      "Epoch 8/10\n",
      "1719/1719 [==============================] - 14s 8ms/step - loss: 0.1979 - accuracy: 0.9284 - val_loss: 0.3646 - val_accuracy: 0.8866\n",
      "Epoch 9/10\n",
      "1719/1719 [==============================] - 15s 9ms/step - loss: 0.1884 - accuracy: 0.9313 - val_loss: 0.3858 - val_accuracy: 0.8816\n",
      "Epoch 10/10\n",
      "1719/1719 [==============================] - 15s 9ms/step - loss: 0.1773 - accuracy: 0.9362 - val_loss: 0.3967 - val_accuracy: 0.8828\n"
     ]
    },
    {
     "data": {
      "text/plain": [
       "<keras.callbacks.History at 0x26efb2120d0>"
      ]
     },
     "execution_count": 117,
     "metadata": {},
     "output_type": "execute_result"
    }
   ],
   "source": [
    "from datetime import datetime\n",
    "logs = os.path.join(os.curdir, \"my_logs\",\n",
    "                    \"run_\" + datetime.now().strftime(\"%Y%m%d_%H%M%S\"))\n",
    "\n",
    "tensorboard_cb = tf.keras.callbacks.TensorBoard(\n",
    "    log_dir=logs, histogram_freq=1, profile_batch=10)\n",
    "\n",
    "model.fit(train_set, epochs=10, validation_data=valid_set,\n",
    "          callbacks=[tensorboard_cb])"
   ]
  },
  {
   "cell_type": "code",
   "execution_count": 125,
   "id": "47e2c498",
   "metadata": {},
   "outputs": [
    {
     "name": "stdout",
     "output_type": "stream",
     "text": [
      "The tensorboard extension is already loaded. To reload it, use:\n",
      "  %reload_ext tensorboard\n"
     ]
    },
    {
     "data": {
      "text/html": [
       "\n",
       "      <iframe id=\"tensorboard-frame-26a4733dc8fdb640\" width=\"100%\" height=\"800\" frameborder=\"0\">\n",
       "      </iframe>\n",
       "      <script>\n",
       "        (function() {\n",
       "          const frame = document.getElementById(\"tensorboard-frame-26a4733dc8fdb640\");\n",
       "          const url = new URL(\"/\", window.location);\n",
       "          const port = 6009;\n",
       "          if (port) {\n",
       "            url.port = port;\n",
       "          }\n",
       "          frame.src = url;\n",
       "        })();\n",
       "      </script>\n",
       "    "
      ],
      "text/plain": [
       "<IPython.core.display.HTML object>"
      ]
     },
     "metadata": {},
     "output_type": "display_data"
    }
   ],
   "source": [
    "%load_ext tensorboard\n",
    "%tensorboard --logdir=./my_logs --port=6009"
   ]
  },
  {
   "cell_type": "code",
   "execution_count": 119,
   "id": "5e6b887a",
   "metadata": {},
   "outputs": [
    {
     "data": {
      "text/plain": [
       "'10. In this exercise you will download a dataset, split it, create a tf.data.Dataset to\\n    load it and preprocess it efficiently, then build and train a binary classification\\n    model containing an Embedding layer:\\n    \\n    \\n    a. Download the Large Movie Review Dataset, which contains 50,000 movies\\n    reviews from the Internet Movie Database. The data is organized in two direc‐\\n    tories, train and test, each containing a pos subdirectory with 12,500 positive\\n    reviews and a neg subdirectory with 12,500 negative reviews. Each review is\\n    stored in a separate text file. There are other files and folders (including pre‐\\n    processed bag-of-words), but we will ignore them in this exercise.\\n    \\n    b. Split the test set into a validation set (15,000) and a test set (10,000).\\n    \\n    c. Use tf.data to create an efficient dataset for each set.\\n    \\n    \\n    d. Create a binary classification model, using a TextVectorization layer to pre‐\\n    process each review. If the TextVectorization layer is not yet available (or if\\n    you like a challenge), try to create your own custom preprocessing layer: you\\n    can use the functions in the tf.strings package, for example lower() to\\n    make everything lowercase, regex_replace() to replace punctuation with\\n    spaces, and split() to split words on spaces. You should use a lookup table to\\n    output word indices, which must be prepared in the adapt() method.\\n    \\n    \\n    e. Add an Embedding layer and compute the mean embedding for each review,\\n    multiplied by the square root of the number of words (see Chapter 16). This\\n    rescaled mean embedding can then be passed to the rest of your model.\\n    \\n    \\n    f. Train the model and see what accuracy you get. Try to optimize your pipelines\\n    to make training as fast as possible.\\n    \\n    \\n    g. Use TFDS to load the same dataset more easily: tfds.load(\"imdb_reviews\").'"
      ]
     },
     "execution_count": 119,
     "metadata": {},
     "output_type": "execute_result"
    }
   ],
   "source": [
    "# Question #10\n",
    "'''10. In this exercise you will download a dataset, split it, create a tf.data.Dataset to\n",
    "    load it and preprocess it efficiently, then build and train a binary classification\n",
    "    model containing an Embedding layer:\n",
    "    \n",
    "    \n",
    "    a. Download the Large Movie Review Dataset, which contains 50,000 movies\n",
    "    reviews from the Internet Movie Database. The data is organized in two direc‐\n",
    "    tories, train and test, each containing a pos subdirectory with 12,500 positive\n",
    "    reviews and a neg subdirectory with 12,500 negative reviews. Each review is\n",
    "    stored in a separate text file. There are other files and folders (including pre‐\n",
    "    processed bag-of-words), but we will ignore them in this exercise.\n",
    "    \n",
    "    b. Split the test set into a validation set (15,000) and a test set (10,000).\n",
    "    \n",
    "    c. Use tf.data to create an efficient dataset for each set.\n",
    "    \n",
    "    \n",
    "    d. Create a binary classification model, using a TextVectorization layer to pre‐\n",
    "    process each review. If the TextVectorization layer is not yet available (or if\n",
    "    you like a challenge), try to create your own custom preprocessing layer: you\n",
    "    can use the functions in the tf.strings package, for example lower() to\n",
    "    make everything lowercase, regex_replace() to replace punctuation with\n",
    "    spaces, and split() to split words on spaces. You should use a lookup table to\n",
    "    output word indices, which must be prepared in the adapt() method.\n",
    "    \n",
    "    \n",
    "    e. Add an Embedding layer and compute the mean embedding for each review,\n",
    "    multiplied by the square root of the number of words (see Chapter 16). This\n",
    "    rescaled mean embedding can then be passed to the rest of your model.\n",
    "    \n",
    "    \n",
    "    f. Train the model and see what accuracy you get. Try to optimize your pipelines\n",
    "    to make training as fast as possible.\n",
    "    \n",
    "    \n",
    "    g. Use TFDS to load the same dataset more easily: tfds.load(\"imdb_reviews\").'''\n",
    "\n"
   ]
  },
  {
   "cell_type": "markdown",
   "id": "7ae69b56",
   "metadata": {},
   "source": [
    "### a. Download the Large Movie Review Dataset, which contains 50,000 movies     reviews from the Internet Movie Database. The data is organized in two directories, train and test, each containing a pos subdirectory with 12,500 positive reviews and a neg subdirectory with 12,500 negative reviews. Each review is stored in a separate text file. There are other files and folders (including preprocessed bag-of-words), but we will ignore them in this exercise."
   ]
  },
  {
   "cell_type": "code",
   "execution_count": 120,
   "id": "063419d1",
   "metadata": {},
   "outputs": [
    {
     "data": {
      "text/plain": [
       "WindowsPath('C:/Users/User/.keras/datasets/aclImdb')"
      ]
     },
     "execution_count": 120,
     "metadata": {},
     "output_type": "execute_result"
    }
   ],
   "source": [
    "from pathlib import Path\n",
    "\n",
    "DOWNLOAD_ROOT = \"http://ai.stanford.edu/~amaas/data/sentiment/\"\n",
    "FILENAME = \"aclImdb_v1.tar.gz\"\n",
    "filepath = keras.utils.get_file(FILENAME, DOWNLOAD_ROOT + FILENAME, extract=True)\n",
    "path = Path(filepath).parent / \"aclImdb\"\n",
    "path"
   ]
  },
  {
   "cell_type": "markdown",
   "id": "ccc15ddc",
   "metadata": {},
   "source": [
    "Let's take a look at the split datasets."
   ]
  },
  {
   "cell_type": "code",
   "execution_count": 121,
   "id": "2351eaec",
   "metadata": {},
   "outputs": [
    {
     "data": {
      "text/plain": [
       "(12500, 12500, 12500, 12500)"
      ]
     },
     "execution_count": 121,
     "metadata": {},
     "output_type": "execute_result"
    }
   ],
   "source": [
    "def dataset_paths(path):\n",
    "    return [str(path) for path in path.glob(\"*.txt\")]\n",
    "\n",
    "train_pos = dataset_paths(path / \"train\" / \"pos\")\n",
    "train_neg = dataset_paths(path / \"train\" / \"neg\")\n",
    "test_valid_pos = dataset_paths(path / \"test\" / \"pos\")\n",
    "test_valid_neg = dataset_paths(path / \"test\" / \"neg\")\n",
    "\n",
    "len(train_pos), len(train_neg), len(test_valid_pos), len(test_valid_neg)"
   ]
  },
  {
   "cell_type": "markdown",
   "id": "e7b76e36",
   "metadata": {},
   "source": [
    "### b. Split the test set into a validation set (15,000) and a test set (10,000)."
   ]
  },
  {
   "cell_type": "code",
   "execution_count": 122,
   "id": "5b40e53e",
   "metadata": {},
   "outputs": [],
   "source": [
    "np.random.shuffle(test_valid_pos)\n",
    "\n",
    "test_pos = test_valid_pos[:5000]\n",
    "test_neg = test_valid_neg[:5000]\n",
    "valid_pos = test_valid_pos[5000:]\n",
    "valid_neg = test_valid_neg[5000:]"
   ]
  },
  {
   "cell_type": "markdown",
   "id": "f7161d56",
   "metadata": {},
   "source": [
    "### c. Use tf.data to create an efficient dataset for each set."
   ]
  },
  {
   "cell_type": "code",
   "execution_count": 123,
   "id": "27f0d1a8",
   "metadata": {},
   "outputs": [],
   "source": [
    "def imdb_dataset(filepaths_positive, filepaths_negative):\n",
    "    reviews = []\n",
    "    labels = []\n",
    "    for filepaths, label in ((filepaths_negative, 0), (filepaths_positive, 1)):\n",
    "        for filepath in filepaths:\n",
    "            with open(filepath, encoding=\"utf8\") as review_file:\n",
    "                reviews.append(review_file.read())\n",
    "            labels.append(label)\n",
    "    return tf.data.Dataset.from_tensor_slices(\n",
    "        (tf.constant(reviews), tf.constant(labels)))"
   ]
  },
  {
   "cell_type": "code",
   "execution_count": 124,
   "id": "da0d4f4f",
   "metadata": {},
   "outputs": [
    {
     "name": "stdout",
     "output_type": "stream",
     "text": [
      "tf.Tensor(b\"Story of a man who has unnatural feelings for a pig. Starts out with a opening scene that is a terrific example of absurd comedy. A formal orchestra audience is turned into an insane, violent mob by the crazy chantings of it's singers. Unfortunately it stays absurd the WHOLE time with no general narrative eventually making it just too off putting. Even those from the era should be turned off. The cryptic dialogue would make Shakespeare seem easy to a third grader. On a technical level it's better than you might think with some good cinematography by future great Vilmos Zsigmond. Future stars Sally Kirkland and Frederic Forrest can be seen briefly.\", shape=(), dtype=string)\n",
      "tf.Tensor(0, shape=(), dtype=int32)\n",
      "\n",
      "tf.Tensor(b\"Airport '77 starts as a brand new luxury 747 plane is loaded up with valuable paintings & such belonging to rich businessman Philip Stevens (James Stewart) who is flying them & a bunch of VIP's to his estate in preparation of it being opened to the public as a museum, also on board is Stevens daughter Julie (Kathleen Quinlan) & her son. The luxury jetliner takes off as planned but mid-air the plane is hi-jacked by the co-pilot Chambers (Robert Foxworth) & his two accomplice's Banker (Monte Markham) & Wilson (Michael Pataki) who knock the passengers & crew out with sleeping gas, they plan to steal the valuable cargo & land on a disused plane strip on an isolated island but while making his descent Chambers almost hits an oil rig in the Ocean & loses control of the plane sending it crashing into the sea where it sinks to the bottom right bang in the middle of the Bermuda Triangle. With air in short supply, water leaking in & having flown over 200 miles off course the problems mount for the survivor's as they await help with time fast running out...<br /><br />Also known under the slightly different tile Airport 1977 this second sequel to the smash-hit disaster thriller Airport (1970) was directed by Jerry Jameson & while once again like it's predecessors I can't say Airport '77 is any sort of forgotten classic it is entertaining although not necessarily for the right reasons. Out of the three Airport films I have seen so far I actually liked this one the best, just. It has my favourite plot of the three with a nice mid-air hi-jacking & then the crashing (didn't he see the oil rig?) & sinking of the 747 (maybe the makers were trying to cross the original Airport with another popular disaster flick of the period The Poseidon Adventure (1972)) & submerged is where it stays until the end with a stark dilemma facing those trapped inside, either suffocate when the air runs out or drown as the 747 floods or if any of the doors are opened & it's a decent idea that could have made for a great little disaster flick but bad unsympathetic character's, dull dialogue, lethargic set-pieces & a real lack of danger or suspense or tension means this is a missed opportunity. While the rather sluggish plot keeps one entertained for 108 odd minutes not that much happens after the plane sinks & there's not as much urgency as I thought there should have been. Even when the Navy become involved things don't pick up that much with a few shots of huge ships & helicopters flying about but there's just something lacking here. George Kennedy as the jinxed airline worker Joe Patroni is back but only gets a couple of scenes & barely even says anything preferring to just look worried in the background.<br /><br />The home video & theatrical version of Airport '77 run 108 minutes while the US TV versions add an extra hour of footage including a new opening credits sequence, many more scenes with George Kennedy as Patroni, flashbacks to flesh out character's, longer rescue scenes & the discovery or another couple of dead bodies including the navigator. While I would like to see this extra footage I am not sure I could sit through a near three hour cut of Airport '77. As expected the film has dated badly with horrible fashions & interior design choices, I will say no more other than the toy plane model effects aren't great either. Along with the other two Airport sequels this takes pride of place in the Razzie Award's Hall of Shame although I can think of lots of worse films than this so I reckon that's a little harsh. The action scenes are a little dull unfortunately, the pace is slow & not much excitement or tension is generated which is a shame as I reckon this could have been a pretty good film if made properly.<br /><br />The production values are alright if nothing spectacular. The acting isn't great, two time Oscar winner Jack Lemmon has said since it was a mistake to star in this, one time Oscar winner James Stewart looks old & frail, also one time Oscar winner Lee Grant looks drunk while Sir Christopher Lee is given little to do & there are plenty of other familiar faces to look out for too.<br /><br />Airport '77 is the most disaster orientated of the three Airport films so far & I liked the ideas behind it even if they were a bit silly, the production & bland direction doesn't help though & a film about a sunken plane just shouldn't be this boring or lethargic. Followed by The Concorde ... Airport '79 (1979).\", shape=(), dtype=string)\n",
      "tf.Tensor(0, shape=(), dtype=int32)\n",
      "\n",
      "tf.Tensor(b\"This film lacked something I couldn't put my finger on at first: charisma on the part of the leading actress. This inevitably translated to lack of chemistry when she shared the screen with her leading man. Even the romantic scenes came across as being merely the actors at play. It could very well have been the director who miscalculated what he needed from the actors. I just don't know.<br /><br />But could it have been the screenplay? Just exactly who was the chef in love with? He seemed more enamored of his culinary skills and restaurant, and ultimately of himself and his youthful exploits, than of anybody or anything else. He never convinced me he was in love with the princess.<br /><br />I was disappointed in this movie. But, don't forget it was nominated for an Oscar, so judge for yourself.\", shape=(), dtype=string)\n",
      "tf.Tensor(0, shape=(), dtype=int32)\n",
      "\n"
     ]
    }
   ],
   "source": [
    "for X, y in imdb_dataset(train_pos, train_neg).take(3):\n",
    "    print(X)\n",
    "    print(y)\n",
    "    print()"
   ]
  },
  {
   "cell_type": "markdown",
   "id": "8d010b30",
   "metadata": {},
   "source": [
    "### d. Create a binary classification model, using a TextVectorization layer to pre‐process each review. If the TextVectorization layer is not yet available (or if you like a challenge), try to create your own custom preprocessing layer: you can use the functions in the tf.strings package, for example lower() to make everything lowercase, regex_replace() to replace punctuation with spaces, and split() to split words on spaces. You should use a lookup table to output word indices, which must be prepared in the adapt() method."
   ]
  },
  {
   "cell_type": "markdown",
   "id": "55a41c76",
   "metadata": {},
   "source": [
    "First we need to clean up the text files and get rid of HTML and excess punctuation"
   ]
  },
  {
   "cell_type": "code",
   "execution_count": 126,
   "id": "0260badd",
   "metadata": {},
   "outputs": [
    {
     "data": {
      "text/plain": [
       "<tf.Tensor: shape=(2, 50), dtype=string, numpy=\n",
       "array([[b'what', b'the', b'dog', b'doin', b'<pad>', b'<pad>', b'<pad>',\n",
       "        b'<pad>', b'<pad>', b'<pad>', b'<pad>', b'<pad>', b'<pad>',\n",
       "        b'<pad>', b'<pad>', b'<pad>', b'<pad>', b'<pad>', b'<pad>',\n",
       "        b'<pad>', b'<pad>', b'<pad>', b'<pad>', b'<pad>', b'<pad>',\n",
       "        b'<pad>', b'<pad>', b'<pad>', b'<pad>', b'<pad>', b'<pad>',\n",
       "        b'<pad>', b'<pad>', b'<pad>', b'<pad>', b'<pad>', b'<pad>',\n",
       "        b'<pad>', b'<pad>', b'<pad>', b'<pad>', b'<pad>', b'<pad>',\n",
       "        b'<pad>', b'<pad>', b'<pad>', b'<pad>', b'<pad>', b'<pad>',\n",
       "        b'<pad>'],\n",
       "       [b'i', b'wonder', b'hmmm', b'<pad>', b'<pad>', b'<pad>', b'<pad>',\n",
       "        b'<pad>', b'<pad>', b'<pad>', b'<pad>', b'<pad>', b'<pad>',\n",
       "        b'<pad>', b'<pad>', b'<pad>', b'<pad>', b'<pad>', b'<pad>',\n",
       "        b'<pad>', b'<pad>', b'<pad>', b'<pad>', b'<pad>', b'<pad>',\n",
       "        b'<pad>', b'<pad>', b'<pad>', b'<pad>', b'<pad>', b'<pad>',\n",
       "        b'<pad>', b'<pad>', b'<pad>', b'<pad>', b'<pad>', b'<pad>',\n",
       "        b'<pad>', b'<pad>', b'<pad>', b'<pad>', b'<pad>', b'<pad>',\n",
       "        b'<pad>', b'<pad>', b'<pad>', b'<pad>', b'<pad>', b'<pad>',\n",
       "        b'<pad>']], dtype=object)>"
      ]
     },
     "execution_count": 126,
     "metadata": {},
     "output_type": "execute_result"
    }
   ],
   "source": [
    "def preprocessing(data, n_words=50):\n",
    "    shape = tf.shape(data) * tf.constant([1, 0]) + tf.constant([0, n_words])\n",
    "    Z = tf.strings.substr(data, 0, 300)\n",
    "    Z = tf.strings.lower(Z)\n",
    "    Z = tf.strings.regex_replace(Z, b\"<br\\\\s*/?>\", b\" \")\n",
    "    Z = tf.strings.regex_replace(Z, b\"[^a-z]\", b\" \")\n",
    "    Z = tf.strings.split(Z)\n",
    "    return Z.to_tensor(shape=shape, default_value=b\"<pad>\")\n",
    "\n",
    "X_example = tf.constant([\"What the dog doin\", \"I wonder... hmmm!!!\"])\n",
    "preprocessing(X_example)   "
   ]
  },
  {
   "cell_type": "markdown",
   "id": "f8d86b4d",
   "metadata": {},
   "source": [
    "Now let's write a second utility function that will take a data sample with the same format as the output of the `preprocess()` function, and will output the list of the top `max_size` most frequent words, ensuring that the padding token is first:"
   ]
  },
  {
   "cell_type": "code",
   "execution_count": 127,
   "id": "441a7518",
   "metadata": {},
   "outputs": [
    {
     "data": {
      "text/plain": [
       "[b'<pad>', b'what', b'the', b'dog', b'doin', b'i', b'wonder', b'hmmm']"
      ]
     },
     "execution_count": 127,
     "metadata": {},
     "output_type": "execute_result"
    }
   ],
   "source": [
    "from collections import Counter\n",
    "\n",
    "def get_vocabulary(data_sample, max_size=1000):\n",
    "    preprocessed_reviews = preprocessing(data_sample).numpy()\n",
    "    counter = Counter()\n",
    "    for words in preprocessed_reviews:\n",
    "        for word in words:\n",
    "            if word != b\"<pad>\":\n",
    "                counter[word] += 1\n",
    "    return [b\"<pad>\"] + [word for word, count in counter.most_common(max_size)]\n",
    "\n",
    "get_vocabulary(X_example)"
   ]
  },
  {
   "cell_type": "code",
   "execution_count": 128,
   "id": "f04b11d7",
   "metadata": {},
   "outputs": [],
   "source": [
    "# Custom class for TextVectorization\n",
    "\n",
    "class TextVectorization(keras.layers.Layer):\n",
    "    def __init__(self, max_vocabulary_size=1000, n_oov_buckets=100, dtype=tf.string, **kwargs):\n",
    "        super().__init__(dtype=dtype, **kwargs)\n",
    "        self.max_vocabulary_size = max_vocabulary_size\n",
    "        self.n_oov_buckets = n_oov_buckets\n",
    "\n",
    "    def adapt(self, data_sample):\n",
    "        self.vocab = get_vocabulary(data_sample, self.max_vocabulary_size)\n",
    "        words = tf.constant(self.vocab)\n",
    "        word_ids = tf.range(len(self.vocab), dtype=tf.int64)\n",
    "        vocab_init = tf.lookup.KeyValueTensorInitializer(words, word_ids)\n",
    "        self.table = tf.lookup.StaticVocabularyTable(vocab_init, self.n_oov_buckets)\n",
    "        \n",
    "    def call(self, inputs):\n",
    "        preprocessed_inputs = preprocessing(inputs)\n",
    "        return self.table.lookup(preprocessed_inputs)"
   ]
  },
  {
   "cell_type": "code",
   "execution_count": 129,
   "id": "dc46fc4b",
   "metadata": {},
   "outputs": [
    {
     "data": {
      "text/plain": [
       "<tf.Tensor: shape=(2, 50), dtype=int64, numpy=\n",
       "array([[1, 2, 3, 4, 0, 0, 0, 0, 0, 0, 0, 0, 0, 0, 0, 0, 0, 0, 0, 0, 0, 0,\n",
       "        0, 0, 0, 0, 0, 0, 0, 0, 0, 0, 0, 0, 0, 0, 0, 0, 0, 0, 0, 0, 0, 0,\n",
       "        0, 0, 0, 0, 0, 0],\n",
       "       [5, 6, 7, 0, 0, 0, 0, 0, 0, 0, 0, 0, 0, 0, 0, 0, 0, 0, 0, 0, 0, 0,\n",
       "        0, 0, 0, 0, 0, 0, 0, 0, 0, 0, 0, 0, 0, 0, 0, 0, 0, 0, 0, 0, 0, 0,\n",
       "        0, 0, 0, 0, 0, 0]], dtype=int64)>"
      ]
     },
     "execution_count": 129,
     "metadata": {},
     "output_type": "execute_result"
    }
   ],
   "source": [
    "#Test\n",
    "\n",
    "text_vectorization = TextVectorization()\n",
    "\n",
    "text_vectorization.adapt(X_example)\n",
    "text_vectorization(X_example)"
   ]
  },
  {
   "cell_type": "code",
   "execution_count": 130,
   "id": "ac3e73bf",
   "metadata": {},
   "outputs": [],
   "source": [
    "# Now for our main dataset\n",
    "\n",
    "def imdb_dataset(filepaths_positive, filepaths_negative, n_read_threads=5):\n",
    "    dataset_neg = tf.data.TextLineDataset(filepaths_negative,\n",
    "                                          num_parallel_reads=n_read_threads)\n",
    "    dataset_neg = dataset_neg.map(lambda review: (review, 0))\n",
    "    dataset_pos = tf.data.TextLineDataset(filepaths_positive,\n",
    "                                          num_parallel_reads=n_read_threads)\n",
    "    dataset_pos = dataset_pos.map(lambda review: (review, 1))\n",
    "    return tf.data.Dataset.concatenate(dataset_pos, dataset_neg)\n",
    "\n",
    "batch_size = 32\n",
    "\n",
    "train_set = imdb_dataset(train_pos, train_neg).shuffle(25000).batch(batch_size).prefetch(1)\n",
    "valid_set = imdb_dataset(valid_pos, valid_neg).batch(batch_size).prefetch(1)\n",
    "test_set = imdb_dataset(test_pos, test_neg).batch(batch_size).prefetch(1)"
   ]
  },
  {
   "cell_type": "code",
   "execution_count": 131,
   "id": "43723b68",
   "metadata": {},
   "outputs": [],
   "source": [
    "max_vocabulary_size = 1000\n",
    "n_oov_buckets = 100\n",
    "\n",
    "sample_review_batches = train_set.map(lambda review, label: review)\n",
    "sample_reviews = np.concatenate(list(sample_review_batches.as_numpy_iterator()),\n",
    "                                axis=0)\n",
    "\n",
    "text_vectorization = TextVectorization(max_vocabulary_size, n_oov_buckets,\n",
    "                                       input_shape=[])\n",
    "text_vectorization.adapt(sample_reviews)"
   ]
  },
  {
   "cell_type": "code",
   "execution_count": 132,
   "id": "05fb9d4b",
   "metadata": {},
   "outputs": [
    {
     "data": {
      "text/plain": [
       "<tf.Tensor: shape=(2, 50), dtype=int64, numpy=\n",
       "array([[  43,    1,  909, 1086,    0,    0,    0,    0,    0,    0,    0,\n",
       "           0,    0,    0,    0,    0,    0,    0,    0,    0,    0,    0,\n",
       "           0,    0,    0,    0,    0,    0,    0,    0,    0,    0,    0,\n",
       "           0,    0,    0,    0,    0,    0,    0,    0,    0,    0,    0,\n",
       "           0,    0,    0,    0,    0,    0],\n",
       "       [   5,  657, 1032,    0,    0,    0,    0,    0,    0,    0,    0,\n",
       "           0,    0,    0,    0,    0,    0,    0,    0,    0,    0,    0,\n",
       "           0,    0,    0,    0,    0,    0,    0,    0,    0,    0,    0,\n",
       "           0,    0,    0,    0,    0,    0,    0,    0,    0,    0,    0,\n",
       "           0,    0,    0,    0,    0,    0]], dtype=int64)>"
      ]
     },
     "execution_count": 132,
     "metadata": {},
     "output_type": "execute_result"
    }
   ],
   "source": [
    "text_vectorization(X_example)"
   ]
  },
  {
   "cell_type": "code",
   "execution_count": 133,
   "id": "6079933b",
   "metadata": {},
   "outputs": [
    {
     "data": {
      "text/plain": [
       "[b'<pad>', b'the', b'a', b'of', b'and', b'i', b'to', b'is', b'this', b'it']"
      ]
     },
     "execution_count": 133,
     "metadata": {},
     "output_type": "execute_result"
    }
   ],
   "source": [
    "text_vectorization.vocab[:10] # first 10 words in vocabulary "
   ]
  },
  {
   "cell_type": "code",
   "execution_count": 134,
   "id": "d4be6dff",
   "metadata": {},
   "outputs": [
    {
     "data": {
      "text/plain": [
       "<tf.Tensor: shape=(2, 4), dtype=float32, numpy=\n",
       "array([[2., 2., 0., 1.],\n",
       "       [3., 0., 2., 0.]], dtype=float32)>"
      ]
     },
     "execution_count": 134,
     "metadata": {},
     "output_type": "execute_result"
    }
   ],
   "source": [
    "simple_example = tf.constant([[1, 3, 1, 0, 0], [2, 2, 0, 0, 0]])\n",
    "tf.reduce_sum(tf.one_hot(simple_example, 4), axis=1)"
   ]
  },
  {
   "cell_type": "markdown",
   "id": "78ae52ea",
   "metadata": {},
   "source": [
    "The first review has 2 times the word 0, 2 times the word 1, 0 times the word 2, and 1 time the word 3, so its bag-of-words representation is [2, 2, 0, 1]. Similarly, the second review has 3 times the word 0, 0 times the word 1, and so on. Let's wrap this logic in a small custom layer, and let's test it. We'll drop the counts for the word 0, since this corresponds to the <pad> token, which we don't care about."
   ]
  },
  {
   "cell_type": "code",
   "execution_count": 135,
   "id": "cfda923a",
   "metadata": {},
   "outputs": [],
   "source": [
    "# Bag of words class\n",
    "class BagOfWords(keras.layers.Layer):\n",
    "    def __init__(self, n_tokens, dtype=tf.int32, **kwargs):\n",
    "        super().__init__(dtype=dtype, **kwargs)\n",
    "        self.n_tokens = n_tokens\n",
    "    def call(self, inputs):\n",
    "        one_hot = tf.one_hot(inputs, self.n_tokens)\n",
    "        return tf.reduce_sum(one_hot, axis=1)[:, 1:]"
   ]
  },
  {
   "cell_type": "code",
   "execution_count": 136,
   "id": "98a49dd4",
   "metadata": {},
   "outputs": [
    {
     "data": {
      "text/plain": [
       "<tf.Tensor: shape=(2, 3), dtype=float32, numpy=\n",
       "array([[2., 0., 1.],\n",
       "       [0., 2., 0.]], dtype=float32)>"
      ]
     },
     "execution_count": 136,
     "metadata": {},
     "output_type": "execute_result"
    }
   ],
   "source": [
    "bag_of_words = BagOfWords(n_tokens=4)\n",
    "bag_of_words(simple_example)"
   ]
  },
  {
   "cell_type": "code",
   "execution_count": 137,
   "id": "d0c0ea98",
   "metadata": {},
   "outputs": [],
   "source": [
    "n_tokens = max_vocabulary_size + n_oov_buckets + 1 # add 1 for <pad>\n",
    "bag_of_words = BagOfWords(n_tokens)"
   ]
  },
  {
   "cell_type": "code",
   "execution_count": 138,
   "id": "3285f958",
   "metadata": {},
   "outputs": [
    {
     "name": "stdout",
     "output_type": "stream",
     "text": [
      "Epoch 1/5\n",
      "782/782 [==============================] - 22s 26ms/step - loss: 0.5426 - accuracy: 0.7174 - val_loss: 0.5119 - val_accuracy: 0.7418\n",
      "Epoch 2/5\n",
      "782/782 [==============================] - 10s 12ms/step - loss: 0.4705 - accuracy: 0.7705 - val_loss: 0.5104 - val_accuracy: 0.7409\n",
      "Epoch 3/5\n",
      "782/782 [==============================] - 9s 11ms/step - loss: 0.4184 - accuracy: 0.8043 - val_loss: 0.5229 - val_accuracy: 0.7378\n",
      "Epoch 4/5\n",
      "782/782 [==============================] - 9s 11ms/step - loss: 0.3500 - accuracy: 0.8516 - val_loss: 0.5405 - val_accuracy: 0.7378\n",
      "Epoch 5/5\n",
      "782/782 [==============================] - 8s 9ms/step - loss: 0.2685 - accuracy: 0.9002 - val_loss: 0.5752 - val_accuracy: 0.7329\n"
     ]
    },
    {
     "data": {
      "text/plain": [
       "<keras.callbacks.History at 0x26f163b1b80>"
      ]
     },
     "execution_count": 138,
     "metadata": {},
     "output_type": "execute_result"
    }
   ],
   "source": [
    "model = keras.models.Sequential([\n",
    "    text_vectorization,\n",
    "    bag_of_words,\n",
    "    keras.layers.Dense(100, activation=\"relu\"),\n",
    "    keras.layers.Dense(1, activation=\"sigmoid\"),\n",
    "])\n",
    "model.compile(loss=\"binary_crossentropy\", optimizer=\"nadam\",\n",
    "              metrics=[\"accuracy\"])\n",
    "model.fit(train_set, epochs=5, validation_data=valid_set)"
   ]
  },
  {
   "cell_type": "markdown",
   "id": "69bea354",
   "metadata": {},
   "source": [
    "### e. Add an Embedding layer and compute the mean embedding for each review,    multiplied by the square root of the number of words (see Chapter 16). This rescaled mean embedding can then be passed to the rest of your model."
   ]
  },
  {
   "cell_type": "markdown",
   "id": "2ada3c67",
   "metadata": {},
   "source": [
    "To compute the mean embedding for each review, and multiply it by the square root of the number of words in that review, we will need a little function. For each sentence, this function needs to compute $M \\times \\sqrt N$, where $M$ is the mean of all the word embeddings in the sentence (excluding padding tokens), and $N$ is the number of words in the sentence (also excluding padding tokens). We can rewrite $M$ as $\\dfrac{S}{N}$, where $S$ is the sum of all word embeddings (it does not matter whether or not we include the padding tokens in this sum, since their representation is a zero vector). So the function must return $M \\times \\sqrt N = \\dfrac{S}{N} \\times \\sqrt N = \\dfrac{S}{\\sqrt N \\times \\sqrt N} \\times \\sqrt N= \\dfrac{S}{\\sqrt N}$."
   ]
  },
  {
   "cell_type": "code",
   "execution_count": 139,
   "id": "0e3431e4",
   "metadata": {},
   "outputs": [
    {
     "data": {
      "text/plain": [
       "<tf.Tensor: shape=(2, 3), dtype=float32, numpy=\n",
       "array([[3.535534 , 4.9497476, 2.1213205],\n",
       "       [6.       , 0.       , 0.       ]], dtype=float32)>"
      ]
     },
     "execution_count": 139,
     "metadata": {},
     "output_type": "execute_result"
    }
   ],
   "source": [
    "def compute_mean_embedding(inputs):\n",
    "    not_pad = tf.math.count_nonzero(inputs, axis=-1)\n",
    "    n_words = tf.math.count_nonzero(not_pad, axis=-1, keepdims=True)    \n",
    "    sqrt_n_words = tf.math.sqrt(tf.cast(n_words, tf.float32))\n",
    "    return tf.reduce_sum(inputs, axis=1) / sqrt_n_words\n",
    "\n",
    "another_example = tf.constant([[[1., 2., 3.], [4., 5., 0.], [0., 0., 0.]],\n",
    "                               [[6., 0., 0.], [0., 0., 0.], [0., 0., 0.]]])\n",
    "compute_mean_embedding(another_example)"
   ]
  },
  {
   "cell_type": "markdown",
   "id": "9aea0919",
   "metadata": {},
   "source": [
    "Let's check that this is correct. The first review contains 2 words (the last token is a zero vector, which represents the <pad> token). Let's compute the mean embedding for these 2 words, and multiply the result by the square root of 2:"
   ]
  },
  {
   "cell_type": "code",
   "execution_count": 140,
   "id": "1ac5ed4a",
   "metadata": {},
   "outputs": [
    {
     "data": {
      "text/plain": [
       "<tf.Tensor: shape=(1, 3), dtype=float32, numpy=array([[3.535534 , 4.9497476, 2.1213202]], dtype=float32)>"
      ]
     },
     "execution_count": 140,
     "metadata": {},
     "output_type": "execute_result"
    }
   ],
   "source": [
    "tf.reduce_mean(another_example[0:1, :2], axis=1) * tf.sqrt(2.)"
   ]
  },
  {
   "cell_type": "markdown",
   "id": "990353f4",
   "metadata": {},
   "source": [
    "Looks good! Now let's check the second review, which contains just one word (we ignore the two padding tokens):"
   ]
  },
  {
   "cell_type": "code",
   "execution_count": 141,
   "id": "48144cee",
   "metadata": {},
   "outputs": [
    {
     "data": {
      "text/plain": [
       "<tf.Tensor: shape=(1, 3), dtype=float32, numpy=array([[6., 0., 0.]], dtype=float32)>"
      ]
     },
     "execution_count": 141,
     "metadata": {},
     "output_type": "execute_result"
    }
   ],
   "source": [
    "tf.reduce_mean(another_example[1:2, :1], axis=1) * tf.sqrt(1.)"
   ]
  },
  {
   "cell_type": "markdown",
   "id": "f8893eba",
   "metadata": {},
   "source": [
    "Now for the model:"
   ]
  },
  {
   "cell_type": "code",
   "execution_count": 142,
   "id": "6189e5c3",
   "metadata": {},
   "outputs": [],
   "source": [
    "embedding_size = 20\n",
    "\n",
    "model = keras.models.Sequential([\n",
    "    text_vectorization,\n",
    "    keras.layers.Embedding(input_dim=n_tokens,\n",
    "                           output_dim=embedding_size,\n",
    "                           mask_zero=True), # <pad> tokens => zero vectors\n",
    "    keras.layers.Lambda(compute_mean_embedding),\n",
    "    keras.layers.Dense(100, activation=\"relu\"),\n",
    "    keras.layers.Dense(1, activation=\"sigmoid\"),\n",
    "])"
   ]
  },
  {
   "cell_type": "markdown",
   "id": "55d8a635",
   "metadata": {},
   "source": [
    "### F. Train the model and see what accuracy you get. Try to optimize your pipelines to make training as fast as possible."
   ]
  },
  {
   "cell_type": "code",
   "execution_count": 143,
   "id": "e9c05aa9",
   "metadata": {},
   "outputs": [
    {
     "name": "stdout",
     "output_type": "stream",
     "text": [
      "Epoch 1/5\n",
      "782/782 [==============================] - 11s 12ms/step - loss: 0.5545 - accuracy: 0.7066 - val_loss: 0.5265 - val_accuracy: 0.7272\n",
      "Epoch 2/5\n",
      "782/782 [==============================] - 12s 14ms/step - loss: 0.4945 - accuracy: 0.7565 - val_loss: 0.5108 - val_accuracy: 0.7429\n",
      "Epoch 3/5\n",
      "782/782 [==============================] - 10s 11ms/step - loss: 0.4835 - accuracy: 0.7594 - val_loss: 0.5136 - val_accuracy: 0.7383\n",
      "Epoch 4/5\n",
      "782/782 [==============================] - 13s 15ms/step - loss: 0.4753 - accuracy: 0.7628 - val_loss: 0.5168 - val_accuracy: 0.7363\n",
      "Epoch 5/5\n",
      "782/782 [==============================] - 13s 15ms/step - loss: 0.4693 - accuracy: 0.7652 - val_loss: 0.5096 - val_accuracy: 0.7429\n"
     ]
    },
    {
     "data": {
      "text/plain": [
       "<keras.callbacks.History at 0x26f1628d220>"
      ]
     },
     "execution_count": 143,
     "metadata": {},
     "output_type": "execute_result"
    }
   ],
   "source": [
    "model.compile(loss=\"binary_crossentropy\", optimizer=\"nadam\", metrics=[\"accuracy\"])\n",
    "model.fit(train_set, epochs=5, validation_data=valid_set)"
   ]
  },
  {
   "cell_type": "markdown",
   "id": "3316fed6",
   "metadata": {},
   "source": [
    "### G. Exercise: Use TFDS to load the same dataset more easily: tfds.load(\"imdb_reviews\")."
   ]
  },
  {
   "cell_type": "code",
   "execution_count": 144,
   "id": "31a32988",
   "metadata": {},
   "outputs": [
    {
     "name": "stdout",
     "output_type": "stream",
     "text": [
      "\u001b[1mDownloading and preparing dataset Unknown size (download: Unknown size, generated: Unknown size, total: Unknown size) to C:\\Users\\User\\tensorflow_datasets\\imdb_reviews\\plain_text\\1.0.0...\u001b[0m\n"
     ]
    },
    {
     "data": {
      "application/vnd.jupyter.widget-view+json": {
       "model_id": "bb49f077f5e74f64b756bbb181339194",
       "version_major": 2,
       "version_minor": 0
      },
      "text/plain": [
       "Dl Completed...: 0 url [00:00, ? url/s]"
      ]
     },
     "metadata": {},
     "output_type": "display_data"
    },
    {
     "data": {
      "application/vnd.jupyter.widget-view+json": {
       "model_id": "b77447f3e0b746929612495620ce74ec",
       "version_major": 2,
       "version_minor": 0
      },
      "text/plain": [
       "Dl Size...: 0 MiB [00:00, ? MiB/s]"
      ]
     },
     "metadata": {},
     "output_type": "display_data"
    },
    {
     "data": {
      "application/vnd.jupyter.widget-view+json": {
       "model_id": "",
       "version_major": 2,
       "version_minor": 0
      },
      "text/plain": [
       "Generating splits...:   0%|          | 0/3 [00:00<?, ? splits/s]"
      ]
     },
     "metadata": {},
     "output_type": "display_data"
    },
    {
     "data": {
      "application/vnd.jupyter.widget-view+json": {
       "model_id": "",
       "version_major": 2,
       "version_minor": 0
      },
      "text/plain": [
       "Generating train examples...: 0 examples [00:00, ? examples/s]"
      ]
     },
     "metadata": {},
     "output_type": "display_data"
    },
    {
     "data": {
      "application/vnd.jupyter.widget-view+json": {
       "model_id": "",
       "version_major": 2,
       "version_minor": 0
      },
      "text/plain": [
       "Shuffling imdb_reviews-train.tfrecord...:   0%|          | 0/25000 [00:00<?, ? examples/s]"
      ]
     },
     "metadata": {},
     "output_type": "display_data"
    },
    {
     "data": {
      "application/vnd.jupyter.widget-view+json": {
       "model_id": "",
       "version_major": 2,
       "version_minor": 0
      },
      "text/plain": [
       "Generating test examples...: 0 examples [00:00, ? examples/s]"
      ]
     },
     "metadata": {},
     "output_type": "display_data"
    },
    {
     "data": {
      "application/vnd.jupyter.widget-view+json": {
       "model_id": "",
       "version_major": 2,
       "version_minor": 0
      },
      "text/plain": [
       "Shuffling imdb_reviews-test.tfrecord...:   0%|          | 0/25000 [00:00<?, ? examples/s]"
      ]
     },
     "metadata": {},
     "output_type": "display_data"
    },
    {
     "data": {
      "application/vnd.jupyter.widget-view+json": {
       "model_id": "",
       "version_major": 2,
       "version_minor": 0
      },
      "text/plain": [
       "Generating unsupervised examples...: 0 examples [00:00, ? examples/s]"
      ]
     },
     "metadata": {},
     "output_type": "display_data"
    },
    {
     "data": {
      "application/vnd.jupyter.widget-view+json": {
       "model_id": "",
       "version_major": 2,
       "version_minor": 0
      },
      "text/plain": [
       "Shuffling imdb_reviews-unsupervised.tfrecord...:   0%|          | 0/50000 [00:00<?, ? examples/s]"
      ]
     },
     "metadata": {},
     "output_type": "display_data"
    },
    {
     "name": "stdout",
     "output_type": "stream",
     "text": [
      "\u001b[1mDataset imdb_reviews downloaded and prepared to C:\\Users\\User\\tensorflow_datasets\\imdb_reviews\\plain_text\\1.0.0. Subsequent calls will reuse this data.\u001b[0m\n"
     ]
    }
   ],
   "source": [
    "import tensorflow_datasets as tfds\n",
    "\n",
    "datasets = tfds.load(name=\"imdb_reviews\")\n",
    "train_set, test_set = datasets[\"train\"], datasets[\"test\"]"
   ]
  },
  {
   "cell_type": "code",
   "execution_count": 145,
   "id": "5d203b06",
   "metadata": {},
   "outputs": [
    {
     "name": "stdout",
     "output_type": "stream",
     "text": [
      "tf.Tensor(b\"This was an absolutely terrible movie. Don't be lured in by Christopher Walken or Michael Ironside. Both are great actors, but this must simply be their worst role in history. Even their great acting could not redeem this movie's ridiculous storyline. This movie is an early nineties US propaganda piece. The most pathetic scenes were those when the Columbian rebels were making their cases for revolutions. Maria Conchita Alonso appeared phony, and her pseudo-love affair with Walken was nothing but a pathetic emotional plug in a movie that was devoid of any real meaning. I am disappointed that there are movies like this, ruining actor's like Christopher Walken's good name. I could barely sit through it.\", shape=(), dtype=string)\n",
      "tf.Tensor(0, shape=(), dtype=int64)\n"
     ]
    }
   ],
   "source": [
    "for example in train_set.take(1):\n",
    "    print(example[\"text\"])\n",
    "    print(example[\"label\"])"
   ]
  },
  {
   "cell_type": "code",
   "execution_count": null,
   "id": "a22fcc0a",
   "metadata": {},
   "outputs": [],
   "source": []
  }
 ],
 "metadata": {
  "kernelspec": {
   "display_name": "Python 3 (ipykernel)",
   "language": "python",
   "name": "python3"
  },
  "language_info": {
   "codemirror_mode": {
    "name": "ipython",
    "version": 3
   },
   "file_extension": ".py",
   "mimetype": "text/x-python",
   "name": "python",
   "nbconvert_exporter": "python",
   "pygments_lexer": "ipython3",
   "version": "3.9.5"
  }
 },
 "nbformat": 4,
 "nbformat_minor": 5
}
