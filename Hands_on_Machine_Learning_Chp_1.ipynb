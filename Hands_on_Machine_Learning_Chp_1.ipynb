{
  "nbformat": 4,
  "nbformat_minor": 0,
  "metadata": {
    "colab": {
      "name": "Hands-on Machine Learning Chp 1.ipynb",
      "provenance": [],
      "collapsed_sections": []
    },
    "kernelspec": {
      "name": "python3",
      "display_name": "Python 3"
    },
    "language_info": {
      "name": "python"
    }
  },
  "cells": [
    {
      "cell_type": "markdown",
      "metadata": {
        "id": "ehYdbyR2IkIR"
      },
      "source": [
        "Exercises :\n",
        "1. How would you define Machine Learning?\n",
        "2. Can you name four types of problems where it shines?\n",
        "3. What is a labeled training set?\n",
        "4. What are the two most common supervised tasks?\n",
        "5. Can you name four common unsupervised tasks?\n",
        "6. What type of Machine Learning algorithm would you use to allow a robot to\n",
        "walk in various unknown terrains?\n",
        "7. What type of algorithm would you use to segment your customers into multiple\n",
        "groups?\n",
        "8. Would you frame the problem of spam detection as a supervised learning prob‐\n",
        "lem or an unsupervised learning problem?\n",
        "9. What is an online learning system?\n",
        "10. What is out-of-core learning?\n",
        "11. What type of learning algorithm relies on a similarity measure to make predic‐\n",
        "tions?\n",
        "12. What is the difference between a model parameter and a learning algorithm’s\n",
        "hyperparameter?\n",
        "13. What do model-based learning algorithms search for? What is the most common\n",
        "strategy they use to succeed? How do they make predictions?\n",
        "14. Can you name four of the main challenges in Machine Learning?\n",
        "15. If your model performs great on the training data but generalizes poorly to new\n",
        "instances, what is happening? Can you name three possible solutions?\n",
        "16. What is a test set, and why would you want to use it?\n",
        "17. What is the purpose of a validation set?\n",
        "18. What is the train-dev set, when do you need it, and how do you use it?\n",
        "19. What can go wrong if you tune hyperparameters using the test set?"
      ]
    },
    {
      "cell_type": "markdown",
      "metadata": {
        "id": "kBW9wIjyIjVf"
      },
      "source": [
        "1. How would you define Machine Learning?\n",
        "\n",
        " - ***Machine Learning is the study of machines learning from data to learn and improve from experience without explicit programming to do so.***\n",
        "\n"
      ]
    },
    {
      "cell_type": "markdown",
      "metadata": {
        "id": "GYTKePhYJXWm"
      },
      "source": [
        "2. Can you name four types of problems where it shines?\n",
        "\n",
        " 1. ***Classification***\n",
        " 2. ***Predictive***\n",
        " 3. ***Segementation***\n",
        " 4. ***Outlier Analysis***"
      ]
    },
    {
      "cell_type": "markdown",
      "metadata": {
        "id": "ZkbrmQvDJxZN"
      },
      "source": [
        "3. What is a labeled training set?\n",
        "\n",
        "  - ***A dataset where the given data has already been given predefined labels that determine what the training set represents.***"
      ]
    },
    {
      "cell_type": "markdown",
      "metadata": {
        "id": "cA5K1bWJK0Pv"
      },
      "source": [
        "4. What are the two most common supervised tasks?\n",
        "\n",
        "  1. ***Regression*** \n",
        "  2. ***Classification*** "
      ]
    },
    {
      "cell_type": "markdown",
      "metadata": {
        "id": "6Ye5j0a2LE8e"
      },
      "source": [
        "5. Can you name four common unsupervised tasks?\n",
        "\n",
        "  1. ***Clustering***\n",
        "  2. ***SVM (One-Class)***\n",
        "  3. ***PCA (Principal Component Analysis)***\n",
        "  4. ***KNN (K-Neared Neighbors)***"
      ]
    },
    {
      "cell_type": "markdown",
      "metadata": {
        "id": "gFlBuNg4NL4c"
      },
      "source": [
        "6. What type of Machine Learning algorithm would you use to allow a robot to\n",
        "walk in various unknown terrains?\n",
        "\n",
        "  - ***Reinforcement Learning*** "
      ]
    },
    {
      "cell_type": "markdown",
      "metadata": {
        "id": "e2FnGA4ONi3v"
      },
      "source": [
        "7. What type of algorithm would you use to segment your customers into multiple\n",
        "groups?\n",
        "\n",
        "  - ***Clustering (Either hierarchical clustering or K-Means)***"
      ]
    },
    {
      "cell_type": "markdown",
      "metadata": {
        "id": "wAKVL6WUN7_Q"
      },
      "source": [
        "8. Would you frame the problem of spam detection as a supervised learning problem or an unsupervised learning problem?\n",
        "\n",
        "  - ***Supervised learning problem. In order for the model to determine spam emails or potential spam emails, it must be first presented with a set of spam and ham emails examples and then it finds the patterns to determine the characteristics that classifies the emails as spam or ham.***"
      ]
    },
    {
      "cell_type": "markdown",
      "metadata": {
        "id": "gxTrloRdO1P7"
      },
      "source": [
        "9. What is an online learning system?\n",
        "\n",
        "  -  ***Online learning system is another term for continuous learning. This means that the system is exposed to new data (model put to production) and continues to learn on new input data.***"
      ]
    },
    {
      "cell_type": "markdown",
      "metadata": {
        "id": "fxnc4N7fPjh6"
      },
      "source": [
        "  10. What is out-of-core learning?\n",
        "\n",
        "    - ***This references working on data that is too big to fit on ram. Usually, an out of core algorithm is used to combat this issue.*** "
      ]
    },
    {
      "cell_type": "markdown",
      "metadata": {
        "id": "7g4S9UsyQsmK"
      },
      "source": [
        "11. What type of learning algorithm relies on a similarity measure to make predictions?\n",
        "\n",
        "  - ***An instance-based learning system***"
      ]
    },
    {
      "cell_type": "markdown",
      "metadata": {
        "id": "oDE8w9rfRstL"
      },
      "source": [
        "12. What is the difference between a model parameter and a learning algorithm’s\n",
        "hyperparameter?\n",
        "\n",
        "  - **A model parameter is a parameter that is used in the model to determine the output. Consider the equation to help determine the price of a home: Y = Θ<sub>0</sub> + Θ<sub>1</sub>SqrtFt + Θ<sub>2</sub>Bedrooms + Θ<sub>3</sub>Bathrooms + Θ<sub>4</sub>AgeofHome... + Θ<sub>n</sub>X <br>**\n",
        "  ***The *theta* values would represent model parameters as they are parameters that help determine the output value Y.**\n",
        "  - ***A hyperparameter is a configuration that is external to the model and cannot be estimated using the data. These parameters can actually be used to help estimate model parameters. One example of this is the learning rate in a neural network or even α in gradient descent.*** "
      ]
    },
    {
      "cell_type": "markdown",
      "metadata": {
        "id": "VBsegCmlTA6c"
      },
      "source": [
        "13. What do model-based learning algorithms search for? What is the most common\n",
        "strategy they use to succeed? How do they make predictions?\n",
        "\n",
        "  - ***It looks for correlation between variables to determine an optimal value for the model parameters. The most common strategy is to minimize a cost function associated with the model. As a result, we get a model function, we use new instance features and plug them into our model's equation to determine the predictions from our model.*** "
      ]
    },
    {
      "cell_type": "markdown",
      "metadata": {
        "id": "FHMdd4YKYCH-"
      },
      "source": [
        "14. Can you name four of the main challenges in Machine Learning?\n",
        "\n",
        "  1. ***Not Enough Training Data***\n",
        "  2. ***Overfitting/Underfitting the model***\n",
        "  3. ***Irrelevant Data/Features***\n",
        "  4. ***Poor Data Quality*** "
      ]
    },
    {
      "cell_type": "markdown",
      "metadata": {
        "id": "thCP5lcwYPPI"
      },
      "source": [
        "15. If your model performs great on the training data but generalizes poorly to new\n",
        "instances, what is happening? Can you name three possible solutions?\n",
        "\n",
        "  - ***It is possible that there is model overfitting or a data mismatch occuring resulting in poor results on new instances***. \n",
        "\n",
        "  ***Solutions:***\n",
        "  1. ***Holdout validation (several models with part of training set)***\n",
        "  2. ***Regularize Hyperparameters within model***\n",
        "  3. ***Data pre-processing*** "
      ]
    },
    {
      "cell_type": "markdown",
      "metadata": {
        "id": "wvkDxNFuZn0w"
      },
      "source": [
        "16. What is a test set, and why would you want to use it?\n",
        "\n",
        "  - ***A test set is a fraction of the dataset that we do not include when training the model. The test set is used to make sure our data works accurately on data it has never seen before.***\n",
        "\n"
      ]
    },
    {
      "cell_type": "markdown",
      "metadata": {
        "id": "2474Ylg7d_IQ"
      },
      "source": [
        "17. What is the purpose of a validation set?\n",
        "\n",
        "  - ***This is to validate which of the candidate models we create works best on our training set. Typically, multiple models are trained and the the model that performs best on the validation set is selected.***"
      ]
    },
    {
      "cell_type": "markdown",
      "metadata": {
        "id": "z7ZYgCBae8Gd"
      },
      "source": [
        "18. What is the train-dev set, when do you need it, and how do you use it?\n",
        "\n",
        "  - ***This is a different data set aside from the training set and the test set. It's like a middle step between the training and test set. Typically, it's used to evaluate the model after it has been run against the training data set. It it performs poorly on the train-dev set, it can be a result of data mismatch.***"
      ]
    },
    {
      "cell_type": "markdown",
      "metadata": {
        "id": "KA35bWhgfAog"
      },
      "source": [
        "19. What can go wrong if you tune hyperparameters using the test set?\n",
        "\n",
        "  - ***You are measuring the generalization error against the test set. Meaning, it is producing the best model for that particular data set. It will perform poorly on new data as a result.***"
      ]
    },
    {
      "cell_type": "code",
      "metadata": {
        "id": "WmglaXDskyqR"
      },
      "source": [
        ""
      ],
      "execution_count": null,
      "outputs": []
    }
  ]
}